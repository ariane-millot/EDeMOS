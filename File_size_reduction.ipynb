{
 "cells": [
  {
   "cell_type": "markdown",
   "id": "01b42324-feb4-4ee5-96f4-3d1d89fe35bd",
   "metadata": {},
   "source": [
    "# File reduction for website"
   ]
  },
  {
   "cell_type": "code",
   "execution_count": 1,
   "id": "7eec9a31-e141-4b4b-b686-88b94ded33c5",
   "metadata": {},
   "outputs": [],
   "source": [
    "import geopandas as gpd"
   ]
  },
  {
   "cell_type": "code",
   "execution_count": 2,
   "id": "e4fef53d-1464-4192-97cb-a7135d740bf5",
   "metadata": {},
   "outputs": [],
   "source": [
    "# Check if we are running the notebook directly, if so move workspace to parent dir\n",
    "import sys\n",
    "import os\n",
    "currentdir = os.path.abspath(os.getcwd())\n",
    "if os.path.basename(currentdir) != 'DemandMappingZambia':  \n",
    "  sys.path.insert(0, os.path.dirname(currentdir))\n",
    "  os.chdir('..')\n",
    "  print(f'Move to {os.getcwd()}')"
   ]
  },
  {
   "cell_type": "code",
   "execution_count": 3,
   "id": "872507dd-4ac3-4d87-a54e-b00745b61485",
   "metadata": {},
   "outputs": [],
   "source": [
    "### Define directories and dataset names\n",
    "ROOT_DIR = os.path.abspath(os.curdir)\n",
    "in_path = ROOT_DIR\n",
    "out_path = ROOT_DIR + \"/Outputs\""
   ]
  },
  {
   "cell_type": "code",
   "execution_count": 4,
   "id": "ff273a05-a87a-4e93-8de5-0d89e51092f6",
   "metadata": {},
   "outputs": [],
   "source": [
    "file = gpd.read_file(out_path + \"\\\\\" + f'total_demand.geojson') #, driver='GeoJSON', index=False) "
   ]
  },
  {
   "cell_type": "code",
   "execution_count": 5,
   "id": "de3c6cea-4ee9-4901-9e47-280cb64d2bb5",
   "metadata": {},
   "outputs": [
    {
     "data": {
      "text/plain": [
       "Index(['h3_index', 'n0', 'n1', 'n2', 'n3', 'n4', 'n5', 'index', 'index_righ',\n",
       "       'NAME_1', 'id', 'buildingssum', 'locationWP', 'HREA', 'rwi', 'tiers',\n",
       "       'GDP_PPP', 'Status_electrified', 'locWorldPop', 'location',\n",
       "       'res_urbanBui', 'res_ruralBui', 'res_Bui', 'HH_urban', 'HH_rural',\n",
       "       'HH_total', 'population', 'population_urban', 'population_rural',\n",
       "       'HHwithAccess_urb', 'HHwithAccess_rur', 'HHwithAccess',\n",
       "       'HHwoAccess_urb', 'HHwoAccess_rur', 'HHwoAccess', 'ResEnergyPerHH_rwi',\n",
       "       'rwi_norm', 'ResEnergyPerHH_index', 'ResEnergyPerHH_log',\n",
       "       'ResEnergyPerHH_DHS', 'ResEnergyPerHH_meth11a',\n",
       "       'ResEnergyPerHH_meth11b', 'ResEnergyPerHH_meth12a',\n",
       "       'ResEnergyPerHH_meth12b', 'ResEnergyPerHH_meth2',\n",
       "       'ResEnergyPerHH_meth3', 'ResEnergy_kWh_meth11a',\n",
       "       'ResEnergy_kWh_meth11b', 'ResEnergy_kWh_meth12a',\n",
       "       'ResEnergy_kWh_meth12b', 'ResEnergy_kWh_meth2', 'ResEnergy_kWh_meth3',\n",
       "       'serBui', 'serBUi_Acc', 'SEn_kWh_bui', 'SEn_kWh_GDP', 'nb_women',\n",
       "       'nb_men', 'nb_women_working', 'nb_men_working', 'total_employee',\n",
       "       'SEn_kWh_Emp', 'SEn_kWh_weighted', 'SEn_kWh_final', 'Energy Elec [TJ]',\n",
       "       'IndEne_TJ', 'IndEnergy_GWh', 'REnS_GWh', 'SEn_GWh', 'TotalDem',\n",
       "       'geometry'],\n",
       "      dtype='object')"
      ]
     },
     "execution_count": 5,
     "metadata": {},
     "output_type": "execute_result"
    }
   ],
   "source": [
    "file.columns"
   ]
  },
  {
   "cell_type": "code",
   "execution_count": 9,
   "id": "52498658-bfc8-4fa8-9d43-de6a26ad679e",
   "metadata": {},
   "outputs": [],
   "source": [
    "list_columns_tokeep = ['h3_index', 'geometry',\n",
    "                       'n0', 'n1', 'n2', 'n3', 'n4', 'n5',\n",
    "                      'index',\n",
    "                      'REnS_GWh',\n",
    "                       'SEn_GWh',\n",
    "                       'IndEnergy_GWh',\n",
    "                       'HH_total',\n",
    "                       'population',\n",
    "                       'HHwithAccess',\n",
    "                       'res_Bui',\n",
    "                       # add mining output?\n",
    "                      ]"
   ]
  },
  {
   "cell_type": "code",
   "execution_count": 10,
   "id": "db8ec865-524a-4966-8775-cdc36ae22522",
   "metadata": {},
   "outputs": [
    {
     "data": {
      "text/html": [
       "<div>\n",
       "<style scoped>\n",
       "    .dataframe tbody tr th:only-of-type {\n",
       "        vertical-align: middle;\n",
       "    }\n",
       "\n",
       "    .dataframe tbody tr th {\n",
       "        vertical-align: top;\n",
       "    }\n",
       "\n",
       "    .dataframe thead th {\n",
       "        text-align: right;\n",
       "    }\n",
       "</style>\n",
       "<table border=\"1\" class=\"dataframe\">\n",
       "  <thead>\n",
       "    <tr style=\"text-align: right;\">\n",
       "      <th></th>\n",
       "      <th>h3_index</th>\n",
       "      <th>geometry</th>\n",
       "      <th>n0</th>\n",
       "      <th>n1</th>\n",
       "      <th>n2</th>\n",
       "      <th>n3</th>\n",
       "      <th>n4</th>\n",
       "      <th>n5</th>\n",
       "      <th>index</th>\n",
       "      <th>REnS_GWh</th>\n",
       "      <th>SEn_GWh</th>\n",
       "      <th>IndEnergy_GWh</th>\n",
       "      <th>HH_total</th>\n",
       "      <th>population</th>\n",
       "      <th>HHwithAccess</th>\n",
       "      <th>res_Bui</th>\n",
       "    </tr>\n",
       "  </thead>\n",
       "  <tbody>\n",
       "    <tr>\n",
       "      <th>0</th>\n",
       "      <td>8696148afffffff</td>\n",
       "      <td>POLYGON ((32.22444 -12.71369, 32.18722 -12.719...</td>\n",
       "      <td>2803</td>\n",
       "      <td>12112</td>\n",
       "      <td>14180</td>\n",
       "      <td>7459</td>\n",
       "      <td>13483</td>\n",
       "      <td>8748</td>\n",
       "      <td>0.138406</td>\n",
       "      <td>NaN</td>\n",
       "      <td>0.0</td>\n",
       "      <td>NaN</td>\n",
       "      <td>602.421340</td>\n",
       "      <td>3103.873547</td>\n",
       "      <td>0.0</td>\n",
       "      <td>602.421340</td>\n",
       "    </tr>\n",
       "    <tr>\n",
       "      <th>1</th>\n",
       "      <td>8696334afffffff</td>\n",
       "      <td>POLYGON ((31.86748 -12.99196, 31.83018 -12.997...</td>\n",
       "      <td>14140</td>\n",
       "      <td>11194</td>\n",
       "      <td>8571</td>\n",
       "      <td>3115</td>\n",
       "      <td>3919</td>\n",
       "      <td>1550</td>\n",
       "      <td>0.181377</td>\n",
       "      <td>NaN</td>\n",
       "      <td>NaN</td>\n",
       "      <td>NaN</td>\n",
       "      <td>20.231553</td>\n",
       "      <td>95.700241</td>\n",
       "      <td>0.0</td>\n",
       "      <td>20.231553</td>\n",
       "    </tr>\n",
       "    <tr>\n",
       "      <th>2</th>\n",
       "      <td>86961124fffffff</td>\n",
       "      <td>POLYGON ((29.69921 -11.07903, 29.66207 -11.084...</td>\n",
       "      <td>16639</td>\n",
       "      <td>16405</td>\n",
       "      <td>7222</td>\n",
       "      <td>664</td>\n",
       "      <td>8529</td>\n",
       "      <td>9281</td>\n",
       "      <td>0.134480</td>\n",
       "      <td>NaN</td>\n",
       "      <td>0.0</td>\n",
       "      <td>NaN</td>\n",
       "      <td>196.542011</td>\n",
       "      <td>1020.146016</td>\n",
       "      <td>0.0</td>\n",
       "      <td>196.542011</td>\n",
       "    </tr>\n",
       "    <tr>\n",
       "      <th>3</th>\n",
       "      <td>86961462fffffff</td>\n",
       "      <td>POLYGON ((31.99556 -11.97434, 31.95843 -11.979...</td>\n",
       "      <td>3843</td>\n",
       "      <td>4261</td>\n",
       "      <td>6699</td>\n",
       "      <td>1872</td>\n",
       "      <td>16124</td>\n",
       "      <td>7533</td>\n",
       "      <td>0.148401</td>\n",
       "      <td>NaN</td>\n",
       "      <td>NaN</td>\n",
       "      <td>NaN</td>\n",
       "      <td>NaN</td>\n",
       "      <td>NaN</td>\n",
       "      <td>NaN</td>\n",
       "      <td>NaN</td>\n",
       "    </tr>\n",
       "  </tbody>\n",
       "</table>\n",
       "</div>"
      ],
      "text/plain": [
       "          h3_index                                           geometry     n0  \\\n",
       "0  8696148afffffff  POLYGON ((32.22444 -12.71369, 32.18722 -12.719...   2803   \n",
       "1  8696334afffffff  POLYGON ((31.86748 -12.99196, 31.83018 -12.997...  14140   \n",
       "2  86961124fffffff  POLYGON ((29.69921 -11.07903, 29.66207 -11.084...  16639   \n",
       "3  86961462fffffff  POLYGON ((31.99556 -11.97434, 31.95843 -11.979...   3843   \n",
       "\n",
       "      n1     n2    n3     n4    n5     index  REnS_GWh  SEn_GWh  \\\n",
       "0  12112  14180  7459  13483  8748  0.138406       NaN      0.0   \n",
       "1  11194   8571  3115   3919  1550  0.181377       NaN      NaN   \n",
       "2  16405   7222   664   8529  9281  0.134480       NaN      0.0   \n",
       "3   4261   6699  1872  16124  7533  0.148401       NaN      NaN   \n",
       "\n",
       "   IndEnergy_GWh    HH_total   population  HHwithAccess     res_Bui  \n",
       "0            NaN  602.421340  3103.873547           0.0  602.421340  \n",
       "1            NaN   20.231553    95.700241           0.0   20.231553  \n",
       "2            NaN  196.542011  1020.146016           0.0  196.542011  \n",
       "3            NaN         NaN          NaN           NaN         NaN  "
      ]
     },
     "execution_count": 10,
     "metadata": {},
     "output_type": "execute_result"
    }
   ],
   "source": [
    "file_website = file[list_columns_tokeep]\n",
    "file_website.head(4)"
   ]
  },
  {
   "cell_type": "code",
   "execution_count": 11,
   "id": "6f2b1a81-59f8-490e-91e8-9a8aa5831249",
   "metadata": {},
   "outputs": [],
   "source": [
    "#rename column?"
   ]
  },
  {
   "cell_type": "code",
   "execution_count": 12,
   "id": "abf97a54-d7b5-44c8-b20c-ff44bdc58fed",
   "metadata": {},
   "outputs": [],
   "source": [
    "file_website.to_file(out_path + \"\\\\\" + f'total_demand_web.geojson', driver='GeoJSON', index=False)  "
   ]
  },
  {
   "cell_type": "code",
   "execution_count": null,
   "id": "ef134a91-0354-4888-953a-8b1cb07e811e",
   "metadata": {},
   "outputs": [],
   "source": []
  }
 ],
 "metadata": {
  "kernelspec": {
   "display_name": "Python 3 (ipykernel)",
   "language": "python",
   "name": "python3"
  },
  "language_info": {
   "codemirror_mode": {
    "name": "ipython",
    "version": 3
   },
   "file_extension": ".py",
   "mimetype": "text/x-python",
   "name": "python",
   "nbconvert_exporter": "python",
   "pygments_lexer": "ipython3",
   "version": "3.12.4"
  }
 },
 "nbformat": 4,
 "nbformat_minor": 5
}
