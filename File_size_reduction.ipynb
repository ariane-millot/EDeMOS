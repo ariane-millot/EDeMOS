{
 "cells": [
  {
   "cell_type": "markdown",
   "id": "01b42324-feb4-4ee5-96f4-3d1d89fe35bd",
   "metadata": {},
   "source": [
    "# File reduction for website"
   ]
  },
  {
   "cell_type": "code",
   "execution_count": 1,
   "id": "7eec9a31-e141-4b4b-b686-88b94ded33c5",
   "metadata": {},
   "outputs": [],
   "source": [
    "import geopandas as gpd"
   ]
  },
  {
   "cell_type": "code",
   "execution_count": 2,
   "id": "e4fef53d-1464-4192-97cb-a7135d740bf5",
   "metadata": {},
   "outputs": [],
   "source": [
    "# Check if we are running the notebook directly, if so move workspace to parent dir\n",
    "import sys\n",
    "import os\n",
    "currentdir = os.path.abspath(os.getcwd())\n",
    "if os.path.basename(currentdir) != 'DemandMappingZambia':  \n",
    "  sys.path.insert(0, os.path.dirname(currentdir))\n",
    "  os.chdir('..')\n",
    "  print(f'Move to {os.getcwd()}')"
   ]
  },
  {
   "cell_type": "code",
   "execution_count": 3,
   "id": "872507dd-4ac3-4d87-a54e-b00745b61485",
   "metadata": {},
   "outputs": [],
   "source": [
    "### Define directories and dataset names\n",
    "ROOT_DIR = os.path.abspath(os.curdir)\n",
    "in_path = ROOT_DIR\n",
    "out_path = ROOT_DIR + \"/Outputs\""
   ]
  },
  {
   "cell_type": "code",
   "execution_count": 4,
   "id": "ff273a05-a87a-4e93-8de5-0d89e51092f6",
   "metadata": {},
   "outputs": [],
   "source": [
    "file = gpd.read_file(out_path + \"\\\\\" + f'total_demand.geojson') #, driver='GeoJSON', index=False) "
   ]
  },
  {
   "cell_type": "code",
   "execution_count": 5,
   "id": "de3c6cea-4ee9-4901-9e47-280cb64d2bb5",
   "metadata": {},
   "outputs": [
    {
     "data": {
      "text/plain": [
       "Index(['h3_index', 'n0', 'n1', 'n2', 'n3', 'n4', 'n5', 'index', 'index_righ',\n",
       "       'NAME_1', 'id', 'buildingssum', 'locationWP', 'HREA', 'rwi', 'tiers',\n",
       "       'GDP_PPP', 'Status_electrified', 'locWorldPop', 'location',\n",
       "       'res_urbanBui', 'res_ruralBui', 'res_Bui', 'HH_urban', 'HH_rural',\n",
       "       'HH_total', 'population', 'population_urban', 'population_rural',\n",
       "       'population2', 'HHwithAccess_urb', 'HHwithAccess_rur', 'HHwithAccess',\n",
       "       'HHwithAccess_urb_wostatus', 'HHwithAccess_rur_wostatus',\n",
       "       'HHwithAccess_wostatus', 'HHwoAccess_urb', 'HHwoAccess_rur',\n",
       "       'HHwoAccess', 'population_urban_withAccess',\n",
       "       'population_rural_withAccess', 'population_withAccess',\n",
       "       'ResEnergyPerHH_rwi', 'rwi_norm', 'ResEnergyPerHH_index',\n",
       "       'ResEnergyPerHH_log', 'ResEnergyPerHH_DHS', 'ResEnergyPerHH_meth11a',\n",
       "       'ResEnergyPerHH_meth11b', 'ResEnergyPerHH_meth12a',\n",
       "       'ResEnergyPerHH_meth12b', 'ResEnergyPerHH_meth2',\n",
       "       'ResEnergyPerHH_meth3', 'ResEnergy_kWh_meth11a',\n",
       "       'ResEnergy_kWh_meth11b', 'ResEnergy_kWh_meth12a',\n",
       "       'ResEnergy_kWh_meth12b', 'ResEnergy_kWh_meth2', 'ResEnergy_kWh_meth3',\n",
       "       'serBui', 'serBUi_Acc', 'SEn_kWh_bui', 'SEn_kWh_GDP', 'nb_women',\n",
       "       'nb_men', 'nb_women_working', 'nb_men_working', 'total_employee',\n",
       "       'SEn_kWh_Emp', 'SEn_kWh_weighted', 'SEn_kWh_final', 'Energy Elec [TJ]',\n",
       "       'IndEne_TJ', 'IndEnergy_GWh', 'REnS_GWh', 'SEn_GWh', 'TotalDem',\n",
       "       'geometry'],\n",
       "      dtype='object')"
      ]
     },
     "execution_count": 5,
     "metadata": {},
     "output_type": "execute_result"
    }
   ],
   "source": [
    "file.columns"
   ]
  },
  {
   "cell_type": "code",
   "execution_count": 6,
   "id": "52498658-bfc8-4fa8-9d43-de6a26ad679e",
   "metadata": {},
   "outputs": [],
   "source": [
    "list_columns_tokeep = ['h3_index', 'geometry',\n",
    "                       'n0', 'n1', 'n2', 'n3', 'n4', 'n5',\n",
    "                      'index',\n",
    "                      'REnS_GWh',\n",
    "                       'SEn_GWh',\n",
    "                       'IndEnergy_GWh',\n",
    "                       'HH_total',\n",
    "                       'population',\n",
    "                       'HHwithAccess',\n",
    "                       'res_Bui',\n",
    "                       # add mining output?\n",
    "                      ]"
   ]
  },
  {
   "cell_type": "code",
   "execution_count": 7,
   "id": "db8ec865-524a-4966-8775-cdc36ae22522",
   "metadata": {},
   "outputs": [
    {
     "data": {
      "text/html": [
       "<div>\n",
       "<style scoped>\n",
       "    .dataframe tbody tr th:only-of-type {\n",
       "        vertical-align: middle;\n",
       "    }\n",
       "\n",
       "    .dataframe tbody tr th {\n",
       "        vertical-align: top;\n",
       "    }\n",
       "\n",
       "    .dataframe thead th {\n",
       "        text-align: right;\n",
       "    }\n",
       "</style>\n",
       "<table border=\"1\" class=\"dataframe\">\n",
       "  <thead>\n",
       "    <tr style=\"text-align: right;\">\n",
       "      <th></th>\n",
       "      <th>h3_index</th>\n",
       "      <th>geometry</th>\n",
       "      <th>n0</th>\n",
       "      <th>n1</th>\n",
       "      <th>n2</th>\n",
       "      <th>n3</th>\n",
       "      <th>n4</th>\n",
       "      <th>n5</th>\n",
       "      <th>index</th>\n",
       "      <th>REnS_GWh</th>\n",
       "      <th>SEn_GWh</th>\n",
       "      <th>IndEnergy_GWh</th>\n",
       "      <th>HH_total</th>\n",
       "      <th>population</th>\n",
       "      <th>HHwithAccess</th>\n",
       "      <th>res_Bui</th>\n",
       "    </tr>\n",
       "  </thead>\n",
       "  <tbody>\n",
       "    <tr>\n",
       "      <th>0</th>\n",
       "      <td>8696008a7ffffff</td>\n",
       "      <td>POLYGON ((29.21032 -13.62603, 29.17278 -13.631...</td>\n",
       "      <td>11891</td>\n",
       "      <td>4012</td>\n",
       "      <td>17237</td>\n",
       "      <td>8980</td>\n",
       "      <td>16037</td>\n",
       "      <td>11909</td>\n",
       "      <td>0.127447</td>\n",
       "      <td>NaN</td>\n",
       "      <td>0.0</td>\n",
       "      <td>NaN</td>\n",
       "      <td>28.262045</td>\n",
       "      <td>147.654720</td>\n",
       "      <td>0.000000</td>\n",
       "      <td>28.262045</td>\n",
       "    </tr>\n",
       "    <tr>\n",
       "      <th>1</th>\n",
       "      <td>8696110cfffffff</td>\n",
       "      <td>POLYGON ((30.21419 -11.1036, 30.17708 -11.1088...</td>\n",
       "      <td>5904</td>\n",
       "      <td>8708</td>\n",
       "      <td>9003</td>\n",
       "      <td>14117</td>\n",
       "      <td>13389</td>\n",
       "      <td>5014</td>\n",
       "      <td>0.186168</td>\n",
       "      <td>0.000116</td>\n",
       "      <td>NaN</td>\n",
       "      <td>NaN</td>\n",
       "      <td>127.351657</td>\n",
       "      <td>642.164198</td>\n",
       "      <td>14.472179</td>\n",
       "      <td>127.351657</td>\n",
       "    </tr>\n",
       "    <tr>\n",
       "      <th>2</th>\n",
       "      <td>869606b5fffffff</td>\n",
       "      <td>POLYGON ((29.79166 -13.67508, 29.75413 -13.680...</td>\n",
       "      <td>2915</td>\n",
       "      <td>7530</td>\n",
       "      <td>87</td>\n",
       "      <td>16290</td>\n",
       "      <td>16977</td>\n",
       "      <td>16740</td>\n",
       "      <td>0.086829</td>\n",
       "      <td>NaN</td>\n",
       "      <td>NaN</td>\n",
       "      <td>NaN</td>\n",
       "      <td>165.357752</td>\n",
       "      <td>863.909632</td>\n",
       "      <td>0.000000</td>\n",
       "      <td>165.357752</td>\n",
       "    </tr>\n",
       "    <tr>\n",
       "      <th>3</th>\n",
       "      <td>86962c4efffffff</td>\n",
       "      <td>POLYGON ((27.27492 -15.84201, 27.23703 -15.846...</td>\n",
       "      <td>2970</td>\n",
       "      <td>2935</td>\n",
       "      <td>5540</td>\n",
       "      <td>12559</td>\n",
       "      <td>14791</td>\n",
       "      <td>1103</td>\n",
       "      <td>0.097442</td>\n",
       "      <td>NaN</td>\n",
       "      <td>NaN</td>\n",
       "      <td>NaN</td>\n",
       "      <td>NaN</td>\n",
       "      <td>NaN</td>\n",
       "      <td>NaN</td>\n",
       "      <td>NaN</td>\n",
       "    </tr>\n",
       "  </tbody>\n",
       "</table>\n",
       "</div>"
      ],
      "text/plain": [
       "          h3_index                                           geometry     n0  \\\n",
       "0  8696008a7ffffff  POLYGON ((29.21032 -13.62603, 29.17278 -13.631...  11891   \n",
       "1  8696110cfffffff  POLYGON ((30.21419 -11.1036, 30.17708 -11.1088...   5904   \n",
       "2  869606b5fffffff  POLYGON ((29.79166 -13.67508, 29.75413 -13.680...   2915   \n",
       "3  86962c4efffffff  POLYGON ((27.27492 -15.84201, 27.23703 -15.846...   2970   \n",
       "\n",
       "     n1     n2     n3     n4     n5     index  REnS_GWh  SEn_GWh  \\\n",
       "0  4012  17237   8980  16037  11909  0.127447       NaN      0.0   \n",
       "1  8708   9003  14117  13389   5014  0.186168  0.000116      NaN   \n",
       "2  7530     87  16290  16977  16740  0.086829       NaN      NaN   \n",
       "3  2935   5540  12559  14791   1103  0.097442       NaN      NaN   \n",
       "\n",
       "   IndEnergy_GWh    HH_total  population  HHwithAccess     res_Bui  \n",
       "0            NaN   28.262045  147.654720      0.000000   28.262045  \n",
       "1            NaN  127.351657  642.164198     14.472179  127.351657  \n",
       "2            NaN  165.357752  863.909632      0.000000  165.357752  \n",
       "3            NaN         NaN         NaN           NaN         NaN  "
      ]
     },
     "execution_count": 7,
     "metadata": {},
     "output_type": "execute_result"
    }
   ],
   "source": [
    "file_website = file[list_columns_tokeep]\n",
    "file_website.head(4)"
   ]
  },
  {
   "cell_type": "code",
   "execution_count": 8,
   "id": "6f2b1a81-59f8-490e-91e8-9a8aa5831249",
   "metadata": {},
   "outputs": [],
   "source": [
    "#rename column?"
   ]
  },
  {
   "cell_type": "code",
   "execution_count": 9,
   "id": "abf97a54-d7b5-44c8-b20c-ff44bdc58fed",
   "metadata": {},
   "outputs": [],
   "source": [
    "file_website.to_file(out_path + \"\\\\\" + f'total_demand_web.geojson', driver='GeoJSON', index=False)  "
   ]
  },
  {
   "cell_type": "code",
   "execution_count": null,
   "id": "ef134a91-0354-4888-953a-8b1cb07e811e",
   "metadata": {},
   "outputs": [],
   "source": []
  }
 ],
 "metadata": {
  "kernelspec": {
   "display_name": "Python 3 (ipykernel)",
   "language": "python",
   "name": "python3"
  },
  "language_info": {
   "codemirror_mode": {
    "name": "ipython",
    "version": 3
   },
   "file_extension": ".py",
   "mimetype": "text/x-python",
   "name": "python",
   "nbconvert_exporter": "python",
   "pygments_lexer": "ipython3",
   "version": "3.12.4"
  }
 },
 "nbformat": 4,
 "nbformat_minor": 5
}
