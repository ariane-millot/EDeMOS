{
 "cells": [
  {
   "cell_type": "markdown",
   "id": "1f07b1c9-6f45-4bcd-87b5-a70ed6ad20fe",
   "metadata": {
    "editable": true,
    "slideshow": {
     "slide_type": ""
    },
    "tags": []
   },
   "source": [
    "# Building Electricity Consumption Assesment"
   ]
  },
  {
   "attachments": {},
   "cell_type": "markdown",
   "id": "1b918d9f-e01d-4238-b360-cb31623a416d",
   "metadata": {},
   "source": [
    "#### Brief overview:\n",
    "\n",
    "The energy demand for each cell is assessed according to the following parameters:\n",
    "𝐵 Number of buildings\n",
    "𝑆𝑟𝑒𝑠 Share of res buildings\n",
    "𝑁 Nb of HH per res buildings\n",
    "𝑎 Electrified status (probability)\n",
    "𝐸_𝐻𝐻  Energy consumption per HH\n",
    "𝑟 Adjustment with RWI\n",
    "\n",
    "For each cell c, we have 𝐷_𝑐=𝐵_𝑐∗𝑆𝑟𝑒𝑠∗𝑁_𝑐  ∗𝑎_𝑐  ∗𝐸_𝐻𝐻  ∗𝑟_𝑐 "
   ]
  },
  {
   "cell_type": "markdown",
   "id": "8aab8d2f-f9de-4c1c-be79-52401bbd1519",
   "metadata": {},
   "source": [
    "### Import necessary modules"
   ]
  },
  {
   "cell_type": "code",
   "execution_count": 1,
   "id": "5444dd77-265a-4e88-a814-100c3710d66f",
   "metadata": {},
   "outputs": [
    {
     "name": "stdout",
     "output_type": "stream",
     "text": [
      "Move to C:\\Users\\amillot\\PycharmProjects\\EDeMOS\n"
     ]
    }
   ],
   "source": [
    "# Check if we are running the notebook directly, if so move workspace to parent dir\n",
    "import sys\n",
    "import os\n",
    "currentdir = os.path.abspath(os.getcwd())\n",
    "if os.path.basename(currentdir) != 'EDeMOS':  \n",
    "  sys.path.insert(0, os.path.dirname(currentdir))\n",
    "  os.chdir('..')\n",
    "  print(f'Move to {os.getcwd()}')"
   ]
  },
  {
   "cell_type": "code",
   "execution_count": 2,
   "id": "a61b0c1d-0c29-48e5-9101-2d4b3aa385cf",
   "metadata": {
    "code_folding": [
     0
    ]
   },
   "outputs": [],
   "source": [
    "### Activate geospatial_env first\n",
    "\n",
    "# Numeric\n",
    "import numpy as np\n",
    "import pandas as pd\n",
    "import math\n",
    "from scipy.optimize import fsolve\n",
    "\n",
    "# Spatial\n",
    "import geopandas as gpd\n",
    "import fiona\n",
    "from pyproj import CRS\n",
    "\n",
    "# Mapping / Plotting\n",
    "import matplotlib.pyplot as plt\n",
    "from matplotlib.ticker import StrMethodFormatter\n",
    "from matplotlib.colors import LogNorm\n",
    "from matplotlib_scalebar.scalebar import ScaleBar\n",
    "import matplotlib.colors as colors\n",
    "\n",
    "import importlib\n",
    "import warnings\n",
    "warnings.filterwarnings('ignore')"
   ]
  },
  {
   "cell_type": "code",
   "execution_count": 3,
   "id": "7ff55a57-e9f1-4597-9e92-b5f0087b40c2",
   "metadata": {
    "code_folding": [
     0
    ]
   },
   "outputs": [],
   "source": [
    "pd.options.display.float_format = '{:,.2f}'.format"
   ]
  },
  {
   "cell_type": "code",
   "execution_count": 4,
   "id": "5c47c87c-8664-4ea1-a1a3-5e5b33c465f3",
   "metadata": {},
   "outputs": [
    {
     "name": "stdout",
     "output_type": "stream",
     "text": [
      "INFO: Successfully loaded configuration for Zambia from config.py.\n",
      "INFO: Successfully loaded configuration for Zambia from config.py.\n"
     ]
    },
    {
     "data": {
      "text/plain": [
       "<module 'config' from 'C:\\\\Users\\\\amillot\\\\PycharmProjects\\\\EDeMOS\\\\config.py'>"
      ]
     },
     "execution_count": 4,
     "metadata": {},
     "output_type": "execute_result"
    }
   ],
   "source": [
    "import config\n",
    "importlib.reload(config)"
   ]
  },
  {
   "cell_type": "code",
   "execution_count": 5,
   "id": "56b5dfbb-da53-421d-b8bc-97d0af659d08",
   "metadata": {},
   "outputs": [],
   "source": [
    "import plotting"
   ]
  },
  {
   "cell_type": "code",
   "execution_count": 6,
   "id": "52ae53ed-deb3-49ce-9d03-200d1017c7ec",
   "metadata": {},
   "outputs": [],
   "source": [
    "from utils import processing_raster, finalizing_rasters, convert_features_to_geodataframe"
   ]
  },
  {
   "cell_type": "code",
   "execution_count": 7,
   "id": "e42030ea-5877-4a38-b64a-544fc8c2e9e1",
   "metadata": {},
   "outputs": [],
   "source": [
    "import Buildings.data_loader\n",
    "importlib.reload(Buildings.data_loader)\n",
    "from Buildings.data_loader import load_initial_data, extract_raster_data, load_un_stats, load_census_data"
   ]
  },
  {
   "cell_type": "code",
   "execution_count": 8,
   "id": "b3123512-f8c1-4365-b28a-690ae2fd032a",
   "metadata": {},
   "outputs": [],
   "source": [
    "import Buildings.residential_hh_analysis\n",
    "importlib.reload(Buildings.residential_hh_analysis)\n",
    "from Buildings.residential_hh_analysis import determine_location_status, determine_electrification_status, calculate_household_numbers, estimate_hh_with_access\n",
    "import Buildings.residential_analysis\n",
    "importlib.reload(Buildings.residential_analysis)\n",
    "from Buildings.residential_analysis import calculate_energy_per_hh_method1, calculate_total_residential_electricity"
   ]
  },
  {
   "cell_type": "code",
   "execution_count": 9,
   "id": "88ffe21d-cdf9-4d9a-984f-73c216c451b8",
   "metadata": {},
   "outputs": [],
   "source": [
    "import Buildings.figures_input_data\n",
    "importlib.reload(Buildings.figures_input_data)\n",
    "from Buildings.figures_input_data import *\n",
    "from plotting import plot_sector_consumption_map"
   ]
  },
  {
   "cell_type": "code",
   "execution_count": 10,
   "id": "9cda051b-419f-4624-9c0b-1223cd38eefb",
   "metadata": {},
   "outputs": [],
   "source": [
    "try: extracting_data\n",
    "except NameError: extracting_data = True"
   ]
  },
  {
   "cell_type": "markdown",
   "id": "1dfdae20-245c-4079-b948-9e4ccb0f208f",
   "metadata": {
    "editable": true,
    "slideshow": {
     "slide_type": ""
    },
    "tags": []
   },
   "source": [
    "## Import data"
   ]
  },
  {
   "cell_type": "markdown",
   "id": "fb3d438a-e9da-4b81-8b1f-4b9b0bbf8a8e",
   "metadata": {},
   "source": [
    "### Load initial data grid"
   ]
  },
  {
   "cell_type": "code",
   "execution_count": 11,
   "id": "25b310d8-61f5-4806-bc0e-07c135137f5a",
   "metadata": {},
   "outputs": [
    {
     "name": "stdout",
     "output_type": "stream",
     "text": [
      "Loading initial data...\n",
      "Admin boundaries loaded. Country GDF: (1, 3), Region GDF: (10, 12)\n",
      "Hexagon grid loaded: (122901, 11)\n",
      "Validating that all regions have cells in the pre-processed grid...\n",
      "Validation successful: All target regions are present in the grid file.\n",
      "EPSG:4326\n"
     ]
    }
   ],
   "source": [
    "# Load initial data (grid and administrative boundaries)\n",
    "regions, admin_gdf, region_gdf, grid = load_initial_data(config)\n",
    "print(grid.crs)"
   ]
  },
  {
   "cell_type": "markdown",
   "id": "1c628b49-d0f7-4b64-a623-91b775fd2782",
   "metadata": {
    "editable": true,
    "slideshow": {
     "slide_type": ""
    },
    "tags": []
   },
   "source": [
    "### Extract raster values to hexagons"
   ]
  },
  {
   "cell_type": "code",
   "execution_count": null,
   "id": "2c4fc3e1-b706-4f41-bf0a-4f65a8b138c2",
   "metadata": {},
   "outputs": [
    {
     "name": "stdout",
     "output_type": "stream",
     "text": [
      "Extracting raster data...\n",
      "EPSG:4326\n"
     ]
    }
   ],
   "source": [
    "# Extract raster data\n",
    "if extracting_data:\n",
    "    grid = extract_raster_data(grid, config, processing_raster, convert_features_to_geodataframe)\n",
    "    grid.to_file(config.RESIDENTIAL_TEMP_FILE, layer=\"buildings\", driver=\"GPKG\", mode='w')\n",
    "    print(grid.crs)"
   ]
  },
  {
   "cell_type": "code",
   "execution_count": null,
   "id": "2c8401b3-28ee-414b-b0ba-441f7c8f0a43",
   "metadata": {},
   "outputs": [],
   "source": [
    "if not extracting_data:\n",
    "    grid = gpd.read_file(config.RESIDENTIAL_TEMP_FILE)"
   ]
  },
  {
   "cell_type": "markdown",
   "id": "f76c68d7-353f-4535-bfe7-123890e9f092",
   "metadata": {},
   "source": [
    "### Extract residential and service demand from UN stats"
   ]
  },
  {
   "cell_type": "code",
   "execution_count": null,
   "id": "e37ab8a6-5235-4456-98d7-d5438c7a5a08",
   "metadata": {},
   "outputs": [],
   "source": [
    "total_residential_elec_GWh, total_services_elec_GWh = load_un_stats(config)"
   ]
  },
  {
   "cell_type": "markdown",
   "id": "0121fe47-06d3-47ae-bf96-ae1f0afa5ef8",
   "metadata": {},
   "source": [
    "### Load Census data"
   ]
  },
  {
   "cell_type": "code",
   "execution_count": null,
   "id": "e26343e7-cdf9-48a1-bb93-3a5e29cd7ab0",
   "metadata": {},
   "outputs": [],
   "source": [
    "data_HH, df_censusdata = load_census_data(config)"
   ]
  },
  {
   "cell_type": "markdown",
   "id": "570589bc-ef10-4b9a-8708-8b790f85aae0",
   "metadata": {},
   "source": [
    "## Residential electricity consumption assessment"
   ]
  },
  {
   "cell_type": "code",
   "execution_count": null,
   "id": "fcbed398-f8b9-4624-92ff-0b5e19bd68b6",
   "metadata": {},
   "outputs": [],
   "source": [
    "plot_buildings_map(grid, config, fig_size=(10, 5))"
   ]
  },
  {
   "cell_type": "code",
   "execution_count": null,
   "id": "5a728537-2c06-4590-bce9-e5e50fbb2861",
   "metadata": {},
   "outputs": [],
   "source": [
    "print(f\"Total number of buildings: {grid[config.COL_BUILDINGS_SUM].sum():.0f}\")"
   ]
  },
  {
   "cell_type": "code",
   "execution_count": null,
   "id": "4e1714c6-0122-4ce8-af91-a2dd3fb33bb7",
   "metadata": {},
   "outputs": [],
   "source": [
    "plot_hrea_map(grid, config, fig_size=(10, 5))"
   ]
  },
  {
   "cell_type": "markdown",
   "id": "35fb3f44-0e71-4651-977c-d0a370e8bb37",
   "metadata": {
    "editable": true,
    "slideshow": {
     "slide_type": ""
    },
    "tags": []
   },
   "source": [
    "### Step 1: assess the number of HH with access"
   ]
  },
  {
   "cell_type": "markdown",
   "id": "91245c5b-c6ce-4a7e-a41c-6e215dc7b65e",
   "metadata": {},
   "source": [
    "#### Determine location (ruban or rural) of each cell"
   ]
  },
  {
   "cell_type": "code",
   "execution_count": null,
   "id": "7dde9b50-e39a-476f-ae9d-5ac46e7d969c",
   "metadata": {},
   "outputs": [],
   "source": [
    "grid = determine_location_status(grid, config)"
   ]
  },
  {
   "cell_type": "code",
   "execution_count": null,
   "id": "72605bcb-1339-4470-82dc-93e3bc49f14e",
   "metadata": {},
   "outputs": [],
   "source": [
    "plot_urban_rural_map(grid, config, fig_size=(10, 5))"
   ]
  },
  {
   "cell_type": "markdown",
   "id": "f2595faf-1b25-4043-ab1e-2e071b069248",
   "metadata": {},
   "source": [
    "#### Determine electrifed status of each cell"
   ]
  },
  {
   "cell_type": "code",
   "execution_count": null,
   "id": "20ba8032-da74-4c4b-899a-c286080dbf8b",
   "metadata": {
    "scrolled": true
   },
   "outputs": [],
   "source": [
    "grid = determine_electrification_status(grid, config, admin_gdf)"
   ]
  },
  {
   "cell_type": "code",
   "execution_count": null,
   "id": "22d8af0b-c0ee-414b-9107-8e81a50f5fb1",
   "metadata": {},
   "outputs": [],
   "source": [
    "plot_line_proximity_map(grid, config, admin_gdf, fig_size=(10, 5))"
   ]
  },
  {
   "cell_type": "markdown",
   "id": "1cc25805-0a35-498f-be63-54212aea6776",
   "metadata": {},
   "source": [
    "#### Assess number of households per cell"
   ]
  },
  {
   "cell_type": "code",
   "execution_count": null,
   "id": "11d2960a-620c-4776-8d80-944cc804a744",
   "metadata": {},
   "outputs": [],
   "source": [
    "grid, df_HH_buildings = calculate_household_numbers(grid, config, data_HH, regions)"
   ]
  },
  {
   "cell_type": "code",
   "execution_count": null,
   "id": "05a576ba-d58c-4edf-8540-27769366f915",
   "metadata": {},
   "outputs": [],
   "source": [
    "df_HH_buildings"
   ]
  },
  {
   "cell_type": "markdown",
   "id": "8110c32f-b4f8-41ea-b27c-d4dcdccc62e0",
   "metadata": {},
   "source": [
    "#### Assess number of households per cell with access to electricity"
   ]
  },
  {
   "cell_type": "code",
   "execution_count": null,
   "id": "29ce9d6d-74f6-4cfb-ba53-44e695fc3d66",
   "metadata": {},
   "outputs": [],
   "source": [
    "grid, df_HH_buildings = estimate_hh_with_access(grid, config, df_HH_buildings, data_HH)"
   ]
  },
  {
   "cell_type": "markdown",
   "id": "9dfc65e3-fd9a-46c2-89ec-896b1f9a524d",
   "metadata": {},
   "source": [
    "### Step 2: assess the electricity consumption per HH"
   ]
  },
  {
   "cell_type": "markdown",
   "id": "cc0db2df-617c-4741-b792-a3c7b6d88348",
   "metadata": {},
   "source": [
    "#### Method 1: link the energy consumption to rwi through a logistic function"
   ]
  },
  {
   "cell_type": "code",
   "execution_count": null,
   "id": "d9c9f538-147d-4896-850c-d651937469ec",
   "metadata": {},
   "outputs": [],
   "source": [
    "# Normalise the rwi index\n",
    "rwi_min = grid[config.COL_RWI_MEAN].min()\n",
    "rwi_max = grid[config.COL_RWI_MEAN].max()\n",
    "grid[config.COL_RWI_NORM] = (grid[config.COL_RWI_MEAN] - rwi_min) / (rwi_max - rwi_min)\n",
    "grid[config.COL_RWI_NORM].plot.hist()\n",
    "plt.show()"
   ]
  },
  {
   "cell_type": "code",
   "execution_count": null,
   "id": "32efd72e-b798-41fc-966a-00665d97c2f0",
   "metadata": {},
   "outputs": [],
   "source": [
    "# Plot of number of HH vs rwi\n",
    "\n",
    "# Create equally spaced bins for the 'rwi' values\n",
    "num_groups = 100\n",
    "min_rwi = grid[config.COL_RWI_NORM].min()\n",
    "max_rwi = grid[config.COL_RWI_NORM].max()\n",
    "bin_width = (max_rwi - min_rwi) / num_groups\n",
    "rwi_bins = [min_rwi + i * bin_width for i in range(num_groups + 1)]\n",
    "rwi_bins_labels = [(rwi_bins[i] + rwi_bins[i])/2 for i in range(num_groups)]\n",
    "\n",
    "# Group by the bins and sum the 'HH_total' values\n",
    "grid['rwi_group'] = pd.cut(grid[config.COL_RWI_NORM], rwi_bins)\n",
    "result = grid.groupby('rwi_group')[config.COL_HH_TOTAL].sum()\n",
    "result.index = result.index.astype(str)\n",
    "# # Print the result\n",
    "# print(result)\n",
    "\n",
    "# Create a bar plot\n",
    "plt.figure(figsize=(10, 6))\n",
    "plt.bar(result.index, result.values, color='skyblue', edgecolor='black')\n",
    "# plt.bar(rwi_bins_labels, result.values, color='skyblue', edgecolor='black')\n",
    "plt.xlabel('RWI Value Groups')\n",
    "plt.ylabel('Total HH_total')\n",
    "plt.title('Sum of HH_total by RWI Value Groups')\n",
    "plt.xticks(rotation=45, ha='right')\n",
    "plt.tight_layout()\n",
    "plt.show()"
   ]
  },
  {
   "cell_type": "code",
   "execution_count": null,
   "id": "2653931a-5e4f-454d-bede-8ddf7614754b",
   "metadata": {},
   "outputs": [],
   "source": [
    "# Plot of number of HH with access vs rwi\n",
    "\n",
    "# Group by the bins and sum the 'HHwithAccess' values\n",
    "result = grid.groupby('rwi_group')[config.COL_HH_WITH_ACCESS].sum()\n",
    "result.index = result.index.astype(str)\n",
    "# # Print the result\n",
    "# print(result)\n",
    "\n",
    "# Create a bar plot\n",
    "plt.figure(figsize=(10, 6))\n",
    "plt.rc('xtick', labelsize=5)\n",
    "plt.bar(result.index, result.values, color='skyblue', edgecolor='black')\n",
    "plt.xlabel('RWI Value Groups')\n",
    "plt.ylabel('Total HH with access')\n",
    "plt.title('Sum of HH with access by RWI Value Groups')\n",
    "plt.xticks(rotation=45, ha='right')\n",
    "plt.tight_layout()\n",
    "plt.show()"
   ]
  },
  {
   "cell_type": "code",
   "execution_count": null,
   "id": "bc7ccafc-cd34-4d96-ac70-1bbe535b8c63",
   "metadata": {},
   "outputs": [],
   "source": [
    "grid, k_to_use = calculate_energy_per_hh_method1(grid, config, total_residential_elec_GWh)"
   ]
  },
  {
   "cell_type": "code",
   "execution_count": null,
   "id": "91f5eb82-b49d-4d15-b8f1-1a4ed6bc4f8b",
   "metadata": {},
   "outputs": [],
   "source": [
    "# create the curve linking energy consumption per HH and rwi\n",
    "rwi_values = rwi_bins # rwi value groups\n",
    "k = k_to_use  # Adjust this constant for the desired curve steepness\n",
    "E_threshold = config.LOGISTIC_E_THRESHOLD\n",
    "alpha = config.LOGISTIC_E_THRESHOLD / config.LOGISTIC_ALPHA_DERIVATION_THRESHOLD - 1\n",
    "E_HH_values = config.LOGISTIC_E_THRESHOLD / (1 + alpha * np.exp(-k * np.array(rwi_values)))\n",
    "# print(E_threshold / (1 + alpha * np.exp(-k  * 0)))\n",
    "# Create the bar plot\n",
    "plt.figure(figsize=(10, 6))\n",
    "plt.bar(rwi_values, E_HH_values, color='skyblue', edgecolor='black')\n",
    "plt.xlabel('RWI Value Groups')\n",
    "plt.ylabel('Electricity consumption per household')\n",
    "ax = plt.gca()  # Get the current axis\n",
    "ax.yaxis.set_major_formatter(StrMethodFormatter('{x:,.0f}'))\n",
    "# plt.title('Energy vs. RWI with logistic relationship')\n",
    "plt.xticks(rotation=45, ha='right')\n",
    "plt.tight_layout()\n",
    "plt.show()"
   ]
  },
  {
   "cell_type": "code",
   "execution_count": null,
   "id": "a4e7f5cc-f559-40bf-8a65-76adcc63c8a7",
   "metadata": {},
   "outputs": [],
   "source": [
    "# check that total energy assessed matches the statistics\n",
    "grid[config.COL_RES_ELEC_PER_HH_LOG] = E_threshold / (1 + alpha * np.exp(-k * grid[config.COL_RWI_NORM]))\n",
    "\n",
    "# Create the bar plot\n",
    "plt.figure(figsize=(10, 6))\n",
    "plt.scatter(grid[config.COL_RWI_NORM], grid[config.COL_RES_ELEC_PER_HH_LOG], color='skyblue', edgecolor='black')\n",
    "plt.xlabel('normalised RWI')\n",
    "plt.ylabel('Electricity consumption per household (kWh)')\n",
    "ax = plt.gca()  # Get the current axis\n",
    "ax.yaxis.set_major_formatter(StrMethodFormatter('{x:,.0f}'))\n",
    "# plt.title('Energy vs. RWI with Logarithmic Relationship')\n",
    "plt.xticks(rotation=45, ha='right')\n",
    "plt.tight_layout()\n",
    "plt.show()"
   ]
  },
  {
   "cell_type": "markdown",
   "id": "0e7af71f-1013-401b-828f-50db4e8609e9",
   "metadata": {},
   "source": [
    "#### Method 2: use data coming from the DHS survey"
   ]
  },
  {
   "cell_type": "code",
   "execution_count": null,
   "id": "cc3889a5-178c-4d62-a89c-4cdc4d05227c",
   "metadata": {},
   "outputs": [],
   "source": [
    "import Buildings.HouseholdEnergyUse.estimate_energy_rwi_link_national_new\n",
    "importlib.reload(Buildings.HouseholdEnergyUse.estimate_energy_rwi_link_national_new)\n",
    "from Buildings.HouseholdEnergyUse.estimate_energy_rwi_link_national_new import estimate_energy_rwi_link_national\n",
    "\n",
    "grid = estimate_energy_rwi_link_national(grid, config)   \n",
    "col_elec_rural = 'elec_demand_kWh_rural' \n",
    "col_elec_urban = 'elec_demand_kWh_urban' \n",
    "    \n",
    "if col_elec_rural not in grid.columns or col_elec_urban not in grid.columns:\n",
    "    raise KeyError(f\"Expected columns '{col_elec_rural}' or '{col_elec_urban}' not found after DHS estimation.\")\n",
    "grid[config.COL_RES_ELEC_PER_HH_DHS] = grid[col_elec_rural] + grid[col_elec_urban]"
   ]
  },
  {
   "cell_type": "markdown",
   "id": "5bde7d73-e522-4786-9781-7559886b6903",
   "metadata": {},
   "source": [
    "### Step 3: assess electricity consumption per cell"
   ]
  },
  {
   "cell_type": "code",
   "execution_count": null,
   "id": "f0a85e64-0f18-41fd-bb62-a98023bca811",
   "metadata": {},
   "outputs": [],
   "source": [
    "grid = calculate_total_residential_electricity(grid, config, total_residential_elec_GWh)"
   ]
  },
  {
   "cell_type": "markdown",
   "id": "26dc5645-eeb5-48c0-98d8-bac57de05bca",
   "metadata": {},
   "source": [
    "### Compare access rates to Falchetta dataset"
   ]
  },
  {
   "cell_type": "code",
   "execution_count": null,
   "id": "ee741fe9-c66f-4ddd-b94b-a07be99a69ba",
   "metadata": {},
   "outputs": [],
   "source": [
    "def compare_access_to_falchetta(grid_gdf, app_config):\n",
    "    \"\"\"\n",
    "    Compares calculated residential energy consumption tiers with Falchetta dataset tiers.\n",
    "\n",
    "    This function bins calculated per-household energy into tiers and compares the \n",
    "    distribution of households across these tiers against pre-loaded Falchetta tier data.\n",
    "    It also performs a similarity analysis between the DHS-based calculated tiers and \n",
    "    Falchetta's majority tier.\n",
    "\n",
    "    Args:\n",
    "        grid_gdf: GeoDataFrame of the hexagonal grid with energy consumption data.\n",
    "        app_config: The configuration module.\n",
    "\n",
    "    Returns:\n",
    "        GeoDataFrame: grid_gdf, potentially with added columns for tiering/comparison.\n",
    "    \"\"\"\n",
    "    print(\"Comparing access tiers to Falchetta dataset...\")\n",
    "\n",
    "    def calculate_tier_share_method(data_grid, method_suffix, hh_with_access_col, hh_wo_access_col, category_total_val):\n",
    "        # Helper for tier share calculation\n",
    "        tier_col_name = f'tiers_{method_suffix}' \n",
    "        if tier_col_name not in data_grid.columns:\n",
    "            # print(f\"Warning: Tier column '{tier_col_name}' not found for method '{method_suffix}'.\")\n",
    "            return pd.Series(dtype=float)\n",
    "        if category_total_val == 0: return pd.Series(dtype=float)\n",
    "\n",
    "        tier_share = data_grid.groupby(tier_col_name)[hh_with_access_col].sum()\n",
    "        if 0 in tier_share.index :\n",
    "            tier_share.loc[0] += data_grid[hh_wo_access_col].sum()\n",
    "        else: \n",
    "            tier_share.loc[0] = data_grid[hh_wo_access_col].sum()\n",
    "        return tier_share.sort_index() / category_total_val\n",
    "\n",
    "    bins_tiers = app_config.BINS_TIERS_ENERGY\n",
    "    tier_labels = range(len(bins_tiers) - 1)\n",
    "\n",
    "    categories_summary = {\n",
    "        'national': app_config.COL_HH_TOTAL, 'urban': app_config.COL_HH_URBAN, 'rural': app_config.COL_HH_RURAL\n",
    "    }\n",
    "\n",
    "    # Falchetta dataset\n",
    "    for col_type in [app_config.COL_TIERS_FALCHETTA_MAJ, app_config.COL_TIERS_FALCHETTA_MEAN]:\n",
    "        if col_type in grid_gdf.columns:\n",
    "            tiers_summary_df = pd.DataFrame()\n",
    "            for cat_name, total_hh_col in categories_summary.items():\n",
    "                 if total_hh_col in grid_gdf.columns and grid_gdf[total_hh_col].sum() > 0:\n",
    "                    cat_sum = grid_gdf.groupby(col_type)[total_hh_col].sum()\n",
    "                    tiers_summary_df[cat_name] = cat_sum / cat_sum.sum()\n",
    "            print(f\"\\nFalchetta Tiers Summary ({col_type}):\")\n",
    "            print(tiers_summary_df.fillna(0))\n",
    "    \n",
    "    # Our methods\n",
    "    methods_to_compare = {\n",
    "        'meth1': app_config.COL_RES_ELEC_PER_HH_LOG,\n",
    "        'meth2': \"ElecPerHH_kWh_meth2\" \n",
    "    }\n",
    "    categories_for_comparison = [\n",
    "        ('national', app_config.COL_HH_WITH_ACCESS, app_config.COL_HH_WO_ACCESS, app_config.COL_HH_TOTAL),\n",
    "        ('urban', app_config.COL_HH_WITH_ACCESS_URB, app_config.COL_HH_WO_ACCESS_URB, app_config.COL_HH_URBAN),\n",
    "        ('rural', app_config.COL_HH_WITH_ACCESS_RUR, app_config.COL_HH_WO_ACCESS_RUR, app_config.COL_HH_RURAL)\n",
    "    ]\n",
    "\n",
    "    for method_key, energy_col_name in methods_to_compare.items():\n",
    "        if energy_col_name not in grid_gdf.columns:\n",
    "            print(f\"Warning: Energy column '{energy_col_name}' for method '{method_key}' not found.\")\n",
    "            continue\n",
    "        \n",
    "        grid_gdf[f'tiers_{method_key}'] = pd.cut(grid_gdf[energy_col_name], bins=bins_tiers, labels=tier_labels, right=False)\n",
    "        grid_gdf[f'tiers_{method_key}'] = grid_gdf[f'tiers_{method_key}'].fillna(0).astype(int)\n",
    "\n",
    "        df_tiers_data = pd.DataFrame()\n",
    "        for cat_name, hh_access_col, hh_no_access_col, total_hh_col in categories_for_comparison:\n",
    "            if all(c in grid_gdf.columns for c in [hh_access_col, hh_no_access_col, total_hh_col]):\n",
    "                cat_total_val = grid_gdf[total_hh_col].sum()\n",
    "                if cat_total_val > 0:\n",
    "                    tier_share_series = calculate_tier_share_method(grid_gdf, method_key, hh_access_col, hh_no_access_col, cat_total_val)\n",
    "                    df_tiers_data[cat_name] = tier_share_series\n",
    "        \n",
    "        print(f\"\\nTier Shares for Method '{method_key}':\")\n",
    "        print(df_tiers_data.fillna(0))\n",
    "\n",
    "    if f'tiers_meth2' in grid_gdf.columns and app_config.COL_TIERS_FALCHETTA_MAJ in grid_gdf.columns:\n",
    "        grid_gdf['tiers_DHS_adjusted'] = grid_gdf['tiers_meth2'].where(grid_gdf['tiers_meth2'] != 5, 4) \n",
    "        grid_gdf['Similarity_Falchetta_DHS'] = grid_gdf['tiers_DHS_adjusted'] == grid_gdf[app_config.COL_TIERS_FALCHETTA_MAJ]\n",
    "        grid_gdf['Difference_Falchetta_DHS'] = abs(pd.to_numeric(grid_gdf['tiers_DHS_adjusted']) - pd.to_numeric(grid_gdf[app_config.COL_TIERS_FALCHETTA_MAJ]))\n",
    "\n",
    "        print(\"\\nSimilarity Analysis (Falchetta vs DHS-Method2):\")\n",
    "        print(f\"Number of lines with similar tiers: {grid_gdf['Similarity_Falchetta_DHS'].sum()}\")\n",
    "        print(f\"Mean difference in tiers: {grid_gdf['Difference_Falchetta_DHS'].mean():.2f}\")\n",
    "        print(f\"Median difference in tiers: {grid_gdf['Difference_Falchetta_DHS'].median():.2f}\")\n",
    "    \n",
    "    print(\"Finished Falchetta comparison.\")\n",
    "    return grid_gdf"
   ]
  },
  {
   "cell_type": "code",
   "execution_count": null,
   "id": "235c8653-4045-49f4-8659-3b7508ffd523",
   "metadata": {},
   "outputs": [],
   "source": [
    "grid = compare_access_to_falchetta(grid, config)"
   ]
  },
  {
   "cell_type": "markdown",
   "id": "0c394279-0b13-4495-86ab-9e2a9f6b7427",
   "metadata": {},
   "source": [
    "### Final grid"
   ]
  },
  {
   "cell_type": "code",
   "execution_count": null,
   "id": "a6ce1103-3da6-427b-9ec8-145825c17bc9",
   "metadata": {},
   "outputs": [],
   "source": [
    "grid[config.COL_RES_ELEC_KWH_FINAL]=grid[config.COL_RES_ELEC_KWH_METH2_SCALED]"
   ]
  },
  {
   "cell_type": "code",
   "execution_count": null,
   "id": "3fbce876-c2a5-4b0f-b968-d4d0a133d40f",
   "metadata": {},
   "outputs": [],
   "source": [
    "# print(grid.columns)\n",
    "grid.to_csv(config.RESIDENTIAL_GRID_FILE)"
   ]
  },
  {
   "cell_type": "code",
   "execution_count": null,
   "id": "c0b37b27-0f7e-4a1e-93bf-095501423e70",
   "metadata": {},
   "outputs": [],
   "source": [
    "# Convert categorical columns to strings\n",
    "for col in grid.select_dtypes(include=['category']).columns:\n",
    "    #print(col)\n",
    "    grid[col] = grid[col].astype(str)"
   ]
  },
  {
   "cell_type": "code",
   "execution_count": null,
   "id": "1ae812c1-53df-43a8-a3b5-9733c5d7a16e",
   "metadata": {},
   "outputs": [],
   "source": [
    "if 'rwi_group' in grid.columns:\n",
    "    grid = grid.drop('rwi_group', axis=1)\n",
    "if 'tiers_DHS' in grid.columns:\n",
    "    grid = grid.drop('tiers_DHS', axis=1)\n",
    "if 'bin_labels' in grid.columns:\n",
    "    grid = grid.drop('bin_labels', axis=1)\n",
    "grid.to_file(config.RESIDENTIAL_OUTPUT_DIR / f'res_energy_map_{config.COUNTRY}.shp', index=False)\n",
    "grid.head(3)"
   ]
  },
  {
   "cell_type": "markdown",
   "id": "21e4c941-51f3-4d8c-80f4-deb99b4e5c7e",
   "metadata": {},
   "source": [
    "### Map residential results"
   ]
  },
  {
   "cell_type": "code",
   "execution_count": null,
   "id": "b9f798f3-ddde-43eb-b534-6be0beeff263",
   "metadata": {},
   "outputs": [],
   "source": [
    "plot_sector_consumption_map(grid, config.COL_RES_ELEC_KWH_METH2_SCALED, config, admin_gdf, region_gdf, 'Residential', fig_size=(25, 15))"
   ]
  },
  {
   "cell_type": "markdown",
   "id": "5516fbfc-8880-411b-b560-0547c535ee3b",
   "metadata": {},
   "source": [
    "# Services"
   ]
  },
  {
   "cell_type": "code",
   "execution_count": null,
   "id": "46e5f689-4f87-4df2-977c-7fc193a1d2e8",
   "metadata": {},
   "outputs": [],
   "source": [
    "import Buildings.service_analysis\n",
    "importlib.reload(Buildings.service_analysis)\n",
    "from Buildings.service_analysis import calculate_service_buildings_based_elec, calculate_service_gdp_based_elec, calculate_employee_based_electricity"
   ]
  },
  {
   "cell_type": "markdown",
   "id": "f93d9795-e694-4a10-948e-89f7cf3a7bb8",
   "metadata": {},
   "source": [
    "## Electricity consumption based on number of buildings with access"
   ]
  },
  {
   "cell_type": "code",
   "execution_count": null,
   "id": "4f2bf0d0-0da3-403b-b8ac-b56f21ea1bec",
   "metadata": {},
   "outputs": [],
   "source": [
    "grid = calculate_service_buildings_based_elec(grid, config, total_services_elec_GWh)"
   ]
  },
  {
   "cell_type": "markdown",
   "id": "5b6ba822-35fb-4e51-8147-c5c090283ef2",
   "metadata": {},
   "source": [
    "## Energy consumption based on GDP"
   ]
  },
  {
   "cell_type": "code",
   "execution_count": null,
   "id": "c26393fc-862e-4026-87a0-12990c258f9b",
   "metadata": {},
   "outputs": [],
   "source": [
    "# grid = calculate_service_gdp_based_elec(grid, config, total_services_elec_GWh)"
   ]
  },
  {
   "cell_type": "markdown",
   "id": "27309c1e-60a6-47cc-a0ba-5d3561d96f15",
   "metadata": {},
   "source": [
    "## Energy consumption based on employees"
   ]
  },
  {
   "cell_type": "code",
   "execution_count": null,
   "id": "0f028800-bc10-4c12-9608-960f9079291f",
   "metadata": {},
   "outputs": [],
   "source": [
    "grid = calculate_employee_based_electricity(grid, config, total_services_elec_GWh, df_censusdata)"
   ]
  },
  {
   "cell_type": "markdown",
   "id": "8c349d70-2aa8-4680-a034-77b30bd3512c",
   "metadata": {},
   "source": [
    "## Weighted average of the three assessements"
   ]
  },
  {
   "cell_type": "code",
   "execution_count": null,
   "id": "aed216ce-6cd0-4c92-b002-4660f68a97be",
   "metadata": {},
   "outputs": [],
   "source": [
    "# if config.COL_GDP_PPP_MEAN in grid.columns:\n",
    "#     # Link between buildings and GDP\n",
    "#     plt.scatter(grid['serBUi_Acc'], grid['GDP_PPP'],s=1)\n",
    "    \n",
    "#     # Add labels to the plot\n",
    "#     plt.xlabel('serBUi_Acc')\n",
    "#     plt.ylabel('GDP_PPP')\n",
    "    \n",
    "#     # Set the axis to logarithmic scale\n",
    "#     # plt.yscale('log')\n",
    "#     # plt.xscale('log')\n",
    "    \n",
    "#     # Show the plot\n",
    "#     plt.show()"
   ]
  },
  {
   "cell_type": "code",
   "execution_count": null,
   "id": "90f3facc-2109-4200-82a5-4bf5522e9e5f",
   "metadata": {},
   "outputs": [],
   "source": [
    "threshold_access = 0.1 # lower value than residential because easier to connect services buildings\n",
    "alpha = config.SERVICES_WEIGHT_GDP\n",
    "beta = config.SERVICES_WEIGHT_BUILDINGS\n",
    "gama = config.SERVICES_WEIGHT_EMPLOYEES"
   ]
  },
  {
   "cell_type": "code",
   "execution_count": null,
   "id": "7b25f215-8b9d-4207-ab62-fd477648121a",
   "metadata": {},
   "outputs": [],
   "source": [
    "# compute weighted average\n",
    "grid['SElec_kWh_weighted'] = (beta * grid[config.COL_SER_ELEC_KWH_BUI] + gama * grid[config.COL_SER_ELEC_KWH_EMP] )\n",
    "totalSEn_kWh_weighted = grid['SElec_kWh_weighted'].sum()\n",
    "grid[config.COL_SER_ELEC_KWH_FINAL] = grid['SElec_kWh_weighted'] / totalSEn_kWh_weighted * total_services_elec_GWh *10**6 "
   ]
  },
  {
   "cell_type": "markdown",
   "id": "6d7c754b-0db0-4431-95b3-d0c4e1eab6a6",
   "metadata": {},
   "source": [
    "## Results per region and map"
   ]
  },
  {
   "cell_type": "code",
   "execution_count": null,
   "id": "bb6cbe75-cd4e-41df-bd89-9f10b4203a99",
   "metadata": {},
   "outputs": [],
   "source": [
    "services_result = pd.DataFrame()\n",
    "services_result = grid.groupby(config.COL_ADMIN_NAME)[config.COL_SER_ELEC_KWH_FINAL].sum() / 10**6 # conversion in GWh\n",
    "pd.options.display.float_format = '{:.2f}'.format\n",
    "services_result"
   ]
  },
  {
   "cell_type": "code",
   "execution_count": null,
   "id": "8e28b51f-1486-4f8e-98d4-affcc88417a8",
   "metadata": {},
   "outputs": [],
   "source": [
    "grid[config.COL_ADMIN_NAME].unique()"
   ]
  },
  {
   "cell_type": "code",
   "execution_count": null,
   "id": "d68ccdce-1015-4c18-9e22-ccd124dcc463",
   "metadata": {},
   "outputs": [],
   "source": [
    "plot_sector_consumption_map(grid, config.COL_SER_ELEC_KWH_FINAL, config, admin_gdf, region_gdf, 'Services', fig_size=(25, 15))"
   ]
  },
  {
   "cell_type": "code",
   "execution_count": null,
   "id": "c83c826c-b532-4cdb-a608-e91eef2be83c",
   "metadata": {},
   "outputs": [],
   "source": [
    "grid.to_csv(config.SERVICES_GRID_FILE)\n",
    "# grid.to_file(config.RESIDENTIAL_OUTPUT_DIR / f'ser_energy_map_{config.COUNTRY}.shp', index=False)\n",
    "# grid.to_file(config.RESIDENTIAL_OUTPUT_DIR /  f'ser_energy_map_{config.COUNTRY}.geojson', driver='GeoJSON', index=False)\n",
    "grid.to_file(config.BUILDINGS_GPKG_FILE, layer=\"buildings\", driver=\"GPKG\", mode='w')\n",
    "grid.head(3)"
   ]
  },
  {
   "cell_type": "code",
   "execution_count": null,
   "id": "bd0094b1-d09b-465c-8f88-95a6a927aaf6",
   "metadata": {},
   "outputs": [],
   "source": [
    "total_services_elec_scaled_kwh = grid.groupby(config.COL_ADMIN_NAME)[config.COL_SER_ELEC_KWH_FINAL].sum()\n",
    "# Reindex the result using your master list of regions.\n",
    "#    This ensures every region has an entry. Missing ones will be filled with NaN.\n",
    "total_services_elec_scaled_kwh = total_services_elec_scaled_kwh.reindex(regions)\n",
    "# Conversion to GWh.\n",
    "total_services_elec_scaled_gwh = total_services_elec_scaled_kwh / 10**6\n",
    "print(\"Services electricity consumption assessed after scaling:\")\n",
    "\n",
    "for region in regions:\n",
    "    value_gwh = total_services_elec_scaled_gwh[region]    \n",
    "    # Check if the value is NaN before trying to format it as a number\n",
    "    if pd.isna(value_gwh):\n",
    "        print(f\"{region}: NaN GWh\")\n",
    "    else:\n",
    "        print(f\"{region}: {value_gwh:,.0f} GWh\")"
   ]
  },
  {
   "cell_type": "markdown",
   "id": "1af66c45-8d16-4c28-8000-a29b96bc8a48",
   "metadata": {},
   "source": [
    "# Buildings"
   ]
  },
  {
   "cell_type": "code",
   "execution_count": null,
   "id": "ae4b74c1-4f1e-49f1-a610-561a03fdf87c",
   "metadata": {},
   "outputs": [],
   "source": [
    "# total_Buienergy_scaled = total_servicesenergy_scaled + total_residentialenergy_scaled\n",
    "grid[config.COL_BUI_ELEC_KWH_FINAL]=grid[config.COL_RES_ELEC_KWH_FINAL]+grid[config.COL_SER_ELEC_KWH_FINAL]\n",
    "total_buildings_elec_scaled = grid.groupby(config.COL_ADMIN_NAME)[config.COL_BUI_ELEC_KWH_FINAL].sum()\n",
    "total_buildings_elec_scaled = total_buildings_elec_scaled.reindex(regions)\n",
    "print (\"Buildings electricity consumption assessed after scaling:\")\n",
    "for region in regions:\n",
    "    print (region, f\"{total_buildings_elec_scaled[region]:,.0f}\", \"GWh\" )"
   ]
  },
  {
   "cell_type": "code",
   "execution_count": null,
   "id": "5d510411-e443-47bb-a24a-cf4cbe95eae8",
   "metadata": {},
   "outputs": [],
   "source": []
  }
 ],
 "metadata": {
  "kernelspec": {
   "display_name": "Python 3 (ipykernel)",
   "language": "python",
   "name": "python3"
  },
  "language_info": {
   "codemirror_mode": {
    "name": "ipython",
    "version": 3
   },
   "file_extension": ".py",
   "mimetype": "text/x-python",
   "name": "python",
   "nbconvert_exporter": "python",
   "pygments_lexer": "ipython3",
   "version": "3.13.5"
  }
 },
 "nbformat": 4,
 "nbformat_minor": 5
}
