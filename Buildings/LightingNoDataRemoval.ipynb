{
 "cells": [
  {
   "cell_type": "code",
   "execution_count": 3,
   "id": "012aaa98-080a-435b-9163-1c7023310a46",
   "metadata": {},
   "outputs": [],
   "source": [
    "# Import the required libraries\n",
    "import numpy as np\n",
    "import rasterio\n",
    "\n",
    "input_file = 'Data/Lighting/Zambia_set_lightscore_sy_2019.tif'\n",
    "output_file = 'Data/Lighting/Zambia_set_lightscore_sy_2019_modified.tif'"
   ]
  },
  {
   "cell_type": "code",
   "execution_count": 4,
   "id": "3a64275b-abef-4f84-801e-47a11af41301",
   "metadata": {},
   "outputs": [
    {
     "name": "stdout",
     "output_type": "stream",
     "text": [
      "[[[0. 0. 0. ... 0. 0. 0.]\n",
      "  [0. 0. 0. ... 0. 0. 0.]\n",
      "  [0. 0. 0. ... 0. 0. 0.]\n",
      "  ...\n",
      "  [0. 0. 0. ... 0. 0. 0.]\n",
      "  [0. 0. 0. ... 0. 0. 0.]\n",
      "  [0. 0. 0. ... 0. 0. 0.]]]\n"
     ]
    }
   ],
   "source": [
    "# Open the raster file as a numpy array\n",
    "with rasterio.open(input_file) as src:\n",
    "    raster = src.read()\n",
    "\n",
    "    # Replace all Nan values by 0\n",
    "    raster[raster == src.nodata] = 0\n",
    "\n",
    "    # Save the modified raster as a new file\n",
    "    with rasterio.open(output_file, \"w\", **src.profile) as dst:\n",
    "        dst.write(raster)\n",
    "\n",
    "print(raster)"
   ]
  },
  {
   "cell_type": "code",
   "execution_count": null,
   "id": "9c63e9ca-b362-4e36-a86e-04dda530e77e",
   "metadata": {},
   "outputs": [],
   "source": []
  }
 ],
 "metadata": {
  "kernelspec": {
   "display_name": "Python 3 (ipykernel)",
   "language": "python",
   "name": "python3"
  },
  "language_info": {
   "codemirror_mode": {
    "name": "ipython",
    "version": 3
   },
   "file_extension": ".py",
   "mimetype": "text/x-python",
   "name": "python",
   "nbconvert_exporter": "python",
   "pygments_lexer": "ipython3",
   "version": "3.12.4"
  }
 },
 "nbformat": 4,
 "nbformat_minor": 5
}
