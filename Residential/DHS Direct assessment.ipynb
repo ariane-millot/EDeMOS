{
 "cells": [
  {
   "cell_type": "markdown",
   "id": "a62d916e-a2dc-4ff9-8a7e-5dda34f27abf",
   "metadata": {},
   "source": [
    "# DHS Bottom-up estimate\n"
   ]
  },
  {
   "cell_type": "code",
   "execution_count": 7,
   "id": "c102bed1-6667-4002-8d95-541111a7da34",
   "metadata": {},
   "outputs": [
    {
     "name": "stdout",
     "output_type": "stream",
     "text": [
      "Available columns: Index(['Sample strata for sampling errors',\n",
      "       'Household sample weight (6 decimals)',\n",
      "       'Stratification used in sample design', 'Province',\n",
      "       'Number of household members', 'Type of place of residence',\n",
      "       'Electricity', 'Radio', 'Mobile telephone', 'Television',\n",
      "       'Refrigerator', 'Computer', 'Washing machine', 'Air conditioner',\n",
      "       'Generator', 'Microwave', 'Wealth index combined',\n",
      "       'Wealth index factor score combined (5 decimals)',\n",
      "       'Wealth index for urban/rural',\n",
      "       'Wealth index factor score for urban/rural (5 decimals)', 'Energy Use',\n",
      "       'Energy Use Elasticity'],\n",
      "      dtype='object')\n"
     ]
    }
   ],
   "source": [
    "import pandas as pd\n",
    "import os\n",
    "\n",
    "# Define the file path and name\n",
    "file_name = \"household_data.csv\" \n",
    "full_file_path = \"Data/DHSSurvey/\" + file_name\n",
    "\n",
    "# 2. Load the data into a pandas DataFrame\n",
    "df = pd.read_csv(full_file_path)\n",
    "\n",
    "# 3. Print column names to verify\n",
    "print(\"Available columns:\", df.columns)\n",
    "\n",
    "# 4. Define the column names for energy use and weight\n",
    "energy_use_col = 'Energy Use' \n",
    "weight_col = 'Household sample weight (6 decimals)' \n",
    "\n",
    "# 5. Check if the specified columns exist and handle potential errors\n",
    "if energy_use_col not in df.columns or weight_col not in df.columns:\n",
    "    print(\"Error: Required columns not found in the DataFrame.\")\n",
    "    print(f\"  Expected columns: '{energy_use_col}' and '{weight_col}'\")\n",
    "    print(f\"  Available columns: {df.columns.tolist()}\")\n",
    "    exit()\n",
    "\n"
   ]
  },
  {
   "cell_type": "code",
   "execution_count": 9,
   "id": "bddcb1c2-3035-408e-bb32-ccf25dcf249b",
   "metadata": {},
   "outputs": [
    {
     "name": "stdout",
     "output_type": "stream",
     "text": [
      "Total Energy Consumption GWh: 1,893\n",
      "Total Energy Consumption per HH (Weighted): 516\n",
      "Total Energy Consumption GWh: 2,579\n",
      "Total Energy Consumption per HH kWH (Weighted): 1,511\n"
     ]
    },
    {
     "name": "stderr",
     "output_type": "stream",
     "text": [
      "C:\\Users\\amillot\\AppData\\Local\\Temp\\ipykernel_27068\\1400363548.py:17: SettingWithCopyWarning: \n",
      "A value is trying to be set on a copy of a slice from a DataFrame.\n",
      "Try using .loc[row_indexer,col_indexer] = value instead\n",
      "\n",
      "See the caveats in the documentation: https://pandas.pydata.org/pandas-docs/stable/user_guide/indexing.html#returning-a-view-versus-a-copy\n",
      "  df_access['weighted_energy'] = df_access[energy_use_col] * df_access[weight_col] / total_weight\n"
     ]
    }
   ],
   "source": [
    "# 6. Calculate the total weighted energy consumption\n",
    "try:\n",
    "    total_weight = df[weight_col].sum()\n",
    "    # print(total_weight)\n",
    "    \n",
    "    df['weighted_energy'] = df[energy_use_col] * df[weight_col] / total_weight\n",
    "    total_energy_consumption = df['weighted_energy'].sum()\n",
    "    totalHH = 3667288\n",
    "    total_energy = total_energy_consumption * totalHH\n",
    "    print(f\"Total Energy Consumption GWh: {total_energy/10**6:,.0f}\")\n",
    "    print(f\"Total Energy Consumption per HH (Weighted): {total_energy_consumption:,.0f}\")\n",
    "    \n",
    "    col_access = 'Electricity'\n",
    "    df_access = df[df[col_access] ==1]\n",
    "    total_weight = df_access[weight_col].sum()\n",
    "    # print(df)\n",
    "    df_access['weighted_energy'] = df_access[energy_use_col] * df_access[weight_col] / total_weight\n",
    "    total_energy_consumption = df_access['weighted_energy'].sum()\n",
    "    totalHH = 1706488\n",
    "    total_energy = total_energy_consumption * totalHH\n",
    "    print(f\"Total Energy Consumption GWh: {total_energy/10**6:,.0f}\")\n",
    "    print(f\"Total Energy Consumption per HH kWH (Weighted): {total_energy_consumption:,.0f}\")\n",
    "\n",
    "except TypeError as e:\n",
    "    print(f\"Error during calculation: {e}\")\n",
    "    print(\"Please check if the energy use and weight columns have the correct data types.\")\n",
    "\n",
    "except KeyError as e:\n",
    "    print(f\"Error: column not found {e}\")"
   ]
  },
  {
   "cell_type": "code",
   "execution_count": null,
   "id": "81104e90-f701-4d99-86a6-750b61657cb4",
   "metadata": {},
   "outputs": [],
   "source": []
  }
 ],
 "metadata": {
  "kernelspec": {
   "display_name": "Python 3 (ipykernel)",
   "language": "python",
   "name": "python3"
  },
  "language_info": {
   "codemirror_mode": {
    "name": "ipython",
    "version": 3
   },
   "file_extension": ".py",
   "mimetype": "text/x-python",
   "name": "python",
   "nbconvert_exporter": "python",
   "pygments_lexer": "ipython3",
   "version": "3.12.4"
  }
 },
 "nbformat": 4,
 "nbformat_minor": 5
}
