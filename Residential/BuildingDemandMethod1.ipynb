{
 "cells": [
  {
   "cell_type": "markdown",
   "id": "1f07b1c9-6f45-4bcd-87b5-a70ed6ad20fe",
   "metadata": {},
   "source": [
    "# Building Demand Method 1"
   ]
  },
  {
   "attachments": {},
   "cell_type": "markdown",
   "id": "1b918d9f-e01d-4238-b360-cb31623a416d",
   "metadata": {},
   "source": [
    "Brief overview:\n",
    "\n",
    "The energy demand for each cell is assessed according to the following parameters:\n",
    "𝐵 Number of buildings\n",
    "𝑆𝑟𝑒𝑠 Share of res buildings\n",
    "𝑁 Nb of HH per res buildings\n",
    "𝑎 Electrified status (probability)\n",
    "𝐸_𝐻𝐻  Energy consumption per HH\n",
    "𝑟 Adjustment with RWI\n",
    "\n",
    "For each cell c, we have 𝐷_𝑐=𝐵_𝑐∗𝑆𝑟𝑒𝑠∗𝑁_𝑐  ∗𝑎_𝑐  ∗𝐸_𝐻𝐻  ∗𝑟_𝑐 "
   ]
  },
  {
   "cell_type": "markdown",
   "id": "8aab8d2f-f9de-4c1c-be79-52401bbd1519",
   "metadata": {
    "jp-MarkdownHeadingCollapsed": true
   },
   "source": [
    "### Import necessary modules"
   ]
  },
  {
   "cell_type": "code",
   "execution_count": 1,
   "id": "5444dd77-265a-4e88-a814-100c3710d66f",
   "metadata": {},
   "outputs": [
    {
     "name": "stdout",
     "output_type": "stream",
     "text": [
      "Move to C:\\Users\\amillot\\PycharmProjects\\DemandMappingZambia\n"
     ]
    }
   ],
   "source": [
    "# Check if we are running the notebook directly, if so move workspace to parent dir\n",
    "import sys\n",
    "import os\n",
    "currentdir = os.path.abspath(os.getcwd())\n",
    "if os.path.basename(currentdir) != 'DemandMappingZambia':  \n",
    "  sys.path.insert(0, os.path.dirname(currentdir))\n",
    "  os.chdir('..')\n",
    "  print(f'Move to {os.getcwd()}')"
   ]
  },
  {
   "cell_type": "code",
   "execution_count": 2,
   "id": "a61b0c1d-0c29-48e5-9101-2d4b3aa385cf",
   "metadata": {
    "code_folding": [
     0
    ]
   },
   "outputs": [],
   "source": [
    "### Activate geospatial_env first\n",
    "\n",
    "# Numeric\n",
    "import numpy as np\n",
    "import pandas as pd\n",
    "import math\n",
    "\n",
    "# System\n",
    "import os\n",
    "import shutil\n",
    "from IPython.display import display, Markdown, HTML, FileLink, FileLinks\n",
    "\n",
    "# Spatial\n",
    "import geopandas as gpd\n",
    "import json\n",
    "import pyproj\n",
    "from shapely.geometry import Point, Polygon, MultiPoint\n",
    "from shapely.wkt import dumps, loads\n",
    "from shapely.ops import nearest_points\n",
    "from pyproj import CRS\n",
    "import ogr, gdal, osr\n",
    "#import fiona\n",
    "\n",
    "\n",
    "# Mapping / Plotting\n",
    "from functools import reduce\n",
    "#import datapane as dp \n",
    "#!datapane login --token=\"9bde41bfbc4ad14119e32086f9f06d2e5db1d5b8\"\n",
    "import folium\n",
    "from folium.features import GeoJsonTooltip\n",
    "from folium.plugins import BeautifyIcon\n",
    "from folium.plugins import HeatMap\n",
    "import branca.colormap as cm\n",
    "import matplotlib.pyplot as plt\n",
    "from matplotlib.ticker import MaxNLocator\n",
    "%matplotlib inline\n",
    "\n",
    "%matplotlib inline"
   ]
  },
  {
   "cell_type": "code",
   "execution_count": 3,
   "id": "7ff55a57-e9f1-4597-9e92-b5f0087b40c2",
   "metadata": {
    "code_folding": [
     0
    ]
   },
   "outputs": [],
   "source": [
    "#import geopandas as gpd   # Note that you require geopandas version >= 0.7 that incluse clip see here for installation (https://gis.stackexchange.com/questions/360127/geopandas-0-6-1-installed-instead-of-0-7-0-in-conda-windows-10#)\n",
    "import os\n",
    "import fiona\n",
    "import ipywidgets as widgets\n",
    "from IPython.display import display\n",
    "from rasterstats import zonal_stats\n",
    "import rasterio\n",
    "from geojson import Feature, Point, FeatureCollection\n",
    "import rasterio.fill\n",
    "from shapely.geometry import shape, mapping\n",
    "import json\n",
    "#from earthpy import clip    clip has been deprecated to geopandas\n",
    "#import earthpy.spatial as es\n",
    "import numpy as np\n",
    "import tkinter as tk\n",
    "from tkinter import filedialog, messagebox\n",
    "import gdal\n",
    "import datetime\n",
    "import warnings\n",
    "import pandas as pd\n",
    "import scipy.spatial\n",
    "warnings.filterwarnings('ignore')\n",
    "\n",
    "#import contextily as ctx\n",
    "import h3 as h3\n",
    "from shapely.ops import unary_union\n",
    "from shapely.geometry.polygon import Polygon\n",
    "\n",
    "root = tk.Tk()\n",
    "root.withdraw()\n",
    "root.attributes(\"-topmost\", True)\n",
    "\n",
    "pd.options.display.float_format = '{:,.4f}'.format"
   ]
  },
  {
   "cell_type": "code",
   "execution_count": 4,
   "id": "52ae53ed-deb3-49ce-9d03-200d1017c7ec",
   "metadata": {},
   "outputs": [],
   "source": [
    "from utils import processing_raster, finalizing_rasters"
   ]
  },
  {
   "cell_type": "markdown",
   "id": "70bcd211-ba60-4c7a-8044-7b4843836360",
   "metadata": {},
   "source": [
    "### Define directories and dataset names"
   ]
  },
  {
   "cell_type": "code",
   "execution_count": 5,
   "id": "f125b4ff-5fd3-473a-9edf-728c13a9dde8",
   "metadata": {
    "code_folding": []
   },
   "outputs": [],
   "source": [
    "### Define directories and dataset names\n",
    "\n",
    "ROOT_DIR = os.path.abspath(os.curdir)\n",
    "in_path = ROOT_DIR\n",
    "out_path = ROOT_DIR + \"/Outputs\"\n",
    "\n",
    "## RWI layer\n",
    "rwi_path = in_path + \"/Residential/Data/WealthIndex\"\n",
    "rwi_name = 'zmb_relative_wealth_index.csv'"
   ]
  },
  {
   "cell_type": "code",
   "execution_count": 6,
   "id": "be9f0564-e9dd-4187-9cec-92e937386cc0",
   "metadata": {},
   "outputs": [],
   "source": [
    "## Coordinate and projection systems\n",
    "crs_WGS84 = CRS(\"EPSG:4326\")    # Originan WGS84 coordinate system\n",
    "crs_proj = CRS(\"EPSG:32736\")    # Projection system for the selected country -- see http://epsg.io/ for more info"
   ]
  },
  {
   "cell_type": "markdown",
   "id": "04780ace-4a73-4f7d-809e-1a7ae3bea2e1",
   "metadata": {},
   "source": [
    "### Import layers to be used"
   ]
  },
  {
   "cell_type": "code",
   "execution_count": 7,
   "id": "d0d7bf98-ea6b-4f4a-8ae3-c69062fdca8a",
   "metadata": {
    "code_folding": []
   },
   "outputs": [],
   "source": [
    "## Import Relative Wealth Index | convert to geodf | export as gpkg\n",
    "rwi = pd.read_csv(rwi_path + \"/\" + rwi_name)\n",
    "rwi_gdf = gpd.GeoDataFrame(rwi, geometry=gpd.points_from_xy(rwi.longitude, rwi.latitude), crs={'init': 'epsg:4326'})\n",
    "rwi_gdf.to_file(os.path.join(rwi_path,\"{c}\".format(c=rwi_name.split(\".\")[0])), driver=\"GPKG\")"
   ]
  },
  {
   "cell_type": "code",
   "execution_count": 8,
   "id": "bb1a58ba-bd7a-4480-9a2a-d1bbd9f33fb6",
   "metadata": {},
   "outputs": [],
   "source": [
    "hexagons = gpd.read_file(out_path + \"\\\\\" + \"h3_grid_at_hex_7.shp\")"
   ]
  },
  {
   "cell_type": "code",
   "execution_count": 9,
   "id": "565f6f88-92e8-4fd4-af86-3179074ad963",
   "metadata": {},
   "outputs": [],
   "source": [
    "grid = hexagons"
   ]
  },
  {
   "cell_type": "markdown",
   "id": "1c628b49-d0f7-4b64-a623-91b775fd2782",
   "metadata": {},
   "source": [
    "## Extract raster values to hexagons"
   ]
  },
  {
   "cell_type": "markdown",
   "id": "b84a594e-e751-4c43-8554-70f2bdcd7239",
   "metadata": {},
   "source": [
    "Extract count of buildings per hex"
   ]
  },
  {
   "cell_type": "code",
   "execution_count": 10,
   "id": "c1e70286-4b78-4e24-a37d-fbd19aa9dd94",
   "metadata": {},
   "outputs": [
    {
     "name": "stdout",
     "output_type": "stream",
     "text": [
      "2023-08-22 09:53:48.463508\n"
     ]
    }
   ],
   "source": [
    "pathWorldPopBuiCount = \"Residential/Data/WorldPop/Copperbelt_buildings_v2_0_count.tif\"\n",
    "grid = processing_raster(\"buildings\", \"count\", grid, filepath=pathWorldPopBuiCount)      #Copperbelt_buildings_v2_0_count from https://apps.worldpop.org/peanutButter/"
   ]
  },
  {
   "cell_type": "markdown",
   "id": "e85dd683-4fb3-4b03-bd54-26f56bab5c22",
   "metadata": {},
   "source": [
    "Extract lighing data"
   ]
  },
  {
   "cell_type": "code",
   "execution_count": 11,
   "id": "991142e6-9a52-4f44-a444-6e24cb4331cb",
   "metadata": {},
   "outputs": [
    {
     "name": "stdout",
     "output_type": "stream",
     "text": [
      "2023-08-22 09:54:14.585666\n"
     ]
    }
   ],
   "source": [
    "## set_lightscore_sy_xxxx.tif: Predicted likelihood that a settlement is electrified (0 to 1)\n",
    "## http://www-personal.umich.edu/~brianmin/HREA/data.html\n",
    "pathHREA = \"Residential/Data/Copperbelt_set_lightscore_sy_2019.tif\"\n",
    "grid = processing_raster(\"HREA\", \"mean\", grid, filepath=pathHREA)\n",
    "columnProbElec= \"HREA\""
   ]
  },
  {
   "cell_type": "markdown",
   "id": "eb833412-bb64-48e3-833b-21a16a6b80b1",
   "metadata": {},
   "source": [
    "Extract RWI"
   ]
  },
  {
   "cell_type": "code",
   "execution_count": null,
   "id": "9b92d9fb-478f-45d4-bfb0-2369e87532ac",
   "metadata": {},
   "outputs": [],
   "source": [
    "# Relative Wealth Index (RWI) -- extracting the mean value per building\n",
    "# Link: https://gee-community-catalog.org/projects/rwi/\n",
    "pathRWI = \"Residential/Data/WealthIndex/rwi_map.tif\"\n",
    "grid = processing_raster(\"rwi\", \"mean\", grid, filepath=pathRWI)\n",
    "\n",
    "# ## Run the extraction\n",
    "# #grid.drop(['rwi'], axis=1, inplace=True) ##uncomment if you want to rerun\n",
    "# columnNameRWI = \"rwi\"\n",
    "# grid = spatialjoinvectors(\"RWI\", columnNameRWI, admin_gdf, crs_WGS84, grid, 'mean')\n",
    "# averageRwi = grid[columnNameRWI].mean()\n",
    "# print(averageRwi)\n",
    "# grid[columnNameRWI] = grid[columnNameRWI].fillna(averageRwi)"
   ]
  },
  {
   "cell_type": "markdown",
   "id": "182fa372-5ed9-4edc-ad23-a3712bcb8f4e",
   "metadata": {},
   "source": [
    "Extract urbanisation level"
   ]
  },
  {
   "cell_type": "code",
   "execution_count": null,
   "id": "48392265-0a8c-4b9a-afa7-696f2e6ff787",
   "metadata": {},
   "outputs": [],
   "source": [
    "# GHS Settlement Model grid (R2023) https://ghsl.jrc.ec.europa.eu/download.php?ds=smod\n",
    "pathGHSMod =\"Residential/Data/GHSL/Copperbelt_GHS_SMOD_E2020_GLOBE_R2023A_R11C21.tif\"\n",
    "grid = processing_raster(\"SMOD\", \"median\", grid, filepath=pathGHSMod)  "
   ]
  },
  {
   "cell_type": "markdown",
   "id": "a0cbec06-cf05-491d-b3ca-298b0646d9d4",
   "metadata": {},
   "source": [
    "##### Once done with rasters run this cell"
   ]
  },
  {
   "cell_type": "code",
   "execution_count": null,
   "id": "cb0e9e2b-6b1e-4795-8fa5-6aabe9cb6652",
   "metadata": {},
   "outputs": [],
   "source": [
    "grid = finalizing_rasters(out_path, grid, crs_proj)"
   ]
  },
  {
   "cell_type": "code",
   "execution_count": null,
   "id": "1a5398d5-6311-4961-9a20-c0d9680fc58f",
   "metadata": {},
   "outputs": [],
   "source": [
    "grid.rename({'HREAmean': 'HREA'}, axis=1, inplace=True)\n",
    "grid.rename({'rwimean': 'rwi'}, axis=1, inplace=True)\n",
    "grid.rename({'SMODmean': 'SMOD'}, axis=1, inplace=True)"
   ]
  },
  {
   "cell_type": "markdown",
   "id": "29401a31-0b46-4b6a-9281-45eda2c31232",
   "metadata": {},
   "source": [
    "Add values in RWi column when there is none"
   ]
  },
  {
   "cell_type": "code",
   "execution_count": null,
   "id": "59733b9e-bb8e-4f20-977e-95510c4ba670",
   "metadata": {},
   "outputs": [],
   "source": [
    "grid[\"rwi\"].fillna(grid[\"rwi\"].mean(numeric_only=True).round(1), inplace=True)"
   ]
  },
  {
   "cell_type": "code",
   "execution_count": null,
   "id": "73625768-f34e-4172-a966-ced127705a52",
   "metadata": {},
   "outputs": [],
   "source": [
    "grid.head(3)"
   ]
  },
  {
   "cell_type": "markdown",
   "id": "f76c68d7-353f-4535-bfe7-123890e9f092",
   "metadata": {},
   "source": [
    "### Residential demand"
   ]
  },
  {
   "cell_type": "code",
   "execution_count": null,
   "id": "c8b3dc69-f5dd-4670-a7ec-51dc1cbf7cbb",
   "metadata": {},
   "outputs": [],
   "source": [
    "# Retrieve values from the MTF survey\n",
    "%run Residential/energy_demand_res.ipynb\n",
    "energyConsHH = energycons_res_mtf[\"annual\"] # dictionnary for each region one value\n",
    "energyConsHH"
   ]
  },
  {
   "cell_type": "code",
   "execution_count": null,
   "id": "982290c1-17a7-432c-b8cb-f05b4bcad96c",
   "metadata": {},
   "outputs": [],
   "source": [
    "# electrified or non-electrified status\n",
    "grid[\"Status_electrified\"] = grid.apply(lambda row: (\"elec\" if ((row[columnProbElec] > 0))\n",
    "                                             else \"nonelec\"), axis=1)\n",
    "grid[\"Status_electrified\"].value_counts()"
   ]
  },
  {
   "cell_type": "code",
   "execution_count": null,
   "id": "9fac3b99-fa47-4c20-bc89-b0b0f7bdd1ac",
   "metadata": {},
   "outputs": [],
   "source": [
    "# for each hexagon, determine if it's rural or urban --> to change!\n",
    "grid[\"Location\"] = grid.apply(lambda row: (\"rural\" if ((row['buildingscount'] < 80)) # number chosen to get 1 for nb of HH per rural building\n",
    "                                             else \"urban\"), axis=1)"
   ]
  },
  {
   "cell_type": "code",
   "execution_count": null,
   "id": "7e9b6c3f-6cf7-4465-a850-b2a9f85cb5d9",
   "metadata": {},
   "outputs": [],
   "source": [
    "# total number of buildings\n",
    "totalBuildings = grid[\"buildingscount\"].sum()\n",
    "urbanBuildings = np.where((grid['Location'] == \"urban\"),grid[['buildingscount']].sum(axis=1), 0).sum()\n",
    "ruralBuildings = np.where((grid['Location'] == \"rural\"),grid[['buildingscount']].sum(axis=1), 0).sum()\n",
    "print(\"total Buildings:\",f\"{totalBuildings:,.0f}\")\n",
    "print(\"urban Buildings:\",f\"{urbanBuildings:,.0f}\")\n",
    "print(\"rural Buildings:\",f\"{ruralBuildings:,.0f}\")\n",
    "shareRuralBuild = ruralBuildings/totalBuildings\n",
    "shareUrbanBuild = urbanBuildings/totalBuildings\n",
    "print(\"share Build urban:\", f\"{shareUrbanBuild:.0%}\",\"rural:\",f\"{shareRuralBuild:.0%}\")\n",
    "resHHurban = 449077  # assessment for 2019 from the Census data 2022\n",
    "resHHrural = 85356 # assessment for 2019 from the Census data 2022\n",
    "shareResBuildings = {\"urban\": 0.80, \"rural\": 0.99} # --> to change!\n",
    "# shareResBuildings = {\"urban\": 1, \"rural\": 1} # --> to change!\n",
    "# nbOfHHperBuilding =  {\"urban\": 2, \"rural\": 1} # --> to change!\n",
    "nbOfHHperBuilding =  {\"urban\": 1, \"rural\": 1} # --> to change!\n",
    "nbOfHHperBuilding[\"urban\"]= resHHurban/(urbanBuildings*shareResBuildings[\"urban\"])\n",
    "nbOfHHperBuilding[\"rural\"]= resHHrural/(ruralBuildings*shareResBuildings[\"rural\"])\n",
    "print(\"nb Of HH per Building urban\", f\"{nbOfHHperBuilding['urban']:,.1f}\",\"rural\", f\"{nbOfHHperBuilding['rural']:,.1f}\")\n",
    "totalResHHurban = nbOfHHperBuilding[\"urban\"]*urbanBuildings*shareResBuildings[\"urban\"]\n",
    "totalResHHrural = nbOfHHperBuilding[\"rural\"]*ruralBuildings*shareResBuildings[\"rural\"]\n",
    "totalResHH = totalResHHurban + totalResHHrural\n",
    "print(\"total ResHH urban\", f\"{totalResHHurban:,.0f}\", \"rural\", f\"{totalResHHrural:,.0f}\")"
   ]
  },
  {
   "cell_type": "code",
   "execution_count": null,
   "id": "4bb0075e-0b83-4435-a398-4ca7ef3f11a2",
   "metadata": {},
   "outputs": [],
   "source": [
    "# for each hexagon, assessment of the number of HH\n",
    "access_elec = {\"elec\": 0, \"nonelec\": 1}\n",
    "# sizeHH = {\"urban\": 4.7, \"rural\": 5.2} #https://population.un.org/Household/index.html#/countries/ https://dhsprogram.com/publications/publication-fr361-dhs-final-reports.cfm\n",
    "#print(grid[\"Location\"].map(shareResBuildings))\n",
    "#grid[\"ResHHNbWithAccess\"]=grid[\"buildingscount\"]*grid[\"Location\"].map(shareResBuildings)*grid[\"Status_electrified\"].map(access_elec)\n",
    "\n",
    "grid[\"ResHHNbWithAccessUrb\"] = np.where((grid['Status_electrified'] == \"elec\") & (grid['Location'] == \"urban\"),\n",
    "                                                                            grid[['buildingscount']].sum(axis=1), 0)*shareResBuildings[\"urban\"]*nbOfHHperBuilding[\"urban\"]* grid[columnProbElec]\n",
    "                                        \n",
    "grid[\"ResHHNbWithAccessRur\"] = np.where((grid['Status_electrified'] == \"elec\") & (grid['Location'] == \"rural\"),\n",
    "                                                                            grid[['buildingscount']].sum(axis=1), 0)*shareResBuildings[\"rural\"]*nbOfHHperBuilding[\"rural\"]* grid[columnProbElec]\n",
    "\n",
    "grid[\"ResHHNbWithAccess\"] = grid[[\"ResHHNbWithAccessUrb\", \"ResHHNbWithAccessRur\"]].sum(axis=1)\n",
    "\n",
    "totalResHHWithAccessUrb = grid[\"ResHHNbWithAccessUrb\"].sum()\n",
    "totalResHHWithAccessRur = grid[\"ResHHNbWithAccessRur\"].sum()\n",
    "totalResHHWithAccess = grid[\"ResHHNbWithAccess\"].sum()\n",
    "print(\"totalResHHWithAccessUrb:\",f\"{totalResHHWithAccessUrb:,.0f}\")\n",
    "print(\"totalResHHWithAccessRur:\",f\"{totalResHHWithAccessRur:,.0f}\")\n",
    "print(\"totalResHHWithAccess:\",f\"{totalResHHWithAccess:,.0f}\")\n",
    "# print(grid[\"ResHHNbWithAccessUrb\"].sum() , grid[\"ResHHNbWithAccessRur\"].sum(), grid[\"ResHHNbWithAccess\"].sum())\n",
    "grid.head(2)"
   ]
  },
  {
   "cell_type": "code",
   "execution_count": null,
   "id": "6aee8acf-e843-43d4-a9d4-aafd2620eb58",
   "metadata": {},
   "outputs": [],
   "source": [
    "# access rate\n",
    "accessRate = totalResHHWithAccess/totalResHH\n",
    "print(accessRate)"
   ]
  },
  {
   "cell_type": "code",
   "execution_count": null,
   "id": "480aa30f-5e7e-4f74-9b71-b1cde910420c",
   "metadata": {},
   "outputs": [],
   "source": [
    "adm = grid[\"ADM1_NAME\"].unique()\n",
    "print (adm)"
   ]
  },
  {
   "cell_type": "code",
   "execution_count": null,
   "id": "1482ef0e-ddaf-473c-a2aa-7f3a9da7a91b",
   "metadata": {},
   "outputs": [],
   "source": [
    "# Energy Consumption assessment per cell\n",
    "averageRwi = grid['rwi'].mean()\n",
    "print(averageRwi)\n",
    "grid[\"ResEnergyCorrPerHH\"] = abs(grid['rwi']/averageRwi)*grid[\"ADM1_NAME\"].map(energyConsHH)\n",
    "# grid[\"ResidentialEnergy\"] = grid[\"ResHHNbWithAccess\"] * grid[\"ResidentialEnergyCorrPerHH\"] * (grid[\"Status_electrified\"]!=\"nonelec\")\n",
    "grid[\"ResEnergy\"] = grid[\"ResHHNbWithAccess\"] * grid[\"ResEnergyCorrPerHH\"] * (grid[columnProbElec])\n",
    "grid.to_csv(\"data.csv\")\n",
    "grid.to_file(out_path + \"\\\\\" + 'res_energy_map.shp', index=False)\n",
    "grid.head(3)"
   ]
  },
  {
   "cell_type": "code",
   "execution_count": null,
   "id": "1072fa01-751a-43cb-bda1-dd21470a45a6",
   "metadata": {},
   "outputs": [],
   "source": []
  }
 ],
 "metadata": {
  "kernelspec": {
   "display_name": "Python 3 (ipykernel)",
   "language": "python",
   "name": "python3"
  },
  "language_info": {
   "codemirror_mode": {
    "name": "ipython",
    "version": 3
   },
   "file_extension": ".py",
   "mimetype": "text/x-python",
   "name": "python",
   "nbconvert_exporter": "python",
   "pygments_lexer": "ipython3",
   "version": "3.8.12"
  }
 },
 "nbformat": 4,
 "nbformat_minor": 5
}
