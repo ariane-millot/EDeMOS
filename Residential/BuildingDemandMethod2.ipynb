{
 "cells": [
  {
   "cell_type": "markdown",
   "metadata": {},
   "source": [
    "# Building Residential demand\n",
    "\n",
    "**Original code:** [Alexandros Korkovelos](https://github.com/akorkovelos) <br />\n",
    "**Support:** [Ariane Millot](https://github.com/ariane-millot), [Martin J. Stringer]() & [Vignesh Shridharan](https://github.com/vignesh1987) <br />\n",
    "**Funding:** Imperial College <br />\n",
    "\n",
    "---------------------------\n"
   ]
  },
  {
   "cell_type": "markdown",
   "metadata": {},
   "source": [
    "#### Brief overview\n",
    "\n",
    "This notebook performs three main analytical processes:\n",
    "\n",
    "- **Part 1**: Extract population data for the area of interest\n",
    "- **Part 2**: Get buildings from Google Building Footprint data and classify into groups per size and confidence level\n",
    "- **Part 3**: Extract all \"good candidates\" of residential buildings\n",
    "- **Part 4**: Assign demand based on formulation \n",
    "\n",
    "A slightly more detailed description of the processing bits is presented before each part below. <br />\n"
   ]
  },
  {
   "cell_type": "markdown",
   "metadata": {
    "jp-MarkdownHeadingCollapsed": true
   },
   "source": [
    "### Import necessary modules"
   ]
  },
  {
   "cell_type": "code",
   "execution_count": 1,
   "metadata": {
    "code_folding": [
     0
    ]
   },
   "outputs": [],
   "source": [
    "### Activate geospatial_env first\n",
    "\n",
    "# Numeric\n",
    "import numpy as np\n",
    "import pandas as pd\n",
    "import math\n",
    "\n",
    "# System\n",
    "import os\n",
    "import shutil\n",
    "from IPython.display import display, Markdown, HTML, FileLink, FileLinks\n",
    "\n",
    "# Spatial\n",
    "import geopandas as gpd\n",
    "import json\n",
    "import pyproj\n",
    "from shapely.geometry import Point, Polygon, MultiPoint\n",
    "from shapely.wkt import dumps, loads\n",
    "from shapely.ops import nearest_points\n",
    "from pyproj import CRS\n",
    "import ogr, gdal, osr\n",
    "#import fiona\n",
    "\n",
    "\n",
    "# Mapping / Plotting\n",
    "from functools import reduce\n",
    "#import datapane as dp \n",
    "#!datapane login --token=\"9bde41bfbc4ad14119e32086f9f06d2e5db1d5b8\"\n",
    "import folium\n",
    "from folium.features import GeoJsonTooltip\n",
    "from folium.plugins import BeautifyIcon\n",
    "from folium.plugins import HeatMap\n",
    "import branca.colormap as cm\n",
    "import matplotlib.pyplot as plt\n",
    "from matplotlib.ticker import MaxNLocator\n",
    "%matplotlib inline\n",
    "\n",
    "%matplotlib inline"
   ]
  },
  {
   "cell_type": "code",
   "execution_count": 2,
   "metadata": {
    "code_folding": [
     0
    ]
   },
   "outputs": [
    {
     "data": {
      "text/plain": [
       "''"
      ]
     },
     "execution_count": 2,
     "metadata": {},
     "output_type": "execute_result"
    }
   ],
   "source": [
    "#import geopandas as gpd   # Note that you require geopandas version >= 0.7 that incluse clip see here for installation (https://gis.stackexchange.com/questions/360127/geopandas-0-6-1-installed-instead-of-0-7-0-in-conda-windows-10#)\n",
    "import os\n",
    "import fiona\n",
    "import ipywidgets as widgets\n",
    "from IPython.display import display\n",
    "from rasterstats import zonal_stats\n",
    "import rasterio\n",
    "from geojson import Feature, Point, FeatureCollection\n",
    "import rasterio.fill\n",
    "from shapely.geometry import shape, mapping\n",
    "import json\n",
    "#from earthpy import clip    clip has been deprecated to geopandas\n",
    "#import earthpy.spatial as es\n",
    "import numpy as np\n",
    "import tkinter as tk\n",
    "from tkinter import filedialog, messagebox\n",
    "import gdal\n",
    "import datetime\n",
    "import warnings\n",
    "import pandas as pd\n",
    "import scipy.spatial\n",
    "warnings.filterwarnings('ignore')\n",
    "\n",
    "#import contextily as ctx\n",
    "import h3 as h3\n",
    "from shapely.ops import unary_union\n",
    "from shapely.geometry.polygon import Polygon\n",
    "import seaborn as sns\n",
    "\n",
    "root = tk.Tk()\n",
    "root.withdraw()\n",
    "root.attributes(\"-topmost\", True)"
   ]
  },
  {
   "cell_type": "code",
   "execution_count": 3,
   "metadata": {},
   "outputs": [],
   "source": [
    "import sys\n",
    "module_path = os.path.abspath(os.path.join(os.pardir))\n",
    "if module_path not in sys.path:\n",
    "    sys.path.append(module_path)\n",
    "from utils import processing_raster, finalizing_rasters"
   ]
  },
  {
   "cell_type": "markdown",
   "metadata": {},
   "source": [
    "### Define directories and dataset names"
   ]
  },
  {
   "cell_type": "code",
   "execution_count": 4,
   "metadata": {},
   "outputs": [],
   "source": [
    "ROOT_DIR = os.path.abspath(os.pardir)\n",
    "in_path = ROOT_DIR + \"\\\\\" + 'Sample_Input'\n",
    "out_path = 'Outputs'\n",
    "\n",
    "## admininstrative boundary\n",
    "admin_path = ROOT_DIR +'/admin'\n",
    "admin_name = \"Copperbelt.gpkg\"   "
   ]
  },
  {
   "cell_type": "markdown",
   "metadata": {},
   "source": [
    "### Define coordinate and projection system"
   ]
  },
  {
   "cell_type": "code",
   "execution_count": 5,
   "metadata": {},
   "outputs": [],
   "source": [
    "## Coordinate and projection systems\n",
    "crs_WGS84 = CRS(\"EPSG:4326\")    # Originan WGS84 coordinate system\n",
    "crs_proj = CRS(\"EPSG:32736\")    # Projection system for the selected country -- see http://epsg.io/ for more info"
   ]
  },
  {
   "cell_type": "markdown",
   "metadata": {},
   "source": [
    "### Add functions"
   ]
  },
  {
   "cell_type": "markdown",
   "metadata": {},
   "source": [
    "### Import layer delineating the Area Of Interest (AoI)"
   ]
  },
  {
   "cell_type": "code",
   "execution_count": 6,
   "metadata": {},
   "outputs": [
    {
     "data": {
      "text/plain": [
       "Index(['OBJECTID', 'WHO_REGION', 'ISO_2_CODE', 'ADM1_NAME', 'ADM0_NAME',\n",
       "       'ADM1_CODE', 'ADM0_CODE', 'STARTDATE', 'ENDDATE', 'GUID', 'ISO_3_CODE',\n",
       "       'WHO_CODE', 'ADM1_ALTNA', 'ADM1_ALTCO', 'LVL', 'WHO_STATUS', 'UN_CODE',\n",
       "       'UNICEF_REG', 'CENTER_LON', 'CENTER_LAT', 'ADM1_VIZ_N', 'ADM0_GUID',\n",
       "       'NOTES', 'ADM0_VIZ_N', 'ADM1_PCODE', 'ADM0_PCODE', 'ADM1_SHAPE',\n",
       "       'ADM0_SHAPE', 'WHO_SUBREG', 'SHAPE_Leng', 'SHAPE_Area', 'GlobalID',\n",
       "       'LOT', 'Sites', 'geometry'],\n",
       "      dtype='object')"
      ]
     },
     "execution_count": 6,
     "metadata": {},
     "output_type": "execute_result"
    }
   ],
   "source": [
    "## admininstrative boundary\n",
    "admin_gdf = gpd.read_file(admin_path + \"\\\\\" + admin_name)\n",
    "admin_gdf['geometry'][0]\n",
    "admin_gdf.columns"
   ]
  },
  {
   "cell_type": "markdown",
   "metadata": {},
   "source": [
    "### Extraction of zonal stats"
   ]
  },
  {
   "cell_type": "code",
   "execution_count": 7,
   "metadata": {},
   "outputs": [
    {
     "name": "stdout",
     "output_type": "stream",
     "text": [
      "2023-07-17 16:12:58.854120\n"
     ]
    }
   ],
   "source": [
    "pathWorldPopBuildingCount = \"Data/Building_count_worldpop/Copperbelt_buildings_v2_0_count.tif\"\n",
    "admin_gdf1 = processing_raster(\"buildings\", \"sum\", admin_gdf, filepath=pathWorldPopBuildingCount)      #Copperbelt_buildings_v2_0_count from https://apps.worldpop.org/peanutButter/"
   ]
  },
  {
   "cell_type": "code",
   "execution_count": 8,
   "metadata": {},
   "outputs": [
    {
     "name": "stdout",
     "output_type": "stream",
     "text": [
      "2023-07-17 16:12:59.306435\n"
     ]
    }
   ],
   "source": [
    "pathWorldPopPopCount = \"Data/WorldPop/CopperBelt_WorldPop_Pop_gridded.tif\"\n",
    "admin_gdf2 = processing_raster(\"WorldPop\", \"sum\", admin_gdf1, filepath=pathWorldPopPopCount)           #Using Zambia 100m population layer; default values at WorldPopPeanutButter"
   ]
  },
  {
   "cell_type": "code",
   "execution_count": 9,
   "metadata": {},
   "outputs": [
    {
     "name": "stdout",
     "output_type": "stream",
     "text": [
      "2023-07-17 16:13:06.404657\n"
     ]
    }
   ],
   "source": [
    "pathHRSL =  \"Data/Meta/zmb_general_2020.tif\"\n",
    "admin_gdf3 = processing_raster(\"HRSL\", \"sum\", admin_gdf2, filepath=pathHRSL)     #HRSL from Meta (2020) @ https://data.humdata.org/dataset/highresolutionpopulationdensitymaps-zmb"
   ]
  },
  {
   "cell_type": "markdown",
   "metadata": {},
   "source": [
    "##### Once done with rasters run this cell"
   ]
  },
  {
   "cell_type": "code",
   "execution_count": 10,
   "metadata": {},
   "outputs": [
    {
     "name": "stdout",
     "output_type": "stream",
     "text": [
      "2023-07-17 16:13:06.569958\n"
     ]
    }
   ],
   "source": [
    "admin_gdf4 = finalizing_rasters(out_path, admin_gdf3, crs_proj)"
   ]
  },
  {
   "cell_type": "markdown",
   "metadata": {},
   "source": [
    "### Estimate number of residential buildings"
   ]
  },
  {
   "cell_type": "code",
   "execution_count": 1,
   "metadata": {},
   "outputs": [
    {
     "ename": "NameError",
     "evalue": "name 'np' is not defined",
     "output_type": "error",
     "traceback": [
      "\u001b[1;31m---------------------------------------------------------------------------\u001b[0m",
      "\u001b[1;31mNameError\u001b[0m                                 Traceback (most recent call last)",
      "Cell \u001b[1;32mIn[1], line 5\u001b[0m\n\u001b[0;32m      2\u001b[0m pplperHH_urban \u001b[38;5;241m=\u001b[39m \u001b[38;5;241m4.7\u001b[39m  \n\u001b[0;32m      3\u001b[0m pplperHH_rural \u001b[38;5;241m=\u001b[39m \u001b[38;5;241m5.1\u001b[39m\n\u001b[1;32m----> 5\u001b[0m resbld \u001b[38;5;241m=\u001b[39m \u001b[38;5;28mround\u001b[39m(\u001b[43mnp\u001b[49m\u001b[38;5;241m.\u001b[39mmean(\u001b[38;5;28mlist\u001b[39m([admin_gdf4\u001b[38;5;241m.\u001b[39mHRSLsum\u001b[38;5;241m.\u001b[39msum(), admin_gdf4\u001b[38;5;241m.\u001b[39mWorldPopsum\u001b[38;5;241m.\u001b[39msum()]))\u001b[38;5;241m/\u001b[39mpplperHH)\n\u001b[0;32m      6\u001b[0m resbld \u001b[38;5;241m=\u001b[39m \u001b[38;5;241m534934\u001b[39m \u001b[38;5;66;03m# assessment from Zamstats Census data, value for CopperBelt region\u001b[39;00m\n\u001b[0;32m      9\u001b[0m \u001b[38;5;28mprint\u001b[39m (\u001b[38;5;124m\"\u001b[39m\u001b[38;5;124mThe data extraction indicated that in \u001b[39m\u001b[38;5;132;01m{}\u001b[39;00m\u001b[38;5;124m there are \u001b[39m\u001b[38;5;132;01m{:.0f}\u001b[39;00m\u001b[38;5;124m buildings & the population is: \u001b[39m\u001b[38;5;130;01m\\n\u001b[39;00m\u001b[38;5;130;01m\\\u001b[39;00m\n\u001b[0;32m     10\u001b[0m \u001b[38;5;124mHRSL: \u001b[39m\u001b[38;5;132;01m{:.0f}\u001b[39;00m\u001b[38;5;124m \u001b[39m\u001b[38;5;130;01m\\n\u001b[39;00m\u001b[38;5;124mWorldPop: \u001b[39m\u001b[38;5;132;01m{:.0f}\u001b[39;00m\u001b[38;5;124m \u001b[39m\u001b[38;5;130;01m\\n\u001b[39;00m\u001b[38;5;124mThe estimated number of residential buildings is \u001b[39m\u001b[38;5;132;01m{}\u001b[39;00m\u001b[38;5;124m\"\u001b[39m\u001b[38;5;241m.\u001b[39mformat(admin_gdf4\u001b[38;5;241m.\u001b[39mADM1_NAME[\u001b[38;5;241m0\u001b[39m],\n\u001b[0;32m     11\u001b[0m                                        admin_gdf4\u001b[38;5;241m.\u001b[39mbuildingssum\u001b[38;5;241m.\u001b[39msum(),\n\u001b[0;32m     12\u001b[0m                                        admin_gdf4\u001b[38;5;241m.\u001b[39mHRSLsum\u001b[38;5;241m.\u001b[39msum(),\n\u001b[0;32m     13\u001b[0m                                        admin_gdf4\u001b[38;5;241m.\u001b[39mWorldPopsum\u001b[38;5;241m.\u001b[39msum(),\n\u001b[0;32m     14\u001b[0m                                        resbld))\n",
      "\u001b[1;31mNameError\u001b[0m: name 'np' is not defined"
     ]
    }
   ],
   "source": [
    "pplperHH = 4.75          ## provide average household size\n",
    "pplperHH_urban = 4.7  \n",
    "pplperHH_rural = 5.1\n",
    "\n",
    "resbld = round(np.mean(list([admin_gdf4.HRSLsum.sum(), admin_gdf4.WorldPopsum.sum()]))/pplperHH)\n",
    "resbld = 534934 # assessment from Zamstats Census data, value for CopperBelt region\n",
    "\n",
    "\n",
    "print (\"The data extraction indicated that in {} there are {:.0f} buildings & the population is: \\n\\\n",
    "HRSL: {:.0f} \\nWorldPop: {:.0f} \\nThe estimated number of residential buildings is {}\".format(admin_gdf4.ADM1_NAME[0],\n",
    "                                       admin_gdf4.buildingssum.sum(),\n",
    "                                       admin_gdf4.HRSLsum.sum(),\n",
    "                                       admin_gdf4.WorldPopsum.sum(),\n",
    "                                       resbld))\n"
   ]
  },
  {
   "cell_type": "markdown",
   "metadata": {},
   "source": [
    "### Let's find those buildings using Google building footprints \n",
    "Source: https://sites.research.google/open-buildings/\n",
    "\n",
    "Note that the code for extraction from GEE is available in the repo; Run this and extract for the area of interest directly from GEE. We could potentially integrate \"ee\" here, but not a priority for now.."
   ]
  },
  {
   "cell_type": "code",
   "execution_count": 12,
   "metadata": {},
   "outputs": [],
   "source": [
    "# path= r\"C:\\Users\\alexl\\Dropbox\\Self-employment\\Imperial work\\Zambia\\GIS\\GoogleBuildingFootprints\"\n",
    "path= r\"C:\\Users\\amillot\\PycharmProjects\\DemandMappingZambia\\Residential\\Data\\GoogleBuildings\"\n",
    "#name6065kml = 'Copperbelt_t_060_065.kml'\n",
    "#name6570kml = 'Copperbelt_t_065_070.kml'\n",
    "#name70kml = 'Copperbelt_t_gte_070.kml'\n",
    "name6065gpkg = 'Copperbelt_t_060_065.gpkg'\n",
    "name6570gpkg = 'Copperbelt_t_065_070.gpkg'\n",
    "name70gpkg = 'Copperbelt_t_gte_070.gpkg'"
   ]
  },
  {
   "cell_type": "code",
   "execution_count": 13,
   "metadata": {
    "code_folding": [
     0
    ]
   },
   "outputs": [],
   "source": [
    "## Reading kml files into geopandas (not working only first 3 columns are imported)\n",
    "#gpd.io.file.fiona.drvsupport.supported_drivers['kml'] = 'rw'\n",
    "#\n",
    "### Approach 1\n",
    "#building = gpd.read_file(path + \"\\\\\" + name6065kml, driver='LIBKML')\n",
    "#\n",
    "### Approach 2\n",
    "#fp=path + \"\\\\\" + name6065kml\n",
    "#gdf_list = []\n",
    "#for layer in fiona.listlayers(fp):    \n",
    "#    gdf = gpd.read_file(fp, driver='kml', layer=layer)\n",
    "#    gdf_list.append(gdf)\n",
    "#gdf = gpd.GeoDataFrame(pd.concat(gdf_list, ignore_index=True))"
   ]
  },
  {
   "cell_type": "code",
   "execution_count": 14,
   "metadata": {},
   "outputs": [],
   "source": [
    "## Reading geopackages (converted kml to pkg in Qgis)\n",
    "buildings6065 = gpd.read_file(path + \"\\\\\" + name6065gpkg)\n",
    "buildings6570 = gpd.read_file(path + \"\\\\\" + name6570gpkg)\n",
    "buildings70 = gpd.read_file(path + \"\\\\\" + name70gpkg)"
   ]
  },
  {
   "cell_type": "code",
   "execution_count": 15,
   "metadata": {
    "code_folding": []
   },
   "outputs": [],
   "source": [
    "# Concatenate the three GeoDataFrames into one\n",
    "cols = ['Name', 'description', 'longitude_latitude', 'confidence', \n",
    "        'area_in_meters', 'system_index','full_plus_code', 'geometry']\n",
    "\n",
    "## Merge layers into one\n",
    "gBlds = gpd.GeoDataFrame(pd.concat([buildings6065, buildings6570, buildings70], ignore_index=True))\n",
    "\n",
    "## Keep only useful columns\n",
    "gBlds = gBlds[cols]"
   ]
  },
  {
   "cell_type": "code",
   "execution_count": 16,
   "metadata": {},
   "outputs": [],
   "source": [
    "## Convert columns to float for processing\n",
    "gBlds['area_in_meters'] = gBlds['area_in_meters'].astype(float)\n",
    "gBlds['confidence'] = gBlds['confidence'].astype(float)"
   ]
  },
  {
   "cell_type": "code",
   "execution_count": 17,
   "metadata": {},
   "outputs": [
    {
     "data": {
      "text/plain": [
       "(1130701, 8)"
      ]
     },
     "execution_count": 17,
     "metadata": {},
     "output_type": "execute_result"
    }
   ],
   "source": [
    "gBlds.shape"
   ]
  },
  {
   "cell_type": "code",
   "execution_count": 18,
   "metadata": {
    "code_folding": []
   },
   "outputs": [],
   "source": [
    "#test = buildings6065.sample(frac=0.1, replace=True, random_state=1)"
   ]
  },
  {
   "cell_type": "code",
   "execution_count": 19,
   "metadata": {},
   "outputs": [
    {
     "data": {
      "text/plain": [
       "Text(0.5, 0, 'Building area')"
      ]
     },
     "execution_count": 19,
     "metadata": {},
     "output_type": "execute_result"
    },
    {
     "data": {
      "image/png": "[encoded data removed]",
      "text/plain": [
       "<Figure size 640x480 with 1 Axes>"
      ]
     },
     "metadata": {},
     "output_type": "display_data"
    }
   ],
   "source": [
    "# Building count per unit area\n",
    "sns.histplot(data = gBlds, bins=300, edgecolor='w', linewidth=0.5, \\\n",
    "            x=\"area_in_meters\", color='#25afdc')\n",
    "ylims = plt.gca().get_ylim()\n",
    "\n",
    "stats = gBlds['area_in_meters'].describe()\n",
    "plt.axvline(x= stats['50%'], ymin=-0.1, ymax=0.8,  ls='--', color='C0', marker ='o')\n",
    "\n",
    "plt.axvline(x= stats['75%'], ymin=-0.1, ymax=0.45, ls='--', color='C0', marker ='o')\n",
    "\n",
    "plt.xlim([0,300])\n",
    "plt.ylim(ylims)\n",
    "plt.ylabel(\"N\")\n",
    "plt.xlabel(\"Building area\")\n",
    "#plt.savefig(\"../figs/open_bldgs_area_hist.png\", facecolor='white', transparent=False)"
   ]
  },
  {
   "cell_type": "code",
   "execution_count": 20,
   "metadata": {},
   "outputs": [],
   "source": [
    "gBlds['area_type'] = pd.cut(gBlds['area_in_meters'],\n",
    "                            bins=[0,30,50,100,300,float(\"inf\")],\n",
    "                            right=True, \n",
    "                            labels=['<30m²','30-50m²','50-100m²','100-300m²','>300m²'])"
   ]
  },
  {
   "cell_type": "code",
   "execution_count": 21,
   "metadata": {},
   "outputs": [
    {
     "data": {
      "text/plain": [
       "Text(0.5, 0, 'Building area')"
      ]
     },
     "execution_count": 21,
     "metadata": {},
     "output_type": "execute_result"
    },
    {
     "data": {
      "image/png": "[encoded data removed]",
      "text/plain": [
       "<Figure size 640x480 with 1 Axes>"
      ]
     },
     "metadata": {},
     "output_type": "display_data"
    }
   ],
   "source": [
    "#confidence per area bin\n",
    "sns.boxplot(data=gBlds, x='area_type', y ='confidence', color='#25afdc', width=0.5)\n",
    "plt.ylabel(\"Confidence\")\n",
    "plt.xlabel(\"Building area\")\n",
    "#plt.savefig(\"../figs/open_bldgs_confidence_per_area.png\", facecolor='white', transparent=False)"
   ]
  },
  {
   "cell_type": "markdown",
   "metadata": {},
   "source": [
    "### Find \"optimal\" sub-set of buildings \n",
    "The following code will give you the m2 range and confidence level to reach a certain threshold number of buildings\n",
    "\n",
    "\n",
    "**Note!** \n",
    "\n",
    "This is a simple solution for building selection based on the info we have at hand. There are resources available to explore more comprehensive classification ML-based techniques. Below are two examples that might be interesting to further explore. \n",
    "\n",
    "* [Using GIS and Machine Learning to Classify Residential Status of Urban Buildings in Low and Middle Income Settings](https://www.mdpi.com/2072-4292/12/23/3847)\n",
    "* [Predicting residential structures from open source remotely enumerated data using machine learning](https://journals.plos.org/plosone/article?id=10.1371/journal.pone.0204399)\n",
    "* [OSM_building_prediction - GitHub repo](https://github.com/disarm-platform/OSM_building_prediction)"
   ]
  },
  {
   "cell_type": "code",
   "execution_count": 22,
   "metadata": {},
   "outputs": [
    {
     "data": {
      "text/plain": [
       "534934"
      ]
     },
     "execution_count": 22,
     "metadata": {},
     "output_type": "execute_result"
    }
   ],
   "source": [
    "resbld"
   ]
  },
  {
   "cell_type": "code",
   "execution_count": 23,
   "metadata": {},
   "outputs": [
    {
     "data": {
      "text/plain": [
       "1130701"
      ]
     },
     "execution_count": 23,
     "metadata": {},
     "output_type": "execute_result"
    }
   ],
   "source": [
    "len(gBlds)"
   ]
  },
  {
   "cell_type": "code",
   "execution_count": 24,
   "metadata": {
    "code_folding": []
   },
   "outputs": [
    {
     "name": "stdout",
     "output_type": "stream",
     "text": [
      "1130701\n",
      "545069\n",
      "534934\n",
      "test 2: 545069\n",
      "test 3: 0.606\n",
      "test 2: 538902\n",
      "test 3: 0.6120599999999999\n",
      "test 2: 532379\n",
      "test 4: 539125\n",
      "test 5: 539125\n",
      "The optimal parameters for achieving the threshold you defined are m2:20.00-70.00 and confidence level of 60.59%\n"
     ]
    }
   ],
   "source": [
    "# Set the target number of buildings below\n",
    "threshold = resbld\n",
    "\n",
    "# These are calibrating parameteres\n",
    "variance_area = 0.55\n",
    "variance_conf = 0.01\n",
    "\n",
    "# Define initial filtering parameters\n",
    "HHarea = 45                                #This is the average size of a typical HH in the AoI in sq.m\n",
    "conflevel = gBlds[\"confidence\"].max()\n",
    "endloop=False\n",
    "gBlds_filtered = gBlds\n",
    "\n",
    "\n",
    "# Loop until threshold is reached or no more rows can be filtered\n",
    "while (len(gBlds_filtered) > threshold) & (endloop == False):\n",
    "    gBlds_filtered = gBlds[((gBlds[\"area_in_meters\"] >= HHarea - variance_area*HHarea) & \n",
    "                            (gBlds[\"area_in_meters\"] <= HHarea + variance_area*HHarea))]\n",
    "    print(len(gBlds))\n",
    "    print(len(gBlds_filtered))\n",
    "    print(threshold)\n",
    "    # Action if building selection is still higher than threshold\n",
    "    #print(\"test 1: {}\".format(gBlds_filtered.shape[0]))\n",
    "    if (len(gBlds_filtered) > threshold):\n",
    "        min_conflevel = gBlds_filtered[\"confidence\"].min()\n",
    "        while (len(gBlds_filtered) > threshold) & (endloop == False):\n",
    "            gBlds_filtered = gBlds[((gBlds[\"area_in_meters\"] >= HHarea - variance_area*HHarea) &\n",
    "                                    (gBlds[\"area_in_meters\"] <= HHarea + variance_area*HHarea)) &\n",
    "                                   (gBlds[\"confidence\"] >= min_conflevel)]\n",
    "            print(\"test 2: {}\".format(gBlds_filtered.shape[0]))\n",
    "            if (len(gBlds_filtered) > threshold):\n",
    "                if (min_conflevel < conflevel):\n",
    "                    min_conflevel += variance_conf*min_conflevel\n",
    "                    print(\"test 3: {}\".format(min_conflevel))\n",
    "                else:\n",
    "                    print(\"The min confidence level has been exhausted; we move on to a different set\")\n",
    "                    break\n",
    "            else:\n",
    "                while len(gBlds_filtered) < threshold:\n",
    "                    variance_area += 0.01*variance_area\n",
    "                    gBlds_filtered = gBlds[((gBlds[\"area_in_meters\"] >= HHarea - variance_area*HHarea) &\n",
    "                                            (gBlds[\"area_in_meters\"] <= HHarea + variance_area*HHarea)) &\n",
    "                                           (gBlds[\"confidence\"] >= min_conflevel)]\n",
    "                    print(\"test 4: {}\".format(gBlds_filtered.shape[0]))\n",
    "                    if len(gBlds_filtered) > threshold:\n",
    "                        endloop = True\n",
    "                        print(\"test 5: {}\".format(gBlds_filtered.shape[0]))\n",
    "                        m21 = HHarea + variance_area*HHarea\n",
    "                        m22 = HHarea - variance_area*HHarea\n",
    "                        conf = (min_conflevel - variance_conf*min_conflevel)*100\n",
    "                        print(\"The optimal parameters for achieving the threshold you defined are m2:{:.2f}-{:.2f} and confidence level of {:.2f}%\".format(m22, m21, conf))\n",
    "                        break\n",
    "                break\n",
    "            \n",
    "    else:\n",
    "        break\n",
    "    gBlds_filtered[\"Shortlisted\"] = 1"
   ]
  },
  {
   "cell_type": "code",
   "execution_count": 25,
   "metadata": {},
   "outputs": [
    {
     "name": "stdout",
     "output_type": "stream",
     "text": [
      "We can find 539125 buildings under the following parameterization: \n",
      "min HH size: 20.0 \n",
      "Max HH size: 70.0 \n",
      "Confidence level more than 60.59\n"
     ]
    }
   ],
   "source": [
    "print (\"We can find {:.0f} buildings under the following parameterization: \\n\\\n",
    "min HH size: {:.1f} \\nMax HH size: {:.1f} \\nConfidence level more than {:.2f}\".format(gBlds_filtered.shape[0],\n",
    "                                                                                     m22,\n",
    "                                                                                     m21, \n",
    "                                                                                     conf))\n"
   ]
  },
  {
   "cell_type": "code",
   "execution_count": 26,
   "metadata": {},
   "outputs": [
    {
     "data": {
      "text/plain": [
       "Text(0.5, 0, 'Building area')"
      ]
     },
     "execution_count": 26,
     "metadata": {},
     "output_type": "execute_result"
    },
    {
     "data": {
      "image/png": "[encoded data removed]",
      "text/plain": [
       "<Figure size 640x480 with 1 Axes>"
      ]
     },
     "metadata": {},
     "output_type": "display_data"
    }
   ],
   "source": [
    "# Building count per unit area\n",
    "sns.histplot(data = gBlds_filtered, bins=300, edgecolor='w', linewidth=0.5, \\\n",
    "            x=\"area_in_meters\", color='#25afdc')\n",
    "ylims = plt.gca().get_ylim()\n",
    "\n",
    "stats = gBlds_filtered['area_in_meters'].describe()\n",
    "plt.axvline(x= stats['50%'], ymin=-0.1, ymax=0.8,  ls='--', color='C0', marker ='o')\n",
    "\n",
    "plt.axvline(x= stats['75%'], ymin=-0.1, ymax=0.45, ls='--', color='C0', marker ='o')\n",
    "\n",
    "plt.xlim([0,300])\n",
    "plt.ylim(ylims)\n",
    "plt.ylabel(\"N\")\n",
    "plt.xlabel(\"Building area\")\n",
    "#plt.savefig(\"../figs/open_bldgs_area_hist.png\", facecolor='white', transparent=False)"
   ]
  },
  {
   "cell_type": "code",
   "execution_count": 27,
   "metadata": {},
   "outputs": [
    {
     "data": {
      "text/plain": [
       "Text(0.5, 0, 'Building area')"
      ]
     },
     "execution_count": 27,
     "metadata": {},
     "output_type": "execute_result"
    },
    {
     "data": {
      "image/png": "[encoded data removed]",
      "text/plain": [
       "<Figure size 640x480 with 1 Axes>"
      ]
     },
     "metadata": {},
     "output_type": "display_data"
    }
   ],
   "source": [
    "#confidence per area bin\n",
    "sns.boxplot(data=gBlds_filtered, x='area_type', y ='confidence', color='#25afdc', width=0.5)\n",
    "plt.ylabel(\"Confidence\")\n",
    "plt.xlabel(\"Building area\")\n",
    "#plt.savefig(\"../figs/open_bldgs_confidence_per_area.png\", facecolor='white', transparent=False)"
   ]
  },
  {
   "cell_type": "code",
   "execution_count": 28,
   "metadata": {},
   "outputs": [
    {
     "data": {
      "text/plain": [
       "area_in_meters\n",
       "(19.951999999999998, 32.501]    224848\n",
       "(32.501, 45.0]                  141000\n",
       "(45.0, 57.499]                  100154\n",
       "(57.499, 69.997]                 73123\n",
       "Name: count, dtype: int64"
      ]
     },
     "execution_count": 28,
     "metadata": {},
     "output_type": "execute_result"
    }
   ],
   "source": [
    "gBlds_filtered[\"area_in_meters\"].value_counts(bins=4, sort=False)"
   ]
  },
  {
   "cell_type": "markdown",
   "metadata": {},
   "source": [
    "### Merge with the global building dataset for further processing"
   ]
  },
  {
   "cell_type": "code",
   "execution_count": 29,
   "metadata": {},
   "outputs": [],
   "source": [
    "gBlds = pd.merge(gBlds, gBlds_filtered[['system_index', 'Shortlisted']], on='system_index', how = 'left')"
   ]
  },
  {
   "cell_type": "markdown",
   "metadata": {},
   "source": [
    "### Extract raster values to buildings"
   ]
  },
  {
   "cell_type": "code",
   "execution_count": 30,
   "metadata": {},
   "outputs": [
    {
     "ename": "KeyboardInterrupt",
     "evalue": "",
     "output_type": "error",
     "traceback": [
      "\u001b[1;31m---------------------------------------------------------------------------\u001b[0m",
      "\u001b[1;31mKeyboardInterrupt\u001b[0m                         Traceback (most recent call last)",
      "Cell \u001b[1;32mIn[30], line 4\u001b[0m\n\u001b[0;32m      1\u001b[0m \u001b[38;5;66;03m# Relative Wealth Index (RWI) -- extracting the mean value per building\u001b[39;00m\n\u001b[0;32m      2\u001b[0m \u001b[38;5;66;03m# Link: https://gee-community-catalog.org/projects/rwi/\u001b[39;00m\n\u001b[0;32m      3\u001b[0m pathRWI \u001b[38;5;241m=\u001b[39m \u001b[38;5;124m\"\u001b[39m\u001b[38;5;124mData/rwi/rwi_map.tif\u001b[39m\u001b[38;5;124m\"\u001b[39m\n\u001b[1;32m----> 4\u001b[0m gBlds \u001b[38;5;241m=\u001b[39m \u001b[43mprocessing_raster\u001b[49m\u001b[43m(\u001b[49m\u001b[38;5;124;43m\"\u001b[39;49m\u001b[38;5;124;43mrwi\u001b[39;49m\u001b[38;5;124;43m\"\u001b[39;49m\u001b[43m,\u001b[49m\u001b[43m \u001b[49m\u001b[38;5;124;43m\"\u001b[39;49m\u001b[38;5;124;43mmean\u001b[39;49m\u001b[38;5;124;43m\"\u001b[39;49m\u001b[43m,\u001b[49m\u001b[43m \u001b[49m\u001b[43mgBlds\u001b[49m\u001b[43m,\u001b[49m\u001b[43m \u001b[49m\u001b[43mfilepath\u001b[49m\u001b[38;5;241;43m=\u001b[39;49m\u001b[43mpathRWI\u001b[49m\u001b[43m)\u001b[49m     \n",
      "File \u001b[1;32m~\\PycharmProjects\\DemandMappingZambia\\utils.py:18\u001b[0m, in \u001b[0;36mprocessing_raster\u001b[1;34m(name, method, clusters, filepath)\u001b[0m\n\u001b[0;32m     15\u001b[0m     filepath \u001b[38;5;241m=\u001b[39m filedialog\u001b[38;5;241m.\u001b[39maskopenfilename(filetypes \u001b[38;5;241m=\u001b[39m ((\u001b[38;5;124m\"\u001b[39m\u001b[38;5;124mrasters\u001b[39m\u001b[38;5;124m\"\u001b[39m,\u001b[38;5;124m\"\u001b[39m\u001b[38;5;124m*.tif\u001b[39m\u001b[38;5;124m\"\u001b[39m),(\u001b[38;5;124m\"\u001b[39m\u001b[38;5;124mall files\u001b[39m\u001b[38;5;124m\"\u001b[39m,\u001b[38;5;124m\"\u001b[39m\u001b[38;5;124m*.*\u001b[39m\u001b[38;5;124m\"\u001b[39m)))\n\u001b[0;32m     16\u001b[0m raster\u001b[38;5;241m=\u001b[39mrasterio\u001b[38;5;241m.\u001b[39mopen(filepath)\n\u001b[1;32m---> 18\u001b[0m clusters \u001b[38;5;241m=\u001b[39m \u001b[43mzonal_stats\u001b[49m\u001b[43m(\u001b[49m\n\u001b[0;32m     19\u001b[0m \u001b[43m    \u001b[49m\u001b[43mclusters\u001b[49m\u001b[43m,\u001b[49m\n\u001b[0;32m     20\u001b[0m \u001b[43m    \u001b[49m\u001b[43mraster\u001b[49m\u001b[38;5;241;43m.\u001b[39;49m\u001b[43mname\u001b[49m\u001b[43m,\u001b[49m\n\u001b[0;32m     21\u001b[0m \u001b[43m    \u001b[49m\u001b[43mstats\u001b[49m\u001b[38;5;241;43m=\u001b[39;49m\u001b[43m[\u001b[49m\u001b[43mmethod\u001b[49m\u001b[43m]\u001b[49m\u001b[43m,\u001b[49m\n\u001b[0;32m     22\u001b[0m \u001b[43m    \u001b[49m\u001b[43mprefix\u001b[49m\u001b[38;5;241;43m=\u001b[39;49m\u001b[43mname\u001b[49m\u001b[43m,\u001b[49m\u001b[43m \u001b[49m\u001b[43mgeojson_out\u001b[49m\u001b[38;5;241;43m=\u001b[39;49m\u001b[38;5;28;43;01mTrue\u001b[39;49;00m\u001b[43m,\u001b[49m\u001b[43m \u001b[49m\u001b[43mall_touched\u001b[49m\u001b[38;5;241;43m=\u001b[39;49m\u001b[38;5;28;43;01mTrue\u001b[39;49;00m\u001b[43m)\u001b[49m\n\u001b[0;32m     24\u001b[0m \u001b[38;5;28mprint\u001b[39m(datetime\u001b[38;5;241m.\u001b[39mdatetime\u001b[38;5;241m.\u001b[39mnow())\n\u001b[0;32m     25\u001b[0m \u001b[38;5;28;01mreturn\u001b[39;00m clusters\n",
      "File \u001b[1;32m~\\AppData\\Local\\anaconda3\\envs\\geospatial_env_kepler\\lib\\site-packages\\rasterstats\\main.py:36\u001b[0m, in \u001b[0;36mzonal_stats\u001b[1;34m(*args, **kwargs)\u001b[0m\n\u001b[0;32m     28\u001b[0m \u001b[38;5;28;01mdef\u001b[39;00m \u001b[38;5;21mzonal_stats\u001b[39m(\u001b[38;5;241m*\u001b[39margs, \u001b[38;5;241m*\u001b[39m\u001b[38;5;241m*\u001b[39mkwargs):\n\u001b[0;32m     29\u001b[0m \u001b[38;5;250m    \u001b[39m\u001b[38;5;124;03m\"\"\"The primary zonal statistics entry point.\u001b[39;00m\n\u001b[0;32m     30\u001b[0m \n\u001b[0;32m     31\u001b[0m \u001b[38;5;124;03m    All arguments are passed directly to ``gen_zonal_stats``.\u001b[39;00m\n\u001b[1;32m   (...)\u001b[0m\n\u001b[0;32m     34\u001b[0m \u001b[38;5;124;03m    The only difference is that ``zonal_stats`` will\u001b[39;00m\n\u001b[0;32m     35\u001b[0m \u001b[38;5;124;03m    return a list rather than a generator.\"\"\"\u001b[39;00m\n\u001b[1;32m---> 36\u001b[0m     \u001b[38;5;28;01mreturn\u001b[39;00m \u001b[38;5;28;43mlist\u001b[39;49m\u001b[43m(\u001b[49m\u001b[43mgen_zonal_stats\u001b[49m\u001b[43m(\u001b[49m\u001b[38;5;241;43m*\u001b[39;49m\u001b[43margs\u001b[49m\u001b[43m,\u001b[49m\u001b[43m \u001b[49m\u001b[38;5;241;43m*\u001b[39;49m\u001b[38;5;241;43m*\u001b[39;49m\u001b[43mkwargs\u001b[49m\u001b[43m)\u001b[49m\u001b[43m)\u001b[49m\n",
      "File \u001b[1;32m~\\AppData\\Local\\anaconda3\\envs\\geospatial_env_kepler\\lib\\site-packages\\rasterstats\\main.py:174\u001b[0m, in \u001b[0;36mgen_zonal_stats\u001b[1;34m(vectors, raster, layer, band, nodata, affine, stats, all_touched, categorical, category_map, add_stats, zone_func, raster_out, prefix, geojson_out, boundless, **kwargs)\u001b[0m\n\u001b[0;32m    171\u001b[0m fsrc \u001b[38;5;241m=\u001b[39m rast\u001b[38;5;241m.\u001b[39mread(bounds\u001b[38;5;241m=\u001b[39mgeom_bounds, boundless\u001b[38;5;241m=\u001b[39mboundless)\n\u001b[0;32m    173\u001b[0m \u001b[38;5;66;03m# rasterized geometry\u001b[39;00m\n\u001b[1;32m--> 174\u001b[0m rv_array \u001b[38;5;241m=\u001b[39m \u001b[43mrasterize_geom\u001b[49m\u001b[43m(\u001b[49m\u001b[43mgeom\u001b[49m\u001b[43m,\u001b[49m\u001b[43m \u001b[49m\u001b[43mlike\u001b[49m\u001b[38;5;241;43m=\u001b[39;49m\u001b[43mfsrc\u001b[49m\u001b[43m,\u001b[49m\u001b[43m \u001b[49m\u001b[43mall_touched\u001b[49m\u001b[38;5;241;43m=\u001b[39;49m\u001b[43mall_touched\u001b[49m\u001b[43m)\u001b[49m\n\u001b[0;32m    176\u001b[0m \u001b[38;5;66;03m# nodata mask\u001b[39;00m\n\u001b[0;32m    177\u001b[0m isnodata \u001b[38;5;241m=\u001b[39m fsrc\u001b[38;5;241m.\u001b[39marray \u001b[38;5;241m==\u001b[39m fsrc\u001b[38;5;241m.\u001b[39mnodata\n",
      "File \u001b[1;32m~\\AppData\\Local\\anaconda3\\envs\\geospatial_env_kepler\\lib\\site-packages\\rasterstats\\utils.py:46\u001b[0m, in \u001b[0;36mrasterize_geom\u001b[1;34m(geom, like, all_touched)\u001b[0m\n\u001b[0;32m     34\u001b[0m \u001b[38;5;250m\u001b[39m\u001b[38;5;124;03m\"\"\"\u001b[39;00m\n\u001b[0;32m     35\u001b[0m \u001b[38;5;124;03mParameters\u001b[39;00m\n\u001b[0;32m     36\u001b[0m \u001b[38;5;124;03m----------\u001b[39;00m\n\u001b[1;32m   (...)\u001b[0m\n\u001b[0;32m     43\u001b[0m \u001b[38;5;124;03mndarray: boolean\u001b[39;00m\n\u001b[0;32m     44\u001b[0m \u001b[38;5;124;03m\"\"\"\u001b[39;00m\n\u001b[0;32m     45\u001b[0m geoms \u001b[38;5;241m=\u001b[39m [(geom, \u001b[38;5;241m1\u001b[39m)]\n\u001b[1;32m---> 46\u001b[0m rv_array \u001b[38;5;241m=\u001b[39m \u001b[43mfeatures\u001b[49m\u001b[38;5;241;43m.\u001b[39;49m\u001b[43mrasterize\u001b[49m\u001b[43m(\u001b[49m\n\u001b[0;32m     47\u001b[0m \u001b[43m    \u001b[49m\u001b[43mgeoms\u001b[49m\u001b[43m,\u001b[49m\n\u001b[0;32m     48\u001b[0m \u001b[43m    \u001b[49m\u001b[43mout_shape\u001b[49m\u001b[38;5;241;43m=\u001b[39;49m\u001b[43mlike\u001b[49m\u001b[38;5;241;43m.\u001b[39;49m\u001b[43mshape\u001b[49m\u001b[43m,\u001b[49m\n\u001b[0;32m     49\u001b[0m \u001b[43m    \u001b[49m\u001b[43mtransform\u001b[49m\u001b[38;5;241;43m=\u001b[39;49m\u001b[43mlike\u001b[49m\u001b[38;5;241;43m.\u001b[39;49m\u001b[43maffine\u001b[49m\u001b[43m,\u001b[49m\n\u001b[0;32m     50\u001b[0m \u001b[43m    \u001b[49m\u001b[43mfill\u001b[49m\u001b[38;5;241;43m=\u001b[39;49m\u001b[38;5;241;43m0\u001b[39;49m\u001b[43m,\u001b[49m\n\u001b[0;32m     51\u001b[0m \u001b[43m    \u001b[49m\u001b[43mdtype\u001b[49m\u001b[38;5;241;43m=\u001b[39;49m\u001b[38;5;124;43m\"\u001b[39;49m\u001b[38;5;124;43muint8\u001b[39;49m\u001b[38;5;124;43m\"\u001b[39;49m\u001b[43m,\u001b[49m\n\u001b[0;32m     52\u001b[0m \u001b[43m    \u001b[49m\u001b[43mall_touched\u001b[49m\u001b[38;5;241;43m=\u001b[39;49m\u001b[43mall_touched\u001b[49m\u001b[43m,\u001b[49m\n\u001b[0;32m     53\u001b[0m \u001b[43m\u001b[49m\u001b[43m)\u001b[49m\n\u001b[0;32m     55\u001b[0m \u001b[38;5;28;01mreturn\u001b[39;00m rv_array\u001b[38;5;241m.\u001b[39mastype(\u001b[38;5;28mbool\u001b[39m)\n",
      "File \u001b[1;32m~\\AppData\\Local\\anaconda3\\envs\\geospatial_env_kepler\\lib\\site-packages\\rasterio\\env.py:401\u001b[0m, in \u001b[0;36mensure_env.<locals>.wrapper\u001b[1;34m(*args, **kwds)\u001b[0m\n\u001b[0;32m    399\u001b[0m \u001b[38;5;28;01melse\u001b[39;00m:\n\u001b[0;32m    400\u001b[0m     \u001b[38;5;28;01mwith\u001b[39;00m Env\u001b[38;5;241m.\u001b[39mfrom_defaults():\n\u001b[1;32m--> 401\u001b[0m         \u001b[38;5;28;01mreturn\u001b[39;00m \u001b[43mf\u001b[49m\u001b[43m(\u001b[49m\u001b[38;5;241;43m*\u001b[39;49m\u001b[43margs\u001b[49m\u001b[43m,\u001b[49m\u001b[43m \u001b[49m\u001b[38;5;241;43m*\u001b[39;49m\u001b[38;5;241;43m*\u001b[39;49m\u001b[43mkwds\u001b[49m\u001b[43m)\u001b[49m\n",
      "File \u001b[1;32m~\\AppData\\Local\\anaconda3\\envs\\geospatial_env_kepler\\lib\\site-packages\\rasterio\\features.py:366\u001b[0m, in \u001b[0;36mrasterize\u001b[1;34m(shapes, out_shape, fill, out, transform, all_touched, merge_alg, default_value, dtype)\u001b[0m\n\u001b[0;32m    363\u001b[0m     \u001b[38;5;28;01mraise\u001b[39;00m \u001b[38;5;167;01mValueError\u001b[39;00m(\u001b[38;5;124m\"\u001b[39m\u001b[38;5;124mwidth and height must be > 0\u001b[39m\u001b[38;5;124m\"\u001b[39m)\n\u001b[0;32m    365\u001b[0m transform \u001b[38;5;241m=\u001b[39m guard_transform(transform)\n\u001b[1;32m--> 366\u001b[0m \u001b[43m_rasterize\u001b[49m\u001b[43m(\u001b[49m\u001b[43mvalid_shapes\u001b[49m\u001b[43m,\u001b[49m\u001b[43m \u001b[49m\u001b[43mout\u001b[49m\u001b[43m,\u001b[49m\u001b[43m \u001b[49m\u001b[43mtransform\u001b[49m\u001b[43m,\u001b[49m\u001b[43m \u001b[49m\u001b[43mall_touched\u001b[49m\u001b[43m,\u001b[49m\u001b[43m \u001b[49m\u001b[43mmerge_alg\u001b[49m\u001b[43m)\u001b[49m\n\u001b[0;32m    367\u001b[0m \u001b[38;5;28;01mreturn\u001b[39;00m out\n",
      "File \u001b[1;32mrasterio\\_features.pyx:373\u001b[0m, in \u001b[0;36mrasterio._features._rasterize\u001b[1;34m()\u001b[0m\n",
      "File \u001b[1;32mrasterio\\_io.pyx:2150\u001b[0m, in \u001b[0;36mrasterio._io.MemoryDataset.__init__\u001b[1;34m()\u001b[0m\n",
      "File \u001b[1;32mrasterio\\_io.pyx:2152\u001b[0m, in \u001b[0;36mrasterio._io.MemoryDataset.__init__\u001b[1;34m()\u001b[0m\n",
      "File \u001b[1;32mrasterio\\_io.pyx:1578\u001b[0m, in \u001b[0;36mrasterio._io.DatasetWriterBase.__init__\u001b[1;34m()\u001b[0m\n",
      "File \u001b[1;32mrasterio\\_base.pyx:970\u001b[0m, in \u001b[0;36mrasterio._base.DatasetBase.meta.__get__\u001b[1;34m()\u001b[0m\n",
      "File \u001b[1;32mrasterio\\_base.pyx:603\u001b[0m, in \u001b[0;36mrasterio._base.DatasetBase.nodata.__get__\u001b[1;34m()\u001b[0m\n",
      "File \u001b[1;32mrasterio\\_base.pyx:584\u001b[0m, in \u001b[0;36mrasterio._base.DatasetBase.nodatavals.__get__\u001b[1;34m()\u001b[0m\n",
      "File \u001b[1;32mrasterio\\_base.pyx:566\u001b[0m, in \u001b[0;36mrasterio._base.DatasetBase.get_nodatavals\u001b[1;34m()\u001b[0m\n",
      "File \u001b[1;32m~\\AppData\\Local\\anaconda3\\envs\\geospatial_env_kepler\\lib\\logging\\__init__.py:1424\u001b[0m, in \u001b[0;36mLogger.debug\u001b[1;34m(self, msg, *args, **kwargs)\u001b[0m\n\u001b[0;32m   1421\u001b[0m     \u001b[38;5;28mself\u001b[39m\u001b[38;5;241m.\u001b[39mlevel \u001b[38;5;241m=\u001b[39m _checkLevel(level)\n\u001b[0;32m   1422\u001b[0m     \u001b[38;5;28mself\u001b[39m\u001b[38;5;241m.\u001b[39mmanager\u001b[38;5;241m.\u001b[39m_clear_cache()\n\u001b[1;32m-> 1424\u001b[0m \u001b[38;5;28;01mdef\u001b[39;00m \u001b[38;5;21mdebug\u001b[39m(\u001b[38;5;28mself\u001b[39m, msg, \u001b[38;5;241m*\u001b[39margs, \u001b[38;5;241m*\u001b[39m\u001b[38;5;241m*\u001b[39mkwargs):\n\u001b[0;32m   1425\u001b[0m \u001b[38;5;250m    \u001b[39m\u001b[38;5;124;03m\"\"\"\u001b[39;00m\n\u001b[0;32m   1426\u001b[0m \u001b[38;5;124;03m    Log 'msg % args' with severity 'DEBUG'.\u001b[39;00m\n\u001b[0;32m   1427\u001b[0m \n\u001b[1;32m   (...)\u001b[0m\n\u001b[0;32m   1431\u001b[0m \u001b[38;5;124;03m    logger.debug(\"Houston, we have a %s\", \"thorny problem\", exc_info=1)\u001b[39;00m\n\u001b[0;32m   1432\u001b[0m \u001b[38;5;124;03m    \"\"\"\u001b[39;00m\n\u001b[0;32m   1433\u001b[0m     \u001b[38;5;28;01mif\u001b[39;00m \u001b[38;5;28mself\u001b[39m\u001b[38;5;241m.\u001b[39misEnabledFor(DEBUG):\n",
      "\u001b[1;31mKeyboardInterrupt\u001b[0m: "
     ]
    }
   ],
   "source": [
    "# Relative Wealth Index (RWI) -- extracting the mean value per building\n",
    "# Link: https://gee-community-catalog.org/projects/rwi/\n",
    "pathRWI = \"Data/rwi/rwi_map.tif\"\n",
    "gBlds = processing_raster(\"rwi\", \"mean\", gBlds, filepath=pathRWI)     "
   ]
  },
  {
   "cell_type": "code",
   "execution_count": 31,
   "metadata": {},
   "outputs": [
    {
     "name": "stdout",
     "output_type": "stream",
     "text": [
      "2023-07-17 18:12:22.953628\n"
     ]
    }
   ],
   "source": [
    "## GHS-BUILT-C -- The spatial raster dataset delineates the Morphological Settlement Zone (MSZ) and the inner classification of the morphology and the function of the built environment\n",
    "## Link: https://ghsl.jrc.ec.europa.eu/ghs_buC2023.php\n",
    "pathGHSMSZ = \"Data/GHSL/Copperbelt_CMSZ_2018_R11C21.tif\"\n",
    "gBlds = processing_raster(\"GHSMSZ\", \"majority\", gBlds, filepath=pathGHSMSZ)"
   ]
  },
  {
   "cell_type": "code",
   "execution_count": 32,
   "metadata": {},
   "outputs": [
    {
     "name": "stdout",
     "output_type": "stream",
     "text": [
      "2023-07-17 19:10:34.723836\n"
     ]
    }
   ],
   "source": [
    "## Average of the Net Building Height (ANBH)\n",
    "## Link: https://ghsl.jrc.ec.europa.eu/ghs_buH2023.php\n",
    "pathGHSANBH = \"Data/GHSL/Copperbelt_HANBH_2018_R11C21.tif\"\n",
    "gBlds = processing_raster(\"GHSANBH\", \"mean\", gBlds, filepath=pathGHSANBH)"
   ]
  },
  {
   "cell_type": "code",
   "execution_count": 34,
   "metadata": {},
   "outputs": [
    {
     "name": "stdout",
     "output_type": "stream",
     "text": [
      "2023-07-18 10:41:01.504843\n"
     ]
    }
   ],
   "source": [
    "## set_lightscore_sy_xxxx.tif: Predicted likelihood that a settlement is electrified (0 to 1)\n",
    "## http://www-personal.umich.edu/~brianmin/HREA/data.html\n",
    "pathHREA = \"Data/Lighting/HREA_Zambia_2019_v1/Zambia_set_lightscore_sy_2019.tif\"\n",
    "gBlds = processing_raster(\"HREA\", \"mean\", gBlds, filepath=pathHREA)"
   ]
  },
  {
   "cell_type": "code",
   "execution_count": 35,
   "metadata": {},
   "outputs": [
    {
     "name": "stdout",
     "output_type": "stream",
     "text": [
      "2023-07-18 10:51:15.205402\n"
     ]
    }
   ],
   "source": [
    "## When extraction is completed, run this cell to bring data to a pandas df mode\n",
    "gBlds = finalizing_rasters(out_path, gBlds, crs_WGS84)"
   ]
  },
  {
   "cell_type": "code",
   "execution_count": 36,
   "metadata": {},
   "outputs": [],
   "source": [
    "## OPTIONAL: Rename columns as/if needed\n",
    "gBlds.rename({'HREAmean': 'HREA', \n",
    "              'GHSANBHmean': 'GHSANBH',\n",
    "              'rwimean': 'rwi',\n",
    "              'GHSMSZmajority': 'GHSMSZ'}, axis=1, inplace=True)"
   ]
  },
  {
   "cell_type": "code",
   "execution_count": 37,
   "metadata": {},
   "outputs": [
    {
     "data": {
      "text/html": [
       "<div>\n",
       "<style scoped>\n",
       "    .dataframe tbody tr th:only-of-type {\n",
       "        vertical-align: middle;\n",
       "    }\n",
       "\n",
       "    .dataframe tbody tr th {\n",
       "        vertical-align: top;\n",
       "    }\n",
       "\n",
       "    .dataframe thead th {\n",
       "        text-align: right;\n",
       "    }\n",
       "</style>\n",
       "<table border=\"1\" class=\"dataframe\">\n",
       "  <thead>\n",
       "    <tr style=\"text-align: right;\">\n",
       "      <th></th>\n",
       "      <th>id</th>\n",
       "      <th>Name</th>\n",
       "      <th>description</th>\n",
       "      <th>longitude_latitude</th>\n",
       "      <th>confidence</th>\n",
       "      <th>area_in_meters</th>\n",
       "      <th>system_index</th>\n",
       "      <th>full_plus_code</th>\n",
       "      <th>area_type</th>\n",
       "      <th>Shortlisted</th>\n",
       "      <th>GHSMSZ</th>\n",
       "      <th>GHSANBHmean</th>\n",
       "      <th>HREA</th>\n",
       "      <th>geometry</th>\n",
       "    </tr>\n",
       "  </thead>\n",
       "  <tbody>\n",
       "    <tr>\n",
       "      <th>0</th>\n",
       "      <td>0</td>\n",
       "      <td>NaN</td>\n",
       "      <td>NaN</td>\n",
       "      <td>{'type': 'Point', 'coordinates': [28.692250715...</td>\n",
       "      <td>0.625</td>\n",
       "      <td>8.173100</td>\n",
       "      <td>04440000000000004393</td>\n",
       "      <td>5GRC7MXR+MVH9</td>\n",
       "      <td>&lt;30m²</td>\n",
       "      <td>NaN</td>\n",
       "      <td>NaN</td>\n",
       "      <td>NaN</td>\n",
       "      <td>NaN</td>\n",
       "      <td>POLYGON ((28.69226 -13.70083, 28.69226 -13.700...</td>\n",
       "    </tr>\n",
       "    <tr>\n",
       "      <th>1</th>\n",
       "      <td>1</td>\n",
       "      <td>NaN</td>\n",
       "      <td>NaN</td>\n",
       "      <td>{'type': 'Point', 'coordinates': [28.815919423...</td>\n",
       "      <td>0.625</td>\n",
       "      <td>31.574301</td>\n",
       "      <td>044400000000000054b4</td>\n",
       "      <td>5GRCGR58+W9M7</td>\n",
       "      <td>30-50m²</td>\n",
       "      <td>1.0</td>\n",
       "      <td>NaN</td>\n",
       "      <td>NaN</td>\n",
       "      <td>0.069606</td>\n",
       "      <td>POLYGON ((28.81596 -13.49018, 28.81590 -13.490...</td>\n",
       "    </tr>\n",
       "    <tr>\n",
       "      <th>2</th>\n",
       "      <td>2</td>\n",
       "      <td>NaN</td>\n",
       "      <td>NaN</td>\n",
       "      <td>{'type': 'Point', 'coordinates': [28.779689227...</td>\n",
       "      <td>0.625</td>\n",
       "      <td>10.803500</td>\n",
       "      <td>04440000000000006e2b</td>\n",
       "      <td>5GRCQQPH+6VPR</td>\n",
       "      <td>&lt;30m²</td>\n",
       "      <td>NaN</td>\n",
       "      <td>NaN</td>\n",
       "      <td>NaN</td>\n",
       "      <td>0.060423</td>\n",
       "      <td>POLYGON ((28.77971 -13.21442, 28.77970 -13.214...</td>\n",
       "    </tr>\n",
       "  </tbody>\n",
       "</table>\n",
       "</div>"
      ],
      "text/plain": [
       "  id  Name  description                                 longitude_latitude  \\\n",
       "0  0   NaN          NaN  {'type': 'Point', 'coordinates': [28.692250715...   \n",
       "1  1   NaN          NaN  {'type': 'Point', 'coordinates': [28.815919423...   \n",
       "2  2   NaN          NaN  {'type': 'Point', 'coordinates': [28.779689227...   \n",
       "\n",
       "   confidence  area_in_meters          system_index full_plus_code area_type  \\\n",
       "0       0.625        8.173100  04440000000000004393  5GRC7MXR+MVH9     <30m²   \n",
       "1       0.625       31.574301  044400000000000054b4  5GRCGR58+W9M7   30-50m²   \n",
       "2       0.625       10.803500  04440000000000006e2b  5GRCQQPH+6VPR     <30m²   \n",
       "\n",
       "   Shortlisted  GHSMSZ  GHSANBHmean      HREA  \\\n",
       "0          NaN     NaN          NaN       NaN   \n",
       "1          1.0     NaN          NaN  0.069606   \n",
       "2          NaN     NaN          NaN  0.060423   \n",
       "\n",
       "                                            geometry  \n",
       "0  POLYGON ((28.69226 -13.70083, 28.69226 -13.700...  \n",
       "1  POLYGON ((28.81596 -13.49018, 28.81590 -13.490...  \n",
       "2  POLYGON ((28.77971 -13.21442, 28.77970 -13.214...  "
      ]
     },
     "execution_count": 37,
     "metadata": {},
     "output_type": "execute_result"
    }
   ],
   "source": [
    "gBlds.head(3)"
   ]
  },
  {
   "cell_type": "code",
   "execution_count": 38,
   "metadata": {},
   "outputs": [],
   "source": [
    "#gBlds.to_file(os.path.join(out_path,\"{c}\".format(c=\"gBlds.gpkg\")), driver=\"GPKG\")"
   ]
  },
  {
   "cell_type": "code",
   "execution_count": 39,
   "metadata": {},
   "outputs": [],
   "source": [
    "gBlds.to_csv(os.path.join(out_path,\"{c}\".format(c=\"gBlds.csv\")))"
   ]
  },
  {
   "cell_type": "code",
   "execution_count": null,
   "metadata": {},
   "outputs": [],
   "source": []
  }
 ],
 "metadata": {
  "kernelspec": {
   "display_name": "Python 3 (ipykernel)",
   "language": "python",
   "name": "python3"
  },
  "language_info": {
   "codemirror_mode": {
    "name": "ipython",
    "version": 3
   },
   "file_extension": ".py",
   "mimetype": "text/x-python",
   "name": "python",
   "nbconvert_exporter": "python",
   "pygments_lexer": "ipython3",
   "version": "3.8.12"
  }
 },
 "nbformat": 4,
 "nbformat_minor": 4
}
