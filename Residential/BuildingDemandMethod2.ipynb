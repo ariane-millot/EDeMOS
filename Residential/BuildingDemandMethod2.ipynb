{
 "cells": [
  {
   "cell_type": "markdown",
   "metadata": {},
   "source": [
    "# Building Residential demand\n",
    "\n",
    "**Original code:** [Alexandros Korkovelos](https://github.com/akorkovelos) <br />\n",
    "**Support:** [Ariane Millot](https://github.com/ariane-millot), [Martin J. Stringer]() & [Vignesh Shridharan](https://github.com/vignesh1987) <br />\n",
    "**Funding:** Imperial College <br />\n",
    "\n",
    "---------------------------\n"
   ]
  },
  {
   "cell_type": "markdown",
   "metadata": {},
   "source": [
    "#### Brief overview\n",
    "\n",
    "This notebook performs three main analytical processes:\n",
    "\n",
    "- **Part 1**: Extract population data for the area of interest\n",
    "- **Part 2**: Get buildings from Google Building Footprint data and classify into groups per size and confidence level\n",
    "- **Part 3**: Extract all \"good candidates\" of residential buildings\n",
    "- **Part 4**: Assign demand based on formulation \n",
    "\n",
    "A slightly more detailed description of the processing bits is presented before each part below. <br />\n"
   ]
  },
  {
   "cell_type": "markdown",
   "metadata": {},
   "source": [
    "### Import necessary modules"
   ]
  },
  {
   "cell_type": "code",
   "execution_count": 1,
   "metadata": {
    "code_folding": [
     0
    ]
   },
   "outputs": [],
   "source": [
    "### Activate geospatial_env first\n",
    "\n",
    "# Numeric\n",
    "import numpy as np\n",
    "import pandas as pd\n",
    "import math\n",
    "\n",
    "# System\n",
    "import os\n",
    "import shutil\n",
    "from IPython.display import display, Markdown, HTML, FileLink, FileLinks\n",
    "\n",
    "# Spatial\n",
    "import geopandas as gpd\n",
    "import json\n",
    "import pyproj\n",
    "from shapely.geometry import Point, Polygon, MultiPoint\n",
    "from shapely.wkt import dumps, loads\n",
    "from shapely.ops import nearest_points\n",
    "from pyproj import CRS\n",
    "import ogr, gdal, osr\n",
    "#import fiona\n",
    "\n",
    "\n",
    "# Mapping / Plotting\n",
    "from functools import reduce\n",
    "#import datapane as dp \n",
    "#!datapane login --token=\"9bde41bfbc4ad14119e32086f9f06d2e5db1d5b8\"\n",
    "import folium\n",
    "from folium.features import GeoJsonTooltip\n",
    "from folium.plugins import BeautifyIcon\n",
    "from folium.plugins import HeatMap\n",
    "import branca.colormap as cm\n",
    "import matplotlib.pyplot as plt\n",
    "from matplotlib.ticker import MaxNLocator\n",
    "%matplotlib inline\n",
    "\n",
    "%matplotlib inline"
   ]
  },
  {
   "cell_type": "code",
   "execution_count": 2,
   "metadata": {
    "code_folding": [
     0
    ]
   },
   "outputs": [
    {
     "data": {
      "text/plain": [
       "''"
      ]
     },
     "execution_count": 2,
     "metadata": {},
     "output_type": "execute_result"
    }
   ],
   "source": [
    "#import geopandas as gpd   # Note that you require geopandas version >= 0.7 that incluse clip see here for installation (https://gis.stackexchange.com/questions/360127/geopandas-0-6-1-installed-instead-of-0-7-0-in-conda-windows-10#)\n",
    "import os\n",
    "import fiona\n",
    "import ipywidgets as widgets\n",
    "from IPython.display import display\n",
    "from rasterstats import zonal_stats\n",
    "import rasterio\n",
    "from geojson import Feature, Point, FeatureCollection\n",
    "import rasterio.fill\n",
    "from shapely.geometry import shape, mapping\n",
    "import json\n",
    "#from earthpy import clip    clip has been deprecated to geopandas\n",
    "#import earthpy.spatial as es\n",
    "import numpy as np\n",
    "import tkinter as tk\n",
    "from tkinter import filedialog, messagebox\n",
    "import gdal\n",
    "import datetime\n",
    "import warnings\n",
    "import pandas as pd\n",
    "import scipy.spatial\n",
    "warnings.filterwarnings('ignore')\n",
    "\n",
    "#import contextily as ctx\n",
    "import h3 as h3\n",
    "from shapely.ops import unary_union\n",
    "from shapely.geometry.polygon import Polygon\n",
    "import seaborn as sns\n",
    "\n",
    "root = tk.Tk()\n",
    "root.withdraw()\n",
    "root.attributes(\"-topmost\", True)"
   ]
  },
  {
   "cell_type": "code",
   "execution_count": 3,
   "metadata": {},
   "outputs": [],
   "source": [
    "import sys\n",
    "module_path = os.path.abspath(os.path.join(os.pardir))\n",
    "if module_path not in sys.path:\n",
    "    sys.path.append(module_path)\n",
    "from utils import processing_raster, finalizing_rasters"
   ]
  },
  {
   "cell_type": "markdown",
   "metadata": {},
   "source": [
    "### Define directories and dataset names"
   ]
  },
  {
   "cell_type": "code",
   "execution_count": 4,
   "metadata": {},
   "outputs": [],
   "source": [
    "ROOT_DIR = os.path.abspath(os.pardir)\n",
    "in_path = ROOT_DIR + \"\\\\\" + 'Sample_Input'\n",
    "out_path = 'Outputs'\n",
    "\n",
    "## admininstrative boundary\n",
    "admin_path = ROOT_DIR +'/admin'\n",
    "admin_name = \"Copperbelt.gpkg\"   "
   ]
  },
  {
   "cell_type": "markdown",
   "metadata": {},
   "source": [
    "### Define coordinate and projection system"
   ]
  },
  {
   "cell_type": "code",
   "execution_count": 5,
   "metadata": {},
   "outputs": [],
   "source": [
    "## Coordinate and projection systems\n",
    "crs_WGS84 = CRS(\"EPSG:4326\")    # Originan WGS84 coordinate system\n",
    "crs_proj = CRS(\"EPSG:32736\")    # Projection system for the selected country -- see http://epsg.io/ for more info"
   ]
  },
  {
   "cell_type": "markdown",
   "metadata": {},
   "source": [
    "## Add functions"
   ]
  },
  {
   "cell_type": "markdown",
   "metadata": {},
   "source": [
    "### Import layer delineating the Area Of Interest (AoI)"
   ]
  },
  {
   "cell_type": "code",
   "execution_count": 6,
   "metadata": {},
   "outputs": [
    {
     "data": {
      "text/plain": [
       "Index(['OBJECTID', 'WHO_REGION', 'ISO_2_CODE', 'ADM1_NAME', 'ADM0_NAME',\n",
       "       'ADM1_CODE', 'ADM0_CODE', 'STARTDATE', 'ENDDATE', 'GUID', 'ISO_3_CODE',\n",
       "       'WHO_CODE', 'ADM1_ALTNA', 'ADM1_ALTCO', 'LVL', 'WHO_STATUS', 'UN_CODE',\n",
       "       'UNICEF_REG', 'CENTER_LON', 'CENTER_LAT', 'ADM1_VIZ_N', 'ADM0_GUID',\n",
       "       'NOTES', 'ADM0_VIZ_N', 'ADM1_PCODE', 'ADM0_PCODE', 'ADM1_SHAPE',\n",
       "       'ADM0_SHAPE', 'WHO_SUBREG', 'SHAPE_Leng', 'SHAPE_Area', 'GlobalID',\n",
       "       'LOT', 'Sites', 'geometry'],\n",
       "      dtype='object')"
      ]
     },
     "execution_count": 6,
     "metadata": {},
     "output_type": "execute_result"
    }
   ],
   "source": [
    "## admininstrative boundary\n",
    "admin_gdf = gpd.read_file(admin_path + \"\\\\\" + admin_name)\n",
    "admin_gdf['geometry'][0]\n",
    "admin_gdf.columns"
   ]
  },
  {
   "cell_type": "markdown",
   "metadata": {},
   "source": [
    "### Extraction of zonal stats"
   ]
  },
  {
   "cell_type": "code",
   "execution_count": 7,
   "metadata": {},
   "outputs": [
    {
     "name": "stdout",
     "output_type": "stream",
     "text": [
      "2023-08-24 22:53:21.126274\n"
     ]
    }
   ],
   "source": [
    "pathWorldPopBuildingCount = \"Data/Building_count_worldpop/Copperbelt_buildings_v2_0_count.tif\"\n",
    "admin_gdf1 = processing_raster(\"buildings\", \"sum\", admin_gdf, filepath=pathWorldPopBuildingCount)      #Copperbelt_buildings_v2_0_count from https://apps.worldpop.org/peanutButter/"
   ]
  },
  {
   "cell_type": "code",
   "execution_count": 8,
   "metadata": {},
   "outputs": [
    {
     "name": "stdout",
     "output_type": "stream",
     "text": [
      "2023-08-24 22:53:21.289648\n"
     ]
    }
   ],
   "source": [
    "pathWorldPopPopCount = \"Data/WorldPop/Copperbelt_population_v1_0_gridded.tif\"\n",
    "admin_gdf2 = processing_raster(\"WorldPop\", \"sum\", admin_gdf1, filepath=pathWorldPopPopCount)           #Using Zambia 100m population layer; default values at WorldPopPeanutButter"
   ]
  },
  {
   "cell_type": "code",
   "execution_count": 9,
   "metadata": {},
   "outputs": [
    {
     "name": "stdout",
     "output_type": "stream",
     "text": [
      "2023-08-24 22:53:23.931609\n"
     ]
    }
   ],
   "source": [
    "pathHRSL =  \"Data/Meta/zmb_general_2020.tif\"\n",
    "admin_gdf3 = processing_raster(\"HRSL\", \"sum\", admin_gdf2, filepath=pathHRSL)     #HRSL from Meta (2020) @ https://data.humdata.org/dataset/highresolutionpopulationdensitymaps-zmb"
   ]
  },
  {
   "cell_type": "markdown",
   "metadata": {},
   "source": [
    "##### Once done with rasters run this cell"
   ]
  },
  {
   "cell_type": "code",
   "execution_count": 10,
   "metadata": {},
   "outputs": [
    {
     "name": "stdout",
     "output_type": "stream",
     "text": [
      "2023-08-24 22:53:23.979609\n"
     ]
    }
   ],
   "source": [
    "admin_gdf4 = finalizing_rasters(out_path, admin_gdf3, crs_proj)"
   ]
  },
  {
   "cell_type": "markdown",
   "metadata": {},
   "source": [
    "## Estimate number of residential buildings"
   ]
  },
  {
   "cell_type": "code",
   "execution_count": 11,
   "metadata": {},
   "outputs": [
    {
     "name": "stdout",
     "output_type": "stream",
     "text": [
      "The data extraction indicated that in COPPERBELT there are 1014100 residential buildings & the population is: \n",
      "HRSL: 2498431 \n",
      "WorldPop: 2648646 \n",
      "Zamstats: 2535919 \n",
      "The estimated number of residential buildings is 445778\n"
     ]
    }
   ],
   "source": [
    "pplperHH = 4.75          ## provide average household size, assessment from Zamstats Census data\n",
    "pplperHH_urban = 4.67  \n",
    "pplperHH_rural = 5.14\n",
    "\n",
    "totalPop = 2535919 # Zamstats\n",
    "\n",
    "resHH_average = round(np.mean(list([admin_gdf4.HRSLsum.sum(), admin_gdf4.WorldPopsum.sum()]))/pplperHH)\n",
    "resHH = 534934 # assessment from Zamstats Census data, value for CopperBelt region\n",
    "HHperResbld = 1.2 # assessment coming from BuildingDemandMethod1\n",
    "resbld = resHH / HHperResbld\n",
    "\n",
    "\n",
    "print (\"The data extraction indicated that in {} there are {:.0f} residential buildings & the population is: \\n\\\n",
    "HRSL: {:.0f} \\nWorldPop: {:.0f} \\nZamstats: {:.0f} \\nThe estimated number of residential buildings is {:.0f}\".format(admin_gdf4.ADM1_NAME[0],\n",
    "                                       admin_gdf4.buildingssum.sum(),\n",
    "                                       admin_gdf4.HRSLsum.sum(),\n",
    "                                       admin_gdf4.WorldPopsum.sum(),\n",
    "                                       totalPop,\n",
    "                                       resbld))\n"
   ]
  },
  {
   "cell_type": "markdown",
   "metadata": {},
   "source": [
    "## Let's find those buildings using Google building footprints \n",
    "Source: https://sites.research.google/open-buildings/\n",
    "\n",
    "Note that the code for extraction from GEE is available in the repo; Run this and extract for the area of interest directly from GEE. We could potentially integrate \"ee\" here, but not a priority for now.."
   ]
  },
  {
   "cell_type": "code",
   "execution_count": 12,
   "metadata": {},
   "outputs": [],
   "source": [
    "# path= r\"C:\\Users\\alexl\\Dropbox\\Self-employment\\Imperial work\\Zambia\\GIS\\GoogleBuildingFootprints\"\n",
    "path= r\"C:\\Users\\amillot\\PycharmProjects\\DemandMappingZambia\\Residential\\Data\\GoogleBuildings\"\n",
    "#name6065kml = 'Copperbelt_t_060_065.kml'\n",
    "#name6570kml = 'Copperbelt_t_065_070.kml'\n",
    "#name70kml = 'Copperbelt_t_gte_070.kml'\n",
    "name6065gpkg = 'Copperbelt_t_060_065.gpkg'\n",
    "name6570gpkg = 'Copperbelt_t_065_070.gpkg'\n",
    "name70gpkg = 'Copperbelt_t_gte_070.gpkg'"
   ]
  },
  {
   "cell_type": "code",
   "execution_count": 13,
   "metadata": {
    "code_folding": [
     0
    ]
   },
   "outputs": [],
   "source": [
    "## Reading kml files into geopandas (not working only first 3 columns are imported)\n",
    "#gpd.io.file.fiona.drvsupport.supported_drivers['kml'] = 'rw'\n",
    "#\n",
    "### Approach 1\n",
    "#building = gpd.read_file(path + \"\\\\\" + name6065kml, driver='LIBKML')\n",
    "#\n",
    "### Approach 2\n",
    "#fp=path + \"\\\\\" + name6065kml\n",
    "#gdf_list = []\n",
    "#for layer in fiona.listlayers(fp):    \n",
    "#    gdf = gpd.read_file(fp, driver='kml', layer=layer)\n",
    "#    gdf_list.append(gdf)\n",
    "#gdf = gpd.GeoDataFrame(pd.concat(gdf_list, ignore_index=True))"
   ]
  },
  {
   "cell_type": "code",
   "execution_count": 14,
   "metadata": {},
   "outputs": [],
   "source": [
    "## Reading geopackages (converted kml to pkg in Qgis)\n",
    "buildings6065 = gpd.read_file(path + \"\\\\\" + name6065gpkg)\n",
    "buildings6570 = gpd.read_file(path + \"\\\\\" + name6570gpkg)\n",
    "buildings70 = gpd.read_file(path + \"\\\\\" + name70gpkg)"
   ]
  },
  {
   "cell_type": "code",
   "execution_count": 15,
   "metadata": {
    "code_folding": []
   },
   "outputs": [],
   "source": [
    "# Concatenate the three GeoDataFrames into one\n",
    "cols = ['Name', 'description', 'longitude_latitude', 'confidence', \n",
    "        'area_in_meters', 'system_index','full_plus_code', 'geometry']\n",
    "\n",
    "## Merge layers into one\n",
    "gBlds = gpd.GeoDataFrame(pd.concat([buildings6065, buildings6570, buildings70], ignore_index=True))\n",
    "\n",
    "## Keep only useful columns\n",
    "gBlds = gBlds[cols]"
   ]
  },
  {
   "cell_type": "code",
   "execution_count": 16,
   "metadata": {},
   "outputs": [],
   "source": [
    "## Convert columns to float for processing\n",
    "gBlds['area_in_meters'] = gBlds['area_in_meters'].astype(float)\n",
    "gBlds['confidence'] = gBlds['confidence'].astype(float)"
   ]
  },
  {
   "cell_type": "code",
   "execution_count": 17,
   "metadata": {},
   "outputs": [
    {
     "data": {
      "text/plain": [
       "(1130701, 8)"
      ]
     },
     "execution_count": 17,
     "metadata": {},
     "output_type": "execute_result"
    }
   ],
   "source": [
    "gBlds.shape"
   ]
  },
  {
   "cell_type": "code",
   "execution_count": 18,
   "metadata": {
    "code_folding": []
   },
   "outputs": [],
   "source": [
    "#test = buildings6065.sample(frac=0.1, replace=True, random_state=1)"
   ]
  },
  {
   "cell_type": "code",
   "execution_count": 19,
   "metadata": {},
   "outputs": [
    {
     "data": {
      "text/plain": [
       "Text(0.5, 0, 'Building area')"
      ]
     },
     "execution_count": 19,
     "metadata": {},
     "output_type": "execute_result"
    },
    {
     "data": {
      "image/png": "[encoded data removed]",
      "text/plain": [
       "<Figure size 640x480 with 1 Axes>"
      ]
     },
     "metadata": {},
     "output_type": "display_data"
    }
   ],
   "source": [
    "# Building count per unit area\n",
    "sns.histplot(data = gBlds, bins=300, edgecolor='w', linewidth=0.5, \\\n",
    "            x=\"area_in_meters\", color='#25afdc')\n",
    "ylims = plt.gca().get_ylim()\n",
    "\n",
    "stats = gBlds['area_in_meters'].describe()\n",
    "plt.axvline(x= stats['50%'], ymin=-0.1, ymax=0.8,  ls='--', color='C0', marker ='o')\n",
    "\n",
    "plt.axvline(x= stats['75%'], ymin=-0.1, ymax=0.45, ls='--', color='C0', marker ='o')\n",
    "\n",
    "plt.xlim([0,300])\n",
    "plt.ylim(ylims)\n",
    "plt.ylabel(\"N\")\n",
    "plt.xlabel(\"Building area\")\n",
    "#plt.savefig(\"../figs/open_bldgs_area_hist.png\", facecolor='white', transparent=False)"
   ]
  },
  {
   "cell_type": "code",
   "execution_count": 20,
   "metadata": {},
   "outputs": [],
   "source": [
    "gBlds['area_type'] = pd.cut(gBlds['area_in_meters'],\n",
    "                            bins=[0,30,50,100,300,float(\"inf\")],\n",
    "                            right=True, \n",
    "                            labels=['<30m²','30-50m²','50-100m²','100-300m²','>300m²'])"
   ]
  },
  {
   "cell_type": "code",
   "execution_count": 21,
   "metadata": {},
   "outputs": [
    {
     "data": {
      "text/plain": [
       "Text(0.5, 0, 'Building area')"
      ]
     },
     "execution_count": 21,
     "metadata": {},
     "output_type": "execute_result"
    },
    {
     "data": {
      "image/png": "[encoded data removed]",
      "text/plain": [
       "<Figure size 640x480 with 1 Axes>"
      ]
     },
     "metadata": {},
     "output_type": "display_data"
    }
   ],
   "source": [
    "#confidence per area bin\n",
    "sns.boxplot(data=gBlds, x='area_type', y ='confidence', color='#25afdc', width=0.5)\n",
    "plt.ylabel(\"Confidence\")\n",
    "plt.xlabel(\"Building area\")\n",
    "#plt.savefig(\"../figs/open_bldgs_confidence_per_area.png\", facecolor='white', transparent=False)"
   ]
  },
  {
   "cell_type": "markdown",
   "metadata": {},
   "source": [
    "### Find \"optimal\" sub-set of buildings \n",
    "The following code will give you the m2 range and confidence level to reach a certain threshold number of buildings\n",
    "\n",
    "\n",
    "**Note!** \n",
    "\n",
    "This is a simple solution for building selection based on the info we have at hand. There are resources available to explore more comprehensive classification ML-based techniques. Below are two examples that might be interesting to further explore. \n",
    "\n",
    "* [Using GIS and Machine Learning to Classify Residential Status of Urban Buildings in Low and Middle Income Settings](https://www.mdpi.com/2072-4292/12/23/3847)\n",
    "* [Predicting residential structures from open source remotely enumerated data using machine learning](https://journals.plos.org/plosone/article?id=10.1371/journal.pone.0204399)\n",
    "* [OSM_building_prediction - GitHub repo](https://github.com/disarm-platform/OSM_building_prediction)"
   ]
  },
  {
   "cell_type": "code",
   "execution_count": 22,
   "metadata": {},
   "outputs": [
    {
     "name": "stdout",
     "output_type": "stream",
     "text": [
      "445778\n"
     ]
    }
   ],
   "source": [
    "resbld = round(resbld)\n",
    "print(resbld)"
   ]
  },
  {
   "cell_type": "code",
   "execution_count": 23,
   "metadata": {},
   "outputs": [
    {
     "data": {
      "text/plain": [
       "1130701"
      ]
     },
     "execution_count": 23,
     "metadata": {},
     "output_type": "execute_result"
    }
   ],
   "source": [
    "len(gBlds)"
   ]
  },
  {
   "cell_type": "code",
   "execution_count": 24,
   "metadata": {
    "code_folding": []
   },
   "outputs": [
    {
     "name": "stdout",
     "output_type": "stream",
     "text": [
      "1130701\n",
      "529263\n",
      "445778\n",
      "test 2: 529263\n",
      "test 3: 0.606\n",
      "test 2: 525067\n",
      "test 3: 0.6120599999999999\n",
      "test 2: 520666\n",
      "test 3: 0.6181806\n",
      "test 2: 516095\n",
      "test 3: 0.6243624059999999\n",
      "test 2: 511173\n",
      "test 3: 0.6306060300599999\n",
      "test 2: 506113\n",
      "test 3: 0.6369120903605999\n",
      "test 2: 500688\n",
      "test 3: 0.6432812112642059\n",
      "test 2: 494987\n",
      "test 3: 0.6497140233768479\n",
      "test 2: 488918\n",
      "test 3: 0.6562111636106164\n",
      "test 2: 482513\n",
      "test 3: 0.6627732752467226\n",
      "test 2: 475503\n",
      "test 3: 0.6694010079991898\n",
      "test 2: 467703\n",
      "test 3: 0.6760950180791817\n",
      "test 2: 459669\n",
      "test 3: 0.6828559682599735\n",
      "test 2: 450754\n",
      "test 3: 0.6896845279425733\n",
      "test 2: 440879\n",
      "test 4: 446629\n",
      "test 5: 446629\n",
      "The optimal parameters for achieving the threshold you defined are m2:25.61-104.39 and confidence level of 68.28%\n"
     ]
    }
   ],
   "source": [
    "# Set the target number of buildings below\n",
    "threshold = resbld\n",
    "\n",
    "# These are calibrating parameteres\n",
    "variance_area = 0.6\n",
    "variance_conf = 0.01\n",
    "\n",
    "# Define initial filtering parameters\n",
    "HHarea = 65                                #This is the average size of a typical HH in the AoI in sq.m\n",
    "conflevel = gBlds[\"confidence\"].max()\n",
    "endloop=False\n",
    "gBlds_filtered = gBlds\n",
    "\n",
    "\n",
    "# Loop until threshold is reached or no more rows can be filtered\n",
    "while (len(gBlds_filtered) > threshold) & (endloop == False):\n",
    "    gBlds_filtered = gBlds[((gBlds[\"area_in_meters\"] >= HHarea - variance_area*HHarea) & \n",
    "                            (gBlds[\"area_in_meters\"] <= HHarea + variance_area*HHarea))]\n",
    "    print(len(gBlds))\n",
    "    print(len(gBlds_filtered))\n",
    "    print(threshold)\n",
    "    # Action if building selection is still higher than threshold\n",
    "    #print(\"test 1: {}\".format(gBlds_filtered.shape[0]))\n",
    "    if (len(gBlds_filtered) > threshold):\n",
    "        min_conflevel = gBlds_filtered[\"confidence\"].min()\n",
    "        while (len(gBlds_filtered) > threshold) & (endloop == False):\n",
    "            gBlds_filtered = gBlds[((gBlds[\"area_in_meters\"] >= HHarea - variance_area*HHarea) &\n",
    "                                    (gBlds[\"area_in_meters\"] <= HHarea + variance_area*HHarea)) &\n",
    "                                   (gBlds[\"confidence\"] >= min_conflevel)]\n",
    "            print(\"test 2: {}\".format(gBlds_filtered.shape[0]))\n",
    "            if (len(gBlds_filtered) > threshold):\n",
    "                if (min_conflevel < conflevel):\n",
    "                    min_conflevel += variance_conf*min_conflevel\n",
    "                    print(\"test 3: {}\".format(min_conflevel))\n",
    "                else:\n",
    "                    print(\"The min confidence level has been exhausted; we move on to a different set\")\n",
    "                    break\n",
    "            else:\n",
    "                while len(gBlds_filtered) < threshold:\n",
    "                    variance_area += 0.01*variance_area\n",
    "                    gBlds_filtered = gBlds[((gBlds[\"area_in_meters\"] >= HHarea - variance_area*HHarea) &\n",
    "                                            (gBlds[\"area_in_meters\"] <= HHarea + variance_area*HHarea)) &\n",
    "                                           (gBlds[\"confidence\"] >= min_conflevel)]\n",
    "                    print(\"test 4: {}\".format(gBlds_filtered.shape[0]))\n",
    "                    if len(gBlds_filtered) > threshold:\n",
    "                        endloop = True\n",
    "                        print(\"test 5: {}\".format(gBlds_filtered.shape[0]))\n",
    "                        m21 = HHarea + variance_area*HHarea\n",
    "                        m22 = HHarea - variance_area*HHarea\n",
    "                        conf = (min_conflevel - variance_conf*min_conflevel)*100\n",
    "                        print(\"The optimal parameters for achieving the threshold you defined are m2:{:.2f}-{:.2f} and confidence level of {:.2f}%\".format(m22, m21, conf))\n",
    "                        break\n",
    "                break\n",
    "            \n",
    "    else:\n",
    "        break\n",
    "    gBlds_filtered[\"Shortlisted\"] = 1"
   ]
  },
  {
   "cell_type": "code",
   "execution_count": 25,
   "metadata": {},
   "outputs": [
    {
     "name": "stdout",
     "output_type": "stream",
     "text": [
      "We can find 446629 buildings under the following parameterization: \n",
      "min HH size: 25.6 \n",
      "Max HH size: 104.4 \n",
      "Confidence level more than 68.28\n"
     ]
    }
   ],
   "source": [
    "print (\"We can find {:.0f} buildings under the following parameterization: \\n\\\n",
    "min HH size: {:.1f} \\nMax HH size: {:.1f} \\nConfidence level more than {:.2f}\".format(gBlds_filtered.shape[0],\n",
    "                                                                                     m22,\n",
    "                                                                                     m21, \n",
    "                                                                                     conf))\n"
   ]
  },
  {
   "cell_type": "code",
   "execution_count": 26,
   "metadata": {},
   "outputs": [
    {
     "data": {
      "text/plain": [
       "Text(0.5, 0, 'Building area')"
      ]
     },
     "execution_count": 26,
     "metadata": {},
     "output_type": "execute_result"
    },
    {
     "data": {
      "image/png": "[encoded data removed]",
      "text/plain": [
       "<Figure size 640x480 with 1 Axes>"
      ]
     },
     "metadata": {},
     "output_type": "display_data"
    }
   ],
   "source": [
    "# Building count per unit area\n",
    "sns.histplot(data = gBlds_filtered, bins=300, edgecolor='w', linewidth=0.5, \\\n",
    "            x=\"area_in_meters\", color='#25afdc')\n",
    "ylims = plt.gca().get_ylim()\n",
    "\n",
    "stats = gBlds_filtered['area_in_meters'].describe()\n",
    "plt.axvline(x= stats['50%'], ymin=-0.1, ymax=0.8,  ls='--', color='C0', marker ='o')\n",
    "\n",
    "plt.axvline(x= stats['75%'], ymin=-0.1, ymax=0.45, ls='--', color='C0', marker ='o')\n",
    "\n",
    "plt.xlim([0,300])\n",
    "plt.ylim(ylims)\n",
    "plt.ylabel(\"N\")\n",
    "plt.xlabel(\"Building area\")\n",
    "#plt.savefig(\"../figs/open_bldgs_area_hist.png\", facecolor='white', transparent=False)"
   ]
  },
  {
   "cell_type": "code",
   "execution_count": 27,
   "metadata": {},
   "outputs": [
    {
     "data": {
      "text/plain": [
       "Text(0.5, 0, 'Building area')"
      ]
     },
     "execution_count": 27,
     "metadata": {},
     "output_type": "execute_result"
    },
    {
     "data": {
      "image/png": "[encoded data removed]",
      "text/plain": [
       "<Figure size 640x480 with 1 Axes>"
      ]
     },
     "metadata": {},
     "output_type": "display_data"
    }
   ],
   "source": [
    "#confidence per area bin\n",
    "sns.boxplot(data=gBlds_filtered, x='area_type', y ='confidence', color='#25afdc', width=0.5)\n",
    "plt.ylabel(\"Confidence\")\n",
    "plt.xlabel(\"Building area\")\n",
    "#plt.savefig(\"../figs/open_bldgs_confidence_per_area.png\", facecolor='white', transparent=False)"
   ]
  },
  {
   "cell_type": "code",
   "execution_count": 28,
   "metadata": {},
   "outputs": [
    {
     "data": {
      "text/plain": [
       "area_in_meters\n",
       "(25.529999999999998, 45.305]    198180\n",
       "(45.305, 65.0]                  127756\n",
       "(65.0, 84.695]                   76417\n",
       "(84.695, 104.39]                 44276\n",
       "Name: count, dtype: int64"
      ]
     },
     "execution_count": 28,
     "metadata": {},
     "output_type": "execute_result"
    }
   ],
   "source": [
    "gBlds_filtered[\"area_in_meters\"].value_counts(bins=4, sort=False)"
   ]
  },
  {
   "cell_type": "markdown",
   "metadata": {},
   "source": [
    "## Add other data to the dataset"
   ]
  },
  {
   "cell_type": "markdown",
   "metadata": {},
   "source": [
    "### Merge with the global building dataset for further processing"
   ]
  },
  {
   "cell_type": "code",
   "execution_count": 29,
   "metadata": {},
   "outputs": [],
   "source": [
    "gBlds = pd.merge(gBlds, gBlds_filtered[['system_index', 'Shortlisted']], on='system_index', how = 'left')"
   ]
  },
  {
   "cell_type": "markdown",
   "metadata": {},
   "source": [
    "### Extract raster values to buildings"
   ]
  },
  {
   "cell_type": "code",
   "execution_count": 30,
   "metadata": {},
   "outputs": [
    {
     "name": "stdout",
     "output_type": "stream",
     "text": [
      "2023-08-25 04:23:09.211887\n"
     ]
    }
   ],
   "source": [
    "# Relative Wealth Index (RWI) -- extracting the mean value per building\n",
    "# Link: https://gee-community-catalog.org/projects/rwi/\n",
    "pathRWI = \"Data/WealthIndex/rwi_map.tif\"\n",
    "gBlds = processing_raster(\"rwi\", \"mean\", gBlds, filepath=pathRWI) "
   ]
  },
  {
   "cell_type": "code",
   "execution_count": 31,
   "metadata": {},
   "outputs": [
    {
     "name": "stdout",
     "output_type": "stream",
     "text": [
      "2023-08-25 09:37:08.433540\n"
     ]
    }
   ],
   "source": [
    "## GHS-BUILT-C -- The spatial raster dataset delineates the Morphological Settlement Zone (MSZ) and the inner classification of the morphology and the function of the built environment\n",
    "## Link: https://ghsl.jrc.ec.europa.eu/ghs_buC2023.php\n",
    "pathGHSMSZ = \"Data/GHSL/Copperbelt_CMSZ_2018_R11C21.tif\"\n",
    "gBlds = processing_raster(\"GHSMSZ\", \"majority\", gBlds, filepath=pathGHSMSZ)"
   ]
  },
  {
   "cell_type": "code",
   "execution_count": 32,
   "metadata": {},
   "outputs": [
    {
     "name": "stdout",
     "output_type": "stream",
     "text": [
      "2023-08-25 10:25:43.831789\n"
     ]
    }
   ],
   "source": [
    "## Average of the Net Building Height (ANBH)\n",
    "## Link: https://ghsl.jrc.ec.europa.eu/ghs_buH2023.php\n",
    "pathGHSANBH = \"Data/GHSL/Copperbelt_HANBH_2018_R11C21.tif\"\n",
    "gBlds = processing_raster(\"GHSANBH\", \"mean\", gBlds, filepath=pathGHSANBH)"
   ]
  },
  {
   "cell_type": "code",
   "execution_count": null,
   "metadata": {},
   "outputs": [],
   "source": [
    "## set_lightscore_sy_xxxx.tif: Predicted likelihood that a settlement is electrified (0 to 1)\n",
    "## http://www-personal.umich.edu/~brianmin/HREA/data.html\n",
    "pathHREA = \"Data/Lighting/HREA_Zambia_2019_v1/Zambia_set_lightscore_sy_2019.tif\"\n",
    "gBlds = processing_raster(\"HREA\", \"mean\", gBlds, filepath=pathHREA)"
   ]
  },
  {
   "cell_type": "code",
   "execution_count": null,
   "metadata": {},
   "outputs": [],
   "source": [
    "## When extraction is completed, run this cell to bring data to a pandas df mode\n",
    "gBlds = finalizing_rasters(out_path, gBlds, crs_WGS84)"
   ]
  },
  {
   "cell_type": "code",
   "execution_count": null,
   "metadata": {},
   "outputs": [],
   "source": [
    "## OPTIONAL: Rename columns as/if needed\n",
    "gBlds.rename({'HREAmean': 'HREA', \n",
    "              'GHSANBHmean': 'GHSANBH',\n",
    "              'rwimean': 'rwi',\n",
    "              'GHSMSZmajority': 'GHSMSZ'}, axis=1, inplace=True)"
   ]
  },
  {
   "cell_type": "code",
   "execution_count": null,
   "metadata": {},
   "outputs": [],
   "source": [
    "gBlds.head(3)"
   ]
  },
  {
   "cell_type": "code",
   "execution_count": null,
   "metadata": {},
   "outputs": [],
   "source": [
    "#gBlds.to_file(os.path.join(out_path,\"{c}\".format(c=\"gBlds.gpkg\")), driver=\"GPKG\")"
   ]
  },
  {
   "cell_type": "code",
   "execution_count": null,
   "metadata": {},
   "outputs": [],
   "source": [
    "gBlds.to_csv(os.path.join(out_path,\"{c}\".format(c=\"gBlds.csv\")))"
   ]
  },
  {
   "cell_type": "code",
   "execution_count": null,
   "metadata": {},
   "outputs": [],
   "source": []
  }
 ],
 "metadata": {
  "kernelspec": {
   "display_name": "Python 3 (ipykernel)",
   "language": "python",
   "name": "python3"
  },
  "language_info": {
   "codemirror_mode": {
    "name": "ipython",
    "version": 3
   },
   "file_extension": ".py",
   "mimetype": "text/x-python",
   "name": "python",
   "nbconvert_exporter": "python",
   "pygments_lexer": "ipython3",
   "version": "3.8.12"
  }
 },
 "nbformat": 4,
 "nbformat_minor": 4
}
