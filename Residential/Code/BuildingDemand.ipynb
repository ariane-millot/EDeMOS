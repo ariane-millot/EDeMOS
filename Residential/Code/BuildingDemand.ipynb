{
 "cells": [
  {
   "cell_type": "markdown",
   "metadata": {},
   "source": [
    "# Building Residential demand\n",
    "\n",
    "**Original code:** [Alexandros Korkovelos](https://github.com/akorkovelos) <br />\n",
    "**Support:** [Ariane Millot](https://github.com/ariane-millot), [Martin J. Stringer]() & [Vignesh Shridharan](https://github.com/vignesh1987) <br />\n",
    "**Funding:** Imperial College <br />\n",
    "\n",
    "---------------------------\n"
   ]
  },
  {
   "cell_type": "markdown",
   "metadata": {},
   "source": [
    "#### Brief overview\n",
    "\n",
    "This notebook performs three main analytical processes:\n",
    "\n",
    "- **Part 1**: Extract population data for the area of interest\n",
    "- **Part 2**: Get buildings from Google Building Footprint data and classify into groups per size and confidence level\n",
    "- **Part 3**: Extract all \"good candidates\" of residential buildings\n",
    "- **Part 4**: Assign demand based on formulation \n",
    "\n",
    "A slightly more detailed description of the processing bits is presented before each part below. <br />\n"
   ]
  },
  {
   "cell_type": "code",
   "execution_count": 1,
   "metadata": {},
   "outputs": [],
   "source": [
    "%run BuildingDemand_funcs.ipynb"
   ]
  },
  {
   "cell_type": "markdown",
   "metadata": {},
   "source": [
    "### Import necessary modules"
   ]
  },
  {
   "cell_type": "code",
   "execution_count": 1,
   "metadata": {
    "code_folding": [
     0
    ]
   },
   "outputs": [],
   "source": [
    "### Activate geospatial_env first\n",
    "\n",
    "# Numeric\n",
    "import numpy as np\n",
    "import pandas as pd\n",
    "import math\n",
    "\n",
    "# System\n",
    "import os\n",
    "import shutil\n",
    "from IPython.display import display, Markdown, HTML, FileLink, FileLinks\n",
    "\n",
    "# Spatial\n",
    "import geopandas as gpd\n",
    "import json\n",
    "import pyproj\n",
    "from shapely.geometry import Point, Polygon, MultiPoint\n",
    "from shapely.wkt import dumps, loads\n",
    "from shapely.ops import nearest_points\n",
    "from pyproj import CRS\n",
    "import ogr, gdal, osr\n",
    "#import fiona\n",
    "\n",
    "\n",
    "# Mapping / Plotting\n",
    "from functools import reduce\n",
    "#import datapane as dp \n",
    "#!datapane login --token=\"9bde41bfbc4ad14119e32086f9f06d2e5db1d5b8\"\n",
    "import folium\n",
    "from folium.features import GeoJsonTooltip\n",
    "from folium.plugins import BeautifyIcon\n",
    "from folium.plugins import HeatMap\n",
    "import branca.colormap as cm\n",
    "import matplotlib.pyplot as plt\n",
    "from matplotlib.ticker import MaxNLocator\n",
    "%matplotlib inline\n",
    "\n",
    "%matplotlib inline"
   ]
  },
  {
   "cell_type": "code",
   "execution_count": 2,
   "metadata": {
    "code_folding": [
     0
    ]
   },
   "outputs": [
    {
     "data": {
      "text/plain": [
       "''"
      ]
     },
     "execution_count": 2,
     "metadata": {},
     "output_type": "execute_result"
    }
   ],
   "source": [
    "#import geopandas as gpd   # Note that you require geopandas version >= 0.7 that incluse clip see here for installation (https://gis.stackexchange.com/questions/360127/geopandas-0-6-1-installed-instead-of-0-7-0-in-conda-windows-10#)\n",
    "import os\n",
    "import fiona\n",
    "import ipywidgets as widgets\n",
    "from IPython.display import display\n",
    "from rasterstats import zonal_stats\n",
    "import rasterio\n",
    "from geojson import Feature, Point, FeatureCollection\n",
    "import rasterio.fill\n",
    "from shapely.geometry import shape, mapping\n",
    "import json\n",
    "#from earthpy import clip    clip has been deprecated to geopandas\n",
    "#import earthpy.spatial as es\n",
    "import numpy as np\n",
    "import tkinter as tk\n",
    "from tkinter import filedialog, messagebox\n",
    "import gdal\n",
    "import datetime\n",
    "import warnings\n",
    "import pandas as pd\n",
    "import scipy.spatial\n",
    "warnings.filterwarnings('ignore')\n",
    "\n",
    "#import contextily as ctx\n",
    "import h3 as h3\n",
    "from shapely.ops import unary_union\n",
    "from shapely.geometry.polygon import Polygon\n",
    "import seaborn as sns\n",
    "\n",
    "root = tk.Tk()\n",
    "root.withdraw()\n",
    "root.attributes(\"-topmost\", True)"
   ]
  },
  {
   "cell_type": "markdown",
   "metadata": {},
   "source": [
    "### Define directories and dataset names"
   ]
  },
  {
   "cell_type": "code",
   "execution_count": 2,
   "metadata": {},
   "outputs": [],
   "source": [
    "ROOT_DIR = os.path.abspath(os.curdir)\n",
    "in_path = ROOT_DIR + \"\\\\\" + 'Sample_Input'\n",
    "out_path = ROOT_DIR + \"\\\\\" + 'Sample_Output'\n",
    "\n",
    "## admininstrative boundary\n",
    "admin_path = in_path + \"\\\\\"+ 'admin'\n",
    "admin_name = \"Copperbelt.gpkg\"   "
   ]
  },
  {
   "cell_type": "markdown",
   "metadata": {},
   "source": [
    "### Define coordinate and projection system"
   ]
  },
  {
   "cell_type": "code",
   "execution_count": 3,
   "metadata": {},
   "outputs": [],
   "source": [
    "## Coordinate and projection systems\n",
    "crs_WGS84 = CRS(\"EPSG:4326\")    # Originan WGS84 coordinate system\n",
    "crs_proj = CRS(\"EPSG:32736\")    # Projection system for the selected country -- see http://epsg.io/ for more info"
   ]
  },
  {
   "cell_type": "markdown",
   "metadata": {},
   "source": [
    "### Add functions"
   ]
  },
  {
   "cell_type": "code",
   "execution_count": 5,
   "metadata": {
    "code_folding": [
     0
    ]
   },
   "outputs": [],
   "source": [
    "def processing_raster(name, method, clusters):\n",
    "    messagebox.showinfo('OnSSET', 'Select the ' + name + ' map')\n",
    "    raster=rasterio.open(filedialog.askopenfilename(filetypes = ((\"rasters\",\"*.tif\"),(\"all files\",\"*.*\"))))\n",
    "    \n",
    "    clusters = zonal_stats(\n",
    "        clusters,\n",
    "        raster.name,\n",
    "        stats=[method],\n",
    "        prefix=name, geojson_out=True, all_touched=True)\n",
    "    \n",
    "    print(datetime.datetime.now())\n",
    "    return clusters"
   ]
  },
  {
   "cell_type": "code",
   "execution_count": 6,
   "metadata": {
    "code_folding": [
     0
    ]
   },
   "outputs": [],
   "source": [
    "def finalizing_rasters(workspace, clusters, crs):\n",
    "    output = workspace + r'\\placeholder.geojson'\n",
    "    with open(output, \"w\") as dst:\n",
    "        collection = {\n",
    "            \"type\": \"FeatureCollection\",\n",
    "            \"features\": list(clusters)}\n",
    "        dst.write(json.dumps(collection))\n",
    "  \n",
    "    clusters = gpd.read_file(output)\n",
    "    os.remove(output)\n",
    "    \n",
    "    print(datetime.datetime.now())\n",
    "    return clusters"
   ]
  },
  {
   "cell_type": "markdown",
   "metadata": {},
   "source": [
    "### Import layer delineating the Area Of Interest (AoI)"
   ]
  },
  {
   "cell_type": "code",
   "execution_count": 4,
   "metadata": {},
   "outputs": [],
   "source": [
    "## admininstrative boundary\n",
    "admin_gdf = gpd.read_file(admin_path + \"\\\\\" + admin_name)"
   ]
  },
  {
   "cell_type": "markdown",
   "metadata": {},
   "source": [
    "### Extraction of zonal stats"
   ]
  },
  {
   "cell_type": "code",
   "execution_count": 5,
   "metadata": {},
   "outputs": [
    {
     "name": "stdout",
     "output_type": "stream",
     "text": [
      "2023-06-11 10:43:36.987983\n"
     ]
    }
   ],
   "source": [
    "admin_gdf = processing_raster(\"buildings\", \"sum\", admin_gdf)      #Copperbelt_buildings_v2_0_count from https://apps.worldpop.org/peanutButter/"
   ]
  },
  {
   "cell_type": "code",
   "execution_count": 20,
   "metadata": {},
   "outputs": [
    {
     "name": "stdout",
     "output_type": "stream",
     "text": [
      "2023-06-09 08:14:53.105513\n"
     ]
    }
   ],
   "source": [
    "admin_gdf = processing_raster(\"WorldPop\", \"sum\", admin_gdf)           #Using Zambia 100m population layer; default values at WorldPopPeanutButter"
   ]
  },
  {
   "cell_type": "code",
   "execution_count": 21,
   "metadata": {},
   "outputs": [
    {
     "name": "stdout",
     "output_type": "stream",
     "text": [
      "2023-06-09 08:15:08.655934\n"
     ]
    }
   ],
   "source": [
    "admin_gdf = processing_raster(\"HRSL\", \"sum\", admin_gdf)     #HRSL from Meta (2020) @ https://data.humdata.org/dataset/highresolutionpopulationdensitymaps-zmb"
   ]
  },
  {
   "cell_type": "markdown",
   "metadata": {},
   "source": [
    "##### Once done with rasters run this cell"
   ]
  },
  {
   "cell_type": "code",
   "execution_count": 22,
   "metadata": {},
   "outputs": [
    {
     "name": "stdout",
     "output_type": "stream",
     "text": [
      "2023-06-09 08:15:11.626296\n"
     ]
    }
   ],
   "source": [
    "admin_gdf = finalizing_rasters(out_path, admin_gdf, crs_proj)"
   ]
  },
  {
   "cell_type": "markdown",
   "metadata": {},
   "source": [
    "### Estimate number of residential buildings"
   ]
  },
  {
   "cell_type": "code",
   "execution_count": 23,
   "metadata": {},
   "outputs": [
    {
     "name": "stdout",
     "output_type": "stream",
     "text": [
      "The data extraction indicated that in COPPERBELT there are 1014100 buildings & the population is: \n",
      "HRSL: 2498431 \n",
      "WorldPop: 2129602 \n",
      "The estimated number of residential buildings is 453729.0\n"
     ]
    }
   ],
   "source": [
    "pplperHH = 5.1          ## provide average household size\n",
    "\n",
    "resbld = round(np.mean(list([admin_gdf.HRSLsum.sum(), admin_gdf.WorldPopsum.sum()]))/pplperHH)\n",
    "\n",
    "print (\"The data extraction indicated that in {} there are {:.0f} buildings & the population is: \\n\\\n",
    "HRSL: {:.0f} \\nWorldPop: {:.0f} \\nThe estimated number of residential buildings is {}\".format(admin_gdf.ADM1_NAME[0],\n",
    "                                       admin_gdf.buildingssum.sum(),\n",
    "                                       admin_gdf.HRSLsum.sum(),\n",
    "                                       admin_gdf.WorldPopsum.sum(),\n",
    "                                       resbld))\n"
   ]
  },
  {
   "cell_type": "markdown",
   "metadata": {},
   "source": [
    "### Let's find those buildings using Google building footprints \n",
    "Source: https://sites.research.google/open-buildings/\n",
    "\n",
    "Note that the code for extraction from GEE is available in the repo; Run this and extract for the area of interest directly from GEE. We could potentially integrate \"ee\" here, but not a priority for now.."
   ]
  },
  {
   "cell_type": "code",
   "execution_count": 24,
   "metadata": {},
   "outputs": [],
   "source": [
    "path= r\"C:\\Users\\alexl\\Dropbox\\Self-employment\\Imperial work\\Zambia\\GIS\\GoogleBuildingFootprints\"\n",
    "#name6065kml = 'Copperbelt_t_060_065.kml'\n",
    "#name6570kml = 'Copperbelt_t_065_070.kml'\n",
    "#name70kml = 'Copperbelt_t_gte_070.kml'\n",
    "name6065gpkg = 'Copperbelt_t_060_065.gpkg'\n",
    "name6570gpkg = 'Copperbelt_t_065_070.gpkg'\n",
    "name70gpkg = 'Copperbelt_t_gte_070.gpkg'"
   ]
  },
  {
   "cell_type": "code",
   "execution_count": 25,
   "metadata": {
    "code_folding": [
     0
    ]
   },
   "outputs": [],
   "source": [
    "## Reading kml files into geopandas (not working only first 3 columns are imported)\n",
    "#gpd.io.file.fiona.drvsupport.supported_drivers['kml'] = 'rw'\n",
    "#\n",
    "### Approach 1\n",
    "#building = gpd.read_file(path + \"\\\\\" + name6065kml, driver='LIBKML')\n",
    "#\n",
    "### Approach 2\n",
    "#fp=path + \"\\\\\" + name6065kml\n",
    "#gdf_list = []\n",
    "#for layer in fiona.listlayers(fp):    \n",
    "#    gdf = gpd.read_file(fp, driver='kml', layer=layer)\n",
    "#    gdf_list.append(gdf)\n",
    "#gdf = gpd.GeoDataFrame(pd.concat(gdf_list, ignore_index=True))"
   ]
  },
  {
   "cell_type": "code",
   "execution_count": 26,
   "metadata": {},
   "outputs": [],
   "source": [
    "## Reading geopackages (converted kml to pkg in Qgis)\n",
    "buildings6065 = gpd.read_file(path + \"\\\\\" + name6065gpkg)\n",
    "buildings6570 = gpd.read_file(path + \"\\\\\" + name6570gpkg)\n",
    "buildings70 = gpd.read_file(path + \"\\\\\" + name70gpkg)"
   ]
  },
  {
   "cell_type": "code",
   "execution_count": 27,
   "metadata": {
    "code_folding": []
   },
   "outputs": [],
   "source": [
    "# Concatenate the three GeoDataFrames into one\n",
    "cols = ['Name', 'description', 'longitude_latitude', 'confidence', \n",
    "        'area_in_meters', 'system_index','full_plus_code', 'geometry']\n",
    "\n",
    "## Merge layers into one\n",
    "gBlds = gpd.GeoDataFrame(pd.concat([buildings6065, buildings6570, buildings70], ignore_index=True))\n",
    "\n",
    "## Keep only useful columns\n",
    "gBlds = gBlds[cols]"
   ]
  },
  {
   "cell_type": "code",
   "execution_count": 28,
   "metadata": {},
   "outputs": [],
   "source": [
    "## Convert columns to float for processing\n",
    "gBlds['area_in_meters'] = gBlds['area_in_meters'].astype(float)\n",
    "gBlds['confidence'] = gBlds['confidence'].astype(float)"
   ]
  },
  {
   "cell_type": "code",
   "execution_count": 29,
   "metadata": {},
   "outputs": [
    {
     "data": {
      "text/plain": [
       "(1130701, 8)"
      ]
     },
     "execution_count": 29,
     "metadata": {},
     "output_type": "execute_result"
    }
   ],
   "source": [
    "gBlds.shape"
   ]
  },
  {
   "cell_type": "code",
   "execution_count": 43,
   "metadata": {
    "code_folding": []
   },
   "outputs": [],
   "source": [
    "#test = buildings6065.sample(frac=0.1, replace=True, random_state=1)"
   ]
  },
  {
   "cell_type": "code",
   "execution_count": 30,
   "metadata": {},
   "outputs": [
    {
     "data": {
      "text/plain": [
       "Text(0.5, 0, 'Building area')"
      ]
     },
     "execution_count": 30,
     "metadata": {},
     "output_type": "execute_result"
    },
    {
     "data": {
      "image/png": "[encoded data removed]",
      "text/plain": [
       "<Figure size 432x288 with 1 Axes>"
      ]
     },
     "metadata": {
      "needs_background": "light"
     },
     "output_type": "display_data"
    }
   ],
   "source": [
    "# Building count per unit area\n",
    "sns.histplot(data = gBlds, bins=300, edgecolor='w', linewidth=0.5, \\\n",
    "            x=\"area_in_meters\", color='#25afdc')\n",
    "ylims = plt.gca().get_ylim()\n",
    "\n",
    "stats = gBlds['area_in_meters'].describe()\n",
    "plt.axvline(x= stats['50%'], ymin=-0.1, ymax=0.8,  ls='--', color='C0', marker ='o')\n",
    "\n",
    "plt.axvline(x= stats['75%'], ymin=-0.1, ymax=0.45, ls='--', color='C0', marker ='o')\n",
    "\n",
    "plt.xlim([0,300])\n",
    "plt.ylim(ylims)\n",
    "plt.ylabel(\"N\")\n",
    "plt.xlabel(\"Building area\")\n",
    "#plt.savefig(\"../figs/open_bldgs_area_hist.png\", facecolor='white', transparent=False)"
   ]
  },
  {
   "cell_type": "code",
   "execution_count": 31,
   "metadata": {},
   "outputs": [],
   "source": [
    "gBlds['area_type'] = pd.cut(gBlds['area_in_meters'],\n",
    "                            bins=[0,30,50,100,300,float(\"inf\")],\n",
    "                            right=True, \n",
    "                            labels=['<30m²','30-50m²','50-100m²','100-300m²','>300m²'])"
   ]
  },
  {
   "cell_type": "code",
   "execution_count": 32,
   "metadata": {},
   "outputs": [
    {
     "data": {
      "text/plain": [
       "Text(0.5, 0, 'Building area')"
      ]
     },
     "execution_count": 32,
     "metadata": {},
     "output_type": "execute_result"
    },
    {
     "data": {
      "image/png": "[encoded data removed]",
      "text/plain": [
       "<Figure size 432x288 with 1 Axes>"
      ]
     },
     "metadata": {
      "needs_background": "light"
     },
     "output_type": "display_data"
    }
   ],
   "source": [
    "#confidence per area bin\n",
    "sns.boxplot(data=gBlds, x='area_type', y ='confidence', color='#25afdc', width=0.5)\n",
    "plt.ylabel(\"Confidence\")\n",
    "plt.xlabel(\"Building area\")\n",
    "#plt.savefig(\"../figs/open_bldgs_confidence_per_area.png\", facecolor='white', transparent=False)"
   ]
  },
  {
   "cell_type": "markdown",
   "metadata": {},
   "source": [
    "### Find \"optimal\" sub-set of buildings \n",
    "The following code will give you the m2 range and confidence level to reach a certain threshold number of buildings\n",
    "\n",
    "\n",
    "**Note!** \n",
    "\n",
    "This is a simple solution for building selection based on the info we have at hand. There are resources available to explore more comprehensive classification ML-based techniques. Below are two examples that might be interesting to further explore. \n",
    "\n",
    "* [Using GIS and Machine Learning to Classify Residential Status of Urban Buildings in Low and Middle Income Settings](https://www.mdpi.com/2072-4292/12/23/3847)\n",
    "* [Predicting residential structures from open source remotely enumerated data using machine learning](https://journals.plos.org/plosone/article?id=10.1371/journal.pone.0204399)\n",
    "* [OSM_building_prediction - GitHub repo](https://github.com/disarm-platform/OSM_building_prediction)"
   ]
  },
  {
   "cell_type": "code",
   "execution_count": 33,
   "metadata": {},
   "outputs": [
    {
     "data": {
      "text/plain": [
       "453729.0"
      ]
     },
     "execution_count": 33,
     "metadata": {},
     "output_type": "execute_result"
    }
   ],
   "source": [
    "resbld"
   ]
  },
  {
   "cell_type": "code",
   "execution_count": 34,
   "metadata": {
    "code_folding": []
   },
   "outputs": [
    {
     "name": "stdout",
     "output_type": "stream",
     "text": [
      "The optimal parameters for achieving the threshold you defined are m2:22.05-67.95 and confidence level of 63.05%\n"
     ]
    }
   ],
   "source": [
    "# Set the target number of buildings below\n",
    "threshold = resbld\n",
    "\n",
    "# These are calibrating parameteres\n",
    "variance_area = 0.5\n",
    "variance_conf = 0.01\n",
    "\n",
    "# Define initial filtering parameters\n",
    "HHarea = 45                                #This is the average size of a typical HH in the AoI in sq.m\n",
    "conflevel = gBlds[\"confidence\"].max()\n",
    "endloop=False\n",
    "gBlds_filtered = gBlds\n",
    "\n",
    "\n",
    "# Loop until threshold is reached or no more rows can be filtered\n",
    "while (len(gBlds_filtered) > threshold) & (endloop == False):\n",
    "    gBlds_filtered = gBlds[((gBlds[\"area_in_meters\"] >= HHarea - variance_area*HHarea) & \n",
    "                            (gBlds[\"area_in_meters\"] <= HHarea + variance_area*HHarea))]\n",
    "    # Action if building selection is still higher than threshold\n",
    "    #print(\"test 1: {}\".format(gBlds_filtered.shape[0]))\n",
    "    if (len(gBlds_filtered) > threshold):\n",
    "        min_conflevel = gBlds_filtered[\"confidence\"].min()\n",
    "        while (len(gBlds_filtered) > threshold) & (endloop == False):\n",
    "            gBlds_filtered = gBlds[((gBlds[\"area_in_meters\"] >= HHarea - variance_area*HHarea) &\n",
    "                                    (gBlds[\"area_in_meters\"] <= HHarea + variance_area*HHarea)) &\n",
    "                                   (gBlds[\"confidence\"] >= min_conflevel)]\n",
    "            #print(\"test 2: {}\".format(gBlds_filtered.shape[0]))\n",
    "            if (len(gBlds_filtered) > threshold):\n",
    "                if (min_conflevel < conflevel):\n",
    "                    min_conflevel += variance_conf*min_conflevel\n",
    "                    #print(\"test 3: {}\".format(min_conflevel))\n",
    "                else:\n",
    "                    print(\"The min confidence level has been exhausted; we move on to a different set\")\n",
    "                    break\n",
    "            else:\n",
    "                while len(gBlds_filtered) < threshold:\n",
    "                    variance_area += 0.01*variance_area\n",
    "                    gBlds_filtered = gBlds[((gBlds[\"area_in_meters\"] >= HHarea - variance_area*HHarea) &\n",
    "                                            (gBlds[\"area_in_meters\"] <= HHarea + variance_area*HHarea)) &\n",
    "                                           (gBlds[\"confidence\"] >= min_conflevel)]\n",
    "                    #print(\"test 4: {}\".format(gBlds_filtered.shape[0]))\n",
    "                    if len(gBlds_filtered) > threshold:\n",
    "                        endloop = True\n",
    "                        #print(\"test 5: {}\".format(gBlds_filtered.shape[0]))\n",
    "                        m21 = HHarea + variance_area*HHarea\n",
    "                        m22 = HHarea - variance_area*HHarea\n",
    "                        conf = (min_conflevel - variance_conf*min_conflevel)*100\n",
    "                        print(\"The optimal parameters for achieving the threshold you defined are m2:{:.2f}-{:.2f} and confidence level of {:.2f}%\".format(m22, m21, conf))\n",
    "                        break\n",
    "                break\n",
    "            \n",
    "    else:\n",
    "        break\n",
    "    gBlds_filtered[\"Shortlisted\"] = 1"
   ]
  },
  {
   "cell_type": "code",
   "execution_count": 35,
   "metadata": {},
   "outputs": [
    {
     "name": "stdout",
     "output_type": "stream",
     "text": [
      "We can find 459151 buildings under the following parameterization: \n",
      "min HH size: 22.0 \n",
      "Max HH size: 68.0 \n",
      "Confidence level more than 63.05\n"
     ]
    }
   ],
   "source": [
    "print (\"We can find {:.0f} buildings under the following parameterization: \\n\\\n",
    "min HH size: {:.1f} \\nMax HH size: {:.1f} \\nConfidence level more than {:.2f}\".format(gBlds_filtered.shape[0],\n",
    "                                                                                     m22,\n",
    "                                                                                     m21, \n",
    "                                                                                     conf))\n"
   ]
  },
  {
   "cell_type": "code",
   "execution_count": 36,
   "metadata": {},
   "outputs": [
    {
     "data": {
      "text/plain": [
       "Text(0.5, 0, 'Building area')"
      ]
     },
     "execution_count": 36,
     "metadata": {},
     "output_type": "execute_result"
    },
    {
     "data": {
      "image/png": "[encoded data removed]",
      "text/plain": [
       "<Figure size 432x288 with 1 Axes>"
      ]
     },
     "metadata": {
      "needs_background": "light"
     },
     "output_type": "display_data"
    }
   ],
   "source": [
    "# Building count per unit area\n",
    "sns.histplot(data = gBlds_filtered, bins=300, edgecolor='w', linewidth=0.5, \\\n",
    "            x=\"area_in_meters\", color='#25afdc')\n",
    "ylims = plt.gca().get_ylim()\n",
    "\n",
    "stats = gBlds_filtered['area_in_meters'].describe()\n",
    "plt.axvline(x= stats['50%'], ymin=-0.1, ymax=0.8,  ls='--', color='C0', marker ='o')\n",
    "\n",
    "plt.axvline(x= stats['75%'], ymin=-0.1, ymax=0.45, ls='--', color='C0', marker ='o')\n",
    "\n",
    "plt.xlim([0,300])\n",
    "plt.ylim(ylims)\n",
    "plt.ylabel(\"N\")\n",
    "plt.xlabel(\"Building area\")\n",
    "#plt.savefig(\"../figs/open_bldgs_area_hist.png\", facecolor='white', transparent=False)"
   ]
  },
  {
   "cell_type": "code",
   "execution_count": 37,
   "metadata": {},
   "outputs": [
    {
     "data": {
      "text/plain": [
       "Text(0.5, 0, 'Building area')"
      ]
     },
     "execution_count": 37,
     "metadata": {},
     "output_type": "execute_result"
    },
    {
     "data": {
      "image/png": "[encoded data removed]",
      "text/plain": [
       "<Figure size 432x288 with 1 Axes>"
      ]
     },
     "metadata": {
      "needs_background": "light"
     },
     "output_type": "display_data"
    }
   ],
   "source": [
    "#confidence per area bin\n",
    "sns.boxplot(data=gBlds_filtered, x='area_type', y ='confidence', color='#25afdc', width=0.5)\n",
    "plt.ylabel(\"Confidence\")\n",
    "plt.xlabel(\"Building area\")\n",
    "#plt.savefig(\"../figs/open_bldgs_confidence_per_area.png\", facecolor='white', transparent=False)"
   ]
  },
  {
   "cell_type": "code",
   "execution_count": 38,
   "metadata": {},
   "outputs": [
    {
     "data": {
      "text/plain": [
       "(22.000999999999998, 33.524]    178992\n",
       "(33.524, 45.0]                  121243\n",
       "(45.0, 56.476]                   89762\n",
       "(56.476, 67.952]                 69154\n",
       "Name: area_in_meters, dtype: int64"
      ]
     },
     "execution_count": 38,
     "metadata": {},
     "output_type": "execute_result"
    }
   ],
   "source": [
    "gBlds_filtered[\"area_in_meters\"].value_counts(bins=4, sort=False)"
   ]
  },
  {
   "cell_type": "markdown",
   "metadata": {},
   "source": [
    "### Merge with the global building dataset for further processing"
   ]
  },
  {
   "cell_type": "code",
   "execution_count": 39,
   "metadata": {},
   "outputs": [],
   "source": [
    "gBlds = pd.merge(gBlds, gBlds_filtered[['system_index', 'Shortlisted']], on='system_index', how = 'left')"
   ]
  },
  {
   "cell_type": "markdown",
   "metadata": {},
   "source": [
    "### Extract raster values to buildings"
   ]
  },
  {
   "cell_type": "code",
   "execution_count": 60,
   "metadata": {},
   "outputs": [
    {
     "name": "stdout",
     "output_type": "stream",
     "text": [
      "2023-05-28 14:59:08.259600\n"
     ]
    }
   ],
   "source": [
    "## Relative Wealth Index (RWI) -- extracting the mean value per building\n",
    "## Link: https://gee-community-catalog.org/projects/rwi/\n",
    "\n",
    "gBlds = processing_raster(\"rwi\", \"mean\", gBlds)     "
   ]
  },
  {
   "cell_type": "code",
   "execution_count": 62,
   "metadata": {},
   "outputs": [
    {
     "name": "stdout",
     "output_type": "stream",
     "text": [
      "2023-05-28 16:21:43.707758\n"
     ]
    }
   ],
   "source": [
    "## GHS-BUILT-C -- The spatial raster dataset delineates the Morphological Settlement Zone (MSZ) and the inner classification of the morphology and the function of the built environment\n",
    "## Link: https://ghsl.jrc.ec.europa.eu/ghs_buC2023.php\n",
    "\n",
    "gBlds = processing_raster(\"GHSMSZ\", \"majority\", gBlds)"
   ]
  },
  {
   "cell_type": "code",
   "execution_count": 63,
   "metadata": {},
   "outputs": [
    {
     "name": "stdout",
     "output_type": "stream",
     "text": [
      "2023-05-29 00:11:09.923006\n"
     ]
    }
   ],
   "source": [
    "## Average of the Net Building Height (ANBH)\n",
    "## Link: https://ghsl.jrc.ec.europa.eu/ghs_buH2023.php\n",
    "\n",
    "gBlds = processing_raster(\"GHSANBH\", \"mean\", gBlds)"
   ]
  },
  {
   "cell_type": "code",
   "execution_count": 40,
   "metadata": {},
   "outputs": [
    {
     "name": "stdout",
     "output_type": "stream",
     "text": [
      "2023-06-09 09:30:51.736637\n"
     ]
    }
   ],
   "source": [
    "## set_lightscore_sy_xxxx.tif: Predicted likelihood that a settlement is electrified (0 to 1)\n",
    "## http://www-personal.umich.edu/~brianmin/HREA/data.html\n",
    "\n",
    "gBlds = processing_raster(\"HREA\", \"mean\", gBlds)"
   ]
  },
  {
   "cell_type": "code",
   "execution_count": 41,
   "metadata": {},
   "outputs": [
    {
     "name": "stdout",
     "output_type": "stream",
     "text": [
      "2023-06-09 09:36:35.340237\n"
     ]
    }
   ],
   "source": [
    "## When extraction is completed, run this cell to bring data to a pandas df mode\n",
    "gBlds = finalizing_rasters(out_path, gBlds, crs_WGS84)"
   ]
  },
  {
   "cell_type": "code",
   "execution_count": 51,
   "metadata": {},
   "outputs": [],
   "source": [
    "## OPTIONAL: Rename columns as/if needed\n",
    "gBlds.rename({'HREAmean': 'HREA', \n",
    "              'GHSANBHmean_x': 'GHSANBH',\n",
    "              'rwimean': 'rwi',\n",
    "              'GHSMSZmajority': 'GHSMSZ'}, axis=1, inplace=True)"
   ]
  },
  {
   "cell_type": "code",
   "execution_count": 54,
   "metadata": {},
   "outputs": [
    {
     "data": {
      "text/html": [
       "<div>\n",
       "<style scoped>\n",
       "    .dataframe tbody tr th:only-of-type {\n",
       "        vertical-align: middle;\n",
       "    }\n",
       "\n",
       "    .dataframe tbody tr th {\n",
       "        vertical-align: top;\n",
       "    }\n",
       "\n",
       "    .dataframe thead th {\n",
       "        text-align: right;\n",
       "    }\n",
       "</style>\n",
       "<table border=\"1\" class=\"dataframe\">\n",
       "  <thead>\n",
       "    <tr style=\"text-align: right;\">\n",
       "      <th></th>\n",
       "      <th>id</th>\n",
       "      <th>Name</th>\n",
       "      <th>Shortlisted</th>\n",
       "      <th>area_in_meters</th>\n",
       "      <th>area_type</th>\n",
       "      <th>confidence</th>\n",
       "      <th>description</th>\n",
       "      <th>full_plus_code</th>\n",
       "      <th>longitude_latitude</th>\n",
       "      <th>system_index</th>\n",
       "      <th>HREA</th>\n",
       "      <th>geometry</th>\n",
       "      <th>GHSANBH</th>\n",
       "      <th>rwi</th>\n",
       "      <th>GHSMSZ</th>\n",
       "    </tr>\n",
       "  </thead>\n",
       "  <tbody>\n",
       "    <tr>\n",
       "      <th>0</th>\n",
       "      <td>0</td>\n",
       "      <td>None</td>\n",
       "      <td>NaN</td>\n",
       "      <td>8.173100</td>\n",
       "      <td>&lt;30m²</td>\n",
       "      <td>0.625</td>\n",
       "      <td>None</td>\n",
       "      <td>5GRC7MXR+MVH9</td>\n",
       "      <td>{'type': 'Point', 'coordinates': [28.692250715...</td>\n",
       "      <td>04440000000000004393</td>\n",
       "      <td>NaN</td>\n",
       "      <td>POLYGON ((28.69226 -13.70083, 28.69226 -13.700...</td>\n",
       "      <td>2.5</td>\n",
       "      <td>-0.434</td>\n",
       "      <td>0.0</td>\n",
       "    </tr>\n",
       "    <tr>\n",
       "      <th>1</th>\n",
       "      <td>1</td>\n",
       "      <td>None</td>\n",
       "      <td>NaN</td>\n",
       "      <td>31.574301</td>\n",
       "      <td>30-50m²</td>\n",
       "      <td>0.625</td>\n",
       "      <td>None</td>\n",
       "      <td>5GRCGR58+W9M7</td>\n",
       "      <td>{'type': 'Point', 'coordinates': [28.815919423...</td>\n",
       "      <td>044400000000000054b4</td>\n",
       "      <td>0.069606</td>\n",
       "      <td>POLYGON ((28.81596 -13.49018, 28.81590 -13.490...</td>\n",
       "      <td>2.5</td>\n",
       "      <td>-0.133</td>\n",
       "      <td>0.0</td>\n",
       "    </tr>\n",
       "    <tr>\n",
       "      <th>2</th>\n",
       "      <td>2</td>\n",
       "      <td>None</td>\n",
       "      <td>NaN</td>\n",
       "      <td>10.803500</td>\n",
       "      <td>&lt;30m²</td>\n",
       "      <td>0.625</td>\n",
       "      <td>None</td>\n",
       "      <td>5GRCQQPH+6VPR</td>\n",
       "      <td>{'type': 'Point', 'coordinates': [28.779689227...</td>\n",
       "      <td>04440000000000006e2b</td>\n",
       "      <td>0.060423</td>\n",
       "      <td>POLYGON ((28.77971 -13.21442, 28.77970 -13.214...</td>\n",
       "      <td>2.5</td>\n",
       "      <td>-0.382</td>\n",
       "      <td>0.0</td>\n",
       "    </tr>\n",
       "  </tbody>\n",
       "</table>\n",
       "</div>"
      ],
      "text/plain": [
       "  id  Name  Shortlisted  area_in_meters area_type  confidence description  \\\n",
       "0  0  None          NaN        8.173100     <30m²       0.625        None   \n",
       "1  1  None          NaN       31.574301   30-50m²       0.625        None   \n",
       "2  2  None          NaN       10.803500     <30m²       0.625        None   \n",
       "\n",
       "  full_plus_code                                 longitude_latitude  \\\n",
       "0  5GRC7MXR+MVH9  {'type': 'Point', 'coordinates': [28.692250715...   \n",
       "1  5GRCGR58+W9M7  {'type': 'Point', 'coordinates': [28.815919423...   \n",
       "2  5GRCQQPH+6VPR  {'type': 'Point', 'coordinates': [28.779689227...   \n",
       "\n",
       "           system_index      HREA  \\\n",
       "0  04440000000000004393       NaN   \n",
       "1  044400000000000054b4  0.069606   \n",
       "2  04440000000000006e2b  0.060423   \n",
       "\n",
       "                                            geometry  GHSANBH    rwi  GHSMSZ  \n",
       "0  POLYGON ((28.69226 -13.70083, 28.69226 -13.700...      2.5 -0.434     0.0  \n",
       "1  POLYGON ((28.81596 -13.49018, 28.81590 -13.490...      2.5 -0.133     0.0  \n",
       "2  POLYGON ((28.77971 -13.21442, 28.77970 -13.214...      2.5 -0.382     0.0  "
      ]
     },
     "execution_count": 54,
     "metadata": {},
     "output_type": "execute_result"
    }
   ],
   "source": [
    "gBlds.head(3)"
   ]
  },
  {
   "cell_type": "code",
   "execution_count": 55,
   "metadata": {},
   "outputs": [],
   "source": [
    "#gBlds.to_file(os.path.join(out_path,\"{c}\".format(c=\"gBlds.gpkg\")), driver=\"GPKG\")"
   ]
  },
  {
   "cell_type": "code",
   "execution_count": 56,
   "metadata": {},
   "outputs": [],
   "source": [
    "gBlds.to_csv(os.path.join(out_path,\"{c}\".format(c=\"gBlds.csv\")))"
   ]
  },
  {
   "cell_type": "code",
   "execution_count": null,
   "metadata": {},
   "outputs": [],
   "source": []
  }
 ],
 "metadata": {
  "kernelspec": {
   "display_name": "Python 3",
   "language": "python",
   "name": "python3"
  },
  "language_info": {
   "codemirror_mode": {
    "name": "ipython",
    "version": 3
   },
   "file_extension": ".py",
   "mimetype": "text/x-python",
   "name": "python",
   "nbconvert_exporter": "python",
   "pygments_lexer": "ipython3",
   "version": "3.8.5"
  }
 },
 "nbformat": 4,
 "nbformat_minor": 4
}
