{
 "cells": [
  {
   "cell_type": "markdown",
   "metadata": {},
   "source": [
    "# Building Residential demand\n",
    "\n",
    "**Original code:** [Alexandros Korkovelos](https://github.com/akorkovelos) <br />\n",
    "**Support:** [Ariane Millot](https://github.com/ariane-millot), [Martin J. Stringer]() & [Vignesh Shridharan](https://github.com/vignesh1987) <br />\n",
    "**Funding:** Imperial College <br />\n",
    "\n",
    "---------------------------\n"
   ]
  },
  {
   "cell_type": "markdown",
   "metadata": {},
   "source": [
    "#### Brief overview\n",
    "\n",
    "This notebook performs three main analytical processes:\n",
    "\n",
    "- **Part 1**: Extract population data for the area of interest\n",
    "- **Part 2**: Get buildings from Google Building Footprint data and classify into groups per size and confidence level\n",
    "- **Part 3**: Extract all \"good candidates\" of residential buildings\n",
    "- **Part 4**: Assign demand based on formulation \n",
    "\n",
    "A slightly more detailed description of the processing bits is presented before each part below. <br />\n"
   ]
  },
  {
   "cell_type": "markdown",
   "metadata": {},
   "source": [
    "### Import necessary modules"
   ]
  },
  {
   "cell_type": "code",
   "execution_count": 1,
   "metadata": {
    "code_folding": []
   },
   "outputs": [],
   "source": [
    "### Activate geospatial_env first\n",
    "\n",
    "# Numeric\n",
    "import numpy as np\n",
    "import pandas as pd\n",
    "import math\n",
    "\n",
    "# System\n",
    "import os\n",
    "import shutil\n",
    "from IPython.display import display, Markdown, HTML, FileLink, FileLinks\n",
    "\n",
    "# Spatial\n",
    "import geopandas as gpd\n",
    "import json\n",
    "import pyproj\n",
    "from shapely.geometry import Point, Polygon, MultiPoint\n",
    "from shapely.wkt import dumps, loads\n",
    "from shapely.ops import nearest_points\n",
    "from pyproj import CRS\n",
    "import ogr, gdal, osr\n",
    "#import fiona\n",
    "\n",
    "\n",
    "# Mapping / Plotting\n",
    "from functools import reduce\n",
    "#import datapane as dp \n",
    "#!datapane login --token=\"9bde41bfbc4ad14119e32086f9f06d2e5db1d5b8\"\n",
    "import folium\n",
    "from folium.features import GeoJsonTooltip\n",
    "from folium.plugins import BeautifyIcon\n",
    "from folium.plugins import HeatMap\n",
    "import branca.colormap as cm\n",
    "import matplotlib.pyplot as plt\n",
    "from matplotlib.ticker import MaxNLocator\n",
    "%matplotlib inline\n",
    "\n",
    "%matplotlib inline"
   ]
  },
  {
   "cell_type": "code",
   "execution_count": 2,
   "metadata": {
    "code_folding": [
     0
    ]
   },
   "outputs": [
    {
     "data": {
      "text/plain": [
       "''"
      ]
     },
     "execution_count": 2,
     "metadata": {},
     "output_type": "execute_result"
    }
   ],
   "source": [
    "#import geopandas as gpd   # Note that you require geopandas version >= 0.7 that incluse clip see here for installation (https://gis.stackexchange.com/questions/360127/geopandas-0-6-1-installed-instead-of-0-7-0-in-conda-windows-10#)\n",
    "import os\n",
    "import fiona\n",
    "import ipywidgets as widgets\n",
    "from IPython.display import display\n",
    "from rasterstats import zonal_stats\n",
    "import rasterio\n",
    "from geojson import Feature, Point, FeatureCollection\n",
    "import rasterio.fill\n",
    "from shapely.geometry import shape, mapping\n",
    "import json\n",
    "#from earthpy import clip    clip has been deprecated to geopandas\n",
    "#import earthpy.spatial as es\n",
    "import numpy as np\n",
    "import tkinter as tk\n",
    "from tkinter import filedialog, messagebox\n",
    "import gdal\n",
    "import datetime\n",
    "import warnings\n",
    "import pandas as pd\n",
    "import scipy.spatial\n",
    "warnings.filterwarnings('ignore')\n",
    "\n",
    "#import contextily as ctx\n",
    "import h3 as h3\n",
    "from shapely.ops import unary_union\n",
    "from shapely.geometry.polygon import Polygon\n",
    "import seaborn as sns\n",
    "\n",
    "root = tk.Tk()\n",
    "root.withdraw()\n",
    "root.attributes(\"-topmost\", True)"
   ]
  },
  {
   "cell_type": "markdown",
   "metadata": {},
   "source": [
    "### Define directories and dataset names"
   ]
  },
  {
   "cell_type": "code",
   "execution_count": 3,
   "metadata": {},
   "outputs": [],
   "source": [
    "ROOT_DIR = os.path.abspath(os.curdir)\n",
    "in_path = ROOT_DIR + \"\\\\\" + 'Sample_Input'\n",
    "out_path = ROOT_DIR + \"\\\\\" + 'Sample_Output'\n",
    "\n",
    "## admininstrative boundary\n",
    "admin_path = in_path + \"\\\\\"+ 'admin'\n",
    "admin_name = \"Copperbelt.gpkg\"   "
   ]
  },
  {
   "cell_type": "markdown",
   "metadata": {},
   "source": [
    "### Define coordinate and projection system"
   ]
  },
  {
   "cell_type": "code",
   "execution_count": 4,
   "metadata": {},
   "outputs": [],
   "source": [
    "## Coordinate and projection systems\n",
    "crs_WGS84 = CRS(\"EPSG:4326\")    # Originan WGS84 coordinate system\n",
    "crs_proj = CRS(\"EPSG:32736\")    # Projection system for the selected country -- see http://epsg.io/ for more info"
   ]
  },
  {
   "cell_type": "markdown",
   "metadata": {},
   "source": [
    "### Add functions"
   ]
  },
  {
   "cell_type": "code",
   "execution_count": 5,
   "metadata": {
    "code_folding": [
     0
    ]
   },
   "outputs": [],
   "source": [
    "def processing_raster(name, method, clusters):\n",
    "    messagebox.showinfo('OnSSET', 'Select the ' + name + ' map')\n",
    "    raster=rasterio.open(filedialog.askopenfilename(filetypes = ((\"rasters\",\"*.tif\"),(\"all files\",\"*.*\"))))\n",
    "    \n",
    "    clusters = zonal_stats(\n",
    "        clusters,\n",
    "        raster.name,\n",
    "        stats=[method],\n",
    "        prefix=name, geojson_out=True, all_touched=True)\n",
    "    \n",
    "    print(datetime.datetime.now())\n",
    "    return clusters"
   ]
  },
  {
   "cell_type": "code",
   "execution_count": 6,
   "metadata": {
    "code_folding": [
     0
    ]
   },
   "outputs": [],
   "source": [
    "def finalizing_rasters(workspace, clusters, crs):\n",
    "    output = workspace + r'\\placeholder.geojson'\n",
    "    with open(output, \"w\") as dst:\n",
    "        collection = {\n",
    "            \"type\": \"FeatureCollection\",\n",
    "            \"features\": list(clusters)}\n",
    "        dst.write(json.dumps(collection))\n",
    "  \n",
    "    clusters = gpd.read_file(output)\n",
    "    os.remove(output)\n",
    "    \n",
    "    print(datetime.datetime.now())\n",
    "    return clusters"
   ]
  },
  {
   "cell_type": "markdown",
   "metadata": {},
   "source": [
    "### Import layer delineating the Area Of Interest (AoI)"
   ]
  },
  {
   "cell_type": "code",
   "execution_count": 7,
   "metadata": {},
   "outputs": [],
   "source": [
    "## admininstrative boundary\n",
    "admin_gdf = gpd.read_file(admin_path + \"\\\\\" + admin_name)"
   ]
  },
  {
   "cell_type": "markdown",
   "metadata": {},
   "source": [
    "### Extraction of zonal stats"
   ]
  },
  {
   "cell_type": "code",
   "execution_count": 14,
   "metadata": {},
   "outputs": [
    {
     "name": "stdout",
     "output_type": "stream",
     "text": [
      "2023-03-24 10:50:01.773420\n"
     ]
    }
   ],
   "source": [
    "admin_gdf1 = processing_raster(\"buildings\", \"sum\", admin_gdf)      #Copperbelt_buildings_v2_0_count from https://apps.worldpop.org/peanutButter/"
   ]
  },
  {
   "cell_type": "code",
   "execution_count": 10,
   "metadata": {},
   "outputs": [
    {
     "name": "stdout",
     "output_type": "stream",
     "text": [
      "2023-03-24 10:47:21.717749\n"
     ]
    }
   ],
   "source": [
    "admin_gdf2 = processing_raster(\"WorldPop\", \"sum\", admin_gdf1)           #Using Zambia 100m population layer; default values at WorldPopPeanutButter"
   ]
  },
  {
   "cell_type": "code",
   "execution_count": 11,
   "metadata": {},
   "outputs": [
    {
     "name": "stdout",
     "output_type": "stream",
     "text": [
      "2023-03-24 10:47:34.864137\n"
     ]
    }
   ],
   "source": [
    "admin_gdf3 = processing_raster(\"HRSL\", \"sum\", admin_gdf2)     #HRSL from Meta (2020) @ https://data.humdata.org/dataset/highresolutionpopulationdensitymaps-zmb"
   ]
  },
  {
   "cell_type": "markdown",
   "metadata": {},
   "source": [
    "##### Once done with rasters run this cell"
   ]
  },
  {
   "cell_type": "code",
   "execution_count": 12,
   "metadata": {},
   "outputs": [
    {
     "name": "stdout",
     "output_type": "stream",
     "text": [
      "2023-03-24 10:47:38.879943\n"
     ]
    }
   ],
   "source": [
    "admin_gdf = finalizing_rasters(out_path, admin_gdf3, crs_proj)"
   ]
  },
  {
   "cell_type": "markdown",
   "metadata": {},
   "source": [
    "### Estimate number of residential buildings"
   ]
  },
  {
   "cell_type": "code",
   "execution_count": 13,
   "metadata": {},
   "outputs": [
    {
     "data": {
      "text/html": [
       "<div>\n",
       "<style scoped>\n",
       "    .dataframe tbody tr th:only-of-type {\n",
       "        vertical-align: middle;\n",
       "    }\n",
       "\n",
       "    .dataframe tbody tr th {\n",
       "        vertical-align: top;\n",
       "    }\n",
       "\n",
       "    .dataframe thead th {\n",
       "        text-align: right;\n",
       "    }\n",
       "</style>\n",
       "<table border=\"1\" class=\"dataframe\">\n",
       "  <thead>\n",
       "    <tr style=\"text-align: right;\">\n",
       "      <th></th>\n",
       "      <th>id</th>\n",
       "      <th>ADM0_CODE</th>\n",
       "      <th>ADM0_GUID</th>\n",
       "      <th>ADM0_NAME</th>\n",
       "      <th>ADM0_PCODE</th>\n",
       "      <th>ADM0_SHAPE</th>\n",
       "      <th>ADM0_VIZ_N</th>\n",
       "      <th>ADM1_ALTCO</th>\n",
       "      <th>ADM1_ALTNA</th>\n",
       "      <th>ADM1_CODE</th>\n",
       "      <th>...</th>\n",
       "      <th>UNICEF_REG</th>\n",
       "      <th>UN_CODE</th>\n",
       "      <th>WHO_CODE</th>\n",
       "      <th>WHO_REGION</th>\n",
       "      <th>WHO_STATUS</th>\n",
       "      <th>WHO_SUBREG</th>\n",
       "      <th>buildingssum</th>\n",
       "      <th>WorldPopsum</th>\n",
       "      <th>HRSLsum</th>\n",
       "      <th>geometry</th>\n",
       "    </tr>\n",
       "  </thead>\n",
       "  <tbody>\n",
       "    <tr>\n",
       "      <th>0</th>\n",
       "      <td>0</td>\n",
       "      <td>ZM001000000000000000</td>\n",
       "      <td>{125935A9-188D-4B78-86A8-FFBF546077E0}</td>\n",
       "      <td>ZAMBIA</td>\n",
       "      <td>None</td>\n",
       "      <td>{00000000-0000-0000-0000-000000000000}</td>\n",
       "      <td>Zambia</td>\n",
       "      <td>None</td>\n",
       "      <td>None</td>\n",
       "      <td>ZM001001000000000000</td>\n",
       "      <td>...</td>\n",
       "      <td>ESARO</td>\n",
       "      <td>894</td>\n",
       "      <td>ZAM</td>\n",
       "      <td>AFRO</td>\n",
       "      <td>Member state</td>\n",
       "      <td>None</td>\n",
       "      <td>1014100.0</td>\n",
       "      <td>-inf</td>\n",
       "      <td>2.498431e+06</td>\n",
       "      <td>MULTIPOLYGON (((27.67472 -12.30278, 27.68111 -...</td>\n",
       "    </tr>\n",
       "  </tbody>\n",
       "</table>\n",
       "<p>1 rows × 39 columns</p>\n",
       "</div>"
      ],
      "text/plain": [
       "  id             ADM0_CODE                               ADM0_GUID ADM0_NAME  \\\n",
       "0  0  ZM001000000000000000  {125935A9-188D-4B78-86A8-FFBF546077E0}    ZAMBIA   \n",
       "\n",
       "  ADM0_PCODE                              ADM0_SHAPE ADM0_VIZ_N ADM1_ALTCO  \\\n",
       "0       None  {00000000-0000-0000-0000-000000000000}     Zambia       None   \n",
       "\n",
       "  ADM1_ALTNA             ADM1_CODE  ... UNICEF_REG UN_CODE WHO_CODE  \\\n",
       "0       None  ZM001001000000000000  ...      ESARO     894      ZAM   \n",
       "\n",
       "  WHO_REGION    WHO_STATUS  WHO_SUBREG buildingssum WorldPopsum       HRSLsum  \\\n",
       "0       AFRO  Member state        None    1014100.0        -inf  2.498431e+06   \n",
       "\n",
       "                                            geometry  \n",
       "0  MULTIPOLYGON (((27.67472 -12.30278, 27.68111 -...  \n",
       "\n",
       "[1 rows x 39 columns]"
      ]
     },
     "execution_count": 13,
     "metadata": {},
     "output_type": "execute_result"
    }
   ],
   "source": [
    "admin_gdf"
   ]
  },
  {
   "cell_type": "code",
   "execution_count": null,
   "metadata": {},
   "outputs": [],
   "source": []
  },
  {
   "cell_type": "code",
   "execution_count": 15,
   "metadata": {},
   "outputs": [
    {
     "name": "stdout",
     "output_type": "stream",
     "text": [
      "The data extraction indicated that in COPPERBELT there are 1014100 buildings & the population is: \n",
      "HRSL: 2498431 \n",
      "WorldPop: -inf \n",
      "The estimated number of residential buildings is -inf\n"
     ]
    }
   ],
   "source": [
    "pplperHH = 5.1          ## provide average household size\n",
    "\n",
    "resbld = round(np.mean(list([admin_gdf.HRSLsum.sum(), admin_gdf.WorldPopsum.sum()]))/pplperHH)\n",
    "\n",
    "print (\"The data extraction indicated that in {} there are {:.0f} buildings & the population is: \\n\\\n",
    "HRSL: {:.0f} \\nWorldPop: {:.0f} \\nThe estimated number of residential buildings is {}\".format(admin_gdf.ADM1_NAME[0],\n",
    "                                       admin_gdf.buildingssum.sum(),\n",
    "                                       admin_gdf.HRSLsum.sum(),\n",
    "                                       admin_gdf.WorldPopsum.sum(),\n",
    "                                       resbld))\n"
   ]
  },
  {
   "cell_type": "markdown",
   "metadata": {},
   "source": [
    "### Let's find those buildings using Google building footprints \n",
    "Source: https://sites.research.google/open-buildings/\n",
    "\n",
    "Note that the code for extraction from GEE is available in the repo; Run this and extract for the area of interest directly from GEE. We could potentially integrate \"ee\" here, but not a priority for now.."
   ]
  },
  {
   "cell_type": "code",
   "execution_count": 15,
   "metadata": {},
   "outputs": [],
   "source": [
    "path= r\"C:\\Users\\alexl\\Dropbox\\Self-employment\\Imperial work\\Zambia\\GIS\\GoogleBuildingFootprints\"\n",
    "#name6065kml = 'Copperbelt_t_060_065.kml'\n",
    "#name6570kml = 'Copperbelt_t_065_070.kml'\n",
    "#name70kml = 'Copperbelt_t_gte_070.kml'\n",
    "name6065gpkg = 'Copperbelt_t_060_065.gpkg'\n",
    "name6570gpkg = 'Copperbelt_t_065_070.gpkg'\n",
    "name70gpkg = 'Copperbelt_t_gte_070.gpkg'"
   ]
  },
  {
   "cell_type": "code",
   "execution_count": 16,
   "metadata": {
    "code_folding": [
     0
    ]
   },
   "outputs": [],
   "source": [
    "## Reading kml files into geopandas (not working only first 3 columns are imported)\n",
    "#gpd.io.file.fiona.drvsupport.supported_drivers['kml'] = 'rw'\n",
    "#\n",
    "### Approach 1\n",
    "#building = gpd.read_file(path + \"\\\\\" + name6065kml, driver='LIBKML')\n",
    "#\n",
    "### Approach 2\n",
    "#fp=path + \"\\\\\" + name6065kml\n",
    "#gdf_list = []\n",
    "#for layer in fiona.listlayers(fp):    \n",
    "#    gdf = gpd.read_file(fp, driver='kml', layer=layer)\n",
    "#    gdf_list.append(gdf)\n",
    "#gdf = gpd.GeoDataFrame(pd.concat(gdf_list, ignore_index=True))"
   ]
  },
  {
   "cell_type": "code",
   "execution_count": 17,
   "metadata": {},
   "outputs": [
    {
     "ename": "DriverError",
     "evalue": "C:\\Users\\alexl\\Dropbox\\Self-employment\\Imperial work\\Zambia\\GIS\\GoogleBuildingFootprints\\Copperbelt_t_060_065.gpkg: No such file or directory",
     "output_type": "error",
     "traceback": [
      "\u001b[1;31m---------------------------------------------------------------------------\u001b[0m",
      "\u001b[1;31mCPLE_OpenFailedError\u001b[0m                      Traceback (most recent call last)",
      "\u001b[1;32mfiona/_shim.pyx\u001b[0m in \u001b[0;36mfiona._shim.gdal_open_vector\u001b[1;34m()\u001b[0m\n",
      "\u001b[1;32mfiona/_err.pyx\u001b[0m in \u001b[0;36mfiona._err.exc_wrap_pointer\u001b[1;34m()\u001b[0m\n",
      "\u001b[1;31mCPLE_OpenFailedError\u001b[0m: C:\\Users\\alexl\\Dropbox\\Self-employment\\Imperial work\\Zambia\\GIS\\GoogleBuildingFootprints\\Copperbelt_t_060_065.gpkg: No such file or directory",
      "\nDuring handling of the above exception, another exception occurred:\n",
      "\u001b[1;31mDriverError\u001b[0m                               Traceback (most recent call last)",
      "\u001b[1;32m<ipython-input-17-8b1fa2b9f488>\u001b[0m in \u001b[0;36m<module>\u001b[1;34m\u001b[0m\n\u001b[0;32m      1\u001b[0m \u001b[1;31m## Reading geopackages (converted kml to pkg in Qgis)\u001b[0m\u001b[1;33m\u001b[0m\u001b[1;33m\u001b[0m\u001b[1;33m\u001b[0m\u001b[0m\n\u001b[1;32m----> 2\u001b[1;33m \u001b[0mbuildings6065\u001b[0m \u001b[1;33m=\u001b[0m \u001b[0mgpd\u001b[0m\u001b[1;33m.\u001b[0m\u001b[0mread_file\u001b[0m\u001b[1;33m(\u001b[0m\u001b[0mpath\u001b[0m \u001b[1;33m+\u001b[0m \u001b[1;34m\"\\\\\"\u001b[0m \u001b[1;33m+\u001b[0m \u001b[0mname6065gpkg\u001b[0m\u001b[1;33m)\u001b[0m\u001b[1;33m\u001b[0m\u001b[1;33m\u001b[0m\u001b[0m\n\u001b[0m\u001b[0;32m      3\u001b[0m \u001b[0mbuildings6570\u001b[0m \u001b[1;33m=\u001b[0m \u001b[0mgpd\u001b[0m\u001b[1;33m.\u001b[0m\u001b[0mread_file\u001b[0m\u001b[1;33m(\u001b[0m\u001b[0mpath\u001b[0m \u001b[1;33m+\u001b[0m \u001b[1;34m\"\\\\\"\u001b[0m \u001b[1;33m+\u001b[0m \u001b[0mname6570gpkg\u001b[0m\u001b[1;33m)\u001b[0m\u001b[1;33m\u001b[0m\u001b[1;33m\u001b[0m\u001b[0m\n\u001b[0;32m      4\u001b[0m \u001b[0mbuildings70\u001b[0m \u001b[1;33m=\u001b[0m \u001b[0mgpd\u001b[0m\u001b[1;33m.\u001b[0m\u001b[0mread_file\u001b[0m\u001b[1;33m(\u001b[0m\u001b[0mpath\u001b[0m \u001b[1;33m+\u001b[0m \u001b[1;34m\"\\\\\"\u001b[0m \u001b[1;33m+\u001b[0m \u001b[0mname70gpkg\u001b[0m\u001b[1;33m)\u001b[0m\u001b[1;33m\u001b[0m\u001b[1;33m\u001b[0m\u001b[0m\n",
      "\u001b[1;32m~\\Anaconda3\\envs\\geospatial_env_kepler\\lib\\site-packages\\geopandas\\io\\file.py\u001b[0m in \u001b[0;36m_read_file\u001b[1;34m(filename, bbox, mask, rows, **kwargs)\u001b[0m\n\u001b[0;32m     94\u001b[0m \u001b[1;33m\u001b[0m\u001b[0m\n\u001b[0;32m     95\u001b[0m     \u001b[1;32mwith\u001b[0m \u001b[0mfiona_env\u001b[0m\u001b[1;33m(\u001b[0m\u001b[1;33m)\u001b[0m\u001b[1;33m:\u001b[0m\u001b[1;33m\u001b[0m\u001b[1;33m\u001b[0m\u001b[0m\n\u001b[1;32m---> 96\u001b[1;33m         \u001b[1;32mwith\u001b[0m \u001b[0mreader\u001b[0m\u001b[1;33m(\u001b[0m\u001b[0mpath_or_bytes\u001b[0m\u001b[1;33m,\u001b[0m \u001b[1;33m**\u001b[0m\u001b[0mkwargs\u001b[0m\u001b[1;33m)\u001b[0m \u001b[1;32mas\u001b[0m \u001b[0mfeatures\u001b[0m\u001b[1;33m:\u001b[0m\u001b[1;33m\u001b[0m\u001b[1;33m\u001b[0m\u001b[0m\n\u001b[0m\u001b[0;32m     97\u001b[0m \u001b[1;33m\u001b[0m\u001b[0m\n\u001b[0;32m     98\u001b[0m             \u001b[1;31m# In a future Fiona release the crs attribute of features will\u001b[0m\u001b[1;33m\u001b[0m\u001b[1;33m\u001b[0m\u001b[1;33m\u001b[0m\u001b[0m\n",
      "\u001b[1;32m~\\Anaconda3\\envs\\geospatial_env_kepler\\lib\\site-packages\\fiona\\env.py\u001b[0m in \u001b[0;36mwrapper\u001b[1;34m(*args, **kwargs)\u001b[0m\n\u001b[0;32m    406\u001b[0m     \u001b[1;32mdef\u001b[0m \u001b[0mwrapper\u001b[0m\u001b[1;33m(\u001b[0m\u001b[1;33m*\u001b[0m\u001b[0margs\u001b[0m\u001b[1;33m,\u001b[0m \u001b[1;33m**\u001b[0m\u001b[0mkwargs\u001b[0m\u001b[1;33m)\u001b[0m\u001b[1;33m:\u001b[0m\u001b[1;33m\u001b[0m\u001b[1;33m\u001b[0m\u001b[0m\n\u001b[0;32m    407\u001b[0m         \u001b[1;32mif\u001b[0m \u001b[0mlocal\u001b[0m\u001b[1;33m.\u001b[0m\u001b[0m_env\u001b[0m\u001b[1;33m:\u001b[0m\u001b[1;33m\u001b[0m\u001b[1;33m\u001b[0m\u001b[0m\n\u001b[1;32m--> 408\u001b[1;33m             \u001b[1;32mreturn\u001b[0m \u001b[0mf\u001b[0m\u001b[1;33m(\u001b[0m\u001b[1;33m*\u001b[0m\u001b[0margs\u001b[0m\u001b[1;33m,\u001b[0m \u001b[1;33m**\u001b[0m\u001b[0mkwargs\u001b[0m\u001b[1;33m)\u001b[0m\u001b[1;33m\u001b[0m\u001b[1;33m\u001b[0m\u001b[0m\n\u001b[0m\u001b[0;32m    409\u001b[0m         \u001b[1;32melse\u001b[0m\u001b[1;33m:\u001b[0m\u001b[1;33m\u001b[0m\u001b[1;33m\u001b[0m\u001b[0m\n\u001b[0;32m    410\u001b[0m             \u001b[1;32mif\u001b[0m \u001b[0misinstance\u001b[0m\u001b[1;33m(\u001b[0m\u001b[0margs\u001b[0m\u001b[1;33m[\u001b[0m\u001b[1;36m0\u001b[0m\u001b[1;33m]\u001b[0m\u001b[1;33m,\u001b[0m \u001b[0mstr\u001b[0m\u001b[1;33m)\u001b[0m\u001b[1;33m:\u001b[0m\u001b[1;33m\u001b[0m\u001b[1;33m\u001b[0m\u001b[0m\n",
      "\u001b[1;32m~\\Anaconda3\\envs\\geospatial_env_kepler\\lib\\site-packages\\fiona\\__init__.py\u001b[0m in \u001b[0;36mopen\u001b[1;34m(fp, mode, driver, schema, crs, encoding, layer, vfs, enabled_drivers, crs_wkt, **kwargs)\u001b[0m\n\u001b[0;32m    262\u001b[0m \u001b[1;33m\u001b[0m\u001b[0m\n\u001b[0;32m    263\u001b[0m         \u001b[1;32mif\u001b[0m \u001b[0mmode\u001b[0m \u001b[1;32min\u001b[0m \u001b[1;33m(\u001b[0m\u001b[1;34m'a'\u001b[0m\u001b[1;33m,\u001b[0m \u001b[1;34m'r'\u001b[0m\u001b[1;33m)\u001b[0m\u001b[1;33m:\u001b[0m\u001b[1;33m\u001b[0m\u001b[1;33m\u001b[0m\u001b[0m\n\u001b[1;32m--> 264\u001b[1;33m             c = Collection(path, mode, driver=driver, encoding=encoding,\n\u001b[0m\u001b[0;32m    265\u001b[0m                            layer=layer, enabled_drivers=enabled_drivers, **kwargs)\n\u001b[0;32m    266\u001b[0m         \u001b[1;32melif\u001b[0m \u001b[0mmode\u001b[0m \u001b[1;33m==\u001b[0m \u001b[1;34m'w'\u001b[0m\u001b[1;33m:\u001b[0m\u001b[1;33m\u001b[0m\u001b[1;33m\u001b[0m\u001b[0m\n",
      "\u001b[1;32m~\\Anaconda3\\envs\\geospatial_env_kepler\\lib\\site-packages\\fiona\\collection.py\u001b[0m in \u001b[0;36m__init__\u001b[1;34m(self, path, mode, driver, schema, crs, encoding, layer, vsi, archive, enabled_drivers, crs_wkt, ignore_fields, ignore_geometry, **kwargs)\u001b[0m\n\u001b[0;32m    160\u001b[0m             \u001b[1;32mif\u001b[0m \u001b[0mself\u001b[0m\u001b[1;33m.\u001b[0m\u001b[0mmode\u001b[0m \u001b[1;33m==\u001b[0m \u001b[1;34m'r'\u001b[0m\u001b[1;33m:\u001b[0m\u001b[1;33m\u001b[0m\u001b[1;33m\u001b[0m\u001b[0m\n\u001b[0;32m    161\u001b[0m                 \u001b[0mself\u001b[0m\u001b[1;33m.\u001b[0m\u001b[0msession\u001b[0m \u001b[1;33m=\u001b[0m \u001b[0mSession\u001b[0m\u001b[1;33m(\u001b[0m\u001b[1;33m)\u001b[0m\u001b[1;33m\u001b[0m\u001b[1;33m\u001b[0m\u001b[0m\n\u001b[1;32m--> 162\u001b[1;33m                 \u001b[0mself\u001b[0m\u001b[1;33m.\u001b[0m\u001b[0msession\u001b[0m\u001b[1;33m.\u001b[0m\u001b[0mstart\u001b[0m\u001b[1;33m(\u001b[0m\u001b[0mself\u001b[0m\u001b[1;33m,\u001b[0m \u001b[1;33m**\u001b[0m\u001b[0mkwargs\u001b[0m\u001b[1;33m)\u001b[0m\u001b[1;33m\u001b[0m\u001b[1;33m\u001b[0m\u001b[0m\n\u001b[0m\u001b[0;32m    163\u001b[0m             \u001b[1;32melif\u001b[0m \u001b[0mself\u001b[0m\u001b[1;33m.\u001b[0m\u001b[0mmode\u001b[0m \u001b[1;32min\u001b[0m \u001b[1;33m(\u001b[0m\u001b[1;34m'a'\u001b[0m\u001b[1;33m,\u001b[0m \u001b[1;34m'w'\u001b[0m\u001b[1;33m)\u001b[0m\u001b[1;33m:\u001b[0m\u001b[1;33m\u001b[0m\u001b[1;33m\u001b[0m\u001b[0m\n\u001b[0;32m    164\u001b[0m                 \u001b[0mself\u001b[0m\u001b[1;33m.\u001b[0m\u001b[0msession\u001b[0m \u001b[1;33m=\u001b[0m \u001b[0mWritingSession\u001b[0m\u001b[1;33m(\u001b[0m\u001b[1;33m)\u001b[0m\u001b[1;33m\u001b[0m\u001b[1;33m\u001b[0m\u001b[0m\n",
      "\u001b[1;32mfiona/ogrext.pyx\u001b[0m in \u001b[0;36mfiona.ogrext.Session.start\u001b[1;34m()\u001b[0m\n",
      "\u001b[1;32mfiona/_shim.pyx\u001b[0m in \u001b[0;36mfiona._shim.gdal_open_vector\u001b[1;34m()\u001b[0m\n",
      "\u001b[1;31mDriverError\u001b[0m: C:\\Users\\alexl\\Dropbox\\Self-employment\\Imperial work\\Zambia\\GIS\\GoogleBuildingFootprints\\Copperbelt_t_060_065.gpkg: No such file or directory"
     ]
    }
   ],
   "source": [
    "## Reading geopackages (converted kml to pkg in Qgis)\n",
    "buildings6065 = gpd.read_file(path + \"\\\\\" + name6065gpkg)\n",
    "buildings6570 = gpd.read_file(path + \"\\\\\" + name6570gpkg)\n",
    "buildings70 = gpd.read_file(path + \"\\\\\" + name70gpkg)"
   ]
  },
  {
   "cell_type": "code",
   "execution_count": null,
   "metadata": {
    "code_folding": []
   },
   "outputs": [],
   "source": [
    "# Concatenate the three GeoDataFrames into one\n",
    "cols = ['Name', 'description', 'longitude_latitude', 'confidence', \n",
    "        'area_in_meters', 'system_index','full_plus_code', 'geometry']\n",
    "\n",
    "## Merge layers into one\n",
    "gBlds = gpd.GeoDataFrame(pd.concat([buildings6065, buildings6570, buildings70], ignore_index=True))\n",
    "\n",
    "## Keep only useful columns\n",
    "gBlds = gBlds[cols]"
   ]
  },
  {
   "cell_type": "code",
   "execution_count": null,
   "metadata": {},
   "outputs": [],
   "source": [
    "## Convert columns to float for processing\n",
    "gBlds['area_in_meters'] = gBlds['area_in_meters'].astype(float)\n",
    "gBlds['confidence'] = gBlds['confidence'].astype(float)"
   ]
  },
  {
   "cell_type": "code",
   "execution_count": null,
   "metadata": {},
   "outputs": [],
   "source": [
    "gBlds.shape"
   ]
  },
  {
   "cell_type": "code",
   "execution_count": null,
   "metadata": {
    "code_folding": []
   },
   "outputs": [],
   "source": [
    "#test = buildings6065.sample(frac=0.1, replace=True, random_state=1)"
   ]
  },
  {
   "cell_type": "code",
   "execution_count": null,
   "metadata": {},
   "outputs": [],
   "source": [
    "# Building count per unit area\n",
    "sns.histplot(data = gBlds, bins=300, edgecolor='w', linewidth=0.5, \\\n",
    "            x=\"area_in_meters\", color='#25afdc')\n",
    "ylims = plt.gca().get_ylim()\n",
    "\n",
    "stats = gBlds['area_in_meters'].describe()\n",
    "plt.axvline(x= stats['50%'], ymin=-0.1, ymax=0.8,  ls='--', color='C0', marker ='o')\n",
    "\n",
    "plt.axvline(x= stats['75%'], ymin=-0.1, ymax=0.45, ls='--', color='C0', marker ='o')\n",
    "\n",
    "plt.xlim([0,300])\n",
    "plt.ylim(ylims)\n",
    "plt.ylabel(\"N\")\n",
    "plt.xlabel(\"Building area\")\n",
    "#plt.savefig(\"../figs/open_bldgs_area_hist.png\", facecolor='white', transparent=False)"
   ]
  },
  {
   "cell_type": "code",
   "execution_count": null,
   "metadata": {},
   "outputs": [],
   "source": [
    "gBlds['area_type'] = pd.cut(gBlds['area_in_meters'],\n",
    "                            bins=[0,30,50,100,300,float(\"inf\")],\n",
    "                            right=True, \n",
    "                            labels=['<30m²','30-50m²','50-100m²','100-300m²','>300m²'])"
   ]
  },
  {
   "cell_type": "code",
   "execution_count": null,
   "metadata": {},
   "outputs": [],
   "source": [
    "#confidence per area bin\n",
    "sns.boxplot(data=gBlds, x='area_type', y ='confidence', color='#25afdc', width=0.5)\n",
    "plt.ylabel(\"Confidence\")\n",
    "plt.xlabel(\"Building area\")\n",
    "#plt.savefig(\"../figs/open_bldgs_confidence_per_area.png\", facecolor='white', transparent=False)"
   ]
  },
  {
   "cell_type": "markdown",
   "metadata": {},
   "source": [
    "### Find \"optimal\" sub-set of buildings \n",
    "The following code will give you the m2 range and confidence level to reach a certain threshold number of buildings"
   ]
  },
  {
   "cell_type": "code",
   "execution_count": null,
   "metadata": {},
   "outputs": [],
   "source": [
    "resbld"
   ]
  },
  {
   "cell_type": "code",
   "execution_count": null,
   "metadata": {
    "code_folding": []
   },
   "outputs": [],
   "source": [
    "# Set the target number of buildings below\n",
    "threshold = resbld\n",
    "\n",
    "# These are calibrating parameteres\n",
    "variance_area = 0.5\n",
    "variance_conf = 0.01\n",
    "\n",
    "# Define initial filtering parameters\n",
    "HHarea = 33                                #This is the average size of a typical HH in the AoI in sq.m\n",
    "conflevel = gBlds[\"confidence\"].max()\n",
    "endloop=False\n",
    "gBlds_filtered = gBlds\n",
    "\n",
    "\n",
    "# Loop until threshold is reached or no more rows can be filtered\n",
    "while (len(gBlds_filtered) > threshold) & (endloop == False):\n",
    "    gBlds_filtered = gBlds[((gBlds[\"area_in_meters\"] >= HHarea - variance_area*HHarea) & \n",
    "                            (gBlds[\"area_in_meters\"] <= HHarea + variance_area*HHarea))]\n",
    "    # Action if building selection is still higher than threshold\n",
    "    #print(\"test 1: {}\".format(gBlds_filtered.shape[0]))\n",
    "    if (len(gBlds_filtered) > threshold):\n",
    "        min_conflevel = gBlds_filtered[\"confidence\"].min()\n",
    "        while (len(gBlds_filtered) > threshold) & (endloop == False):\n",
    "            gBlds_filtered = gBlds[((gBlds[\"area_in_meters\"] >= HHarea - variance_area*HHarea) &\n",
    "                                    (gBlds[\"area_in_meters\"] <= HHarea + variance_area*HHarea)) &\n",
    "                                   (gBlds[\"confidence\"] >= min_conflevel)]\n",
    "            #print(\"test 2: {}\".format(gBlds_filtered.shape[0]))\n",
    "            if (len(gBlds_filtered) > threshold):\n",
    "                if (min_conflevel < conflevel):\n",
    "                    min_conflevel += variance_conf*min_conflevel\n",
    "                    #print(\"test 3: {}\".format(min_conflevel))\n",
    "                else:\n",
    "                    print(\"The min confidence level has been exhausted; we move on to a different set\")\n",
    "                    break\n",
    "            else:\n",
    "                while len(gBlds_filtered) < threshold:\n",
    "                    variance_area += 0.01*variance_area\n",
    "                    gBlds_filtered = gBlds[((gBlds[\"area_in_meters\"] >= HHarea - variance_area*HHarea) &\n",
    "                                            (gBlds[\"area_in_meters\"] <= HHarea + variance_area*HHarea)) &\n",
    "                                           (gBlds[\"confidence\"] >= min_conflevel)]\n",
    "                    #print(\"test 4: {}\".format(gBlds_filtered.shape[0]))\n",
    "                    if len(gBlds_filtered) > threshold:\n",
    "                        endloop = True\n",
    "                        #print(\"test 5: {}\".format(gBlds_filtered.shape[0]))\n",
    "                        m21 = HHarea + variance_area*HHarea\n",
    "                        m22 = HHarea - variance_area*HHarea\n",
    "                        conf = (min_conflevel - variance_conf*min_conflevel)*100\n",
    "                        print(\"The optimal parameters for achieving the threshold you defined are m2:{:.2f}-{:.2f} and confidence level of {:.2f}%\".format(m22, m21, conf))\n",
    "                        break\n",
    "                break\n",
    "            \n",
    "    else:\n",
    "        break"
   ]
  },
  {
   "cell_type": "code",
   "execution_count": null,
   "metadata": {},
   "outputs": [],
   "source": [
    "print (\"We can find {:.0f} buildings under the following parameterization: \\n\\\n",
    "min HH size: {:.1f} \\nMax HH size: {:.1f} \\nConfidence level more than {:.2f}\".format(gBlds_filtered.shape[0],\n",
    "                                                                                     m22,\n",
    "                                                                                     m21, \n",
    "                                                                                     conf))\n"
   ]
  },
  {
   "cell_type": "code",
   "execution_count": null,
   "metadata": {},
   "outputs": [],
   "source": [
    "# Building count per unit area\n",
    "sns.histplot(data = gBlds_filtered, bins=300, edgecolor='w', linewidth=0.5, \\\n",
    "            x=\"area_in_meters\", color='#25afdc')\n",
    "ylims = plt.gca().get_ylim()\n",
    "\n",
    "stats = gBlds_filtered['area_in_meters'].describe()\n",
    "plt.axvline(x= stats['50%'], ymin=-0.1, ymax=0.8,  ls='--', color='C0', marker ='o')\n",
    "\n",
    "plt.axvline(x= stats['75%'], ymin=-0.1, ymax=0.45, ls='--', color='C0', marker ='o')\n",
    "\n",
    "plt.xlim([0,300])\n",
    "plt.ylim(ylims)\n",
    "plt.ylabel(\"N\")\n",
    "plt.xlabel(\"Building area\")\n",
    "#plt.savefig(\"../figs/open_bldgs_area_hist.png\", facecolor='white', transparent=False)"
   ]
  },
  {
   "cell_type": "code",
   "execution_count": null,
   "metadata": {},
   "outputs": [],
   "source": [
    "#confidence per area bin\n",
    "sns.boxplot(data=gBlds_filtered, x='area_type', y ='confidence', color='#25afdc', width=0.5)\n",
    "plt.ylabel(\"Confidence\")\n",
    "plt.xlabel(\"Building area\")\n",
    "#plt.savefig(\"../figs/open_bldgs_confidence_per_area.png\", facecolor='white', transparent=False)"
   ]
  }
 ],
 "metadata": {
  "kernelspec": {
   "display_name": "Python 3",
   "language": "python",
   "name": "python3"
  },
  "language_info": {
   "codemirror_mode": {
    "name": "ipython",
    "version": 3
   },
   "file_extension": ".py",
   "mimetype": "text/x-python",
   "name": "python",
   "nbconvert_exporter": "python",
   "pygments_lexer": "ipython3",
   "version": "3.8.5"
  }
 },
 "nbformat": 4,
 "nbformat_minor": 4
}
