{
 "cells": [
  {
   "cell_type": "code",
   "execution_count": 14,
   "metadata": {},
   "outputs": [],
   "source": [
    "from pandas import read_csv\n",
    "import numpy as np"
   ]
  },
  {
   "cell_type": "code",
   "execution_count": 15,
   "metadata": {},
   "outputs": [],
   "source": [
    "# Update the household_data file based on information in appliance_energy_use.csv\n",
    "def compute_energy_perhh_DHS(elas, nominal_household_size, data_folder):\n",
    "\n",
    "    # Read-in the data on appliances and energy tiers\n",
    "    data_apps = read_csv(data_folder + './appliance_energy_use.csv', header=1)\n",
    "    # Appliance names to remove\n",
    "    app_remove = ['Washing machine', 'Air conditioner'] \n",
    "    # ['Washing machine', 'Air conditioner'] not found in the DHS survey data\n",
    "    data_apps = data_apps[data_apps['Appliance'].isin(app_remove)==False]\n",
    "\n",
    "    # Identify columns that give appliance energy consumption\n",
    "    cols = [c for c in data_apps.columns if \"consumption\" in c]\n",
    "    # Read columns into 2-d array for appliance consumption\n",
    "    energy_cons = data_apps[cols].to_numpy(float)\n",
    "    appliance = np.array(data_apps['Appliance'])  # Appliance names\n",
    "\n",
    "    # Read-in the data from the survey of households\n",
    "    infile = data_folder + 'household_data.csv'\n",
    "    data = read_csv(infile)\n",
    "    Nh = data.shape[0]\n",
    "    print('Read data on', Nh, 'survey households')\n",
    "    # Read columns into 2d array on appliance usage\n",
    "    appliance_use = data[appliance].to_numpy(int)\n",
    "    household_size = data['Number of household members']\n",
    "\n",
    "    # Create array ready to store energy use estimates\n",
    "    energy_use = np.zeros(Nh)\n",
    "\n",
    "    # Create array to give the mapping between appliance usage and tier\n",
    "    # based on https://energydata.info/dataset/kenya-multi-tier-framework-mtf-survey/resource/b27a89d9-118c-4139-b1ad-70d5abd0b508\n",
    "    # page 7 for Kenya\n",
    "    tier = np.array([0, 1, 3, 3, 4, 4])\n",
    "\n",
    "    # Create filter to avoid including houses that don't even have electricity\n",
    "    has_electricity = appliance_use[:, 0] > 0\n",
    "\n",
    "    # set counter to follow tiers in loop below\n",
    "    t = -1\n",
    "\n",
    "    print('Estimating average energy use per household...')\n",
    "    for i in range(tier.size):\n",
    "\n",
    "        if tier[i] > t:  # Higher tier - update energy estimates for households in this tier or above\n",
    "\n",
    "            # Decide which houses are in this tier based on their appliance usage\n",
    "            in_tier = np.flatnonzero(has_electricity & (appliance_use[:, i] > 0))\n",
    "\n",
    "            # Estimate energy use for each household by multiplying each appliance they use\n",
    "            # by the energy consumption of that appliance relevant to the tier they're in\n",
    "            # energy_use[in_tier] = np.sum(appliance_use[in_tier, :] * energy_cons[:, tier[i]], axis=1)\n",
    "            energy_use[in_tier] = appliance_use[in_tier, :] @ energy_cons[:, tier[i]]\n",
    "\n",
    "            # The first pass through this section allocates all houses with tier 1 consumption\n",
    "            # the second overwrites the houses with tier 2 appliances using tier 2 consumption levels\n",
    "            # etc. up to tier 5\n",
    "\n",
    "            # N.B. The averages printed out below are NOT the average for houses in that tier group\n",
    "            # they are just for the purpose of tracking and sense-checking the code\n",
    "            print('Tier', tier[i]+1, '('+','.join(appliance[tier == tier[i]])+') = {:,.1f} kWh/y'.format(np.mean(energy_use[in_tier])))\n",
    "\n",
    "            t = tier[i]\n",
    "\n",
    "    energy_use = energy_use*(household_size/nominal_household_size)**elas\n",
    "    # Write or overwrite column in data file with estimated energy use values\n",
    "    data['Energy Use'] = energy_use\n",
    "    data.to_csv(infile, index=None)\n",
    "    print('Written energy use estimates to', infile)\n"
   ]
  },
  {
   "cell_type": "code",
   "execution_count": 16,
   "metadata": {},
   "outputs": [
    {
     "name": "stdout",
     "output_type": "stream",
     "text": [
      "Read data on 37911 survey households\n",
      "Estimating average energy use per household...\n",
      "Tier 1 (Electricity) = 10.7 kWh/y\n",
      "Tier 2 (Mobile telephone) = 269.2 kWh/y\n",
      "Tier 4 (Radio,Television) = 1,124.1 kWh/y\n",
      "Tier 5 (Microwave,Refrigerator) = 2,208.3 kWh/y\n",
      "Written energy use estimates to ../Data/DHSSurvey/household_data.csv\n"
     ]
    }
   ],
   "source": [
    "compute_energy_perhh_DHS(elas=0.4, nominal_household_size=4, data_folder='../Data/DHSSurvey/')"
   ]
  }
 ],
 "metadata": {
  "kernelspec": {
   "display_name": "geodemand",
   "language": "python",
   "name": "python3"
  },
  "language_info": {
   "codemirror_mode": {
    "name": "ipython",
    "version": 3
   },
   "file_extension": ".py",
   "mimetype": "text/x-python",
   "name": "python",
   "nbconvert_exporter": "python",
   "pygments_lexer": "ipython3",
   "version": "3.13.1"
  }
 },
 "nbformat": 4,
 "nbformat_minor": 4
}
