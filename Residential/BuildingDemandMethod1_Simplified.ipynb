{
 "cells": [
  {
   "cell_type": "markdown",
   "id": "1f07b1c9-6f45-4bcd-87b5-a70ed6ad20fe",
   "metadata": {},
   "source": [
    "# Building Demand Method 1 Simplified"
   ]
  },
  {
   "attachments": {},
   "cell_type": "markdown",
   "id": "1b918d9f-e01d-4238-b360-cb31623a416d",
   "metadata": {},
   "source": [
    "#### Brief overview:\n",
    "\n",
    "The energy demand for each cell is assessed according to the following parameters:\n",
    "𝐵 Number of buildings\n",
    "𝑆𝑟𝑒𝑠 Share of res buildings\n",
    "𝑁 Nb of HH per res buildings\n",
    "𝑎 Electrified status (probability)\n",
    "𝐸_𝐻𝐻  Energy consumption per HH\n",
    "𝑟 Adjustment with RWI\n",
    "\n",
    "For each cell c, we have 𝐷_𝑐=𝐵_𝑐∗𝑆𝑟𝑒𝑠∗𝑁_𝑐  ∗𝑎_𝑐  ∗𝐸_𝐻𝐻  ∗𝑟_𝑐 "
   ]
  },
  {
   "cell_type": "markdown",
   "id": "8aab8d2f-f9de-4c1c-be79-52401bbd1519",
   "metadata": {},
   "source": [
    "### Import necessary modules"
   ]
  },
  {
   "cell_type": "code",
   "execution_count": 1,
   "id": "5444dd77-265a-4e88-a814-100c3710d66f",
   "metadata": {},
   "outputs": [
    {
     "name": "stdout",
     "output_type": "stream",
     "text": [
      "Move to C:\\Users\\amillot\\PycharmProjects\\DemandMappingZambia\n"
     ]
    }
   ],
   "source": [
    "# Check if we are running the notebook directly, if so move workspace to parent dir\n",
    "import sys\n",
    "import os\n",
    "currentdir = os.path.abspath(os.getcwd())\n",
    "if os.path.basename(currentdir) != 'DemandMappingZambia':  \n",
    "  sys.path.insert(0, os.path.dirname(currentdir))\n",
    "  os.chdir('..')\n",
    "  print(f'Move to {os.getcwd()}')"
   ]
  },
  {
   "cell_type": "code",
   "execution_count": 2,
   "id": "a61b0c1d-0c29-48e5-9101-2d4b3aa385cf",
   "metadata": {
    "code_folding": [
     0
    ]
   },
   "outputs": [],
   "source": [
    "### Activate geospatial_env first\n",
    "\n",
    "# Numeric\n",
    "import numpy as np\n",
    "import pandas as pd\n",
    "import math\n",
    "\n",
    "# System\n",
    "import os\n",
    "import shutil\n",
    "from IPython.display import display, Markdown, HTML, FileLink, FileLinks\n",
    "\n",
    "# Spatial\n",
    "import geopandas as gpd\n",
    "import json\n",
    "import pyproj\n",
    "from shapely.geometry import Point, Polygon, MultiPoint\n",
    "from shapely.wkt import dumps, loads\n",
    "from shapely.ops import nearest_points\n",
    "from pyproj import CRS\n",
    "import ogr, gdal, osr\n",
    "#import fiona\n",
    "\n",
    "# Mapping / Plotting\n",
    "from functools import reduce\n",
    "#import datapane as dp \n",
    "#!datapane login --token=\"9bde41bfbc4ad14119e32086f9f06d2e5db1d5b8\"\n",
    "import folium\n",
    "from folium.features import GeoJsonTooltip\n",
    "from folium.plugins import BeautifyIcon\n",
    "from folium.plugins import HeatMap\n",
    "import branca.colormap as cm\n",
    "import matplotlib.pyplot as plt\n",
    "from matplotlib.ticker import MaxNLocator\n",
    "%matplotlib inline\n",
    "# %matplotlib inline"
   ]
  },
  {
   "cell_type": "code",
   "execution_count": 3,
   "id": "7ff55a57-e9f1-4597-9e92-b5f0087b40c2",
   "metadata": {
    "code_folding": [
     0
    ]
   },
   "outputs": [],
   "source": [
    "#import geopandas as gpd   # Note that you require geopandas version >= 0.7 that incluse clip see here for installation (https://gis.stackexchange.com/questions/360127/geopandas-0-6-1-installed-instead-of-0-7-0-in-conda-windows-10#)\n",
    "import os\n",
    "import fiona\n",
    "import ipywidgets as widgets\n",
    "from IPython.display import display\n",
    "from rasterstats import zonal_stats\n",
    "import rasterio\n",
    "from geojson import Feature, Point, FeatureCollection\n",
    "import rasterio.fill\n",
    "from shapely.geometry import shape, mapping\n",
    "import json\n",
    "#from earthpy import clip    clip has been deprecated to geopandas\n",
    "#import earthpy.spatial as es\n",
    "import numpy as np\n",
    "import tkinter as tk\n",
    "from tkinter import filedialog, messagebox\n",
    "import gdal\n",
    "import datetime\n",
    "import warnings\n",
    "import pandas as pd\n",
    "import scipy.spatial\n",
    "warnings.filterwarnings('ignore')\n",
    "\n",
    "#import contextily as ctx\n",
    "import h3 as h3\n",
    "from shapely.ops import unary_union\n",
    "from shapely.geometry.polygon import Polygon\n",
    "\n",
    "root = tk.Tk()\n",
    "root.withdraw()\n",
    "root.attributes(\"-topmost\", True)\n",
    "\n",
    "pd.options.display.float_format = '{:,.2f}'.format"
   ]
  },
  {
   "cell_type": "code",
   "execution_count": 4,
   "id": "52ae53ed-deb3-49ce-9d03-200d1017c7ec",
   "metadata": {},
   "outputs": [],
   "source": [
    "from utils import processing_raster, finalizing_rasters"
   ]
  },
  {
   "cell_type": "markdown",
   "id": "70bcd211-ba60-4c7a-8044-7b4843836360",
   "metadata": {},
   "source": [
    "### Define directories and dataset names"
   ]
  },
  {
   "cell_type": "code",
   "execution_count": 5,
   "id": "f125b4ff-5fd3-473a-9edf-728c13a9dde8",
   "metadata": {
    "code_folding": []
   },
   "outputs": [],
   "source": [
    "### Define directories and dataset names\n",
    "\n",
    "ROOT_DIR = os.path.abspath(os.curdir)\n",
    "in_path = ROOT_DIR\n",
    "out_path = ROOT_DIR + \"/Outputs\"\n"
   ]
  },
  {
   "cell_type": "code",
   "execution_count": 6,
   "id": "e7c299a6-af9a-42a9-9ce2-3aa71906e15f",
   "metadata": {},
   "outputs": [],
   "source": [
    "## RWI layer\n",
    "rwi_path = in_path + \"/Residential/Data/WealthIndex\"\n",
    "rwi_name = 'zmb_relative_wealth_index.csv'"
   ]
  },
  {
   "cell_type": "code",
   "execution_count": 7,
   "id": "be9f0564-e9dd-4187-9cec-92e937386cc0",
   "metadata": {},
   "outputs": [],
   "source": [
    "## Coordinate and projection systems\n",
    "crs_WGS84 = CRS(\"EPSG:4326\")    # Originan WGS84 coordinate system\n",
    "crs_proj = CRS(\"EPSG:32736\")    # Projection system for the selected country -- see http://epsg.io/ for more info"
   ]
  },
  {
   "cell_type": "markdown",
   "id": "a0eda850-53e1-48de-b810-4d8486844ab1",
   "metadata": {},
   "source": [
    "### Define area of interest"
   ]
  },
  {
   "cell_type": "code",
   "execution_count": 8,
   "id": "2e46725a-444f-4319-a872-ba052bb4339b",
   "metadata": {},
   "outputs": [],
   "source": [
    "try: area\n",
    "except NameError: area = \"COUNTRY\"\n",
    "# area = \"Copperbelt\""
   ]
  },
  {
   "cell_type": "code",
   "execution_count": 9,
   "id": "dae1b98a-0b14-433d-99c9-70719792b686",
   "metadata": {},
   "outputs": [
    {
     "data": {
      "text/plain": [
       "0       Copperbelt\n",
       "1         Muchinga\n",
       "2    North-Western\n",
       "3          Western\n",
       "4          Luapula\n",
       "5         Northern\n",
       "6          Central\n",
       "7         Southern\n",
       "8          Eastern\n",
       "9           Lusaka\n",
       "Name: Regions GADM, dtype: object"
      ]
     },
     "execution_count": 9,
     "metadata": {},
     "output_type": "execute_result"
    }
   ],
   "source": [
    "## Regions list\n",
    "regions_path = \"admin/\"\n",
    "regions_list = 'Regions_list.csv'\n",
    "df_regions = pd.read_csv(regions_path + regions_list)\n",
    "regions = df_regions['Regions GADM']\n",
    "# regions\n",
    "if area != \"COUNTRY\":\n",
    "    regions = [area]\n",
    "regions"
   ]
  },
  {
   "cell_type": "markdown",
   "id": "04780ace-4a73-4f7d-809e-1a7ae3bea2e1",
   "metadata": {},
   "source": [
    "### Import layers to be used"
   ]
  },
  {
   "cell_type": "code",
   "execution_count": 10,
   "id": "d0d7bf98-ea6b-4f4a-8ae3-c69062fdca8a",
   "metadata": {
    "code_folding": []
   },
   "outputs": [],
   "source": [
    "## Import Relative Wealth Index | convert to geodf | export as gpkg\n",
    "rwi = pd.read_csv(rwi_path + \"/\" + rwi_name)\n",
    "rwi_gdf = gpd.GeoDataFrame(rwi, geometry=gpd.points_from_xy(rwi.longitude, rwi.latitude), crs={'init': 'epsg:4326'})\n",
    "rwi_gdf.to_file(os.path.join(rwi_path,\"{c}\".format(c=rwi_name.split(\".\")[0])), driver=\"GPKG\")"
   ]
  },
  {
   "cell_type": "code",
   "execution_count": 11,
   "id": "bb1a58ba-bd7a-4480-9a2a-d1bbd9f33fb6",
   "metadata": {},
   "outputs": [],
   "source": [
    "hexagons = gpd.read_file(out_path + \"\\\\\" + \"h3_grid_at_hex_7.shp\")"
   ]
  },
  {
   "cell_type": "code",
   "execution_count": 12,
   "id": "565f6f88-92e8-4fd4-af86-3179074ad963",
   "metadata": {},
   "outputs": [],
   "source": [
    "grid = hexagons"
   ]
  },
  {
   "cell_type": "code",
   "execution_count": 13,
   "id": "a9c48be1-0955-4725-8ee0-f6f6f63298b2",
   "metadata": {},
   "outputs": [
    {
     "data": {
      "text/html": [
       "<div>\n",
       "<style scoped>\n",
       "    .dataframe tbody tr th:only-of-type {\n",
       "        vertical-align: middle;\n",
       "    }\n",
       "\n",
       "    .dataframe tbody tr th {\n",
       "        vertical-align: top;\n",
       "    }\n",
       "\n",
       "    .dataframe thead th {\n",
       "        text-align: right;\n",
       "    }\n",
       "</style>\n",
       "<table border=\"1\" class=\"dataframe\">\n",
       "  <thead>\n",
       "    <tr style=\"text-align: right;\">\n",
       "      <th></th>\n",
       "      <th>hexagons</th>\n",
       "      <th>lon</th>\n",
       "      <th>lat</th>\n",
       "      <th>index_righ</th>\n",
       "      <th>NAME_1</th>\n",
       "      <th>id</th>\n",
       "      <th>geometry</th>\n",
       "    </tr>\n",
       "  </thead>\n",
       "  <tbody>\n",
       "    <tr>\n",
       "      <th>0</th>\n",
       "      <td>8755a12a5ffffff</td>\n",
       "      <td>23.0269</td>\n",
       "      <td>-16.9721</td>\n",
       "      <td>9.0000</td>\n",
       "      <td>Western</td>\n",
       "      <td>1</td>\n",
       "      <td>POLYGON ((23.03924 -16.97694, 23.02895 -16.986...</td>\n",
       "    </tr>\n",
       "    <tr>\n",
       "      <th>1</th>\n",
       "      <td>8739a3513ffffff</td>\n",
       "      <td>33.5028</td>\n",
       "      <td>-10.3349</td>\n",
       "      <td>5.0000</td>\n",
       "      <td>Muchinga</td>\n",
       "      <td>2</td>\n",
       "      <td>POLYGON ((33.51587 -10.33916, 33.50612 -10.350...</td>\n",
       "    </tr>\n",
       "    <tr>\n",
       "      <th>2</th>\n",
       "      <td>87344eadbffffff</td>\n",
       "      <td>27.2583</td>\n",
       "      <td>-16.9584</td>\n",
       "      <td>8.0000</td>\n",
       "      <td>Southern</td>\n",
       "      <td>3</td>\n",
       "      <td>POLYGON ((27.27107 -16.96345, 27.26061 -16.973...</td>\n",
       "    </tr>\n",
       "    <tr>\n",
       "      <th>3</th>\n",
       "      <td>8755a5c5effffff</td>\n",
       "      <td>24.7249</td>\n",
       "      <td>-17.0262</td>\n",
       "      <td>9.0000</td>\n",
       "      <td>Western</td>\n",
       "      <td>4</td>\n",
       "      <td>POLYGON ((24.73744 -17.03115, 24.72707 -17.040...</td>\n",
       "    </tr>\n",
       "    <tr>\n",
       "      <th>4</th>\n",
       "      <td>8755a5086ffffff</td>\n",
       "      <td>24.4584</td>\n",
       "      <td>-17.0584</td>\n",
       "      <td>9.0000</td>\n",
       "      <td>Western</td>\n",
       "      <td>5</td>\n",
       "      <td>POLYGON ((24.47095 -17.06332, 24.46058 -17.072...</td>\n",
       "    </tr>\n",
       "    <tr>\n",
       "      <th>...</th>\n",
       "      <td>...</td>\n",
       "      <td>...</td>\n",
       "      <td>...</td>\n",
       "      <td>...</td>\n",
       "      <td>...</td>\n",
       "      <td>...</td>\n",
       "      <td>...</td>\n",
       "    </tr>\n",
       "    <tr>\n",
       "      <th>122983</th>\n",
       "      <td>8755ac894ffffff</td>\n",
       "      <td>23.0108</td>\n",
       "      <td>-16.1575</td>\n",
       "      <td>9.0000</td>\n",
       "      <td>Western</td>\n",
       "      <td>122984</td>\n",
       "      <td>POLYGON ((23.02314 -16.16227, 23.01292 -16.171...</td>\n",
       "    </tr>\n",
       "    <tr>\n",
       "      <th>122984</th>\n",
       "      <td>8739b3b55ffffff</td>\n",
       "      <td>31.7546</td>\n",
       "      <td>-11.5491</td>\n",
       "      <td>5.0000</td>\n",
       "      <td>Muchinga</td>\n",
       "      <td>122985</td>\n",
       "      <td>POLYGON ((31.76760 -11.55348, 31.75767 -11.564...</td>\n",
       "    </tr>\n",
       "    <tr>\n",
       "      <th>122985</th>\n",
       "      <td>875512993ffffff</td>\n",
       "      <td>24.2351</td>\n",
       "      <td>-15.8938</td>\n",
       "      <td>9.0000</td>\n",
       "      <td>Western</td>\n",
       "      <td>122986</td>\n",
       "      <td>POLYGON ((24.24760 -15.89853, 24.23734 -15.908...</td>\n",
       "    </tr>\n",
       "    <tr>\n",
       "      <th>122986</th>\n",
       "      <td>873983ce5ffffff</td>\n",
       "      <td>31.0992</td>\n",
       "      <td>-8.7590</td>\n",
       "      <td>7.0000</td>\n",
       "      <td>Northern</td>\n",
       "      <td>122987</td>\n",
       "      <td>POLYGON ((31.11215 -8.76282, 31.10254 -8.77368...</td>\n",
       "    </tr>\n",
       "    <tr>\n",
       "      <th>122987</th>\n",
       "      <td>875512d8dffffff</td>\n",
       "      <td>24.2055</td>\n",
       "      <td>-16.2359</td>\n",
       "      <td>9.0000</td>\n",
       "      <td>Western</td>\n",
       "      <td>122988</td>\n",
       "      <td>POLYGON ((24.21799 -16.24066, 24.20771 -16.250...</td>\n",
       "    </tr>\n",
       "  </tbody>\n",
       "</table>\n",
       "<p>122988 rows × 7 columns</p>\n",
       "</div>"
      ],
      "text/plain": [
       "               hexagons     lon      lat  index_righ    NAME_1      id  \\\n",
       "0       8755a12a5ffffff 23.0269 -16.9721      9.0000   Western       1   \n",
       "1       8739a3513ffffff 33.5028 -10.3349      5.0000  Muchinga       2   \n",
       "2       87344eadbffffff 27.2583 -16.9584      8.0000  Southern       3   \n",
       "3       8755a5c5effffff 24.7249 -17.0262      9.0000   Western       4   \n",
       "4       8755a5086ffffff 24.4584 -17.0584      9.0000   Western       5   \n",
       "...                 ...     ...      ...         ...       ...     ...   \n",
       "122983  8755ac894ffffff 23.0108 -16.1575      9.0000   Western  122984   \n",
       "122984  8739b3b55ffffff 31.7546 -11.5491      5.0000  Muchinga  122985   \n",
       "122985  875512993ffffff 24.2351 -15.8938      9.0000   Western  122986   \n",
       "122986  873983ce5ffffff 31.0992  -8.7590      7.0000  Northern  122987   \n",
       "122987  875512d8dffffff 24.2055 -16.2359      9.0000   Western  122988   \n",
       "\n",
       "                                                 geometry  \n",
       "0       POLYGON ((23.03924 -16.97694, 23.02895 -16.986...  \n",
       "1       POLYGON ((33.51587 -10.33916, 33.50612 -10.350...  \n",
       "2       POLYGON ((27.27107 -16.96345, 27.26061 -16.973...  \n",
       "3       POLYGON ((24.73744 -17.03115, 24.72707 -17.040...  \n",
       "4       POLYGON ((24.47095 -17.06332, 24.46058 -17.072...  \n",
       "...                                                   ...  \n",
       "122983  POLYGON ((23.02314 -16.16227, 23.01292 -16.171...  \n",
       "122984  POLYGON ((31.76760 -11.55348, 31.75767 -11.564...  \n",
       "122985  POLYGON ((24.24760 -15.89853, 24.23734 -15.908...  \n",
       "122986  POLYGON ((31.11215 -8.76282, 31.10254 -8.77368...  \n",
       "122987  POLYGON ((24.21799 -16.24066, 24.20771 -16.250...  \n",
       "\n",
       "[122988 rows x 7 columns]"
      ]
     },
     "execution_count": 13,
     "metadata": {},
     "output_type": "execute_result"
    }
   ],
   "source": [
    "grid"
   ]
  },
  {
   "cell_type": "markdown",
   "id": "1c628b49-d0f7-4b64-a623-91b775fd2782",
   "metadata": {},
   "source": [
    "## Extract raster values to hexagons"
   ]
  },
  {
   "cell_type": "markdown",
   "id": "b84a594e-e751-4c43-8554-70f2bdcd7239",
   "metadata": {},
   "source": [
    "Extract count of buildings per hex from WorldPop"
   ]
  },
  {
   "cell_type": "code",
   "execution_count": 14,
   "id": "c1e70286-4b78-4e24-a37d-fbd19aa9dd94",
   "metadata": {},
   "outputs": [
    {
     "name": "stdout",
     "output_type": "stream",
     "text": [
      "2024-01-14 22:20:10.770920\n"
     ]
    }
   ],
   "source": [
    "pathWorldPopBuiCount = \"Residential/Data/WorldPop/ZMB_buildings_v2_0_count.tif\"\n",
    "# grid = processing_raster(\"buildings\", \"count\", grid, filepath=pathWorldPopBuiCount)\n",
    "grid = processing_raster(\"buildings\", \"sum\", grid, filepath=pathWorldPopBuiCount) #Copperbelt_buildings_v2_0_count from https://apps.worldpop.org/peanutButter/\n",
    "# pathWorldPopBuiArea = \"Residential/Data/WorldPop/Copperbelt_buildings_v2_0_total_area.tif\"\n",
    "# grid = processing_raster(\"bui_area_WP\", \"sum\", grid, filepath=pathWorldPopBuiArea) #Copperbelt_buildings_v2_0_count from https://apps.worldpop.org/peanutButter/"
   ]
  },
  {
   "cell_type": "markdown",
   "id": "73b8d60e-fa51-4c29-a988-7684b069fae2",
   "metadata": {},
   "source": [
    "Extract urban areas from WorldPop"
   ]
  },
  {
   "cell_type": "code",
   "execution_count": 15,
   "id": "61f23ece-a1ec-4780-895d-7bec644bfe3b",
   "metadata": {},
   "outputs": [
    {
     "name": "stdout",
     "output_type": "stream",
     "text": [
      "2024-01-14 22:30:37.972734\n"
     ]
    }
   ],
   "source": [
    "pathWorldPopBuiUrban = \"Residential/Data/WorldPop/ZMB_buildings_v2_0_urban.tif\"\n",
    "grid = processing_raster(\"locationWP\", \"median\", grid, filepath=pathWorldPopBuiUrban)      #Copperbelt_population_v1_0_gridded from https://apps.worldpop.org/peanutButter/"
   ]
  },
  {
   "cell_type": "markdown",
   "id": "e85dd683-4fb3-4b03-bd54-26f56bab5c22",
   "metadata": {},
   "source": [
    "Extract lighing data"
   ]
  },
  {
   "cell_type": "code",
   "execution_count": 16,
   "id": "991142e6-9a52-4f44-a444-6e24cb4331cb",
   "metadata": {},
   "outputs": [
    {
     "name": "stdout",
     "output_type": "stream",
     "text": [
      "2024-01-14 23:35:36.739567\n"
     ]
    }
   ],
   "source": [
    "## set_lightscore_sy_xxxx.tif: Predicted likelihood that a settlement is electrified (0 to 1)\n",
    "## http://www-personal.umich.edu/~brianmin/HREA/data.html\n",
    "# pathHREA = \"Residential/Data/Lighting/Copperbelt_set_lightscore_sy_2019_Nodata_values_fixed.tif\"\n",
    "pathHREA = \"Residential/Data/Lighting/Zambia_set_lightscore_sy_2019.tif\"\n",
    "grid = processing_raster(\"HREA\", \"mean\", grid, filepath=pathHREA)\n",
    "columnProbElec= \"HREA\""
   ]
  },
  {
   "cell_type": "markdown",
   "id": "eb833412-bb64-48e3-833b-21a16a6b80b1",
   "metadata": {},
   "source": [
    "Extract RWI"
   ]
  },
  {
   "cell_type": "code",
   "execution_count": 17,
   "id": "9b92d9fb-478f-45d4-bfb0-2369e87532ac",
   "metadata": {},
   "outputs": [
    {
     "name": "stdout",
     "output_type": "stream",
     "text": [
      "2024-01-14 23:41:35.513590\n"
     ]
    },
    {
     "name": "stderr",
     "output_type": "stream",
     "text": [
      "IOPub data rate exceeded.\n",
      "The Jupyter server will temporarily stop sending output\n",
      "to the client in order to avoid crashing it.\n",
      "To change this limit, set the config variable\n",
      "`--ServerApp.iopub_data_rate_limit`.\n",
      "\n",
      "Current values:\n",
      "ServerApp.iopub_data_rate_limit=1000000.0 (bytes/sec)\n",
      "ServerApp.rate_limit_window=3.0 (secs)\n",
      "\n"
     ]
    }
   ],
   "source": [
    "# Relative Wealth Index (RWI) -- extracting the mean value per building\n",
    "# Link: https://gee-community-catalog.org/projects/rwi/\n",
    "pathRWI = \"Residential/Data/WealthIndex/rwi_map.tif\"\n",
    "grid = processing_raster(\"rwi\", \"mean\", grid, filepath=pathRWI)\n",
    "print(grid)\n"
   ]
  },
  {
   "cell_type": "markdown",
   "id": "a0cbec06-cf05-491d-b3ca-298b0646d9d4",
   "metadata": {},
   "source": [
    "##### Once done with rasters run this cell"
   ]
  },
  {
   "cell_type": "code",
   "execution_count": 18,
   "id": "cb0e9e2b-6b1e-4795-8fa5-6aabe9cb6652",
   "metadata": {},
   "outputs": [
    {
     "name": "stdout",
     "output_type": "stream",
     "text": [
      "2024-01-14 23:42:11.433835\n"
     ]
    }
   ],
   "source": [
    "grid = finalizing_rasters(out_path, grid, crs_proj)"
   ]
  },
  {
   "cell_type": "code",
   "execution_count": 19,
   "id": "1a5398d5-6311-4961-9a20-c0d9680fc58f",
   "metadata": {},
   "outputs": [],
   "source": [
    "grid.rename({'HREAmean': 'HREA'}, axis=1, inplace=True)\n",
    "grid.rename({'rwimean': 'rwi'}, axis=1, inplace=True)\n",
    "grid.rename({'locationWPmedian': 'locationWP'}, axis=1, inplace=True)"
   ]
  },
  {
   "cell_type": "markdown",
   "id": "29401a31-0b46-4b6a-9281-45eda2c31232",
   "metadata": {},
   "source": [
    "Add values in RWI column when there is none"
   ]
  },
  {
   "cell_type": "code",
   "execution_count": 20,
   "id": "59733b9e-bb8e-4f20-977e-95510c4ba670",
   "metadata": {},
   "outputs": [
    {
     "name": "stdout",
     "output_type": "stream",
     "text": [
      "-1.2319999933242798\n",
      "1.496250033378601\n"
     ]
    }
   ],
   "source": [
    "grid[\"rwi\"].fillna(grid[\"rwi\"].mean(numeric_only=True).round(1), inplace=True)\n",
    "print(grid[\"rwi\"].min())\n",
    "print(grid[\"rwi\"].max())"
   ]
  },
  {
   "cell_type": "code",
   "execution_count": 21,
   "id": "73625768-f34e-4172-a966-ced127705a52",
   "metadata": {},
   "outputs": [
    {
     "data": {
      "text/html": [
       "<div>\n",
       "<style scoped>\n",
       "    .dataframe tbody tr th:only-of-type {\n",
       "        vertical-align: middle;\n",
       "    }\n",
       "\n",
       "    .dataframe tbody tr th {\n",
       "        vertical-align: top;\n",
       "    }\n",
       "\n",
       "    .dataframe thead th {\n",
       "        text-align: right;\n",
       "    }\n",
       "</style>\n",
       "<table border=\"1\" class=\"dataframe\">\n",
       "  <thead>\n",
       "    <tr style=\"text-align: right;\">\n",
       "      <th></th>\n",
       "      <th>hexagons</th>\n",
       "      <th>lon</th>\n",
       "      <th>lat</th>\n",
       "      <th>index_righ</th>\n",
       "      <th>NAME_1</th>\n",
       "      <th>id</th>\n",
       "      <th>buildingssum</th>\n",
       "      <th>locationWP</th>\n",
       "      <th>HREA</th>\n",
       "      <th>rwi</th>\n",
       "      <th>geometry</th>\n",
       "    </tr>\n",
       "  </thead>\n",
       "  <tbody>\n",
       "    <tr>\n",
       "      <th>0</th>\n",
       "      <td>8755a12a5ffffff</td>\n",
       "      <td>23.0269</td>\n",
       "      <td>-16.9721</td>\n",
       "      <td>9.0000</td>\n",
       "      <td>Western</td>\n",
       "      <td>1</td>\n",
       "      <td>37.0000</td>\n",
       "      <td>0.0000</td>\n",
       "      <td>0.0465</td>\n",
       "      <td>-0.4000</td>\n",
       "      <td>POLYGON ((23.03924 -16.97694, 23.02895 -16.986...</td>\n",
       "    </tr>\n",
       "    <tr>\n",
       "      <th>1</th>\n",
       "      <td>8739a3513ffffff</td>\n",
       "      <td>33.5028</td>\n",
       "      <td>-10.3349</td>\n",
       "      <td>5.0000</td>\n",
       "      <td>Muchinga</td>\n",
       "      <td>2</td>\n",
       "      <td>690.0000</td>\n",
       "      <td>0.0000</td>\n",
       "      <td>0.0431</td>\n",
       "      <td>-0.3008</td>\n",
       "      <td>POLYGON ((33.51587 -10.33916, 33.50612 -10.350...</td>\n",
       "    </tr>\n",
       "    <tr>\n",
       "      <th>2</th>\n",
       "      <td>87344eadbffffff</td>\n",
       "      <td>27.2583</td>\n",
       "      <td>-16.9584</td>\n",
       "      <td>8.0000</td>\n",
       "      <td>Southern</td>\n",
       "      <td>3</td>\n",
       "      <td>309.0000</td>\n",
       "      <td>0.0000</td>\n",
       "      <td>0.1061</td>\n",
       "      <td>-0.2715</td>\n",
       "      <td>POLYGON ((27.27107 -16.96345, 27.26061 -16.973...</td>\n",
       "    </tr>\n",
       "  </tbody>\n",
       "</table>\n",
       "</div>"
      ],
      "text/plain": [
       "          hexagons     lon      lat  index_righ    NAME_1  id  buildingssum  \\\n",
       "0  8755a12a5ffffff 23.0269 -16.9721      9.0000   Western   1       37.0000   \n",
       "1  8739a3513ffffff 33.5028 -10.3349      5.0000  Muchinga   2      690.0000   \n",
       "2  87344eadbffffff 27.2583 -16.9584      8.0000  Southern   3      309.0000   \n",
       "\n",
       "   locationWP   HREA     rwi  \\\n",
       "0      0.0000 0.0465 -0.4000   \n",
       "1      0.0000 0.0431 -0.3008   \n",
       "2      0.0000 0.1061 -0.2715   \n",
       "\n",
       "                                            geometry  \n",
       "0  POLYGON ((23.03924 -16.97694, 23.02895 -16.986...  \n",
       "1  POLYGON ((33.51587 -10.33916, 33.50612 -10.350...  \n",
       "2  POLYGON ((27.27107 -16.96345, 27.26061 -16.973...  "
      ]
     },
     "execution_count": 21,
     "metadata": {},
     "output_type": "execute_result"
    }
   ],
   "source": [
    "grid.head(3)"
   ]
  },
  {
   "cell_type": "markdown",
   "id": "f76c68d7-353f-4535-bfe7-123890e9f092",
   "metadata": {},
   "source": [
    "## Compute residential demand"
   ]
  },
  {
   "cell_type": "code",
   "execution_count": 22,
   "id": "c8b3dc69-f5dd-4670-a7ec-51dc1cbf7cbb",
   "metadata": {},
   "outputs": [],
   "source": [
    "# # Retrieve values from the MTF survey # not used because it leads to an overassessment of energy\n",
    "# %run Residential/energy_demand_res.ipynb\n",
    "# energyConsHH = energycons_res_mtf[\"annual\"] # dictionnary for each region one value\n",
    "# energyConsHH['COPPERBELT']=1250\n",
    "# energyConsHH"
   ]
  },
  {
   "cell_type": "code",
   "execution_count": 23,
   "id": "982290c1-17a7-432c-b8cb-f05b4bcad96c",
   "metadata": {},
   "outputs": [
    {
     "data": {
      "text/plain": [
       "Status_electrified\n",
       "nonelec    109649\n",
       "elec        13339\n",
       "Name: count, dtype: int64"
      ]
     },
     "execution_count": 23,
     "metadata": {},
     "output_type": "execute_result"
    }
   ],
   "source": [
    "# electrified or non-electrified status\n",
    "grid[\"Status_electrified\"] = grid.apply(lambda row: (\"elec\" if ((row[columnProbElec] > 0.25))\n",
    "                                             else \"nonelec\"), axis=1)\n",
    "grid[\"Status_electrified\"].value_counts()"
   ]
  },
  {
   "cell_type": "markdown",
   "id": "91245c5b-c6ce-4a7e-a41c-6e215dc7b65e",
   "metadata": {},
   "source": [
    "Determine location (ruban or rural) of each cell"
   ]
  },
  {
   "cell_type": "code",
   "execution_count": 24,
   "id": "9fac3b99-fa47-4c20-bc89-b0b0f7bdd1ac",
   "metadata": {},
   "outputs": [],
   "source": [
    "# for each hexagon, determine if it's rural or urban --> choose best source\n",
    "# grid[\"locAssessed\"] = grid.apply(lambda row: (\"urban\" if ((row['buildingssum'] > 1000)) # number chosen to get 1 for nb of HH per rural building\n",
    "#                                              else \"rural\"), axis=1)\n",
    "grid[\"locWorldPop\"] = grid.apply(lambda row: (\"urban\" if ((row['locationWP'] == 1)) \n",
    "                                             else \"rural\"), axis=1)\n",
    "# grid[\"locGHSL\"] = grid.apply (lambda row: (\"urban\" if ((row['SMOD'] == 30) or (row['SMOD'] == 21) or (row['SMOD'] == 22) or (row['SMOD' ] == 23)) \n",
    "#                                              else \"rural\"), axis=1)\n",
    "grid[\"location\"] = grid[\"locWorldPop\"] "
   ]
  },
  {
   "cell_type": "code",
   "execution_count": 25,
   "id": "a19e5dbe-2d8e-40a1-8b7b-d74904028c31",
   "metadata": {},
   "outputs": [
    {
     "data": {
      "image/png": "[encoded data removed]",
      "text/plain": [
       "<Figure size 1000x500 with 1 Axes>"
      ]
     },
     "metadata": {},
     "output_type": "display_data"
    }
   ],
   "source": [
    "# map of the urban and rural areas WorldPop\n",
    "# Create the axis first\n",
    "fig2, ax2 = plt.subplots(figsize=(10, 5))\n",
    "# Plot\n",
    "grid.sort_values('locWorldPop', ascending=True).plot(\n",
    "    ax=ax2, column='locWorldPop', cmap=\"Reds\", legend=True, alpha=0.5)\n",
    "\n",
    "ax2.set_aspect('equal', 'box')\n",
    "txt = ax2.set_title('Urban and rural areas WorldPop in {} '.format(area))"
   ]
  },
  {
   "cell_type": "markdown",
   "id": "c5183481-6ac6-48c3-8ac2-7921a8ec3ced",
   "metadata": {},
   "source": [
    "Assess number of residential households per cell"
   ]
  },
  {
   "cell_type": "code",
   "execution_count": 29,
   "id": "016732b6-c6c7-4dd0-bed3-765eec742c6e",
   "metadata": {},
   "outputs": [
    {
     "name": "stdout",
     "output_type": "stream",
     "text": [
      "Number of res HH in urban and rural areas in Copperbelt 449077.0 85356.0\n",
      "Number of res HH in urban and rural areas in Muchinga 24953.0 151730.0\n",
      "Number of res HH in urban and rural areas in North-Western 91501.0 116233.0\n",
      "Number of res HH in urban and rural areas in Western 54466.0 205604.0\n",
      "Number of res HH in urban and rural areas in Luapula 44689.0 228300.0\n",
      "Number of res HH in urban and rural areas in Northern 72867.0 230684.0\n",
      "Number of res HH in urban and rural areas in Central 98493.0 292947.0\n",
      "Number of res HH in urban and rural areas in Southern 120410.0 316294.0\n",
      "Number of res HH in urban and rural areas in Eastern 82166.0 369725.0\n",
      "Number of res HH in urban and rural areas in Lusaka 523768.0 108025.0\n"
     ]
    }
   ],
   "source": [
    "# Load data into Pandas DataFrame\n",
    "## Census data\n",
    "data_path = \"Residential/Data/\"\n",
    "census_name = 'Census_Zambia.csv'\n",
    "df_censusdata = pd.read_csv(data_path + census_name)\n",
    "\n",
    "resHHurban = {}\n",
    "resHHrural = {}\n",
    "for region in regions:\n",
    "    data = df_censusdata[df_censusdata['Region']==region]\n",
    "    resHHurban[region] = float(data['Urban'])\n",
    "    resHHrural[region] = float(data['Rural'])\n",
    "    print(\"Number of res HH in urban and rural areas in\",f\"{region}\", resHHurban[region], resHHrural[region])\n",
    "# df_censusdata"
   ]
  },
  {
   "cell_type": "code",
   "execution_count": 80,
   "id": "5e85abcc-d440-4c71-9389-a9d0a3be4d45",
   "metadata": {},
   "outputs": [
    {
     "name": "stdout",
     "output_type": "stream",
     "text": [
      "total Buildings in Copperbelt 1,117,170 urban: 604,165 rural: 513,005\n",
      "share Build urban: 54% rural: 46%\n",
      "total Buildings in Muchinga 623,493 urban: 80,335 rural: 543,158\n",
      "share Build urban: 13% rural: 87%\n",
      "total Buildings in North-Western 576,163 urban: 151,021 rural: 425,142\n",
      "share Build urban: 26% rural: 74%\n",
      "total Buildings in Western 796,764 urban: 80,858 rural: 715,906\n",
      "share Build urban: 10% rural: 90%\n",
      "total Buildings in Luapula 615,968 urban: 84,579 rural: 531,389\n",
      "share Build urban: 14% rural: 86%\n",
      "total Buildings in Northern 823,956 urban: 104,365 rural: 719,591\n",
      "share Build urban: 13% rural: 87%\n",
      "total Buildings in Central 1,533,577 urban: 321,668 rural: 1,211,909\n",
      "share Build urban: 21% rural: 79%\n",
      "total Buildings in Southern 1,359,567 urban: 132,997 rural: 1,226,570\n",
      "share Build urban: 10% rural: 90%\n",
      "total Buildings in Eastern 1,359,153 urban: 119,052 rural: 1,240,101\n",
      "share Build urban: 9% rural: 91%\n",
      "total Buildings in Lusaka 1,156,294 urban: 747,954 rural: 408,340\n",
      "share Build urban: 65% rural: 35%\n"
     ]
    }
   ],
   "source": [
    "# Option 1: use buildings count from Worldpop\n",
    "# total number of buildings\n",
    "data_buildings = []\n",
    "for region in regions:\n",
    "    totalBuildings = grid[(grid['NAME_1'] == region)]['buildingssum'].sum()\n",
    "    urbanBuildings = grid[(grid['location'] == \"urban\") & (grid['NAME_1'] == region)]['buildingssum'].sum()\n",
    "    ruralBuildings = grid[(grid['location'] == \"rural\") & (grid['NAME_1'] == region)]['buildingssum'].sum()\n",
    "    data_region = {\n",
    "        'region': region,\n",
    "        'totalBuildings': totalBuildings,\n",
    "        'urbanBuildings': urbanBuildings,\n",
    "        'ruralBuildings': ruralBuildings,\n",
    "        'shareRuralBuild': ruralBuildings / totalBuildings,\n",
    "        'shareUrbanBuild': urbanBuildings / totalBuildings\n",
    "    }\n",
    "    data_buildings.append(data_region)\n",
    "    print(\"total Buildings in\",f\"{region}\",f\"{totalBuildings:,.0f}\", \"urban:\",f\"{urbanBuildings:,.0f}\", \"rural:\",f\"{ruralBuildings:,.0f}\")\n",
    "    print(\"share Build urban:\", f\"{data_region['shareUrbanBuild']:.0%}\",\"rural:\",f\"{data_region['shareRuralBuild']:.0%}\")\n",
    "\n",
    "df_buildings = pd.DataFrame(data_buildings)\n",
    "df_buildings = df_buildings.set_index('region')\n",
    "df_buildings"
   ]
  },
  {
   "cell_type": "code",
   "execution_count": 86,
   "id": "7e9b6c3f-6cf7-4465-a850-b2a9f85cb5d9",
   "metadata": {},
   "outputs": [
    {
     "name": "stdout",
     "output_type": "stream",
     "text": [
      "total Res Buildings in Copperbelt 459,587 urban: 374,231 rural: 85,356\n",
      "share Res Build urban: 62% rural: 17%\n",
      "nb Of HH per Res Building: urban 1.2 rural 1.0\n",
      "total Res HH: urban 449,077 rural 85,356\n",
      "nb Of HH per Res Building average 1.2\n",
      "total Res Buildings in Muchinga 172,524 urban: 20,794 rural: 151,730\n",
      "share Res Build urban: 26% rural: 28%\n",
      "nb Of HH per Res Building: urban 1.2 rural 1.0\n",
      "total Res HH: urban 24,953 rural 151,730\n",
      "nb Of HH per Res Building average 1.0\n",
      "total Res Buildings in North-Western 192,484 urban: 76,251 rural: 116,233\n",
      "share Res Build urban: 50% rural: 27%\n",
      "nb Of HH per Res Building: urban 1.2 rural 1.0\n",
      "total Res HH: urban 91,501 rural 116,233\n",
      "nb Of HH per Res Building average 1.1\n",
      "total Res Buildings in Western 250,992 urban: 45,388 rural: 205,604\n",
      "share Res Build urban: 56% rural: 29%\n",
      "nb Of HH per Res Building: urban 1.2 rural 1.0\n",
      "total Res HH: urban 54,466 rural 205,604\n",
      "nb Of HH per Res Building average 1.0\n",
      "total Res Buildings in Luapula 265,541 urban: 37,241 rural: 228,300\n",
      "share Res Build urban: 44% rural: 43%\n",
      "nb Of HH per Res Building: urban 1.2 rural 1.0\n",
      "total Res HH: urban 44,689 rural 228,300\n",
      "nb Of HH per Res Building average 1.0\n",
      "total Res Buildings in Northern 291,406 urban: 60,723 rural: 230,684\n",
      "share Res Build urban: 58% rural: 32%\n",
      "nb Of HH per Res Building: urban 1.2 rural 1.0\n",
      "total Res HH: urban 72,867 rural 230,684\n",
      "nb Of HH per Res Building average 1.0\n",
      "total Res Buildings in Central 375,024 urban: 82,078 rural: 292,947\n",
      "share Res Build urban: 26% rural: 24%\n",
      "nb Of HH per Res Building: urban 1.2 rural 1.0\n",
      "total Res HH: urban 98,493 rural 292,947\n",
      "nb Of HH per Res Building average 1.0\n",
      "total Res Buildings in Southern 416,636 urban: 100,342 rural: 316,294\n",
      "share Res Build urban: 75% rural: 26%\n",
      "nb Of HH per Res Building: urban 1.2 rural 1.0\n",
      "total Res HH: urban 120,410 rural 316,294\n",
      "nb Of HH per Res Building average 1.0\n",
      "total Res Buildings in Eastern 438,197 urban: 68,472 rural: 369,725\n",
      "share Res Build urban: 58% rural: 30%\n",
      "nb Of HH per Res Building: urban 1.2 rural 1.0\n",
      "total Res HH: urban 82,166 rural 369,725\n",
      "nb Of HH per Res Building average 1.0\n",
      "total Res Buildings in Lusaka 544,498 urban: 436,473 rural: 108,025\n",
      "share Res Build urban: 58% rural: 26%\n",
      "nb Of HH per Res Building: urban 1.2 rural 1.0\n",
      "total Res HH: urban 523,768 rural 108,025\n",
      "nb Of HH per Res Building average 1.2\n"
     ]
    }
   ],
   "source": [
    "resUrbanBuildings = {}\n",
    "resRuralBuildings = {}\n",
    "resTotalBuildings = {}\n",
    "shareUrbanResBuildings = {}\n",
    "shareRuralResBuildings = {}\n",
    "totalResHH = {}\n",
    "totalResHHurban = {}\n",
    "totalResHHrural = {}\n",
    "nbOfHHperResBuilding_average = {}\n",
    "\n",
    "# share of residential building in each location\n",
    "# shareResBuildings = {\"urban\": 0.80, \"rural\": 0.5} # --> to change!\n",
    "# shareResBuildings = {\"urban\": 0.5, \"rural\": 0.15} # --> to change! # number chosen to get 1 for nb of HH per rural building, and for urban twice the value in rural\n",
    "# resUrbanBuildings = urbanBuildings*shareResBuildings[\"urban\"]\n",
    "# resRuralBuildings = ruralBuildings*shareResBuildings[\"rural\"]\n",
    "# resTotalBuildings = resUrbanBuildings + resRuralBuildings\n",
    "\n",
    "# Assess the number of residential HH per building\n",
    "nbOfHHperResBuilding =  {\"urban\": 1.2, \"rural\": 1}  # --> to change!\n",
    "# nbOfHHperResBuilding[\"urban\"]= resHHurban/resUrbanBuildings\n",
    "# nbOfHHperResBuilding[\"rural\"]= resHHrural/resRuralBuildings\n",
    "\n",
    "# share of residential building in each location\n",
    "for region in regions:\n",
    "    shareUrbanResBuildings[region] = resHHurban[region]/(nbOfHHperResBuilding[\"urban\"]* df_buildings.loc[region, 'urbanBuildings'])\n",
    "    shareRuralResBuildings[region] = resHHrural[region]/(nbOfHHperResBuilding[\"rural\"]* df_buildings.loc[region, 'ruralBuildings'])\n",
    "    resUrbanBuildings[region] = df_buildings.loc[region, 'urbanBuildings'] * shareUrbanResBuildings[region]\n",
    "    resRuralBuildings[region] = df_buildings.loc[region, 'ruralBuildings'] * shareRuralResBuildings[region]\n",
    "    resTotalBuildings[region] = resUrbanBuildings[region] + resRuralBuildings[region]\n",
    "\n",
    "    print(\"total Res Buildings in\",f\"{region}\",f\"{resTotalBuildings[region]:,.0f}\", \"urban:\",f\"{resUrbanBuildings[region]:,.0f}\", \"rural:\",f\"{resRuralBuildings[region]:,.0f}\")\n",
    "    print(\"share Res Build urban:\", f\"{shareUrbanResBuildings[region]:.0%}\",\"rural:\",f\"{shareRuralResBuildings[region]:.0%}\")\n",
    "    print(\"nb Of HH per Res Building: urban\", f\"{nbOfHHperResBuilding['urban']:,.1f}\",\"rural\", f\"{nbOfHHperResBuilding['rural']:,.1f}\")\n",
    "    \n",
    "    # Assess the total number of HH in the region (should match the census data)\n",
    "    totalResHHurban[region] = nbOfHHperResBuilding[\"urban\"]*resUrbanBuildings[region]\n",
    "    totalResHHrural[region] = nbOfHHperResBuilding[\"rural\"]*resRuralBuildings[region]\n",
    "    totalResHH[region] = totalResHHurban[region] + totalResHHrural[region]\n",
    "    print(\"total Res HH: urban\", f\"{totalResHHurban[region]:,.0f}\", \"rural\", f\"{totalResHHrural[region]:,.0f}\")\n",
    "    nbOfHHperResBuilding_average[region] = totalResHH[region] / ((df_buildings.loc[region, 'urbanBuildings']*shareUrbanResBuildings[region]) +\n",
    "                                                                 (df_buildings.loc[region, 'ruralBuildings'] * shareRuralResBuildings[region]))\n",
    "    print(\"nb Of HH per Res Building average\", f\"{nbOfHHperResBuilding_average[region]:,.1f}\")\n",
    "\n",
    "# Compute the nb of HH per cell\n",
    "grid['resBui'] = np.where( (grid['location'] == \"urban\"), grid[['buildingssum']].sum(axis=1), 0) * grid['NAME_1'].map(shareUrbanResBuildings) + np.where( (grid['location'] == \"rural\"), grid[['buildingssum']].sum(axis=1), 0) * grid['NAME_1'].map(shareRuralResBuildings)\n",
    "grid[\"ResHH_urban\"] = np.where( (grid['location'] == \"urban\"), grid[['buildingssum']].sum(axis=1), 0) * grid['NAME_1'].map(shareUrbanResBuildings) * nbOfHHperResBuilding[\"urban\"]\n",
    "grid[\"ResHH_rural\"] = np.where( (grid['location'] == \"rural\"), grid[['buildingssum']].sum(axis=1), 0) * grid['NAME_1'].map(shareRuralResBuildings) * nbOfHHperResBuilding[\"rural\"]"
   ]
  },
  {
   "cell_type": "markdown",
   "id": "8110c32f-b4f8-41ea-b27c-d4dcdccc62e0",
   "metadata": {},
   "source": [
    "Assess number of residential households per cell with access to electricity"
   ]
  },
  {
   "cell_type": "code",
   "execution_count": 44,
   "id": "4bb0075e-0b83-4435-a398-4ca7ef3f11a2",
   "metadata": {},
   "outputs": [
    {
     "name": "stdout",
     "output_type": "stream",
     "text": [
      "totalResHHWithAccessUrb in Copperbelt 449,039\n",
      "totalResHHWithAccessRur: 45,052\n",
      "totalResHHWithAccess: 494,091\n",
      "totalResHHWithAccessUrb in Muchinga 24,073\n",
      "totalResHHWithAccessRur: 16,380\n",
      "totalResHHWithAccess: 40,453\n",
      "totalResHHWithAccessUrb in North-Western 85,636\n",
      "totalResHHWithAccessRur: 21,627\n",
      "totalResHHWithAccess: 107,263\n",
      "totalResHHWithAccessUrb in Western 52,837\n",
      "totalResHHWithAccessRur: 24,522\n",
      "totalResHHWithAccess: 77,359\n",
      "totalResHHWithAccessUrb in Luapula 42,539\n",
      "totalResHHWithAccessRur: 67,695\n",
      "totalResHHWithAccess: 110,234\n",
      "totalResHHWithAccessUrb in Northern 69,697\n",
      "totalResHHWithAccessRur: 33,319\n",
      "totalResHHWithAccess: 103,016\n",
      "totalResHHWithAccessUrb in Central 97,553\n",
      "totalResHHWithAccessRur: 52,233\n",
      "totalResHHWithAccess: 149,787\n",
      "totalResHHWithAccessUrb in Southern 120,120\n",
      "totalResHHWithAccessRur: 50,064\n",
      "totalResHHWithAccess: 170,184\n",
      "totalResHHWithAccessUrb in Eastern 79,686\n",
      "totalResHHWithAccessRur: 38,701\n",
      "totalResHHWithAccess: 118,388\n",
      "totalResHHWithAccessUrb in Lusaka 522,715\n",
      "totalResHHWithAccessRur: 45,436\n",
      "totalResHHWithAccess: 568,150\n"
     ]
    },
    {
     "data": {
      "text/html": [
       "<div>\n",
       "<style scoped>\n",
       "    .dataframe tbody tr th:only-of-type {\n",
       "        vertical-align: middle;\n",
       "    }\n",
       "\n",
       "    .dataframe tbody tr th {\n",
       "        vertical-align: top;\n",
       "    }\n",
       "\n",
       "    .dataframe thead th {\n",
       "        text-align: right;\n",
       "    }\n",
       "</style>\n",
       "<table border=\"1\" class=\"dataframe\">\n",
       "  <thead>\n",
       "    <tr style=\"text-align: right;\">\n",
       "      <th></th>\n",
       "      <th>hexagons</th>\n",
       "      <th>lon</th>\n",
       "      <th>lat</th>\n",
       "      <th>index_righ</th>\n",
       "      <th>NAME_1</th>\n",
       "      <th>id</th>\n",
       "      <th>buildingssum</th>\n",
       "      <th>locationWP</th>\n",
       "      <th>HREA</th>\n",
       "      <th>rwi</th>\n",
       "      <th>...</th>\n",
       "      <th>locWorldPop</th>\n",
       "      <th>location</th>\n",
       "      <th>ResHH_urban</th>\n",
       "      <th>ResHH_rural</th>\n",
       "      <th>ResHHNbWithAccessUrb</th>\n",
       "      <th>ResHHNbWithAccessRur</th>\n",
       "      <th>ResHHNbWithAccess</th>\n",
       "      <th>ResEnergyCorrPerHH_raw</th>\n",
       "      <th>ResEnergyCorrPerHH</th>\n",
       "      <th>ResEnergy_kWh</th>\n",
       "    </tr>\n",
       "  </thead>\n",
       "  <tbody>\n",
       "    <tr>\n",
       "      <th>0</th>\n",
       "      <td>8755a12a5ffffff</td>\n",
       "      <td>23.0269</td>\n",
       "      <td>-16.9721</td>\n",
       "      <td>9.0000</td>\n",
       "      <td>Western</td>\n",
       "      <td>1</td>\n",
       "      <td>37.0000</td>\n",
       "      <td>0.0000</td>\n",
       "      <td>0.0465</td>\n",
       "      <td>-0.4000</td>\n",
       "      <td>...</td>\n",
       "      <td>rural</td>\n",
       "      <td>rural</td>\n",
       "      <td>0.0000</td>\n",
       "      <td>10.6262</td>\n",
       "      <td>0.0000</td>\n",
       "      <td>0.0000</td>\n",
       "      <td>0.0000</td>\n",
       "      <td>73</td>\n",
       "      <td>73</td>\n",
       "      <td>0.0000</td>\n",
       "    </tr>\n",
       "    <tr>\n",
       "      <th>1</th>\n",
       "      <td>8739a3513ffffff</td>\n",
       "      <td>33.5028</td>\n",
       "      <td>-10.3349</td>\n",
       "      <td>5.0000</td>\n",
       "      <td>Muchinga</td>\n",
       "      <td>2</td>\n",
       "      <td>690.0000</td>\n",
       "      <td>0.0000</td>\n",
       "      <td>0.0431</td>\n",
       "      <td>-0.3008</td>\n",
       "      <td>...</td>\n",
       "      <td>rural</td>\n",
       "      <td>rural</td>\n",
       "      <td>0.0000</td>\n",
       "      <td>192.7500</td>\n",
       "      <td>0.0000</td>\n",
       "      <td>0.0000</td>\n",
       "      <td>0.0000</td>\n",
       "      <td>73</td>\n",
       "      <td>73</td>\n",
       "      <td>0.0000</td>\n",
       "    </tr>\n",
       "  </tbody>\n",
       "</table>\n",
       "<p>2 rows × 22 columns</p>\n",
       "</div>"
      ],
      "text/plain": [
       "          hexagons     lon      lat  index_righ    NAME_1  id  buildingssum  \\\n",
       "0  8755a12a5ffffff 23.0269 -16.9721      9.0000   Western   1       37.0000   \n",
       "1  8739a3513ffffff 33.5028 -10.3349      5.0000  Muchinga   2      690.0000   \n",
       "\n",
       "   locationWP   HREA     rwi  ... locWorldPop location ResHH_urban  \\\n",
       "0      0.0000 0.0465 -0.4000  ...       rural    rural      0.0000   \n",
       "1      0.0000 0.0431 -0.3008  ...       rural    rural      0.0000   \n",
       "\n",
       "  ResHH_rural  ResHHNbWithAccessUrb  ResHHNbWithAccessRur  ResHHNbWithAccess  \\\n",
       "0     10.6262                0.0000                0.0000             0.0000   \n",
       "1    192.7500                0.0000                0.0000             0.0000   \n",
       "\n",
       "   ResEnergyCorrPerHH_raw  ResEnergyCorrPerHH  ResEnergy_kWh  \n",
       "0                      73                  73         0.0000  \n",
       "1                      73                  73         0.0000  \n",
       "\n",
       "[2 rows x 22 columns]"
      ]
     },
     "execution_count": 44,
     "metadata": {},
     "output_type": "execute_result"
    }
   ],
   "source": [
    "# for each hexagon, assessment of the number of HH\n",
    "# access_elec = {\"elec\": 0, \"nonelec\": 1}\n",
    "# sizeHH = {\"urban\": 4.7, \"rural\": 5.2} #https://population.un.org/Household/index.html#/countries/ https://dhsprogram.com/publications/publication-fr361-dhs-final-reports.cfm\n",
    "#print(grid[\"Location\"].map(shareResBuildings))\n",
    "#grid[\"ResHHNbWithAccess\"]=grid[\"buildingscount\"]*grid[\"Location\"].map(shareResBuildings)*grid[\"Status_electrified\"].map(access_elec)\n",
    "\n",
    "grid[\"ResHHNbWithAccessUrb\"] = np.where((grid['Status_electrified'] == \"elec\") & (grid['location'] == \"urban\"), grid[['buildingssum']].sum(axis=1), 0) * grid['NAME_1'].map(shareUrbanResBuildings) * nbOfHHperResBuilding[\"urban\"] * grid[columnProbElec]\n",
    "                                        \n",
    "grid[\"ResHHNbWithAccessRur\"] = np.where((grid['Status_electrified'] == \"elec\") & (grid['location'] == \"rural\"), grid[['buildingssum']].sum(axis=1), 0) * grid['NAME_1'].map(shareRuralResBuildings) * nbOfHHperResBuilding[\"rural\"] * grid[columnProbElec]\n",
    "\n",
    "# grid[\"ResHHNbWithAccessUrb\"] = np.where((grid['Status_electrified'] == \"elec\") & (grid['location'] == \"urban\"),\n",
    "#                                                                             grid[['buildingssum']].sum(axis=1), 0)*shareResBuildings[\"urban\"]*nbOfHHperResBuilding[\"urban\"]                                        \n",
    "# grid[\"ResHHNbWithAccessRur\"] = np.where((grid['Status_electrified'] == \"elec\") & (grid['location'] == \"rural\"),\n",
    "#                                                                             grid[['buildingssum']].sum(axis=1), 0)*shareResBuildings[\"rural\"]*nbOfHHperResBuilding[\"rural\"]\n",
    "\n",
    "grid[\"ResHHNbWithAccess\"] = grid[[\"ResHHNbWithAccessUrb\", \"ResHHNbWithAccessRur\"]].sum(axis=1)\n",
    "\n",
    "# totalResHHWithAccessUrb={}\n",
    "totalResHHWithAccessUrb = grid.groupby('NAME_1')['ResHHNbWithAccessUrb'].sum()\n",
    "totalResHHWithAccessRur = grid.groupby('NAME_1')['ResHHNbWithAccessRur'].sum()\n",
    "totalResHHWithAccess = grid.groupby('NAME_1')['ResHHNbWithAccess'].sum()\n",
    "\n",
    "for region in regions:\n",
    "    print(\"totalResHHWithAccessUrb in\",f\"{region}\",f\"{totalResHHWithAccessUrb[region]:,.0f}\")\n",
    "    print(\"totalResHHWithAccessRur:\",f\"{totalResHHWithAccessRur[region]:,.0f}\")\n",
    "    print(\"totalResHHWithAccess:\",f\"{totalResHHWithAccess[region]:,.0f}\")\n",
    "# print(grid[\"ResHHNbWithAccessUrb\"].sum() , grid[\"ResHHNbWithAccessRur\"].sum(), grid[\"ResHHNbWithAccess\"].sum())\n",
    "grid.head(2)"
   ]
  },
  {
   "cell_type": "markdown",
   "id": "2ac582d2-3197-486c-85ff-56899846313b",
   "metadata": {},
   "source": [
    "Compute the resulting access rate"
   ]
  },
  {
   "cell_type": "code",
   "execution_count": 45,
   "id": "6aee8acf-e843-43d4-a9d4-aafd2620eb58",
   "metadata": {},
   "outputs": [
    {
     "name": "stdout",
     "output_type": "stream",
     "text": [
      "HH access rate in Copperbelt 92%\n",
      "HH access rate urban: 100%\n",
      "HH access rate rural: 53%\n",
      "HH access rate in Muchinga 23%\n",
      "HH access rate urban: 96%\n",
      "HH access rate rural: 11%\n",
      "HH access rate in North-Western 52%\n",
      "HH access rate urban: 94%\n",
      "HH access rate rural: 19%\n",
      "HH access rate in Western 30%\n",
      "HH access rate urban: 97%\n",
      "HH access rate rural: 12%\n",
      "HH access rate in Luapula 40%\n",
      "HH access rate urban: 95%\n",
      "HH access rate rural: 30%\n",
      "HH access rate in Northern 34%\n",
      "HH access rate urban: 96%\n",
      "HH access rate rural: 14%\n",
      "HH access rate in Central 38%\n",
      "HH access rate urban: 99%\n",
      "HH access rate rural: 18%\n",
      "HH access rate in Southern 39%\n",
      "HH access rate urban: 100%\n",
      "HH access rate rural: 16%\n",
      "HH access rate in Eastern 26%\n",
      "HH access rate urban: 97%\n",
      "HH access rate rural: 10%\n",
      "HH access rate in Lusaka 90%\n",
      "HH access rate urban: 100%\n",
      "HH access rate rural: 42%\n"
     ]
    }
   ],
   "source": [
    "# access rate for HH\n",
    "accessRateHH={}\n",
    "accessRateHH_urban={}\n",
    "accessRateHH_rural={}\n",
    "for region in regions:\n",
    "    accessRateHH[region] = totalResHHWithAccess[region]/totalResHH[region]\n",
    "    accessRateHH_urban[region] = totalResHHWithAccessUrb[region]/totalResHHurban[region]\n",
    "    accessRateHH_rural[region] = totalResHHWithAccessRur[region]/totalResHHrural[region]\n",
    "    print(\"HH access rate in\",f\"{region}\",f\"{accessRateHH[region]:,.0%}\")\n",
    "    print(\"HH access rate urban:\",f\"{accessRateHH_urban[region]:,.0%}\")\n",
    "    print(\"HH access rate rural:\",f\"{accessRateHH_rural[region]:,.0%}\")\n",
    "# access rate for population\n",
    "# accessRatePop = (totalResHHWithAccessUrb*pplperHH_urban+totalResHHWithAccessRur*pplperHH_rural)/totalPopStats\n",
    "# accessRatePop_urban = totalResHHWithAccessUrb*pplperHH_urban/totalPop_urban\n",
    "# accessRatePop_rural = totalResHHWithAccessRur*pplperHH_rural/totalPop_rural\n",
    "# print(\"Pop access rate :\",f\"{accessRatePop:,.0%}\")\n",
    "# print(\"Pop access rate urban:\",f\"{accessRatePop_urban:,.0%}\")\n",
    "# print(\"Pop access rate rural:\",f\"{accessRatePop_rural:,.0%}\")"
   ]
  },
  {
   "cell_type": "markdown",
   "id": "9dfc65e3-fd9a-46c2-89ec-896b1f9a524d",
   "metadata": {},
   "source": [
    "Compute the energy consumption assessment per cell"
   ]
  },
  {
   "cell_type": "code",
   "execution_count": 46,
   "id": "d59f9b19-07e0-4603-ba61-1d5ffd02c157",
   "metadata": {},
   "outputs": [
    {
     "data": {
      "image/png": "[encoded data removed]",
      "text/plain": [
       "<Figure size 640x480 with 1 Axes>"
      ]
     },
     "metadata": {},
     "output_type": "display_data"
    },
    {
     "name": "stdout",
     "output_type": "stream",
     "text": [
      "[(-1.2319999933242798, 5), (-0.6863499879837036, 73), (-0.14069998264312744, 365), (0.40495002269744873, 1250), (0.9506000280380249, 3012)]\n"
     ]
    }
   ],
   "source": [
    "# rwi to energy consumption\n",
    "def rwi_to_energy(rwi):\n",
    "    energy = 0\n",
    "    for key, val in table_encons:\n",
    "        if rwi < key:\n",
    "            break\n",
    "        else: energy = val\n",
    "    return energy\n",
    "\n",
    "grid['rwi'].plot.hist(bins=5)\n",
    "plt.show()\n",
    "file_HHenergycons = \"HH_energyconsumption.csv\"\n",
    "HHenergycons = pd.read_csv(data_path + file_HHenergycons)\n",
    "# print(HHenergycons)\n",
    "thresholds_rwi = (grid['rwi'].max()-grid['rwi'].min())/5*np.arange(5)+grid['rwi'].min()\n",
    "thresholds_energy = HHenergycons.iloc[0].tolist() # thresholds_energy  = [5, 73, 365, 1250, 3012]\n",
    "table_encons = list(zip(thresholds_rwi, thresholds_energy))\n",
    "print(table_encons)\n",
    "grid['ResEnergyCorrPerHH_raw'] = grid['rwi'].apply(rwi_to_energy)"
   ]
  },
  {
   "cell_type": "code",
   "execution_count": 47,
   "id": "1482ef0e-ddaf-473c-a2aa-7f3a9da7a91b",
   "metadata": {},
   "outputs": [],
   "source": [
    "# Energy Consumption assessment per cell\n",
    "averageRwi = grid['rwi'].mean()\n",
    "# grid[\"ResEnergyCorrPerHH\"] = abs(grid['rwi']/averageRwi)*grid[\"ADM1_NAME\"].map(energyConsHH)\n",
    "grid[\"ResEnergyCorrPerHH\"] = grid['ResEnergyCorrPerHH_raw']*abs(grid['rwi']/averageRwi)\n",
    "grid[\"ResEnergyCorrPerHH\"] = grid['ResEnergyCorrPerHH_raw']\n",
    "grid[\"ResEnergy_kWh\"] = grid[\"ResHHNbWithAccess\"] * grid[\"ResEnergyCorrPerHH\"]"
   ]
  },
  {
   "cell_type": "code",
   "execution_count": 48,
   "id": "fdada4b9-f8a5-4022-9af6-474170b23432",
   "metadata": {},
   "outputs": [
    {
     "name": "stdout",
     "output_type": "stream",
     "text": [
      "residential electricity consumption: 2,819 GWh\n"
     ]
    }
   ],
   "source": [
    "total_residentialenergy_assessed = grid[\"ResEnergy_kWh\"].sum()\n",
    "print(\"residential electricity consumption:\", f\"{total_residentialenergy_assessed/10**6:,.0f}\",\"GWh\") # GWh\n",
    "total_residentialenergy_assessed = total_residentialenergy_assessed/10**6  # conversion in GWh"
   ]
  },
  {
   "cell_type": "markdown",
   "id": "0c394279-0b13-4495-86ab-9e2a9f6b7427",
   "metadata": {},
   "source": [
    "# Scale residential demand results"
   ]
  },
  {
   "cell_type": "markdown",
   "id": "beb300c6-a6f1-4909-a333-54c715120ab9",
   "metadata": {},
   "source": [
    "Get the electricity consumption at the national level for HH"
   ]
  },
  {
   "cell_type": "code",
   "execution_count": 91,
   "id": "4fd2fc56-02c6-4a93-8a26-d9f01e509b1c",
   "metadata": {},
   "outputs": [
    {
     "name": "stdout",
     "output_type": "stream",
     "text": [
      "residential electricity consumption UN STATS: 4,022 GWh\n",
      "residential electricity consumption assessed: 2,819 GWh\n"
     ]
    }
   ],
   "source": [
    "energyBalance_path = \"EnergyBalance/\"\n",
    "file_energyBalance = \"UNSD+DF_UNData_EnergyBalance+1.0_Zambia.csv\"\n",
    "eb = pd.read_csv(energyBalance_path + file_energyBalance)\n",
    "code_elec = \"B07_EL\"\n",
    "code_hh =  \"B50_1231\"\n",
    "total_residentialenergy = eb.loc[(eb['COMMODITY'] == code_elec) & (eb['TRANSACTION'] == code_hh) & (eb['TIME_PERIOD'] == 2019 ), 'OBS_VALUE'] #TJ\n",
    "total_residentialenergy = pd.to_numeric(total_residentialenergy.str.replace(',', '')) # convert to numeric and remove commas\n",
    "total_residentialenergy = total_residentialenergy.iloc[0]/3.6 # conversion in GWh\n",
    "print(\"residential electricity consumption UN STATS:\", f\"{total_residentialenergy:,.0f}\", \"GWh\")\n",
    "print(\"residential electricity consumption assessed:\", f\"{total_residentialenergy_assessed:,.0f}\", \"GWh\")"
   ]
  },
  {
   "cell_type": "markdown",
   "id": "a52e3fb7-b973-48a5-918e-70092f8ce3b2",
   "metadata": {},
   "source": [
    "Compute total electricity consumption"
   ]
  },
  {
   "cell_type": "code",
   "execution_count": 52,
   "id": "0ef06b6f-fcdb-4fe4-aa7f-31c5d9967ff1",
   "metadata": {},
   "outputs": [
    {
     "name": "stdout",
     "output_type": "stream",
     "text": [
      "Residential electricity consumption assessed before scaling: Copperbelt 942.9 GWh\n",
      "Residential electricity consumption assessed before scaling: Muchinga 11.4 GWh\n",
      "Residential electricity consumption assessed before scaling: North-Western 102.7 GWh\n",
      "Residential electricity consumption assessed before scaling: Western 33.9 GWh\n",
      "Residential electricity consumption assessed before scaling: Luapula 23.5 GWh\n",
      "Residential electricity consumption assessed before scaling: Northern 60.2 GWh\n",
      "Residential electricity consumption assessed before scaling: Central 167.5 GWh\n",
      "Residential electricity consumption assessed before scaling: Southern 166.8 GWh\n",
      "Residential electricity consumption assessed before scaling: Eastern 54.0 GWh\n",
      "Residential electricity consumption assessed before scaling: Lusaka 1,255.7 GWh\n"
     ]
    }
   ],
   "source": [
    "total_residentialenergy_beforescaled = grid.groupby('NAME_1')['ResEnergy_kWh'].sum() \n",
    "for region in regions:\n",
    "    total_residentialenergy_beforescaled[region] = total_residentialenergy_beforescaled[region]/10**6  # conversion in GWh\n",
    "    print (\"Residential electricity consumption assessed before scaling:\",region, f\"{total_residentialenergy_beforescaled[region]:,.1f}\", \"GWh\" )"
   ]
  },
  {
   "cell_type": "code",
   "execution_count": 53,
   "id": "131b7056-7a8b-48ea-a874-134cf0ee0d59",
   "metadata": {},
   "outputs": [
    {
     "name": "stdout",
     "output_type": "stream",
     "text": [
      "143%\n"
     ]
    }
   ],
   "source": [
    "# Scale previous results if area is country\n",
    "scaling_factor = total_residentialenergy/total_residentialenergy_assessed\n",
    "if area == \"COUNTRY\":\n",
    "    print('{:.0%}'.format(scaling_factor))\n",
    "    grid[\"REnS_kWh\"] = grid[\"ResEnergy_kWh\"] * scaling_factor\n",
    "else:\n",
    "    grid[\"REnS_kWh\"] = grid[\"ResEnergy_kWh\"]"
   ]
  },
  {
   "cell_type": "code",
   "execution_count": 54,
   "id": "31789f36-24da-4c17-9c95-d86698dd6af2",
   "metadata": {},
   "outputs": [
    {
     "name": "stdout",
     "output_type": "stream",
     "text": [
      "Residential electricity consumption assessed: Copperbelt 1,345.7 GWh\n",
      "Residential electricity consumption assessed: Muchinga 16.3 GWh\n",
      "Residential electricity consumption assessed: North-Western 146.5 GWh\n",
      "Residential electricity consumption assessed: Western 48.3 GWh\n",
      "Residential electricity consumption assessed: Luapula 33.5 GWh\n",
      "Residential electricity consumption assessed: Northern 85.9 GWh\n",
      "Residential electricity consumption assessed: Central 239.0 GWh\n",
      "Residential electricity consumption assessed: Southern 238.1 GWh\n",
      "Residential electricity consumption assessed: Eastern 77.1 GWh\n",
      "Residential electricity consumption assessed: Lusaka 1,792.0 GWh\n"
     ]
    }
   ],
   "source": [
    "total_residentialenergy_scaled = grid.groupby('NAME_1')['REnS_kWh'].sum()    \n",
    "for region in regions:\n",
    "    total_residentialenergy_scaled[region] = total_residentialenergy_scaled[region]/10**6  # conversion in GWh\n",
    "    print (\"Residential electricity consumption assessed:\",region, f\"{total_residentialenergy_scaled[region]:,.1f}\", \"GWh\" )"
   ]
  },
  {
   "cell_type": "code",
   "execution_count": 55,
   "id": "1ae812c1-53df-43a8-a3b5-9733c5d7a16e",
   "metadata": {},
   "outputs": [
    {
     "data": {
      "text/html": [
       "<div>\n",
       "<style scoped>\n",
       "    .dataframe tbody tr th:only-of-type {\n",
       "        vertical-align: middle;\n",
       "    }\n",
       "\n",
       "    .dataframe tbody tr th {\n",
       "        vertical-align: top;\n",
       "    }\n",
       "\n",
       "    .dataframe thead th {\n",
       "        text-align: right;\n",
       "    }\n",
       "</style>\n",
       "<table border=\"1\" class=\"dataframe\">\n",
       "  <thead>\n",
       "    <tr style=\"text-align: right;\">\n",
       "      <th></th>\n",
       "      <th>hexagons</th>\n",
       "      <th>lon</th>\n",
       "      <th>lat</th>\n",
       "      <th>index_righ</th>\n",
       "      <th>NAME_1</th>\n",
       "      <th>id</th>\n",
       "      <th>buildingssum</th>\n",
       "      <th>locationWP</th>\n",
       "      <th>HREA</th>\n",
       "      <th>rwi</th>\n",
       "      <th>...</th>\n",
       "      <th>location</th>\n",
       "      <th>ResHH_urban</th>\n",
       "      <th>ResHH_rural</th>\n",
       "      <th>ResHHNbWithAccessUrb</th>\n",
       "      <th>ResHHNbWithAccessRur</th>\n",
       "      <th>ResHHNbWithAccess</th>\n",
       "      <th>ResEnergyCorrPerHH_raw</th>\n",
       "      <th>ResEnergyCorrPerHH</th>\n",
       "      <th>ResEnergy_kWh</th>\n",
       "      <th>REnS_kWh</th>\n",
       "    </tr>\n",
       "  </thead>\n",
       "  <tbody>\n",
       "    <tr>\n",
       "      <th>0</th>\n",
       "      <td>8755a12a5ffffff</td>\n",
       "      <td>23.0269</td>\n",
       "      <td>-16.9721</td>\n",
       "      <td>9.0000</td>\n",
       "      <td>Western</td>\n",
       "      <td>1</td>\n",
       "      <td>37.0000</td>\n",
       "      <td>0.0000</td>\n",
       "      <td>0.0465</td>\n",
       "      <td>-0.4000</td>\n",
       "      <td>...</td>\n",
       "      <td>rural</td>\n",
       "      <td>0.0000</td>\n",
       "      <td>10.6262</td>\n",
       "      <td>0.0000</td>\n",
       "      <td>0.0000</td>\n",
       "      <td>0.0000</td>\n",
       "      <td>73</td>\n",
       "      <td>73</td>\n",
       "      <td>0.0000</td>\n",
       "      <td>0.0000</td>\n",
       "    </tr>\n",
       "    <tr>\n",
       "      <th>1</th>\n",
       "      <td>8739a3513ffffff</td>\n",
       "      <td>33.5028</td>\n",
       "      <td>-10.3349</td>\n",
       "      <td>5.0000</td>\n",
       "      <td>Muchinga</td>\n",
       "      <td>2</td>\n",
       "      <td>690.0000</td>\n",
       "      <td>0.0000</td>\n",
       "      <td>0.0431</td>\n",
       "      <td>-0.3008</td>\n",
       "      <td>...</td>\n",
       "      <td>rural</td>\n",
       "      <td>0.0000</td>\n",
       "      <td>192.7500</td>\n",
       "      <td>0.0000</td>\n",
       "      <td>0.0000</td>\n",
       "      <td>0.0000</td>\n",
       "      <td>73</td>\n",
       "      <td>73</td>\n",
       "      <td>0.0000</td>\n",
       "      <td>0.0000</td>\n",
       "    </tr>\n",
       "    <tr>\n",
       "      <th>2</th>\n",
       "      <td>87344eadbffffff</td>\n",
       "      <td>27.2583</td>\n",
       "      <td>-16.9584</td>\n",
       "      <td>8.0000</td>\n",
       "      <td>Southern</td>\n",
       "      <td>3</td>\n",
       "      <td>309.0000</td>\n",
       "      <td>0.0000</td>\n",
       "      <td>0.1061</td>\n",
       "      <td>-0.2715</td>\n",
       "      <td>...</td>\n",
       "      <td>rural</td>\n",
       "      <td>0.0000</td>\n",
       "      <td>79.6814</td>\n",
       "      <td>0.0000</td>\n",
       "      <td>0.0000</td>\n",
       "      <td>0.0000</td>\n",
       "      <td>73</td>\n",
       "      <td>73</td>\n",
       "      <td>0.0000</td>\n",
       "      <td>0.0000</td>\n",
       "    </tr>\n",
       "  </tbody>\n",
       "</table>\n",
       "<p>3 rows × 23 columns</p>\n",
       "</div>"
      ],
      "text/plain": [
       "          hexagons     lon      lat  index_righ    NAME_1  id  buildingssum  \\\n",
       "0  8755a12a5ffffff 23.0269 -16.9721      9.0000   Western   1       37.0000   \n",
       "1  8739a3513ffffff 33.5028 -10.3349      5.0000  Muchinga   2      690.0000   \n",
       "2  87344eadbffffff 27.2583 -16.9584      8.0000  Southern   3      309.0000   \n",
       "\n",
       "   locationWP   HREA     rwi  ... location ResHH_urban ResHH_rural  \\\n",
       "0      0.0000 0.0465 -0.4000  ...    rural      0.0000     10.6262   \n",
       "1      0.0000 0.0431 -0.3008  ...    rural      0.0000    192.7500   \n",
       "2      0.0000 0.1061 -0.2715  ...    rural      0.0000     79.6814   \n",
       "\n",
       "  ResHHNbWithAccessUrb  ResHHNbWithAccessRur  ResHHNbWithAccess  \\\n",
       "0               0.0000                0.0000             0.0000   \n",
       "1               0.0000                0.0000             0.0000   \n",
       "2               0.0000                0.0000             0.0000   \n",
       "\n",
       "   ResEnergyCorrPerHH_raw  ResEnergyCorrPerHH  ResEnergy_kWh  REnS_kWh  \n",
       "0                      73                  73         0.0000    0.0000  \n",
       "1                      73                  73         0.0000    0.0000  \n",
       "2                      73                  73         0.0000    0.0000  \n",
       "\n",
       "[3 rows x 23 columns]"
      ]
     },
     "execution_count": 55,
     "metadata": {},
     "output_type": "execute_result"
    }
   ],
   "source": [
    "grid.to_csv(\"data.csv\")\n",
    "grid.to_file(out_path + \"\\\\\" + 'res_energy_map.shp', index=False)\n",
    "grid.head(3)"
   ]
  },
  {
   "cell_type": "markdown",
   "id": "5516fbfc-8880-411b-b560-0547c535ee3b",
   "metadata": {},
   "source": [
    "# Services"
   ]
  },
  {
   "cell_type": "markdown",
   "id": "a16aaee7-ed9c-438a-b138-1de4c3f8b494",
   "metadata": {},
   "source": [
    "Get the electricity consumption for services"
   ]
  },
  {
   "cell_type": "code",
   "execution_count": 90,
   "id": "5920b1cb-3959-4d7e-abe4-74048931f000",
   "metadata": {},
   "outputs": [
    {
     "name": "stdout",
     "output_type": "stream",
     "text": [
      "services electricity consumption UN STATS: 722 GWh\n"
     ]
    }
   ],
   "source": [
    "# energyBalance_path = \"EnergyBalance/\"\n",
    "# file_energyBalance = \"UNSD+DF_UNData_EnergyBalance+1.0_Zambia.csv\"\n",
    "# eb = pd.read_csv(energyBalance_path + file_energyBalance)\n",
    "# code_elec = \"B07_EL\"\n",
    "code_ser =  \"B49_1235\"\n",
    "cod_oth = \"B51_1234\" # Other consumption not elsewhere specified in UN stats\n",
    "total_servicesenergy = eb.loc[(eb['COMMODITY'] == code_elec) & (eb['TRANSACTION'] == code_ser) & (eb['TIME_PERIOD'] == 2019 ), 'OBS_VALUE'] #TJ\n",
    "total_servicesenergy = pd.to_numeric(total_servicesenergy.str.replace(',', '')) # convert to numeric and remove commas\n",
    "total_servicesenergy = total_servicesenergy.iloc[0]/3.6 # conversion in GWh\n",
    "print(\"services electricity consumption UN STATS:\", f\"{total_servicesenergy:,.0f}\", \"GWh\")"
   ]
  },
  {
   "cell_type": "code",
   "execution_count": 92,
   "id": "1d30f7e3-25a3-44fb-ae7f-c2b35f039dad",
   "metadata": {},
   "outputs": [
    {
     "data": {
      "text/plain": [
       "6555215.333333335"
      ]
     },
     "execution_count": 92,
     "metadata": {},
     "output_type": "execute_result"
    }
   ],
   "source": [
    "# services building in each location\n",
    "grid['serBui'] = grid['buildingssum'] - grid['resBui']\n",
    "totalSerBui = grid['serBui'].sum()\n",
    "totalSerBui"
   ]
  },
  {
   "cell_type": "code",
   "execution_count": 101,
   "id": "1dcbd56a-5bac-4684-b22d-b32b8a9cc045",
   "metadata": {},
   "outputs": [
    {
     "name": "stdout",
     "output_type": "stream",
     "text": [
      "total services buildings with access: 2,515,779\n",
      "287 kWh per building\n"
     ]
    }
   ],
   "source": [
    "# energy consumption per building in services\n",
    "grid['serBUi_Acc'] = grid['serBui'] * grid[columnProbElec]\n",
    "totalSerBui_withAccess = grid['serBUi_Acc'].sum()\n",
    "print(\"total services buildings with access:\", f\"{totalSerBui_withAccess:,.0f}\")\n",
    "ser_enBui = total_servicesenergy / totalSerBui_withAccess \n",
    "ser_enBui = ser_enBui *10**6 #conversion in kWh\n",
    "print(f\"{ser_enBui:,.0f}\", \"kWh per building\")"
   ]
  },
  {
   "cell_type": "code",
   "execution_count": 104,
   "id": "d2d2cdfa-99a6-432a-ad02-621857db911d",
   "metadata": {},
   "outputs": [],
   "source": [
    "# compute services energy demand\n",
    "grid['SEn_kWh'] = ser_enBui * grid['serBUi_Acc']"
   ]
  },
  {
   "cell_type": "code",
   "execution_count": 103,
   "id": "c83c826c-b532-4cdb-a608-e91eef2be83c",
   "metadata": {},
   "outputs": [
    {
     "data": {
      "text/html": [
       "<div>\n",
       "<style scoped>\n",
       "    .dataframe tbody tr th:only-of-type {\n",
       "        vertical-align: middle;\n",
       "    }\n",
       "\n",
       "    .dataframe tbody tr th {\n",
       "        vertical-align: top;\n",
       "    }\n",
       "\n",
       "    .dataframe thead th {\n",
       "        text-align: right;\n",
       "    }\n",
       "</style>\n",
       "<table border=\"1\" class=\"dataframe\">\n",
       "  <thead>\n",
       "    <tr style=\"text-align: right;\">\n",
       "      <th></th>\n",
       "      <th>hexagons</th>\n",
       "      <th>lon</th>\n",
       "      <th>lat</th>\n",
       "      <th>index_righ</th>\n",
       "      <th>NAME_1</th>\n",
       "      <th>id</th>\n",
       "      <th>buildingssum</th>\n",
       "      <th>locationWP</th>\n",
       "      <th>HREA</th>\n",
       "      <th>rwi</th>\n",
       "      <th>...</th>\n",
       "      <th>ResHHNbWithAccessRur</th>\n",
       "      <th>ResHHNbWithAccess</th>\n",
       "      <th>ResEnergyCorrPerHH_raw</th>\n",
       "      <th>ResEnergyCorrPerHH</th>\n",
       "      <th>ResEnergy_kWh</th>\n",
       "      <th>REnS_kWh</th>\n",
       "      <th>resBui</th>\n",
       "      <th>serBui</th>\n",
       "      <th>serBUi_Acc</th>\n",
       "      <th>serEnergy_kWh</th>\n",
       "    </tr>\n",
       "  </thead>\n",
       "  <tbody>\n",
       "    <tr>\n",
       "      <th>0</th>\n",
       "      <td>8755a12a5ffffff</td>\n",
       "      <td>23.026863</td>\n",
       "      <td>-16.972095</td>\n",
       "      <td>9.0</td>\n",
       "      <td>Western</td>\n",
       "      <td>1</td>\n",
       "      <td>37.0</td>\n",
       "      <td>0.0</td>\n",
       "      <td>0.046453</td>\n",
       "      <td>-0.40000</td>\n",
       "      <td>...</td>\n",
       "      <td>0.0</td>\n",
       "      <td>0.0</td>\n",
       "      <td>73</td>\n",
       "      <td>73</td>\n",
       "      <td>0.0</td>\n",
       "      <td>0.0</td>\n",
       "      <td>10.626183</td>\n",
       "      <td>26.373817</td>\n",
       "      <td>1.225130</td>\n",
       "      <td>351.436057</td>\n",
       "    </tr>\n",
       "    <tr>\n",
       "      <th>1</th>\n",
       "      <td>8739a3513ffffff</td>\n",
       "      <td>33.502829</td>\n",
       "      <td>-10.334898</td>\n",
       "      <td>5.0</td>\n",
       "      <td>Muchinga</td>\n",
       "      <td>2</td>\n",
       "      <td>690.0</td>\n",
       "      <td>0.0</td>\n",
       "      <td>0.043113</td>\n",
       "      <td>-0.30075</td>\n",
       "      <td>...</td>\n",
       "      <td>0.0</td>\n",
       "      <td>0.0</td>\n",
       "      <td>73</td>\n",
       "      <td>73</td>\n",
       "      <td>0.0</td>\n",
       "      <td>0.0</td>\n",
       "      <td>192.749992</td>\n",
       "      <td>497.250008</td>\n",
       "      <td>21.437873</td>\n",
       "      <td>6149.585142</td>\n",
       "    </tr>\n",
       "    <tr>\n",
       "      <th>2</th>\n",
       "      <td>87344eadbffffff</td>\n",
       "      <td>27.258341</td>\n",
       "      <td>-16.958375</td>\n",
       "      <td>8.0</td>\n",
       "      <td>Southern</td>\n",
       "      <td>3</td>\n",
       "      <td>309.0</td>\n",
       "      <td>0.0</td>\n",
       "      <td>0.106106</td>\n",
       "      <td>-0.27150</td>\n",
       "      <td>...</td>\n",
       "      <td>0.0</td>\n",
       "      <td>0.0</td>\n",
       "      <td>73</td>\n",
       "      <td>73</td>\n",
       "      <td>0.0</td>\n",
       "      <td>0.0</td>\n",
       "      <td>79.681425</td>\n",
       "      <td>229.318575</td>\n",
       "      <td>24.332184</td>\n",
       "      <td>6979.836175</td>\n",
       "    </tr>\n",
       "  </tbody>\n",
       "</table>\n",
       "<p>3 rows × 27 columns</p>\n",
       "</div>"
      ],
      "text/plain": [
       "          hexagons        lon        lat  index_righ    NAME_1  id  \\\n",
       "0  8755a12a5ffffff  23.026863 -16.972095         9.0   Western   1   \n",
       "1  8739a3513ffffff  33.502829 -10.334898         5.0  Muchinga   2   \n",
       "2  87344eadbffffff  27.258341 -16.958375         8.0  Southern   3   \n",
       "\n",
       "   buildingssum  locationWP      HREA      rwi  ... ResHHNbWithAccessRur  \\\n",
       "0          37.0         0.0  0.046453 -0.40000  ...                  0.0   \n",
       "1         690.0         0.0  0.043113 -0.30075  ...                  0.0   \n",
       "2         309.0         0.0  0.106106 -0.27150  ...                  0.0   \n",
       "\n",
       "  ResHHNbWithAccess ResEnergyCorrPerHH_raw ResEnergyCorrPerHH  ResEnergy_kWh  \\\n",
       "0               0.0                     73                 73            0.0   \n",
       "1               0.0                     73                 73            0.0   \n",
       "2               0.0                     73                 73            0.0   \n",
       "\n",
       "   REnS_kWh      resBui      serBui  serBUi_Acc  serEnergy_kWh  \n",
       "0       0.0   10.626183   26.373817    1.225130     351.436057  \n",
       "1       0.0  192.749992  497.250008   21.437873    6149.585142  \n",
       "2       0.0   79.681425  229.318575   24.332184    6979.836175  \n",
       "\n",
       "[3 rows x 27 columns]"
      ]
     },
     "execution_count": 103,
     "metadata": {},
     "output_type": "execute_result"
    }
   ],
   "source": [
    "grid.to_csv(\"dataser.csv\")\n",
    "grid.to_file(out_path + \"\\\\\" + 'ser_energy_map.shp', index=False)\n",
    "grid.head(3)"
   ]
  },
  {
   "cell_type": "code",
   "execution_count": null,
   "id": "bd0094b1-d09b-465c-8f88-95a6a927aaf6",
   "metadata": {},
   "outputs": [],
   "source": []
  }
 ],
 "metadata": {
  "kernelspec": {
   "display_name": "Python 3 (ipykernel)",
   "language": "python",
   "name": "python3"
  },
  "language_info": {
   "codemirror_mode": {
    "name": "ipython",
    "version": 3
   },
   "file_extension": ".py",
   "mimetype": "text/x-python",
   "name": "python",
   "nbconvert_exporter": "python",
   "pygments_lexer": "ipython3",
   "version": "3.8.12"
  }
 },
 "nbformat": 4,
 "nbformat_minor": 5
}
