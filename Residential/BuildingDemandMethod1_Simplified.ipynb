{
 "cells": [
  {
   "cell_type": "markdown",
   "id": "1f07b1c9-6f45-4bcd-87b5-a70ed6ad20fe",
   "metadata": {},
   "source": [
    "# Building Demand Method 1 Simplified"
   ]
  },
  {
   "attachments": {},
   "cell_type": "markdown",
   "id": "1b918d9f-e01d-4238-b360-cb31623a416d",
   "metadata": {},
   "source": [
    "#### Brief overview:\n",
    "\n",
    "The energy demand for each cell is assessed according to the following parameters:\n",
    "𝐵 Number of buildings\n",
    "𝑆𝑟𝑒𝑠 Share of res buildings\n",
    "𝑁 Nb of HH per res buildings\n",
    "𝑎 Electrified status (probability)\n",
    "𝐸_𝐻𝐻  Energy consumption per HH\n",
    "𝑟 Adjustment with RWI\n",
    "\n",
    "For each cell c, we have 𝐷_𝑐=𝐵_𝑐∗𝑆𝑟𝑒𝑠∗𝑁_𝑐  ∗𝑎_𝑐  ∗𝐸_𝐻𝐻  ∗𝑟_𝑐 "
   ]
  },
  {
   "cell_type": "markdown",
   "id": "8aab8d2f-f9de-4c1c-be79-52401bbd1519",
   "metadata": {},
   "source": [
    "### Import necessary modules"
   ]
  },
  {
   "cell_type": "code",
   "execution_count": 1,
   "id": "5444dd77-265a-4e88-a814-100c3710d66f",
   "metadata": {},
   "outputs": [
    {
     "name": "stdout",
     "output_type": "stream",
     "text": [
      "Move to C:\\Users\\amillot\\PycharmProjects\\DemandMappingZambia\n"
     ]
    }
   ],
   "source": [
    "# Check if we are running the notebook directly, if so move workspace to parent dir\n",
    "import sys\n",
    "import os\n",
    "currentdir = os.path.abspath(os.getcwd())\n",
    "if os.path.basename(currentdir) != 'DemandMappingZambia':  \n",
    "  sys.path.insert(0, os.path.dirname(currentdir))\n",
    "  os.chdir('..')\n",
    "  print(f'Move to {os.getcwd()}')"
   ]
  },
  {
   "cell_type": "code",
   "execution_count": 2,
   "id": "a61b0c1d-0c29-48e5-9101-2d4b3aa385cf",
   "metadata": {
    "code_folding": [
     0
    ]
   },
   "outputs": [],
   "source": [
    "### Activate geospatial_env first\n",
    "\n",
    "# Numeric\n",
    "import numpy as np\n",
    "import pandas as pd\n",
    "import math\n",
    "\n",
    "# System\n",
    "import os\n",
    "import shutil\n",
    "from IPython.display import display, Markdown, HTML, FileLink, FileLinks\n",
    "\n",
    "# Spatial\n",
    "import geopandas as gpd\n",
    "import json\n",
    "import pyproj\n",
    "from shapely.geometry import Point, Polygon, MultiPoint\n",
    "from shapely.wkt import dumps, loads\n",
    "from shapely.ops import nearest_points\n",
    "from pyproj import CRS\n",
    "from osgeo import ogr, gdal, osr\n",
    "\n",
    "# Mapping / Plotting\n",
    "from functools import reduce\n",
    "#import datapane as dp \n",
    "#!datapane login --token=\"9bde41bfbc4ad14119e32086f9f06d2e5db1d5b8\"\n",
    "import folium\n",
    "from folium.features import GeoJsonTooltip\n",
    "from folium.plugins import BeautifyIcon\n",
    "from folium.plugins import HeatMap\n",
    "import branca.colormap as cm\n",
    "import matplotlib.pyplot as plt\n",
    "from matplotlib.ticker import MaxNLocator\n",
    "%matplotlib inline"
   ]
  },
  {
   "cell_type": "code",
   "execution_count": 3,
   "id": "7ff55a57-e9f1-4597-9e92-b5f0087b40c2",
   "metadata": {
    "code_folding": [
     0
    ]
   },
   "outputs": [],
   "source": [
    "#import geopandas as gpd   # Note that you require geopandas version >= 0.7 that incluse clip see here for installation (https://gis.stackexchange.com/questions/360127/geopandas-0-6-1-installed-instead-of-0-7-0-in-conda-windows-10#)\n",
    "import os\n",
    "import fiona\n",
    "from IPython.display import display\n",
    "from rasterstats import zonal_stats\n",
    "import rasterio\n",
    "from geojson import Feature, Point, FeatureCollection\n",
    "import rasterio.fill\n",
    "from shapely.geometry import shape, mapping\n",
    "import json\n",
    "#from earthpy import clip    clip has been deprecated to geopandas\n",
    "#import earthpy.spatial as es\n",
    "import tkinter as tk\n",
    "from tkinter import filedialog, messagebox\n",
    "import datetime\n",
    "import warnings\n",
    "import scipy.spatial\n",
    "warnings.filterwarnings('ignore')\n",
    "\n",
    "#import contextily as ctx\n",
    "import h3 as h3\n",
    "from shapely.ops import unary_union\n",
    "from shapely.geometry.polygon import Polygon\n",
    "\n",
    "root = tk.Tk()\n",
    "root.withdraw()\n",
    "root.attributes(\"-topmost\", True)\n",
    "\n",
    "pd.options.display.float_format = '{:,.2f}'.format"
   ]
  },
  {
   "cell_type": "code",
   "execution_count": 4,
   "id": "52ae53ed-deb3-49ce-9d03-200d1017c7ec",
   "metadata": {},
   "outputs": [],
   "source": [
    "from utils import processing_raster, finalizing_rasters"
   ]
  },
  {
   "cell_type": "markdown",
   "id": "70bcd211-ba60-4c7a-8044-7b4843836360",
   "metadata": {},
   "source": [
    "### Define directories and dataset names"
   ]
  },
  {
   "cell_type": "code",
   "execution_count": 5,
   "id": "f125b4ff-5fd3-473a-9edf-728c13a9dde8",
   "metadata": {
    "code_folding": []
   },
   "outputs": [],
   "source": [
    "### Define directories and dataset names\n",
    "ROOT_DIR = os.path.abspath(os.curdir)\n",
    "in_path = ROOT_DIR\n",
    "out_path = ROOT_DIR + \"/Outputs\""
   ]
  },
  {
   "cell_type": "code",
   "execution_count": 6,
   "id": "e7c299a6-af9a-42a9-9ce2-3aa71906e15f",
   "metadata": {},
   "outputs": [],
   "source": [
    "# ## RWI layer\n",
    "# rwi_path = in_path + \"/Residential/Data/WealthIndex\"\n",
    "# rwi_name = 'zmb_relative_wealth_index.csv'"
   ]
  },
  {
   "cell_type": "code",
   "execution_count": 7,
   "id": "be9f0564-e9dd-4187-9cec-92e937386cc0",
   "metadata": {},
   "outputs": [],
   "source": [
    "## Coordinate and projection systems\n",
    "crs_WGS84 = CRS(\"EPSG:4326\")    # Originan WGS84 coordinate system\n",
    "crs_proj = CRS(\"EPSG:32736\")    # Projection system for the selected country -- see http://epsg.io/ for more info"
   ]
  },
  {
   "cell_type": "markdown",
   "id": "a0eda850-53e1-48de-b810-4d8486844ab1",
   "metadata": {},
   "source": [
    "### Define area of interest"
   ]
  },
  {
   "cell_type": "code",
   "execution_count": 8,
   "id": "2e46725a-444f-4319-a872-ba052bb4339b",
   "metadata": {},
   "outputs": [],
   "source": [
    "try: area\n",
    "except NameError: area = \"COUNTRY\"\n",
    "# area = \"Copperbelt\""
   ]
  },
  {
   "cell_type": "code",
   "execution_count": 9,
   "id": "dae1b98a-0b14-433d-99c9-70719792b686",
   "metadata": {
    "scrolled": true
   },
   "outputs": [
    {
     "data": {
      "text/plain": [
       "0       Copperbelt\n",
       "1         Muchinga\n",
       "2    North-Western\n",
       "3          Western\n",
       "4          Luapula\n",
       "5         Northern\n",
       "6          Central\n",
       "7         Southern\n",
       "8          Eastern\n",
       "9           Lusaka\n",
       "Name: Regions GADM, dtype: object"
      ]
     },
     "execution_count": 9,
     "metadata": {},
     "output_type": "execute_result"
    }
   ],
   "source": [
    "## Regions list\n",
    "regions_path = \"admin/\"\n",
    "regions_list = 'Regions_list.csv'\n",
    "df_regions = pd.read_csv(regions_path + regions_list)\n",
    "regions = df_regions['Regions GADM']\n",
    "if area != \"COUNTRY\":\n",
    "    regions = [area]\n",
    "regions"
   ]
  },
  {
   "cell_type": "markdown",
   "id": "04780ace-4a73-4f7d-809e-1a7ae3bea2e1",
   "metadata": {},
   "source": [
    "### Import layers to be used"
   ]
  },
  {
   "cell_type": "code",
   "execution_count": 10,
   "id": "d0d7bf98-ea6b-4f4a-8ae3-c69062fdca8a",
   "metadata": {
    "code_folding": []
   },
   "outputs": [],
   "source": [
    "# ## Import Relative Wealth Index | convert to geodf | export as gpkg\n",
    "# rwi = pd.read_csv(rwi_path + \"/\" + rwi_name)\n",
    "# rwi_gdf = gpd.GeoDataFrame(rwi, geometry=gpd.points_from_xy(rwi.longitude, rwi.latitude), crs={'init': 'epsg:4326'})\n",
    "# rwi_gdf.to_file(os.path.join(rwi_path,\"{c}\".format(c=rwi_name.split(\".\")[0])), driver=\"GPKG\")"
   ]
  },
  {
   "cell_type": "code",
   "execution_count": 11,
   "id": "bb1a58ba-bd7a-4480-9a2a-d1bbd9f33fb6",
   "metadata": {},
   "outputs": [],
   "source": [
    "hexagons = gpd.read_file(out_path + \"\\\\\" + \"h3_grid_at_hex.shp\")"
   ]
  },
  {
   "cell_type": "code",
   "execution_count": 12,
   "id": "565f6f88-92e8-4fd4-af86-3179074ad963",
   "metadata": {},
   "outputs": [],
   "source": [
    "grid = hexagons"
   ]
  },
  {
   "cell_type": "code",
   "execution_count": 13,
   "id": "a9c48be1-0955-4725-8ee0-f6f6f63298b2",
   "metadata": {},
   "outputs": [
    {
     "data": {
      "text/html": [
       "<div>\n",
       "<style scoped>\n",
       "    .dataframe tbody tr th:only-of-type {\n",
       "        vertical-align: middle;\n",
       "    }\n",
       "\n",
       "    .dataframe tbody tr th {\n",
       "        vertical-align: top;\n",
       "    }\n",
       "\n",
       "    .dataframe thead th {\n",
       "        text-align: right;\n",
       "    }\n",
       "</style>\n",
       "<table border=\"1\" class=\"dataframe\">\n",
       "  <thead>\n",
       "    <tr style=\"text-align: right;\">\n",
       "      <th></th>\n",
       "      <th>hexagons</th>\n",
       "      <th>lon</th>\n",
       "      <th>lat</th>\n",
       "      <th>index_righ</th>\n",
       "      <th>NAME_1</th>\n",
       "      <th>id</th>\n",
       "      <th>geometry</th>\n",
       "    </tr>\n",
       "  </thead>\n",
       "  <tbody>\n",
       "    <tr>\n",
       "      <th>0</th>\n",
       "      <td>873449450ffffff</td>\n",
       "      <td>25.91</td>\n",
       "      <td>-15.84</td>\n",
       "      <td>0.00</td>\n",
       "      <td>Central</td>\n",
       "      <td>1</td>\n",
       "      <td>POLYGON ((25.91834 -15.84935, 25.90802 -15.859...</td>\n",
       "    </tr>\n",
       "    <tr>\n",
       "      <th>1</th>\n",
       "      <td>875514823ffffff</td>\n",
       "      <td>25.69</td>\n",
       "      <td>-14.21</td>\n",
       "      <td>6.00</td>\n",
       "      <td>North-Western</td>\n",
       "      <td>2</td>\n",
       "      <td>POLYGON ((25.69806 -14.21843, 25.68791 -14.228...</td>\n",
       "    </tr>\n",
       "    <tr>\n",
       "      <th>2</th>\n",
       "      <td>87344a0c5ffffff</td>\n",
       "      <td>26.20</td>\n",
       "      <td>-17.62</td>\n",
       "      <td>8.00</td>\n",
       "      <td>Southern</td>\n",
       "      <td>3</td>\n",
       "      <td>POLYGON ((26.21087 -17.62041, 26.20038 -17.630...</td>\n",
       "    </tr>\n",
       "    <tr>\n",
       "      <th>3</th>\n",
       "      <td>875514a94ffffff</td>\n",
       "      <td>25.25</td>\n",
       "      <td>-14.25</td>\n",
       "      <td>6.00</td>\n",
       "      <td>North-Western</td>\n",
       "      <td>4</td>\n",
       "      <td>POLYGON ((25.26604 -14.25321, 25.25589 -14.263...</td>\n",
       "    </tr>\n",
       "    <tr>\n",
       "      <th>4</th>\n",
       "      <td>8755064e2ffffff</td>\n",
       "      <td>24.80</td>\n",
       "      <td>-12.88</td>\n",
       "      <td>6.00</td>\n",
       "      <td>North-Western</td>\n",
       "      <td>5</td>\n",
       "      <td>POLYGON ((24.81584 -12.88512, 24.80584 -12.895...</td>\n",
       "    </tr>\n",
       "    <tr>\n",
       "      <th>...</th>\n",
       "      <td>...</td>\n",
       "      <td>...</td>\n",
       "      <td>...</td>\n",
       "      <td>...</td>\n",
       "      <td>...</td>\n",
       "      <td>...</td>\n",
       "      <td>...</td>\n",
       "    </tr>\n",
       "    <tr>\n",
       "      <th>122983</th>\n",
       "      <td>8755000e2ffffff</td>\n",
       "      <td>24.06</td>\n",
       "      <td>-11.53</td>\n",
       "      <td>6.00</td>\n",
       "      <td>North-Western</td>\n",
       "      <td>122984</td>\n",
       "      <td>POLYGON ((24.07503 -11.52916, 24.06518 -11.539...</td>\n",
       "    </tr>\n",
       "    <tr>\n",
       "      <th>122984</th>\n",
       "      <td>8755a5119ffffff</td>\n",
       "      <td>24.59</td>\n",
       "      <td>-16.85</td>\n",
       "      <td>9.00</td>\n",
       "      <td>Western</td>\n",
       "      <td>122985</td>\n",
       "      <td>POLYGON ((24.60518 -16.85546, 24.59483 -16.865...</td>\n",
       "    </tr>\n",
       "    <tr>\n",
       "      <th>122985</th>\n",
       "      <td>87551e506ffffff</td>\n",
       "      <td>22.51</td>\n",
       "      <td>-14.53</td>\n",
       "      <td>9.00</td>\n",
       "      <td>Western</td>\n",
       "      <td>122986</td>\n",
       "      <td>POLYGON ((22.52461 -14.53863, 22.51456 -14.548...</td>\n",
       "    </tr>\n",
       "    <tr>\n",
       "      <th>122986</th>\n",
       "      <td>8739b02acffffff</td>\n",
       "      <td>31.93</td>\n",
       "      <td>-12.32</td>\n",
       "      <td>5.00</td>\n",
       "      <td>Muchinga</td>\n",
       "      <td>122987</td>\n",
       "      <td>POLYGON ((31.94477 -12.32686, 31.93475 -12.337...</td>\n",
       "    </tr>\n",
       "    <tr>\n",
       "      <th>122987</th>\n",
       "      <td>875506733ffffff</td>\n",
       "      <td>24.73</td>\n",
       "      <td>-12.63</td>\n",
       "      <td>6.00</td>\n",
       "      <td>North-Western</td>\n",
       "      <td>122988</td>\n",
       "      <td>POLYGON ((24.7475 -12.6354, 24.73753 -12.64534...</td>\n",
       "    </tr>\n",
       "  </tbody>\n",
       "</table>\n",
       "<p>122988 rows × 7 columns</p>\n",
       "</div>"
      ],
      "text/plain": [
       "               hexagons   lon    lat  index_righ         NAME_1      id  \\\n",
       "0       873449450ffffff 25.91 -15.84        0.00        Central       1   \n",
       "1       875514823ffffff 25.69 -14.21        6.00  North-Western       2   \n",
       "2       87344a0c5ffffff 26.20 -17.62        8.00       Southern       3   \n",
       "3       875514a94ffffff 25.25 -14.25        6.00  North-Western       4   \n",
       "4       8755064e2ffffff 24.80 -12.88        6.00  North-Western       5   \n",
       "...                 ...   ...    ...         ...            ...     ...   \n",
       "122983  8755000e2ffffff 24.06 -11.53        6.00  North-Western  122984   \n",
       "122984  8755a5119ffffff 24.59 -16.85        9.00        Western  122985   \n",
       "122985  87551e506ffffff 22.51 -14.53        9.00        Western  122986   \n",
       "122986  8739b02acffffff 31.93 -12.32        5.00       Muchinga  122987   \n",
       "122987  875506733ffffff 24.73 -12.63        6.00  North-Western  122988   \n",
       "\n",
       "                                                 geometry  \n",
       "0       POLYGON ((25.91834 -15.84935, 25.90802 -15.859...  \n",
       "1       POLYGON ((25.69806 -14.21843, 25.68791 -14.228...  \n",
       "2       POLYGON ((26.21087 -17.62041, 26.20038 -17.630...  \n",
       "3       POLYGON ((25.26604 -14.25321, 25.25589 -14.263...  \n",
       "4       POLYGON ((24.81584 -12.88512, 24.80584 -12.895...  \n",
       "...                                                   ...  \n",
       "122983  POLYGON ((24.07503 -11.52916, 24.06518 -11.539...  \n",
       "122984  POLYGON ((24.60518 -16.85546, 24.59483 -16.865...  \n",
       "122985  POLYGON ((22.52461 -14.53863, 22.51456 -14.548...  \n",
       "122986  POLYGON ((31.94477 -12.32686, 31.93475 -12.337...  \n",
       "122987  POLYGON ((24.7475 -12.6354, 24.73753 -12.64534...  \n",
       "\n",
       "[122988 rows x 7 columns]"
      ]
     },
     "execution_count": 13,
     "metadata": {},
     "output_type": "execute_result"
    }
   ],
   "source": [
    "grid"
   ]
  },
  {
   "cell_type": "markdown",
   "id": "1c628b49-d0f7-4b64-a623-91b775fd2782",
   "metadata": {},
   "source": [
    "## Extract raster values to hexagons"
   ]
  },
  {
   "cell_type": "markdown",
   "id": "b84a594e-e751-4c43-8554-70f2bdcd7239",
   "metadata": {},
   "source": [
    "Extract count of buildings per hex from WorldPop"
   ]
  },
  {
   "cell_type": "code",
   "execution_count": 14,
   "id": "c1e70286-4b78-4e24-a37d-fbd19aa9dd94",
   "metadata": {},
   "outputs": [
    {
     "name": "stdout",
     "output_type": "stream",
     "text": [
      "2024-08-09 11:50:39.232965\n"
     ]
    }
   ],
   "source": [
    "pathWorldPopBuiCount = \"Residential/Data/WorldPop/ZMB_buildings_v2_0_count.tif\"\n",
    "# grid = processing_raster(\"buildings\", \"count\", grid, filepath=pathWorldPopBuiCount)\n",
    "grid = processing_raster(\"buildings\", \"sum\", grid, filepath=pathWorldPopBuiCount) #Copperbelt_buildings_v2_0_count from https://apps.worldpop.org/peanutButter/\n",
    "# pathWorldPopBuiArea = \"Residential/Data/WorldPop/Copperbelt_buildings_v2_0_total_area.tif\"\n",
    "# grid = processing_raster(\"bui_area_WP\", \"sum\", grid, filepath=pathWorldPopBuiArea) #Copperbelt_buildings_v2_0_count from https://apps.worldpop.org/peanutButter/"
   ]
  },
  {
   "cell_type": "markdown",
   "id": "73b8d60e-fa51-4c29-a988-7684b069fae2",
   "metadata": {},
   "source": [
    "Extract urban areas from WorldPop"
   ]
  },
  {
   "cell_type": "code",
   "execution_count": 15,
   "id": "61f23ece-a1ec-4780-895d-7bec644bfe3b",
   "metadata": {},
   "outputs": [
    {
     "name": "stdout",
     "output_type": "stream",
     "text": [
      "2024-08-09 11:59:03.066446\n"
     ]
    }
   ],
   "source": [
    "pathWorldPopBuiUrban = \"Residential/Data/WorldPop/ZMB_buildings_v2_0_urban.tif\"\n",
    "grid = processing_raster(\"locationWP\", \"median\", grid, filepath=pathWorldPopBuiUrban)      #Copperbelt_population_v1_0_gridded from https://apps.worldpop.org/peanutButter/"
   ]
  },
  {
   "cell_type": "markdown",
   "id": "e85dd683-4fb3-4b03-bd54-26f56bab5c22",
   "metadata": {},
   "source": [
    "Extract lighing data"
   ]
  },
  {
   "cell_type": "code",
   "execution_count": 32,
   "id": "991142e6-9a52-4f44-a444-6e24cb4331cb",
   "metadata": {},
   "outputs": [
    {
     "name": "stdout",
     "output_type": "stream",
     "text": [
      "2024-08-09 16:59:14.592826\n"
     ]
    }
   ],
   "source": [
    "## set_lightscore_sy_xxxx.tif: Predicted likelihood that a settlement is electrified (0 to 1)\n",
    "## http://www-personal.umich.edu/~brianmin/HREA/data.html\n",
    "# pathHREA = \"Residential/Data/Lighting/Copperbelt_set_lightscore_sy_2019_Nodata_values_fixed.tif\"\n",
    "pathHREA = \"Residential/Data/Lighting/Zambia_set_lightscore_sy_2019.tif\"\n",
    "grid = processing_raster(\"HREA\", \"mean\", grid, filepath=pathHREA)\n",
    "probElec= \"HREA\""
   ]
  },
  {
   "cell_type": "markdown",
   "id": "eb833412-bb64-48e3-833b-21a16a6b80b1",
   "metadata": {},
   "source": [
    "Extract RWI"
   ]
  },
  {
   "cell_type": "code",
   "execution_count": null,
   "id": "9b92d9fb-478f-45d4-bfb0-2369e87532ac",
   "metadata": {},
   "outputs": [],
   "source": [
    "# Relative Wealth Index (RWI) -- extracting the mean value per building\n",
    "# Link: https://gee-community-catalog.org/projects/rwi/\n",
    "pathRWI = \"Residential/Data/WealthIndex/rwi_map.tif\"\n",
    "grid = processing_raster(\"rwi\", \"mean\", grid, filepath=pathRWI)"
   ]
  },
  {
   "cell_type": "markdown",
   "id": "4691de9c-dec6-4a35-9a43-fa83db8a3dd5",
   "metadata": {},
   "source": [
    "Extract tiers Falchetta dataset"
   ]
  },
  {
   "cell_type": "code",
   "execution_count": null,
   "id": "a00e46a7-4d3b-4b06-aa8c-b5ff1aa37377",
   "metadata": {},
   "outputs": [],
   "source": [
    "# extract tiers share from Falchetta dataset #https://www.nature.com/articles/s41597-019-0122-6#Sec7\n",
    "pathElecAccess = \"Residential/Data/Falchetta_ElecAccess/Zambia_tiersofaccess_2018.tif\"\n",
    "grid = processing_raster(\"tiers\", \"majority\", grid, filepath=pathElecAccess)"
   ]
  },
  {
   "cell_type": "markdown",
   "id": "e88746bd-f784-4c59-b832-5e70cacfc695",
   "metadata": {},
   "source": [
    "Extract GDP Kummu dataset "
   ]
  },
  {
   "cell_type": "code",
   "execution_count": null,
   "id": "b7238da5-1f01-42fc-a64d-1884531fe0c8",
   "metadata": {},
   "outputs": [],
   "source": [
    "#Link https://www.nature.com/articles/sdata20184#Sec9\n",
    "pathGDP = \"Residential/Data/GDP/GDP_PPP_30arcsec_v3_band3_Zambia.tif\"\n",
    "grid = processing_raster(\"GDP_PPP\", \"mean\", grid, filepath=pathGDP)"
   ]
  },
  {
   "cell_type": "markdown",
   "id": "a0cbec06-cf05-491d-b3ca-298b0646d9d4",
   "metadata": {},
   "source": [
    "##### Once done with rasters run this cell"
   ]
  },
  {
   "cell_type": "code",
   "execution_count": null,
   "id": "cb0e9e2b-6b1e-4795-8fa5-6aabe9cb6652",
   "metadata": {},
   "outputs": [],
   "source": [
    "grid = finalizing_rasters(out_path, grid, crs_proj)"
   ]
  },
  {
   "cell_type": "code",
   "execution_count": null,
   "id": "1a5398d5-6311-4961-9a20-c0d9680fc58f",
   "metadata": {},
   "outputs": [],
   "source": [
    "grid.rename({'HREAmean': 'HREA'}, axis=1, inplace=True)\n",
    "grid.rename({'rwimean': 'rwi'}, axis=1, inplace=True)\n",
    "grid.rename({'locationWPmedian': 'locationWP'}, axis=1, inplace=True)\n",
    "grid.rename({'tiersmajority': 'tiers'}, axis=1, inplace=True)\n",
    "grid.rename({'GDP_PPPmean': 'GDP_PPP'}, axis=1, inplace=True)"
   ]
  },
  {
   "cell_type": "markdown",
   "id": "29401a31-0b46-4b6a-9281-45eda2c31232",
   "metadata": {},
   "source": [
    "Add values in RWI column when there is none"
   ]
  },
  {
   "cell_type": "code",
   "execution_count": null,
   "id": "59733b9e-bb8e-4f20-977e-95510c4ba670",
   "metadata": {},
   "outputs": [],
   "source": [
    "grid[\"rwi\"].fillna(grid[\"rwi\"].mean(numeric_only=True).round(1), inplace=True)\n",
    "print(grid[\"rwi\"].min())\n",
    "print(grid[\"rwi\"].max())"
   ]
  },
  {
   "cell_type": "code",
   "execution_count": null,
   "id": "73625768-f34e-4172-a966-ced127705a52",
   "metadata": {},
   "outputs": [],
   "source": [
    "grid.head(3)"
   ]
  },
  {
   "cell_type": "markdown",
   "id": "f76c68d7-353f-4535-bfe7-123890e9f092",
   "metadata": {},
   "source": [
    "## Extract residential demand from UN stats"
   ]
  },
  {
   "cell_type": "code",
   "execution_count": null,
   "id": "0a8282bb-92e4-49c2-b47f-eb9429a8b8fd",
   "metadata": {},
   "outputs": [],
   "source": [
    "# Residential energy demand at the country level\n",
    "energyBalance_path = \"EnergyBalance/\"\n",
    "file_energyBalance = \"UNSD+DF_UNData_EnergyBalance+1.0_Zambia.csv\"\n",
    "eb = pd.read_csv(energyBalance_path + file_energyBalance)\n",
    "code_elec = \"B07_EL\"\n",
    "code_hh =  \"B50_1231\"\n",
    "total_residentialenergy_TJ = eb.loc[(eb['COMMODITY'] == code_elec) & (eb['TRANSACTION'] == code_hh) & (eb['TIME_PERIOD'] == 2019 ), 'OBS_VALUE'] #TJ\n",
    "total_residentialenergy_TJ = pd.to_numeric(total_residentialenergy_TJ.str.replace(',', '')) # convert to numeric and remove commas\n",
    "total_residentialenergy_GWh = total_residentialenergy_TJ.iloc[0]/3.6 # conversion in GWh\n",
    "print(\"Residential electricity consumption\", total_residentialenergy_GWh, \"GWh\")"
   ]
  },
  {
   "cell_type": "markdown",
   "id": "35fb3f44-0e71-4651-977c-d0a370e8bb37",
   "metadata": {},
   "source": [
    "### Step 1: assess the number of HH with access"
   ]
  },
  {
   "cell_type": "code",
   "execution_count": null,
   "id": "4cb7a795-cd15-419e-b534-ff9e712093f0",
   "metadata": {},
   "outputs": [],
   "source": [
    "# Plot the buildings map\n",
    "# Create the axis first\n",
    "fig, ax = plt.subplots(figsize=(25, 15))\n",
    "\n",
    "# Plot data\n",
    "grid.sort_values('buildingssum', ascending=True).plot(\n",
    "    ax=ax, column='buildingssum', cmap=\"Reds\", legend=True, alpha=0.9)\n",
    "\n",
    "ax.set_aspect('equal', 'box')\n",
    "txt = ax.set_title('Buildings in {}'.format(area) )\n",
    "\n",
    "# # Save plot as figure \n",
    "# plt.savefig('sample_priority_map.png', bbox_inches='tight')"
   ]
  },
  {
   "cell_type": "markdown",
   "id": "f2595faf-1b25-4043-ab1e-2e071b069248",
   "metadata": {},
   "source": [
    "Determine electrifed status of each cell"
   ]
  },
  {
   "cell_type": "code",
   "execution_count": null,
   "id": "982290c1-17a7-432c-b8cb-f05b4bcad96c",
   "metadata": {},
   "outputs": [],
   "source": [
    "# electrified or non-electrified status\n",
    "grid[\"Status_electrified\"] = grid.apply(lambda row: (\"elec\" if ((row[probElec] > 0.25))\n",
    "                                             else \"nonelec\"), axis=1)\n",
    "grid[\"Status_electrified\"].value_counts()"
   ]
  },
  {
   "cell_type": "markdown",
   "id": "91245c5b-c6ce-4a7e-a41c-6e215dc7b65e",
   "metadata": {},
   "source": [
    "Determine location (ruban or rural) of each cell"
   ]
  },
  {
   "cell_type": "code",
   "execution_count": null,
   "id": "9fac3b99-fa47-4c20-bc89-b0b0f7bdd1ac",
   "metadata": {},
   "outputs": [],
   "source": [
    "# for each hexagon, determine if it's rural or urban --> choose best source\n",
    "# grid[\"locAssessed\"] = grid.apply(lambda row: (\"urban\" if ((row['buildingssum'] > 1000)) # number chosen to get 1 for nb of HH per rural building\n",
    "#                                              else \"rural\"), axis=1)\n",
    "grid[\"locWorldPop\"] = grid.apply(lambda row: (\"urban\" if ((row['locationWP'] == 1)) \n",
    "                                             else \"rural\"), axis=1)\n",
    "# grid[\"locGHSL\"] = grid.apply (lambda row: (\"urban\" if ((row['SMOD'] == 30) or (row['SMOD'] == 21) or (row['SMOD'] == 22) or (row['SMOD' ] == 23)) \n",
    "#                                              else \"rural\"), axis=1)\n",
    "grid[\"location\"] = grid[\"locWorldPop\"] "
   ]
  },
  {
   "cell_type": "code",
   "execution_count": null,
   "id": "a19e5dbe-2d8e-40a1-8b7b-d74904028c31",
   "metadata": {},
   "outputs": [],
   "source": [
    "# map of the urban and rural areas WorldPop\n",
    "# Create the axis first\n",
    "fig2, ax2 = plt.subplots(figsize=(10, 5))\n",
    "# Plot\n",
    "grid.sort_values('locWorldPop', ascending=True).plot(\n",
    "    ax=ax2, column='locWorldPop', cmap=\"Reds\", legend=True, alpha=0.5)\n",
    "\n",
    "ax2.set_aspect('equal', 'box')\n",
    "txt = ax2.set_title('Urban and rural areas WorldPop in {} '.format(area))"
   ]
  },
  {
   "cell_type": "markdown",
   "id": "c5183481-6ac6-48c3-8ac2-7921a8ec3ced",
   "metadata": {},
   "source": [
    "Assess number of residential households per cell"
   ]
  },
  {
   "cell_type": "code",
   "execution_count": null,
   "id": "016732b6-c6c7-4dd0-bed3-765eec742c6e",
   "metadata": {},
   "outputs": [],
   "source": [
    "# Load data into Pandas DataFrame\n",
    "## Census data\n",
    "data_path = \"Residential/Data/\"\n",
    "census_name = 'Census_Zambia.csv'\n",
    "df_censusdata = pd.read_csv(data_path + census_name)\n",
    "\n",
    "# Create a new dataframe that will contain the regional data\n",
    "data_HH = df_censusdata[['Region', 'Urban', 'Rural']]\n",
    "data_HH = data_HH.rename({'Region':'region','Urban':'HH_urban', 'Rural':'HH_rural'}, axis = 1)\n",
    "data_HH = data_HH.set_index(['region'])\n",
    "data_HH['HH_total'] = data_HH['HH_urban'] + data_HH['HH_rural']\n",
    "data_HH = data_HH.astype(float)"
   ]
  },
  {
   "cell_type": "code",
   "execution_count": null,
   "id": "5e85abcc-d440-4c71-9389-a9d0a3be4d45",
   "metadata": {},
   "outputs": [],
   "source": [
    "# Option 1: use buildings count from Worldpop to assess number of buildings\n",
    "# total number of buildings\n",
    "data_buildings = []\n",
    "for region in regions:\n",
    "    totalBuildings = grid[(grid['NAME_1'] == region)]['buildingssum'].sum()\n",
    "    urbanBuildings = grid[(grid['location'] == \"urban\") & (grid['NAME_1'] == region)]['buildingssum'].sum()\n",
    "    ruralBuildings = grid[(grid['location'] == \"rural\") & (grid['NAME_1'] == region)]['buildingssum'].sum()\n",
    "    data_region = {\n",
    "        'region': region,\n",
    "        'totalBuildings': totalBuildings,\n",
    "        'urbanBuildings': urbanBuildings,\n",
    "        'ruralBuildings': ruralBuildings,\n",
    "        'shareRuralBuild': ruralBuildings / totalBuildings,\n",
    "        'shareUrbanBuild': urbanBuildings / totalBuildings,\n",
    "    }\n",
    "    data_buildings.append(data_region)\n",
    "    # print(\"total Buildings in\",f\"{region}\",f\"{totalBuildings:,.0f}\", \"urban:\",f\"{urbanBuildings:,.0f}\", \"rural:\",f\"{ruralBuildings:,.0f}\")\n",
    "    # print(\"share Build urban:\", f\"{data_region['shareUrbanBuild']:.0%}\",\"rural:\",f\"{data_region['shareRuralBuild']:.0%}\")\n",
    "\n",
    "df_buildings = pd.DataFrame(data_buildings)\n",
    "df_buildings = df_buildings.set_index('region')\n",
    "# df_buildings\n",
    "df_HH_buildings = data_HH.merge(df_buildings, left_on='region', right_on='region')\n",
    "df_HH_buildings"
   ]
  },
  {
   "cell_type": "markdown",
   "id": "1cc25805-0a35-498f-be63-54212aea6776",
   "metadata": {},
   "source": [
    "Assess number of residential buildings"
   ]
  },
  {
   "cell_type": "code",
   "execution_count": null,
   "id": "7e9b6c3f-6cf7-4465-a850-b2a9f85cb5d9",
   "metadata": {
    "scrolled": true
   },
   "outputs": [],
   "source": [
    "# share of residential building in each location --> not used because we use the assumption of nb of HH per res bui but can be used if we have data on share of residential building\n",
    "# shareResBuildings = {\"urban\": 0.5, \"rural\": 0.15} # --> to change! # number chosen to get 1 for nb of HH per rural building, and for urban twice the value in rural\n",
    "# df_HH_buildings['resUrbanBui'] = df_HH_buildings['urbanBuildings'] * shareResBuildings[\"urban\"]\n",
    "# df_HH_buildings['resRuralBui'] = df_HH_buildings['ruralBuildings'] * shareResBuildings[\"rural\"]\n",
    "# df_HH_buildings['resTotalBui'] = df_HH_buildings['resUrbanBui'] + df_HH_buildings['resRuralBui']\n",
    "\n",
    "# Assess the number of residential HH per building\n",
    "nbOfHHperResBuilding =  {\"urban\": 1.1, \"rural\": 1}  # --> to update depending on the country\n",
    "# nbOfHHperResBuilding[\"urban\"]= HH_urban/resUrbanBuildings --> use if the main assumption is on the share of res buildings\n",
    "# nbOfHHperResBuilding[\"rural\"]= HH_rural/resRuralBuildings --> use if the main assumption is on the share of res buildings\n",
    "\n",
    "# Assess the number of residential buildings\n",
    "df_HH_buildings['shareUrbanResBui'] = df_HH_buildings['HH_urban'] /(nbOfHHperResBuilding[\"urban\"]* df_HH_buildings['urbanBuildings'])\n",
    "df_HH_buildings['shareRuralResBui'] = df_HH_buildings['HH_rural'] /(nbOfHHperResBuilding[\"rural\"]* df_HH_buildings['ruralBuildings'])\n",
    "df_HH_buildings['resUrbanBui'] = df_HH_buildings['urbanBuildings'] * df_HH_buildings['shareUrbanResBui']\n",
    "df_HH_buildings['resRuralBui'] = df_HH_buildings['ruralBuildings'] * df_HH_buildings['shareRuralResBui']\n",
    "df_HH_buildings['resTotalBui'] = df_HH_buildings['resUrbanBui'] + df_HH_buildings['resRuralBui']\n",
    "\n",
    "# Check: Assess the total number of HH in the region (should match the census data)\n",
    "totalResHHurban = nbOfHHperResBuilding[\"urban\"]*df_HH_buildings['resUrbanBui']\n",
    "# print(totalResHHurban)\n",
    "# print(df_HH_buildings['HH_urban'])\n",
    "# assert totalResHHurban.equals(df_HH_buildings['HH_urban'])\n",
    "totalResHHrural = nbOfHHperResBuilding[\"rural\"]*df_HH_buildings['resRuralBui']\n",
    "# assert totalResHHrural.equals(df_HH_buildings['HH_rural'])\n",
    "\n",
    "# Number of HH per res buildings in each region average\n",
    "df_HH_buildings['nbOfHHperResBui_average'] = df_HH_buildings['HH_total'] / (df_HH_buildings['urbanBuildings']*df_HH_buildings['shareUrbanResBui'] +\n",
    "                                                                 df_HH_buildings['ruralBuildings'] * df_HH_buildings['shareRuralResBui'])\n",
    "\n",
    "# df_HH_buildings"
   ]
  },
  {
   "cell_type": "code",
   "execution_count": null,
   "id": "a8ca17df-9da2-42d3-9861-c08a9f722312",
   "metadata": {},
   "outputs": [],
   "source": [
    "# Assess the number of HH per cell\n",
    "grid['res_urbanBui'] = grid['buildingssum'] * (grid['location'] == 'urban') * grid['NAME_1'].map(df_HH_buildings['shareUrbanResBui'])\n",
    "grid['res_ruralBui'] = grid['buildingssum'] * (grid['location'] == 'rural') * grid['NAME_1'].map(df_HH_buildings['shareRuralResBui'])\n",
    "grid['res_Bui'] = grid['res_urbanBui'] + grid['res_ruralBui']\n",
    "grid['HH_urban'] = grid['res_urbanBui'] * nbOfHHperResBuilding['urban']\n",
    "grid['HH_rural'] = grid['res_ruralBui'] * nbOfHHperResBuilding['rural']\n",
    "grid['HH_total'] = grid['HH_rural'] + grid['HH_urban']"
   ]
  },
  {
   "cell_type": "code",
   "execution_count": null,
   "id": "8ebaa4ed-90f3-4394-a6ce-fc4c06b38deb",
   "metadata": {},
   "outputs": [],
   "source": [
    "# Population per cell\n",
    "df_censusdata = df_censusdata.set_index('Region')\n",
    "# df_censusdata"
   ]
  },
  {
   "cell_type": "code",
   "execution_count": null,
   "id": "eb3bcf99-2e93-4f7f-9d08-7909c87e18f9",
   "metadata": {},
   "outputs": [],
   "source": [
    "# in each cell compute the population size = HH * HH size\n",
    "get_size_HH = lambda row: df_censusdata.loc[row['NAME_1'], 'size_HH_' + row['location']]\n",
    "grid['population'] = (\n",
    "    grid['HH_total'] *\n",
    "    grid.apply(get_size_HH, axis=1)\n",
    "    )\n",
    "total_population = grid['population'].sum()\n",
    "print(f\"Total population: {total_population:,.0f}\")\n",
    "grid['population_urban'] = (\n",
    "    grid['HH_urban'] *\n",
    "    grid.apply(get_size_HH, axis=1)\n",
    "    )\n",
    "grid['population_rural'] = (\n",
    "    grid['HH_rural'] *\n",
    "    grid.apply(get_size_HH, axis=1)\n",
    "    )"
   ]
  },
  {
   "cell_type": "markdown",
   "id": "8110c32f-b4f8-41ea-b27c-d4dcdccc62e0",
   "metadata": {},
   "source": [
    "Assess number of residential households per cell with access to electricity"
   ]
  },
  {
   "cell_type": "code",
   "execution_count": null,
   "id": "4bb0075e-0b83-4435-a398-4ca7ef3f11a2",
   "metadata": {},
   "outputs": [],
   "source": [
    "# for each hexagon, assessment of the number of HH with access\n",
    "# access_elec = {\"elec\": 0, \"nonelec\": 1}\n",
    "grid[\"HHwithAccess_urb\"] = grid['HH_urban'] * grid[probElec] * (grid[\"Status_electrified\"]=='elec')\n",
    "grid[\"HHwithAccess_rur\"] = grid['HH_rural'] * grid[probElec] * (grid[\"Status_electrified\"]=='elec')                                      \n",
    "grid[\"HHwithAccess\"] = grid[\"HHwithAccess_urb\"] + grid[\"HHwithAccess_rur\"]\n",
    "\n",
    "grid['HHwoAccess_urb'] = grid['HH_urban'] - grid['HHwithAccess_urb']\n",
    "grid['HHwoAccess_rur'] = grid['HH_rural'] - grid['HHwithAccess_rur']\n",
    "grid['HHwoAccess'] = grid['HHwoAccess_urb'] + grid['HHwoAccess_rur']\n",
    "\n",
    "totalHHWithAccessUrb = grid.groupby('NAME_1')['HHwithAccess_urb'].sum()\n",
    "totalHHWithAccessRur = grid.groupby('NAME_1')['HHwithAccess_rur'].sum()\n",
    "totalHHWithAccess = grid.groupby('NAME_1')['HHwithAccess'].sum()\n",
    "\n",
    "df_HH_access = pd.concat([totalHHWithAccessUrb, totalHHWithAccessRur, totalHHWithAccess], axis=1)\n",
    "df_HH_access.rename_axis('region', inplace=True)\n",
    "df_HH_buildings = df_HH_buildings.merge(df_HH_access, left_on='region', right_on='region')\n",
    "df_HH_buildings\n"
   ]
  },
  {
   "cell_type": "code",
   "execution_count": null,
   "id": "8846c401-1f28-45d2-918a-69fe72db7c2d",
   "metadata": {},
   "outputs": [],
   "source": [
    "df_sum = df_HH_buildings.sum(axis=0)  # Sum across rows\n",
    "df_sum.name = 'National'  # Set a name for the new row (optional)\n",
    "df_HH_buildings = pd.concat([df_HH_buildings, df_sum.to_frame().T]) # concatenate the sum Series as a new row\n",
    "df_HH_buildings"
   ]
  },
  {
   "cell_type": "markdown",
   "id": "2ac582d2-3197-486c-85ff-56899846313b",
   "metadata": {},
   "source": [
    "Compute the resulting access rate"
   ]
  },
  {
   "cell_type": "code",
   "execution_count": null,
   "id": "6aee8acf-e843-43d4-a9d4-aafd2620eb58",
   "metadata": {},
   "outputs": [],
   "source": [
    "# access rate for HH\n",
    "df_HH_buildings['accessRateHH'] = df_HH_buildings['HHwithAccess']/df_HH_buildings['HH_total']\n",
    "df_HH_buildings['accessRateHH_urban'] = df_HH_buildings['HHwithAccess_urb']/df_HH_buildings['HH_urban']\n",
    "df_HH_buildings['accessRateHH_rural'] = df_HH_buildings['HHwithAccess_rur']/df_HH_buildings['HH_rural']\n",
    "\n",
    "# access rate for population\n",
    "# accessRatePop = (totalHHWithAccessUrb*pplperHH_urban+totalHHWithAccessRur*pplperHH_rural)/totalPopStats\n",
    "# accessRatePop_urban = totalHHWithAccessUrb*pplperHH_urban/totalPop_urban\n",
    "# accessRatePop_rural = totalHHWithAccessRur*pplperHH_rural/totalPop_rural\n",
    "# print(\"Pop access rate :\",f\"{accessRatePop:,.0%}\")\n",
    "# print(\"Pop access rate urban:\",f\"{accessRatePop_urban:,.0%}\")\n",
    "# print(\"Pop access rate rural:\",f\"{accessRatePop_rural:,.0%}\")\n",
    "\n",
    "df_HH_buildings.to_csv(\"dataHH_region.csv\")\n",
    "df_HH_buildings[['accessRateHH','accessRateHH_urban','accessRateHH_rural']]"
   ]
  },
  {
   "cell_type": "markdown",
   "id": "9dfc65e3-fd9a-46c2-89ec-896b1f9a524d",
   "metadata": {},
   "source": [
    "### Step 2: assess the energy consumption per HH"
   ]
  },
  {
   "cell_type": "markdown",
   "id": "49f7c150-5e38-49e6-9639-e25e11c0caec",
   "metadata": {},
   "source": [
    "#### Method 1: create an index based on rwi and HREA"
   ]
  },
  {
   "cell_type": "code",
   "execution_count": null,
   "id": "c8b3dc69-f5dd-4670-a7ec-51dc1cbf7cbb",
   "metadata": {},
   "outputs": [],
   "source": [
    "# # Retrieve values from the MTF survey # not used because it leads to an overassessment of energy\n",
    "# %run Residential/energy_demand_res.ipynb\n",
    "# energyConsHH = energycons_res_mtf[\"annual\"] # dictionnary for each region one value\n",
    "# energyConsHH['COPPERBELT']=1250\n",
    "# energyConsHH"
   ]
  },
  {
   "cell_type": "code",
   "execution_count": null,
   "id": "69736f92-e19d-4be6-8afb-56c1bc6c9cd7",
   "metadata": {},
   "outputs": [],
   "source": [
    "# function for allocate tier of energy consumption to an index\n",
    "def index_to_energy(index, table_index):\n",
    "    energy = 0\n",
    "    for key, val in table_index:\n",
    "        if index < key:\n",
    "            break\n",
    "        else: energy = val\n",
    "    return energy\n",
    "\n",
    "# data for energy consumption tiers\n",
    "file_HHenergycons = \"HH_energyconsumption.csv\"\n",
    "HHenergycons = pd.read_csv(data_path + file_HHenergycons)\n",
    "thresholds_energy = HHenergycons.iloc[0].tolist() # thresholds_energy  = [5, 73, 365, 1250, 3012]\n",
    "print(HHenergycons)"
   ]
  },
  {
   "cell_type": "markdown",
   "id": "df1fff54-b62c-490d-b1de-ac6a2a044329",
   "metadata": {},
   "source": [
    "##### Index only based on rwi"
   ]
  },
  {
   "cell_type": "code",
   "execution_count": null,
   "id": "d59f9b19-07e0-4603-ba61-1d5ffd02c157",
   "metadata": {},
   "outputs": [],
   "source": [
    "# Method 1.1: allocate directly rwi to energy consumption\n",
    "grid['rwi'].plot.hist(bins=5)\n",
    "plt.show()\n",
    "thresholds_rwi = (grid['rwi'].max()-grid['rwi'].min())/5*np.arange(5)+grid['rwi'].min()\n",
    "table_rwi = list(zip(thresholds_rwi, thresholds_energy))\n",
    "print(table_rwi)\n",
    "grid['ResEnergyPerHH_rwi'] = grid['rwi'].apply(lambda rwi: index_to_energy(rwi,table_rwi))"
   ]
  },
  {
   "cell_type": "markdown",
   "id": "43669c84-54c1-4541-bf17-fc8f7d3e7a8e",
   "metadata": {},
   "source": [
    "Index only based on rwi and HREA"
   ]
  },
  {
   "cell_type": "code",
   "execution_count": null,
   "id": "b97946fa-2db0-43f5-af6f-10164682e50b",
   "metadata": {},
   "outputs": [],
   "source": [
    "# Link between rwi and HREA\n",
    "plt.scatter(grid['rwi'], grid['HREA'],s=1)\n",
    "\n",
    "# Add labels to the plot\n",
    "plt.xlabel('rwi')\n",
    "plt.ylabel('lighting')\n",
    "\n",
    "# Set the axis to logarithmic scale\n",
    "# plt.yscale('log')\n",
    "# plt.xscale('log')\n",
    "\n",
    "# Show the plot\n",
    "plt.show()"
   ]
  },
  {
   "cell_type": "code",
   "execution_count": null,
   "id": "0f7f5822-be52-4db5-b0d0-85903708173d",
   "metadata": {},
   "outputs": [],
   "source": [
    "# Normalise the rwi index\n",
    "rwi_min = grid['rwi'].min()\n",
    "rwi_max = grid['rwi'].max()\n",
    "grid['rwi_norm'] = (grid['rwi'] - rwi_min) / (rwi_max - rwi_min)\n",
    "grid['rwi_norm'].plot.hist()\n",
    "plt.show()"
   ]
  },
  {
   "cell_type": "code",
   "execution_count": null,
   "id": "b95ca565-4347-44bc-9f93-81dbbca8a129",
   "metadata": {},
   "outputs": [],
   "source": [
    "# Method 1.2: create an index combining rwi and HREA: geometric mean \n",
    "grid['index'] = np.power(grid['rwi_norm'] * grid['HREA'], 0.5)\n",
    "grid['index'].plot.hist(bins=5)\n",
    "thresholds_index = (grid['index'].max()-grid['index'].min())/5*np.arange(5)+grid['index'].min()\n",
    "table_index = list(zip(thresholds_index, thresholds_energy))\n",
    "plt.show()"
   ]
  },
  {
   "cell_type": "code",
   "execution_count": null,
   "id": "727eda9e-9894-4239-a71d-7ccb54ecd655",
   "metadata": {},
   "outputs": [],
   "source": [
    "# allocate the energy consumption tier to the index\n",
    "grid['ResEnergyPerHH_index'] = grid['index'].apply(lambda index: index_to_energy(index,table_index))\n",
    "grid['ResEnergyPerHH_index'].plot.hist()\n",
    "print(grid['ResEnergyPerHH_index'].value_counts())\n",
    "plt.show()"
   ]
  },
  {
   "cell_type": "code",
   "execution_count": null,
   "id": "40380761-b990-422f-8343-c6620ea38440",
   "metadata": {},
   "outputs": [],
   "source": [
    "# Assess the shares of tier\n",
    "tier_share = grid.groupby('ResEnergyPerHH_index')['HHwithAccess'].sum()\n",
    "tier_share.loc[0] = grid['HHwoAccess'].sum()\n",
    "# print(tier_share)\n",
    "print(tier_share/tier_share.sum())\n",
    "# urban shares\n",
    "tier_urban_share = grid.groupby('ResEnergyPerHH_index')['HHwithAccess_urb'].sum()\n",
    "tier_urban_share.loc[0] = grid['HHwoAccess_urb'].sum()\n",
    "print(tier_urban_share/tier_urban_share.sum())\n",
    "# rural shares\n",
    "tier_rural_share = grid.groupby('ResEnergyPerHH_index')['HHwithAccess_rur'].sum() \n",
    "tier_rural_share.loc[0] = grid['HHwoAccess_rur'].sum()\n",
    "print(tier_rural_share/tier_rural_share.sum())"
   ]
  },
  {
   "cell_type": "markdown",
   "id": "cc0db2df-617c-4741-b792-a3c7b6d88348",
   "metadata": {},
   "source": [
    "#### Method 2: link the energy consumption with rwi through a logistic function"
   ]
  },
  {
   "cell_type": "code",
   "execution_count": null,
   "id": "32efd72e-b798-41fc-966a-00665d97c2f0",
   "metadata": {},
   "outputs": [],
   "source": [
    "# Plot of number of HH vs rwi\n",
    "\n",
    "# Create equally spaced bins for the 'rwi' values\n",
    "num_groups = 100\n",
    "min_rwi = grid['rwi_norm'].min()\n",
    "max_rwi = grid['rwi_norm'].max()\n",
    "bin_width = (max_rwi - min_rwi) / num_groups\n",
    "bins = [min_rwi + i * bin_width for i in range(num_groups + 1)]\n",
    "\n",
    "# Group by the bins and sum the 'HH_total' values\n",
    "grid['rwi_group'] = pd.cut(grid['rwi_norm'], bins)\n",
    "result = grid.groupby('rwi_group')['HH_total'].sum()\n",
    "result.index = result.index.astype(str)\n",
    "# # Print the result\n",
    "# print(result)\n",
    "\n",
    "# Create a bar plot\n",
    "plt.figure(figsize=(10, 6))\n",
    "plt.bar(result.index, result.values, color='skyblue', edgecolor='black')\n",
    "plt.xlabel('RWI Value Groups')\n",
    "plt.ylabel('Total HH_total')\n",
    "plt.title('Sum of HH_total by RWI Value Groups')\n",
    "plt.xticks(rotation=45, ha='right')\n",
    "plt.tight_layout()\n",
    "plt.show()"
   ]
  },
  {
   "cell_type": "code",
   "execution_count": null,
   "id": "2653931a-5e4f-454d-bede-8ddf7614754b",
   "metadata": {},
   "outputs": [],
   "source": [
    "# Plot of number of HH with access vs rwi\n",
    "\n",
    "# Group by the bins and sum the 'HHwithAccess' values\n",
    "result = grid.groupby('rwi_group')['HHwithAccess'].sum()\n",
    "result.index = result.index.astype(str)\n",
    "# # Print the result\n",
    "# print(result)\n",
    "\n",
    "# Create a bar plot\n",
    "plt.figure(figsize=(10, 6))\n",
    "plt.bar(result.index, result.values, color='skyblue', edgecolor='black')\n",
    "plt.xlabel('RWI Value Groups')\n",
    "plt.ylabel('Total HH with access')\n",
    "plt.title('Sum of HH with access by RWI Value Groups')\n",
    "plt.xticks(rotation=45, ha='right')\n",
    "plt.tight_layout()\n",
    "plt.show()"
   ]
  },
  {
   "cell_type": "code",
   "execution_count": null,
   "id": "c00f8f62-66e4-420c-be40-c3b15632c8d1",
   "metadata": {},
   "outputs": [],
   "source": [
    "# solve the equation so that the energy consumption per HH matches total energy demand\n",
    "from scipy.optimize import fsolve\n",
    "\n",
    "# variable for the relatioship between rwi and E\n",
    "E_threshold = 3400\n",
    "alpha = E_threshold / 4.5 - 1  # alpha set so that E_HH = 4.5 kWh for the lowest tier\n",
    "\n",
    "def func(x):\n",
    "    e_hh = E_threshold / (1 + alpha * np.exp(-x  * grid['rwi_norm']))\n",
    "    res_energy_assessed = e_hh * grid ['HHwithAccess']\n",
    "    return res_energy_assessed.sum()/10**6- total_residentialenergy_GWh\n",
    "\n",
    "# Use scipy to solve the equation to find k\n",
    "k_initial_guess = 2\n",
    "k_solution = fsolve(func, k_initial_guess)\n",
    "print(k_solution)\n"
   ]
  },
  {
   "cell_type": "code",
   "execution_count": null,
   "id": "91f5eb82-b49d-4d15-b8f1-1a4ed6bc4f8b",
   "metadata": {},
   "outputs": [],
   "source": [
    "# create the curve linking energy consumption per HH and rwi\n",
    "rwi_values = bins # Your rwi value groups\n",
    "# E_threshold = 3100\n",
    "# alpha = E_threshold / 4.5 - 1  # alpha set so that E_HH = 4.5 kWh for the lowest tier\n",
    "k = k_solution  # Adjust this constant for the desired curve steepness\n",
    "E_HH_values = E_threshold / (1 + alpha * np.exp(-k * np.array(rwi_values)))\n",
    "# print(E_threshold / (1 + alpha * np.exp(-k  * 0)))\n",
    "# Create the bar plot\n",
    "plt.figure(figsize=(10, 6))\n",
    "plt.bar(rwi_values, E_HH_values, color='skyblue', edgecolor='black')\n",
    "plt.xlabel('RWI Value Groups')\n",
    "plt.ylabel('E_HH (Energy)')\n",
    "plt.title('Energy vs. RWI with logistic relationship')\n",
    "plt.xticks(rotation=45, ha='right')\n",
    "plt.tight_layout()\n",
    "plt.show()"
   ]
  },
  {
   "cell_type": "code",
   "execution_count": null,
   "id": "a4e7f5cc-f559-40bf-8a65-76adcc63c8a7",
   "metadata": {},
   "outputs": [],
   "source": [
    "# check that total energy assessed matches the statistics\n",
    "grid['ResEnergyPerHH_log'] = E_threshold / (1 + alpha * np.exp(-k * grid['rwi_norm']))\n",
    "\n",
    "# Create the bar plot\n",
    "plt.figure(figsize=(10, 6))\n",
    "plt.scatter(grid['rwi_norm'], grid['ResEnergyPerHH_log'], color='skyblue', edgecolor='black')\n",
    "plt.xlabel('RWI')\n",
    "plt.ylabel('E_HH (Energy)')\n",
    "plt.title('Energy vs. RWI with Logarithmic Relationship')\n",
    "plt.xticks(rotation=45, ha='right')\n",
    "plt.tight_layout()\n",
    "plt.show()"
   ]
  },
  {
   "cell_type": "code",
   "execution_count": null,
   "id": "ef28a9e2-9f00-487f-88cf-41dc0b9db603",
   "metadata": {},
   "outputs": [],
   "source": [
    "# Assess the tier shares \n",
    "\n",
    "# Create bins\n",
    "bins = [0, 5, 72.9, 364.9, 1250.4, 3012.2]\n",
    "labels = ['1', '2', '3', '4', '5']\n",
    "\n",
    "# Add a new column with bin labels\n",
    "grid['bin_labels'] = pd.cut(grid['ResEnergyPerHH_log'], bins=bins, labels=labels)\n",
    "\n",
    "tier_share = grid.groupby('bin_labels')['HHwithAccess'].sum()\n",
    "tier_share.loc[0] = grid['HHwoAccess'].sum()\n",
    "# print(tier_share)\n",
    "print(tier_share/tier_share.sum())\n",
    "# urban shares\n",
    "tier_urban_share = grid.groupby('bin_labels')['HHwithAccess_urb'].sum()\n",
    "tier_urban_share.loc[0] = grid['HHwoAccess_urb'].sum()\n",
    "print(tier_urban_share/tier_urban_share.sum())\n",
    "# rural shares\n",
    "tier_rural_share = grid.groupby('bin_labels')['HHwithAccess_rur'].sum() \n",
    "tier_rural_share.loc[0] = grid['HHwoAccess_rur'].sum()\n",
    "print(tier_rural_share/tier_rural_share.sum())"
   ]
  },
  {
   "cell_type": "markdown",
   "id": "59dea60c-8d05-4b5e-b6d9-2a8972ff5c40",
   "metadata": {},
   "source": [
    "#### Method 3: use data coming from the DHS survey"
   ]
  },
  {
   "cell_type": "code",
   "execution_count": null,
   "id": "4f45768f-92a8-40b6-abe8-d5df7914514e",
   "metadata": {},
   "outputs": [],
   "source": [
    "# load data file --> to transform into calling the related script\n",
    "dataDHS_file = 'dataDHS_group.csv'\n",
    "data_path = 'Residential/Data/DHSSurvey/'\n",
    "dataDHS = pd.read_csv(data_path + dataDHS_file)\n",
    "\n",
    "# interpolation of data results in kWh\n",
    "for loc in ['urban', 'rural']:\n",
    "    column_name = 'HHwithAccess_' + loc[:3]\n",
    "    include = (grid[column_name]>0)\n",
    "    rwi_group = dataDHS['rwi_group_' + loc]\n",
    "    eu_group = dataDHS['eu_group_' + loc]\n",
    "    grid.loc[include, 'ResEnergyPerHH_DHS'] = np.interp(grid['rwi'][include],rwi_group,eu_group) * (grid[\"Status_electrified\"][include]=='elec')"
   ]
  },
  {
   "cell_type": "markdown",
   "id": "26dc5645-eeb5-48c0-98d8-bac57de05bca",
   "metadata": {},
   "source": [
    "### Comparison access rates, to Falchetta dataset"
   ]
  },
  {
   "cell_type": "code",
   "execution_count": null,
   "id": "22889a6e-b2c9-4bc9-b314-7c8d6c69abbf",
   "metadata": {},
   "outputs": [],
   "source": [
    "tier_total = grid.groupby('tiers')[['HH_total', 'HH_urban', 'HH_rural']].sum()\n",
    "df_falchetta_data = tier_total / tier_total.sum()\n",
    "df_falchetta_data"
   ]
  },
  {
   "cell_type": "code",
   "execution_count": null,
   "id": "dcecf219-4b99-4bd2-95f3-125ca877bdf8",
   "metadata": {},
   "outputs": [],
   "source": [
    "# for meth 3 derive number per tier\n",
    "bins_tiers = [0, 5, 72.9, 364.9, 1250.4, 3012.2, np.inf]\n",
    "grid['tiers_DHS'] = pd.cut(grid['ResEnergyPerHH_DHS'], bins_tiers, labels=range(len(bins_tiers)-1))\n",
    "\n",
    "# Add the \"0\" category if it's not already present\n",
    "# grid['tiers_DHS'] = pd.Categorical(grid['tiers_DHS']).add_categories(\"0\")\n",
    "# Fill NaN values with \"0\"\n",
    "grid['tiers_DHS'] = grid['tiers_DHS'].fillna(0)\n",
    "\n",
    "# grid[['tiers_DHS', 'ResEnergyPerHH_DHS']]\n",
    "# grid['ResEnergyPerHH_DHS']\n",
    "tier_share = grid.groupby('tiers_DHS')['HH_total'].sum()\n",
    "df_tiers_data_national = tier_share/tier_share.sum()\n",
    "# urban shares\n",
    "tier_urban_share = grid.groupby('tiers_DHS')['HH_urban'].sum()\n",
    "df_tiers_data_urban = tier_urban_share/tier_urban_share.sum()\n",
    "# rural shares\n",
    "tier_rural_share = grid.groupby('tiers_DHS')['HH_rural'].sum() \n",
    "df_tiers_data_rural = tier_rural_share/tier_rural_share.sum()\n",
    "df_tiers_data = pd.concat([df_tiers_data_national,df_tiers_data_urban,df_tiers_data_rural], axis=1)\n",
    "df_tiers_data\n",
    "# grid['tiers_DHS']"
   ]
  },
  {
   "cell_type": "code",
   "execution_count": null,
   "id": "f9ca0f3f-43db-44d5-8bc3-d37ef6972396",
   "metadata": {},
   "outputs": [],
   "source": [
    "# # compute population access rate\n",
    "# tier_rural_share_pop = (grid.groupby('tiers_DHS')['HH_rural']\n",
    "#                     .apply(lambda x: x * grid.apply(get_size_HH, axis=1).iloc[x.index]))\n",
    "# tier_rural_share_pop\n",
    "\n",
    "tier_pop_national = grid.groupby('tiers_DHS')['population'].sum()\n",
    "df_tiers_data_pop_national = tier_pop_national/tier_pop_national.sum()\n",
    "\n",
    "tier_urban_pop = grid.groupby('tiers_DHS')['population_urban'].sum()\n",
    "df_tiers_data_pop_urban = tier_urban_pop/tier_urban_pop.sum()\n",
    "\n",
    "tier_rural_pop = grid.groupby('tiers_DHS')['population_rural'].sum()\n",
    "df_tiers_data_pop_rural = tier_rural_pop/tier_rural_pop.sum()\n",
    "\n",
    "df_tiers_data_pop = pd.concat([df_tiers_data_pop_national,df_tiers_data_pop_urban,df_tiers_data_pop_rural], axis=1)\n",
    "df_tiers_data_pop"
   ]
  },
  {
   "cell_type": "markdown",
   "id": "5bde7d73-e522-4786-9781-7559886b6903",
   "metadata": {},
   "source": [
    "### Step 3: assess energy consumption per cell"
   ]
  },
  {
   "cell_type": "code",
   "execution_count": null,
   "id": "1482ef0e-ddaf-473c-a2aa-7f3a9da7a91b",
   "metadata": {},
   "outputs": [],
   "source": [
    "# Assess the energy Consumption assessment per cell\n",
    "averageRwi = grid['rwi'].mean()\n",
    "weightedRwi_norm = grid['rwi_norm'] * (grid ['HH_urban'] + grid ['HH_rural'])\n",
    "averageRwi_norm = weightedRwi_norm.sum()/ (grid ['HH_urban'].sum() + grid ['HH_rural'].sum())\n",
    "print(averageRwi_norm)\n",
    "\n",
    "# grid[\"ResEnergyPerHH\"] = abs(grid['rwi']/averageRwi)*grid[\"ADM1_NAME\"].map(energyConsHH)\n",
    "\n",
    "grid[\"ResEnergyPerHH_meth11a\"] = grid['ResEnergyPerHH_rwi']*abs(grid['rwi']/averageRwi)\n",
    "grid[\"ResEnergyPerHH_meth11b\"] = grid['ResEnergyPerHH_rwi']\n",
    "grid[\"ResEnergyPerHH_meth12a\"] = grid['ResEnergyPerHH_index']*abs(grid['rwi_norm']/averageRwi_norm)\n",
    "grid[\"ResEnergyPerHH_meth12b\"] = grid['ResEnergyPerHH_index']\n",
    "grid[\"ResEnergyPerHH_meth2\"] = grid['ResEnergyPerHH_log']\n",
    "grid[\"ResEnergyPerHH_meth3\"] = grid['ResEnergyPerHH_DHS']\n"
   ]
  },
  {
   "cell_type": "code",
   "execution_count": null,
   "id": "ed89a329-95a7-4fe3-97b1-ce503333894e",
   "metadata": {},
   "outputs": [],
   "source": [
    "methods = ['meth11a', 'meth11b', 'meth12a', 'meth12b', 'meth2', 'meth3']\n",
    "result_beforescaling = pd.DataFrame()\n",
    "result_afterscaling = pd.DataFrame()\n",
    "for method in methods:\n",
    "    grid[\"ResEnergy_kWh_\" + method] = grid[\"HHwithAccess\"] * grid[\"ResEnergyPerHH_\" + method]\n",
    "    result_beforescaling[method] = grid.groupby('NAME_1')['ResEnergy_kWh_' + method].sum() / 10**6 # conversion in GWh\n",
    "    total_residentialenergy_assessed = result_beforescaling[method].sum() #res_energy_assessed \n",
    "    scaling_factor = total_residentialenergy_GWh/total_residentialenergy_assessed\n",
    "    result_afterscaling[method] = result_beforescaling[method] * scaling_factor\n",
    "result_beforescaling\n",
    "\n",
    "# result = pd.DataFrame.from_dict(result_beforescaling)"
   ]
  },
  {
   "cell_type": "code",
   "execution_count": null,
   "id": "306cbce7-ac4e-428a-8ee3-2d24113cc8ac",
   "metadata": {},
   "outputs": [],
   "source": [
    "result_beforescaling.sum(axis=0)"
   ]
  },
  {
   "cell_type": "code",
   "execution_count": null,
   "id": "af868ffc-fe77-4092-b8ea-746593660913",
   "metadata": {},
   "outputs": [],
   "source": [
    "result_afterscaling"
   ]
  },
  {
   "cell_type": "code",
   "execution_count": null,
   "id": "fdada4b9-f8a5-4022-9af6-474170b23432",
   "metadata": {},
   "outputs": [],
   "source": [
    "# # assess total residential energy consumption\n",
    "# total_residentialenergy_assessed = grid[\"ResEnergy_kWh\"].sum()\n",
    "# print(\"residential electricity consumption:\", f\"{total_residentialenergy_assessed/10**6:,.0f}\",\"GWh\") # GWh\n",
    "# total_residentialenergy_assessed = total_residentialenergy_assessed/10**6  # conversion in GWh"
   ]
  },
  {
   "cell_type": "markdown",
   "id": "0c394279-0b13-4495-86ab-9e2a9f6b7427",
   "metadata": {},
   "source": [
    "### Scale residential demand results"
   ]
  },
  {
   "cell_type": "markdown",
   "id": "beb300c6-a6f1-4909-a333-54c715120ab9",
   "metadata": {},
   "source": [
    "Get the electricity consumption at the national level for HH"
   ]
  },
  {
   "cell_type": "code",
   "execution_count": null,
   "id": "4fd2fc56-02c6-4a93-8a26-d9f01e509b1c",
   "metadata": {},
   "outputs": [],
   "source": [
    "print(\"residential electricity consumption UN STATS:\", f\"{total_residentialenergy_GWh:,.0f}\", \"GWh\")\n",
    "# print(\"residential electricity consumption assessed:\", f\"{total_residentialenergy_assessed:,.0f}\", \"GWh\")"
   ]
  },
  {
   "cell_type": "markdown",
   "id": "a52e3fb7-b973-48a5-918e-70092f8ce3b2",
   "metadata": {},
   "source": [
    "Compute total electricity consumption"
   ]
  },
  {
   "cell_type": "code",
   "execution_count": null,
   "id": "0ef06b6f-fcdb-4fe4-aa7f-31c5d9967ff1",
   "metadata": {},
   "outputs": [],
   "source": [
    "# total_residentialenergy_beforescaled = grid.groupby('NAME_1')['ResEnergy_kWh'].sum() #res_energy_assessed ResEnergy_kWh\n",
    "# print (\"Residential electricity consumption assessed before scaling:\")\n",
    "# for region in regions:\n",
    "#     total_residentialenergy_beforescaled[region] = total_residentialenergy_beforescaled[region]/10**6  # conversion in GWh\n",
    "#     print (region, f\"{total_residentialenergy_beforescaled[region]:,.1f}\", \"GWh\" )\n",
    "# print (total_residentialenergy_beforescaled )"
   ]
  },
  {
   "cell_type": "code",
   "execution_count": null,
   "id": "131b7056-7a8b-48ea-a874-134cf0ee0d59",
   "metadata": {},
   "outputs": [],
   "source": [
    "# # Scale previous results if area is country\n",
    "# scaling_factor = total_residentialenergy/total_residentialenergy_assessed\n",
    "# grid[\"ResEnergy_kWh\"] = grid['ResEnergyPerHH_DHS']\n",
    "# if area == \"COUNTRY\":\n",
    "#     print('{:.0%}'.format(scaling_factor))\n",
    "#     grid[\"REnS_kWh\"] = grid[\"ResEnergy_kWh\"] * scaling_factor\n",
    "# else:\n",
    "#     grid[\"REnS_kWh\"] = grid[\"ResEnergy_kWh\"]"
   ]
  },
  {
   "cell_type": "code",
   "execution_count": null,
   "id": "31789f36-24da-4c17-9c95-d86698dd6af2",
   "metadata": {},
   "outputs": [],
   "source": [
    "# total_residentialenergy_scaled = grid.groupby('NAME_1')['REnS_kWh'].sum()   \n",
    "# print (\"Residential electricity consumption assessed after scaling:\")\n",
    "# for region in regions:\n",
    "#     total_residentialenergy_scaled[region] = total_residentialenergy_scaled[region]/10**6  # conversion in GWh\n",
    "#     print (region, f\"{total_residentialenergy_scaled[region]:,.1f}\", \"GWh\" )\n",
    "# print (total_residentialenergy_scaled )"
   ]
  },
  {
   "cell_type": "code",
   "execution_count": null,
   "id": "3fbce876-c2a5-4b0f-b968-d4d0a133d40f",
   "metadata": {},
   "outputs": [],
   "source": [
    "print(grid.columns)"
   ]
  },
  {
   "cell_type": "code",
   "execution_count": null,
   "id": "1ae812c1-53df-43a8-a3b5-9733c5d7a16e",
   "metadata": {},
   "outputs": [],
   "source": [
    "grid.to_csv(\"data.csv\")\n",
    "grid = grid.drop('rwi_group', axis=1)\n",
    "grid = grid.drop('tiers_DHS', axis=1)\n",
    "if 'bin_labels' in grid.columns:\n",
    "    grid = grid.drop('bin_labels', axis=1)\n",
    "grid.to_file(out_path + \"\\\\\" + 'res_energy_map.shp', index=False)\n",
    "grid.head(3)"
   ]
  },
  {
   "cell_type": "markdown",
   "id": "59ec964f-475f-4929-b8c9-a14821cf4f7a",
   "metadata": {},
   "source": [
    "### Compare results per method for each method"
   ]
  },
  {
   "cell_type": "markdown",
   "id": "5516fbfc-8880-411b-b560-0547c535ee3b",
   "metadata": {},
   "source": [
    "# Services"
   ]
  },
  {
   "cell_type": "markdown",
   "id": "a16aaee7-ed9c-438a-b138-1de4c3f8b494",
   "metadata": {},
   "source": [
    "## Get the electricity consumption for services"
   ]
  },
  {
   "cell_type": "code",
   "execution_count": null,
   "id": "5920b1cb-3959-4d7e-abe4-74048931f000",
   "metadata": {},
   "outputs": [],
   "source": [
    "# energyBalance_path = \"EnergyBalance/\"\n",
    "# file_energyBalance = \"UNSD+DF_UNData_EnergyBalance+1.0_Zambia.csv\"\n",
    "# eb = pd.read_csv(energyBalance_path + file_energyBalance)\n",
    "# code_elec = \"B07_EL\"\n",
    "code_ser =  \"B49_1235\"\n",
    "cod_oth = \"B51_1234\" # Other consumption not elsewhere specified in UN stats\n",
    "total_servicesenergy = eb.loc[(eb['COMMODITY'] == code_elec) & (eb['TRANSACTION'] == code_ser) & (eb['TIME_PERIOD'] == 2019 ), 'OBS_VALUE'] #TJ\n",
    "total_servicesenergy = pd.to_numeric(total_servicesenergy.str.replace(',', '')) # convert to numeric and remove commas\n",
    "total_servicesenergy_GWh = total_servicesenergy.iloc[0]/3.6 # conversion in GWh\n",
    "print(\"services electricity consumption UN STATS:\", f\"{total_servicesenergy_GWh:,.0f}\", \"GWh\")"
   ]
  },
  {
   "cell_type": "markdown",
   "id": "f93d9795-e694-4a10-948e-89f7cf3a7bb8",
   "metadata": {},
   "source": [
    "## Energy consumption based on number of buildings with access"
   ]
  },
  {
   "cell_type": "code",
   "execution_count": null,
   "id": "1d30f7e3-25a3-44fb-ae7f-c2b35f039dad",
   "metadata": {},
   "outputs": [],
   "source": [
    "# services building in each location\n",
    "grid['serBui'] = grid['buildingssum'] - grid['res_Bui']\n",
    "totalSerBui = grid['serBui'].sum()\n",
    "totalSerBui\n",
    "print(f\"{totalSerBui:,.0f}\", \"services buildings\")"
   ]
  },
  {
   "cell_type": "code",
   "execution_count": null,
   "id": "1dcbd56a-5bac-4684-b22d-b32b8a9cc045",
   "metadata": {},
   "outputs": [],
   "source": [
    "# energy consumption per building in services\n",
    "grid['serBUi_Acc'] = grid['serBui'] * grid[probElec]\n",
    "totalSerBui_withAccess = grid['serBUi_Acc'].sum()\n",
    "print(\"total services buildings with access:\", f\"{totalSerBui_withAccess:,.0f}\")\n",
    "ser_enBui = total_servicesenergy_GWh / totalSerBui_withAccess \n",
    "ser_enBui = ser_enBui *10**6 #conversion in kWh\n",
    "print(f\"{ser_enBui:,.0f}\", \"kWh per building\")"
   ]
  },
  {
   "cell_type": "code",
   "execution_count": null,
   "id": "d2d2cdfa-99a6-432a-ad02-621857db911d",
   "metadata": {},
   "outputs": [],
   "source": [
    "# compute services energy demand\n",
    "grid['SEn_kWh_bui'] = ser_enBui * grid['serBUi_Acc']"
   ]
  },
  {
   "cell_type": "markdown",
   "id": "5b6ba822-35fb-4e51-8147-c5c090283ef2",
   "metadata": {},
   "source": [
    "## Energy consumption based on GDP"
   ]
  },
  {
   "cell_type": "code",
   "execution_count": null,
   "id": "aac32aea-74a0-4c0a-96ec-056a4512516d",
   "metadata": {},
   "outputs": [],
   "source": [
    "# energy consumption per unit of GDP (2011 international US dollars) in services\n",
    "totalGDP = grid['GDP_PPP'].sum()\n",
    "totalGDP = totalGDP /10**3 #conversion in k$\n",
    "print(\"total GDP (k$):\", f\"{totalGDP:,.0f}\")\n",
    "ser_enGDP = total_servicesenergy_GWh / totalGDP \n",
    "ser_enGDP = ser_enGDP *10**6 #conversion in kWh\n",
    "print(f\"{ser_enGDP:,.0f}\", \"kWh per unit of GDP (k$)\")"
   ]
  },
  {
   "cell_type": "code",
   "execution_count": null,
   "id": "f56ea3fc-1ddb-453f-ade7-d63e69656595",
   "metadata": {},
   "outputs": [],
   "source": [
    "# compute services energy demand\n",
    "grid['SEn_kWh_GDP'] = ser_enGDP * grid['GDP_PPP']"
   ]
  },
  {
   "cell_type": "markdown",
   "id": "27309c1e-60a6-47cc-a0ba-5d3561d96f15",
   "metadata": {},
   "source": [
    "## Energy consumption based on employees"
   ]
  },
  {
   "cell_type": "code",
   "execution_count": null,
   "id": "23206f04-d0c6-4975-9592-0a31a9eb71d2",
   "metadata": {},
   "outputs": [],
   "source": [
    "# retrieve the file and parameters\n",
    "data_path = 'Residential/Data/DHSSurvey/'\n",
    "file_data_employee_women = 'employee_survey_women.csv'\n",
    "file_data_employee_men = 'employee_survey_men.csv'\n",
    "data_employee_women = pd.read_csv(data_path + file_data_employee_women, index_col= (0,1))\n",
    "data_employee_men = pd.read_csv(data_path + file_data_employee_men, index_col=(0,1))\n",
    "print(data_employee_women)\n",
    "file_data_workingpop_share = 'pop15-49_share.csv'\n",
    "data_workingpop_share = pd.read_csv(data_path + file_data_workingpop_share, index_col=(1,0))\n",
    "data_workingpop_share"
   ]
  },
  {
   "cell_type": "code",
   "execution_count": null,
   "id": "af7f97cd-0c81-4884-8bae-667b06836b31",
   "metadata": {},
   "outputs": [],
   "source": [
    "# Sum all employees shares\n",
    "data_employee_women['total_employee_share_women'] = data_employee_women['professional/technical/managerial'] + data_employee_women['clerical'] + data_employee_women['sales'] + data_employee_women['services'] + data_employee_women['skilled manual'] \n",
    "data_employee_men['total_employee_share_men'] = data_employee_men['professional/technical/managerial'] + data_employee_men['clerical'] + data_employee_men['sales'] + data_employee_men['services'] + data_employee_men['skilled manual'] \n",
    "data_employee_women['total_employee_share_women'] "
   ]
  },
  {
   "cell_type": "code",
   "execution_count": null,
   "id": "ec3523d1-2f2f-4272-9caa-3a43ec542f8f",
   "metadata": {},
   "outputs": [],
   "source": [
    "# df_censusdata = df_censusdata.set_index('Region')\n",
    "# df_censusdata"
   ]
  },
  {
   "cell_type": "code",
   "execution_count": null,
   "id": "023595e9-7a7b-426e-b988-f0b8787dab27",
   "metadata": {},
   "outputs": [],
   "source": [
    "# in each cell determine the share of 15-49 women and men pop : nb of women = HH * HH size * % women * share of 15-49 women\n",
    "get_size_HH = lambda row: df_censusdata.loc[row['NAME_1'], 'size_HH_' + row['location']]\n",
    "grid['nb_women'] = (\n",
    "    grid['HH_total'] *\n",
    "    grid.apply(get_size_HH, axis=1) *\n",
    "    grid['NAME_1'].map(df_censusdata['Share women']) *\n",
    "    grid['location'].map(data_workingpop_share.loc['Female']['15-49'])/100\n",
    ")\n",
    "total_women = grid['nb_women'].sum()\n",
    "print(f\"Total number of women: {total_women:,.0f}\")\n",
    "\n",
    "grid['nb_men'] = (\n",
    "    grid['HH_total'] *\n",
    "    grid.apply(get_size_HH, axis=1) *\n",
    "    (1 - grid['NAME_1'].map(df_censusdata['Share women'])) *\n",
    "    grid['location'].map(data_workingpop_share.loc['Male']['15-49'])/100\n",
    ")\n",
    "total_men = grid['nb_men'].sum()\n",
    "print(f\"Total number of men: {total_men:,.0f}\")"
   ]
  },
  {
   "cell_type": "code",
   "execution_count": null,
   "id": "0fd5db4c-5cd2-47b0-8205-9d6a6a76b893",
   "metadata": {},
   "outputs": [],
   "source": [
    "# assess the number of employees in each cell\n",
    "def calculate_working_women(row):\n",
    "  # Extract location (urban or rural) and region from the current row\n",
    "  location = row['location']\n",
    "  region = row['NAME_1'].lower().replace('-',' ')\n",
    "  # Get the corresponding percentage for the relevant category\n",
    "  percent_working = data_employee_women.loc[(region, location), 'total_employee_share_women'] / 100\n",
    "  return row['nb_women'] * percent_working\n",
    "\n",
    "# Apply the function to each row in the 'grid' DataFrame\n",
    "grid['nb_women_working'] = grid.apply(calculate_working_women, axis=1)\n",
    "\n",
    "print(f\"{grid['nb_women_working'].sum():,.0f}\")\n",
    "\n",
    "def calculate_working_men(row):\n",
    "  # Extract location (urban or rural) and region from the current row\n",
    "  location = row['location']\n",
    "  region = row['NAME_1'].lower().replace('-',' ')\n",
    "  # Get the corresponding percentage for the relevant category \n",
    "  percent_working = data_employee_men.loc[(region, location), 'total_employee_share_men'] / 100\n",
    "  return row['nb_men'] * percent_working\n",
    "    \n",
    "# Apply the function to each row in the 'grid' DataFrame\n",
    "grid['nb_men_working'] = grid.apply(calculate_working_men, axis=1)\n",
    "\n",
    "grid['total_employee'] = grid['nb_men_working'] + grid['nb_women_working']\n",
    "print(f\"{grid['total_employee'].sum():,.0f}\")"
   ]
  },
  {
   "cell_type": "code",
   "execution_count": null,
   "id": "3c257606-1645-4ffc-8760-7fa9cd54eb19",
   "metadata": {},
   "outputs": [],
   "source": [
    "# compute energy consumption per employee\n",
    "total_employee_national = grid['total_employee'].sum()\n",
    "ser_enEmployee = total_servicesenergy_GWh / total_employee_national \n",
    "ser_enEmployee = ser_enEmployee *10**6 #conversion in kWh\n",
    "print(f\"{ser_enEmployee:,.0f}\", \"kWh per employee\")"
   ]
  },
  {
   "cell_type": "code",
   "execution_count": null,
   "id": "e50d982d-bca8-47a3-9fe5-1dd94acaa804",
   "metadata": {},
   "outputs": [],
   "source": [
    "# compute services energy demand\n",
    "grid['SEn_kWh_Emp'] = ser_enEmployee * grid['total_employee']"
   ]
  },
  {
   "cell_type": "markdown",
   "id": "8c349d70-2aa8-4680-a034-77b30bd3512c",
   "metadata": {},
   "source": [
    "## Weighted average of the three assessements"
   ]
  },
  {
   "cell_type": "code",
   "execution_count": null,
   "id": "aed216ce-6cd0-4c92-b002-4660f68a97be",
   "metadata": {},
   "outputs": [],
   "source": [
    "# Link between buildings and GDP\n",
    "plt.scatter(grid['serBUi_Acc'], grid['GDP_PPP'],s=1)\n",
    "\n",
    "# Add labels to the plot\n",
    "plt.xlabel('serBUi_Acc')\n",
    "plt.ylabel('GDP_PPP')\n",
    "\n",
    "# Set the axis to logarithmic scale\n",
    "# plt.yscale('log')\n",
    "# plt.xscale('log')\n",
    "\n",
    "# Show the plot\n",
    "plt.show()"
   ]
  },
  {
   "cell_type": "code",
   "execution_count": null,
   "id": "90f3facc-2109-4200-82a5-4bf5522e9e5f",
   "metadata": {},
   "outputs": [],
   "source": [
    "threshold_access = 0.1 # lower value than residential because easier to connect services buildings\n",
    "alpha = 0\n",
    "beta = 0\n",
    "gama = 1"
   ]
  },
  {
   "cell_type": "code",
   "execution_count": null,
   "id": "7b25f215-8b9d-4207-ab62-fd477648121a",
   "metadata": {},
   "outputs": [],
   "source": [
    "# compute weighted average\n",
    "# Create a boolean Series indicating if probElec meets the condition\n",
    "condition_met = grid[probElec] >= threshold_access\n",
    "# Assign the weighted average based on the condition\n",
    "grid['SEn_kWh_weighted'] = condition_met * (alpha * grid['SEn_kWh_GDP'] + beta * grid['SEn_kWh_bui'] + gama * grid['SEn_kWh_Emp'] )\n",
    "\n",
    "totalSEn_kWh_weighted = grid['SEn_kWh_weighted'].sum()\n",
    "grid['SEn_kWh_final'] = grid['SEn_kWh_weighted'] / totalSEn_kWh_weighted * total_servicesenergy_GWh *10**6 "
   ]
  },
  {
   "cell_type": "code",
   "execution_count": null,
   "id": "fd35c330-d61f-442b-aea3-6232ef67e88d",
   "metadata": {},
   "outputs": [],
   "source": [
    "# Plot the energy consumption in services buildings map\n",
    "# Create the axis first\n",
    "fig, ax = plt.subplots(figsize=(25, 15))\n",
    "\n",
    "# Plot data\n",
    "grid.sort_values('SEn_kWh_final', ascending=True).plot(\n",
    "    ax=ax, column='SEn_kWh_final', cmap=\"Reds\", legend=True, alpha=0.9)\n",
    "\n",
    "ax.set_aspect('equal', 'box')\n",
    "txt = ax.set_title('Buildings in {}'.format(area) )\n",
    "\n",
    "# Save plot as figure \n",
    "plt.savefig('services_map' +str(alpha) +str(gama)+'.png', bbox_inches='tight')"
   ]
  },
  {
   "cell_type": "code",
   "execution_count": null,
   "id": "c83c826c-b532-4cdb-a608-e91eef2be83c",
   "metadata": {},
   "outputs": [],
   "source": [
    "grid.to_csv(\"dataser.csv\")\n",
    "grid.to_file(out_path + \"\\\\\" + 'ser_energy_map.shp', index=False)\n",
    "grid.to_file(out_path + \"\\\\\" + f'ser_energy_map.geojson', driver='GeoJSON', index=False)  \n",
    "grid.head(3)"
   ]
  },
  {
   "cell_type": "code",
   "execution_count": null,
   "id": "bd0094b1-d09b-465c-8f88-95a6a927aaf6",
   "metadata": {},
   "outputs": [],
   "source": [
    "total_servicesenergy_scaled = grid.groupby('NAME_1')['SEn_kWh_final'].sum() \n",
    "print (\"Services electricity consumption assessed after scaling:\")\n",
    "for region in regions:\n",
    "    total_servicesenergy_scaled[region] = total_servicesenergy_scaled[region]/10**6  # conversion in GWh\n",
    "    print (region, f\"{total_servicesenergy_scaled[region]:,.1f}\", \"GWh\" )\n",
    "print (total_servicesenergy_scaled )\n",
    "print (total_servicesenergy_scaled.sum() )"
   ]
  },
  {
   "cell_type": "markdown",
   "id": "1af66c45-8d16-4c28-8000-a29b96bc8a48",
   "metadata": {},
   "source": [
    "# Buildings"
   ]
  },
  {
   "cell_type": "code",
   "execution_count": null,
   "id": "ae4b74c1-4f1e-49f1-a610-561a03fdf87c",
   "metadata": {},
   "outputs": [],
   "source": [
    "# total_Buienergy_scaled = total_servicesenergy_scaled + total_residentialenergy_scaled\n",
    "total_Buienergy_scaled = total_servicesenergy_scaled + result_afterscaling['meth3']\n",
    "print (\"Services electricity consumption assessed after scaling:\")\n",
    "for region in regions:\n",
    "    print (region, f\"{total_Buienergy_scaled[region]:,.1f}\", \"GWh\" )\n",
    "print (total_Buienergy_scaled )"
   ]
  },
  {
   "cell_type": "code",
   "execution_count": null,
   "id": "af943866-db94-4333-bed2-d4bc4d4033bb",
   "metadata": {},
   "outputs": [],
   "source": []
  }
 ],
 "metadata": {
  "kernelspec": {
   "display_name": "Python 3 (ipykernel)",
   "language": "python",
   "name": "python3"
  },
  "language_info": {
   "codemirror_mode": {
    "name": "ipython",
    "version": 3
   },
   "file_extension": ".py",
   "mimetype": "text/x-python",
   "name": "python",
   "nbconvert_exporter": "python",
   "pygments_lexer": "ipython3",
   "version": "3.12.4"
  }
 },
 "nbformat": 4,
 "nbformat_minor": 5
}
