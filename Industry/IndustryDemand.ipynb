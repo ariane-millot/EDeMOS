{
 "cells": [
  {
   "cell_type": "markdown",
   "id": "bcd2d272",
   "metadata": {},
   "source": [
    "# Industry energy demand"
   ]
  },
  {
   "cell_type": "markdown",
   "id": "f0e89a04",
   "metadata": {
    "jp-MarkdownHeadingCollapsed": true
   },
   "source": [
    "### Import necessary modules"
   ]
  },
  {
   "cell_type": "code",
   "execution_count": 1,
   "id": "b6704510",
   "metadata": {},
   "outputs": [
    {
     "name": "stdout",
     "output_type": "stream",
     "text": [
      "Move to H:\\Projekte\\DemandMappingZambia\n"
     ]
    }
   ],
   "source": [
    "# Check if we are running the notebook directly, if so move workspace to parent dir\n",
    "import sys\n",
    "import os\n",
    "currentdir = os.path.abspath(os.getcwd())\n",
    "if os.path.basename(currentdir) != 'DemandMappingZambia':  \n",
    "  sys.path.insert(0, os.path.dirname(currentdir))\n",
    "  os.chdir('..')\n",
    "  print(f'Move to {os.getcwd()}')"
   ]
  },
  {
   "cell_type": "code",
   "execution_count": 2,
   "id": "f14a7d5d",
   "metadata": {
    "code_folding": [
     0
    ]
   },
   "outputs": [],
   "source": [
    "### Activate geospatial_env first\n",
    "\n",
    "# Numeric\n",
    "import numpy as np\n",
    "import pandas as pd\n",
    "import math\n",
    "\n",
    "# System\n",
    "import os\n",
    "import shutil\n",
    "from IPython.display import display, Markdown, HTML, FileLink, FileLinks\n",
    "\n",
    "# Spatial\n",
    "import geopandas as gpd\n",
    "import json\n",
    "import pyproj\n",
    "from shapely.geometry import Point, Polygon, MultiPoint\n",
    "from shapely.wkt import dumps, loads\n",
    "from shapely.ops import nearest_points\n",
    "from pyproj import CRS\n",
    "import ogr, gdal, osr\n",
    "#import fiona\n",
    "\n",
    "\n",
    "# Mapping / Plotting\n",
    "from functools import reduce\n",
    "#import datapane as dp \n",
    "#!datapane login --token=\"9bde41bfbc4ad14119e32086f9f06d2e5db1d5b8\"\n",
    "import folium\n",
    "from folium.features import GeoJsonTooltip\n",
    "from folium.plugins import BeautifyIcon\n",
    "from folium.plugins import HeatMap\n",
    "import branca.colormap as cm\n",
    "import matplotlib.pyplot as plt\n",
    "from matplotlib.ticker import MaxNLocator\n",
    "%matplotlib inline\n",
    "\n",
    "%matplotlib inline"
   ]
  },
  {
   "cell_type": "code",
   "execution_count": 3,
   "id": "fa1de057",
   "metadata": {
    "code_folding": [
     0
    ]
   },
   "outputs": [],
   "source": [
    "#import geopandas as gpd   # Note that you require geopandas version >= 0.7 that incluse clip see here for installation (https://gis.stackexchange.com/questions/360127/geopandas-0-6-1-installed-instead-of-0-7-0-in-conda-windows-10#)\n",
    "import os\n",
    "import fiona\n",
    "import ipywidgets as widgets\n",
    "from IPython.display import display\n",
    "from rasterstats import zonal_stats\n",
    "import rasterio\n",
    "from geojson import Feature, Point, FeatureCollection\n",
    "import rasterio.fill\n",
    "from shapely.geometry import shape, mapping\n",
    "import json\n",
    "#from earthpy import clip    clip has been deprecated to geopandas\n",
    "#import earthpy.spatial as es\n",
    "import numpy as np\n",
    "import tkinter as tk\n",
    "from tkinter import filedialog, messagebox\n",
    "import gdal\n",
    "import datetime\n",
    "import warnings\n",
    "import pandas as pd\n",
    "import scipy.spatial\n",
    "warnings.filterwarnings('ignore')\n",
    "\n",
    "#import contextily as ctx\n",
    "import h3 as h3\n",
    "from shapely.ops import unary_union\n",
    "from shapely.geometry.polygon import Polygon\n",
    "\n",
    "root = tk.Tk()\n",
    "root.withdraw()\n",
    "root.attributes(\"-topmost\", True)\n",
    "\n",
    "pd.options.display.float_format = '{:,.4f}'.format"
   ]
  },
  {
   "cell_type": "code",
   "execution_count": 4,
   "id": "e73b88d7",
   "metadata": {},
   "outputs": [],
   "source": [
    "from utils import processing_raster, finalizing_rasters, spatialjoinvectors"
   ]
  },
  {
   "cell_type": "markdown",
   "id": "267437af",
   "metadata": {},
   "source": [
    "### Define directories and dataset names"
   ]
  },
  {
   "cell_type": "code",
   "execution_count": 5,
   "id": "181fe92b",
   "metadata": {
    "code_folding": []
   },
   "outputs": [],
   "source": [
    "### Define directories and dataset names\n",
    "ROOT_DIR = os.path.abspath(os.curdir)\n",
    "in_path = ROOT_DIR\n",
    "out_path = ROOT_DIR + \"/Outputs/\"\n",
    "\n",
    "## mines layer\n",
    "ind_data_path = in_path + \"/Industry/Data/\"\n",
    "mines_path = ind_data_path + \"mines\"\n",
    "# mines_name = 'mines_zambia.gpkg'\n",
    "mines_name = 'mineral_facilities_zambia_May_2024'\n",
    "file_mines = 'Mineral_Facilities_correctedInput.csv'"
   ]
  },
  {
   "cell_type": "code",
   "execution_count": 6,
   "id": "cceae1b0",
   "metadata": {},
   "outputs": [],
   "source": [
    "## Coordinate and projection systems\n",
    "crs_WGS84 = CRS(\"EPSG:4326\")    # Originan WGS84 coordinate system\n",
    "crs_proj = CRS(\"EPSG:32736\")    # Projection system for the selected country -- see http://epsg.io/ for more info"
   ]
  },
  {
   "cell_type": "code",
   "execution_count": 7,
   "id": "88bef3c5",
   "metadata": {},
   "outputs": [
    {
     "data": {
      "text/plain": [
       "'H:\\\\Projekte\\\\DemandMappingZambia'"
      ]
     },
     "execution_count": 7,
     "metadata": {},
     "output_type": "execute_result"
    }
   ],
   "source": [
    "ROOT_DIR"
   ]
  },
  {
   "cell_type": "markdown",
   "id": "fd42ff5e",
   "metadata": {},
   "source": [
    "### Define area of interest"
   ]
  },
  {
   "cell_type": "code",
   "execution_count": 8,
   "id": "b8b105ae",
   "metadata": {},
   "outputs": [],
   "source": [
    "try: area\n",
    "except NameError: area = \"COUNTRY\"\n",
    "# area = \"Copperbelt\""
   ]
  },
  {
   "cell_type": "markdown",
   "id": "dd77c312",
   "metadata": {},
   "source": [
    "### Import layers to be used"
   ]
  },
  {
   "cell_type": "code",
   "execution_count": 9,
   "id": "09aaffed",
   "metadata": {},
   "outputs": [],
   "source": [
    "hexagons = gpd.read_file(out_path + \"h3_grid_at_hex_7.shp\")"
   ]
  },
  {
   "cell_type": "code",
   "execution_count": 10,
   "id": "851a5b49",
   "metadata": {},
   "outputs": [],
   "source": [
    "grid = hexagons"
   ]
  },
  {
   "cell_type": "code",
   "execution_count": 11,
   "id": "d885bc6c",
   "metadata": {},
   "outputs": [],
   "source": [
    "## mines\n",
    "# mines = gpd.read_file(mines_path + mines_name)"
   ]
  },
  {
   "cell_type": "code",
   "execution_count": 12,
   "id": "3da2a9c5",
   "metadata": {},
   "outputs": [],
   "source": [
    "# ## admininstrative boundary\n",
    "admin_gdf = gpd.read_file(ROOT_DIR + \"/admin/\" + \"gadm41_ZMB.gpkg\")"
   ]
  },
  {
   "cell_type": "markdown",
   "id": "343e3565",
   "metadata": {},
   "source": [
    "# Part 1. Extract GIS-based attributes"
   ]
  },
  {
   "cell_type": "markdown",
   "id": "f1aec72b",
   "metadata": {},
   "source": [
    "## Extract information from vector layers"
   ]
  },
  {
   "cell_type": "markdown",
   "id": "9bc6c9cb",
   "metadata": {},
   "source": [
    "Assess the energy consumption per site"
   ]
  },
  {
   "cell_type": "code",
   "execution_count": 13,
   "id": "6d65aeda",
   "metadata": {},
   "outputs": [],
   "source": [
    "## Attribute energy consumption to each copper production site\n",
    "mines_input_file = pd.read_csv(ind_data_path + file_mines)"
   ]
  },
  {
   "cell_type": "code",
   "execution_count": 14,
   "id": "05f1c821",
   "metadata": {},
   "outputs": [
    {
     "name": "stdout",
     "output_type": "stream",
     "text": [
      "Production at a site  Fitwaola Open Pit Mine  in  Zambia  is missing (negative). Value set to zero. Please, change the input in the input file.\n",
      "Production at a site  Fitwaola Open Pit Mine  in  Zambia  is missing (negative). Value set to zero. Please, change the input in the input file.\n",
      "Production at a site  Mkushi Heap Leach  in  Zambia  is missing (negative). Value set to zero. Please, change the input in the input file.\n",
      "Production at a site  Mufulira West Heap-Leach Facility  in  Zambia  is missing (negative). Value set to zero. Please, change the input in the input file.\n",
      "Production at a site  TD3a, TD3b, TD5, and TD7 Tailings Dams  in  Zambia  is missing (negative). Value set to zero. Please, change the input in the input file.\n"
     ]
    }
   ],
   "source": [
    "## Running the energy calculation function \n",
    "from energy_per_site import *\n",
    "calc_energy_per_site(mines_path, mines_input_file, mines_name)"
   ]
  },
  {
   "cell_type": "markdown",
   "id": "66dbb846",
   "metadata": {},
   "source": [
    "Extract sum production of mines in each cluster (hex)"
   ]
  },
  {
   "cell_type": "code",
   "execution_count": 15,
   "id": "86fde897",
   "metadata": {},
   "outputs": [],
   "source": [
    "## Run the extraction\n",
    "#grid.drop(['Commodity Production - tonne (tonnes)'], axis=1, inplace=True) ##uncomment if you want to rerun\n",
    "# columnNameMines = \"Commodity Production - tonne (tonnes)\"\n",
    "#columnNameMines = 'Ore processed (tonnes)'\n",
    "# grid[columnNameMines] = grid[columnNameMines].fillna(0)\n",
    "# grid.head(4)\n",
    "# grid[columnNameMines].sum()\n",
    "\n",
    "columnName_ElecConsumptionMines = 'Energy Elec [TJ]'\n",
    "file = os.path.join(mines_path, mines_name +\".gpkg\")\n",
    "grid, mines = spatialjoinvectors(\"EnergyMines\", columnName_ElecConsumptionMines, admin_gdf, crs_WGS84, grid, \"sum\", file)"
   ]
  },
  {
   "cell_type": "code",
   "execution_count": 16,
   "id": "cf254c49",
   "metadata": {},
   "outputs": [
    {
     "data": {
      "text/plain": [
       "20777.386939748143"
      ]
     },
     "execution_count": 16,
     "metadata": {},
     "output_type": "execute_result"
    }
   ],
   "source": [
    "grid[columnName_ElecConsumptionMines].sum()"
   ]
  },
  {
   "cell_type": "code",
   "execution_count": 17,
   "id": "16ac5731",
   "metadata": {},
   "outputs": [
    {
     "data": {
      "text/html": [
       "<div>\n",
       "<style scoped>\n",
       "    .dataframe tbody tr th:only-of-type {\n",
       "        vertical-align: middle;\n",
       "    }\n",
       "\n",
       "    .dataframe tbody tr th {\n",
       "        vertical-align: top;\n",
       "    }\n",
       "\n",
       "    .dataframe thead th {\n",
       "        text-align: right;\n",
       "    }\n",
       "</style>\n",
       "<table border=\"1\" class=\"dataframe\">\n",
       "  <thead>\n",
       "    <tr style=\"text-align: right;\">\n",
       "      <th></th>\n",
       "      <th>hexagons</th>\n",
       "      <th>lon</th>\n",
       "      <th>lat</th>\n",
       "      <th>index_righ</th>\n",
       "      <th>NAME_1</th>\n",
       "      <th>id</th>\n",
       "      <th>geometry</th>\n",
       "      <th>Energy Elec [TJ]</th>\n",
       "    </tr>\n",
       "  </thead>\n",
       "  <tbody>\n",
       "    <tr>\n",
       "      <th>0</th>\n",
       "      <td>875534384ffffff</td>\n",
       "      <td>27.6420</td>\n",
       "      <td>-12.6332</td>\n",
       "      <td>1.0000</td>\n",
       "      <td>Copperbelt</td>\n",
       "      <td>1</td>\n",
       "      <td>POLYGON ((27.65474 -12.63762, 27.64470 -12.647...</td>\n",
       "      <td>nan</td>\n",
       "    </tr>\n",
       "    <tr>\n",
       "      <th>1</th>\n",
       "      <td>87551ec64ffffff</td>\n",
       "      <td>22.6811</td>\n",
       "      <td>-14.1457</td>\n",
       "      <td>9.0000</td>\n",
       "      <td>Western</td>\n",
       "      <td>2</td>\n",
       "      <td>POLYGON ((22.69343 -14.15011, 22.68340 -14.159...</td>\n",
       "      <td>nan</td>\n",
       "    </tr>\n",
       "    <tr>\n",
       "      <th>2</th>\n",
       "      <td>87344b042ffffff</td>\n",
       "      <td>25.5126</td>\n",
       "      <td>-16.5217</td>\n",
       "      <td>8.0000</td>\n",
       "      <td>Southern</td>\n",
       "      <td>3</td>\n",
       "      <td>POLYGON ((25.52519 -16.52665, 25.51483 -16.536...</td>\n",
       "      <td>nan</td>\n",
       "    </tr>\n",
       "    <tr>\n",
       "      <th>3</th>\n",
       "      <td>8755338c9ffffff</td>\n",
       "      <td>25.7991</td>\n",
       "      <td>-13.0342</td>\n",
       "      <td>6.0000</td>\n",
       "      <td>North-Western</td>\n",
       "      <td>4</td>\n",
       "      <td>POLYGON ((25.81177 -13.03857, 25.80173 -13.048...</td>\n",
       "      <td>nan</td>\n",
       "    </tr>\n",
       "  </tbody>\n",
       "</table>\n",
       "</div>"
      ],
      "text/plain": [
       "          hexagons     lon      lat  index_righ         NAME_1  id  \\\n",
       "0  875534384ffffff 27.6420 -12.6332      1.0000     Copperbelt   1   \n",
       "1  87551ec64ffffff 22.6811 -14.1457      9.0000        Western   2   \n",
       "2  87344b042ffffff 25.5126 -16.5217      8.0000       Southern   3   \n",
       "3  8755338c9ffffff 25.7991 -13.0342      6.0000  North-Western   4   \n",
       "\n",
       "                                            geometry  Energy Elec [TJ]  \n",
       "0  POLYGON ((27.65474 -12.63762, 27.64470 -12.647...               nan  \n",
       "1  POLYGON ((22.69343 -14.15011, 22.68340 -14.159...               nan  \n",
       "2  POLYGON ((25.52519 -16.52665, 25.51483 -16.536...               nan  \n",
       "3  POLYGON ((25.81177 -13.03857, 25.80173 -13.048...               nan  "
      ]
     },
     "execution_count": 17,
     "metadata": {},
     "output_type": "execute_result"
    }
   ],
   "source": [
    "grid.head(4)"
   ]
  },
  {
   "cell_type": "code",
   "execution_count": 18,
   "id": "47097350",
   "metadata": {},
   "outputs": [
    {
     "data": {
      "text/html": [
       "<div>\n",
       "<style scoped>\n",
       "    .dataframe tbody tr th:only-of-type {\n",
       "        vertical-align: middle;\n",
       "    }\n",
       "\n",
       "    .dataframe tbody tr th {\n",
       "        vertical-align: top;\n",
       "    }\n",
       "\n",
       "    .dataframe thead th {\n",
       "        text-align: right;\n",
       "    }\n",
       "</style>\n",
       "<table border=\"1\" class=\"dataframe\">\n",
       "  <thead>\n",
       "    <tr style=\"text-align: right;\">\n",
       "      <th></th>\n",
       "      <th>Country</th>\n",
       "      <th>FeatureNam</th>\n",
       "      <th>DsgAttr02</th>\n",
       "      <th>DsgAttr03</th>\n",
       "      <th>DsgAttr06</th>\n",
       "      <th>MemoOther</th>\n",
       "      <th>MemoLoc</th>\n",
       "      <th>Latitude</th>\n",
       "      <th>Longitude</th>\n",
       "      <th>DsgAttr07</th>\n",
       "      <th>...</th>\n",
       "      <th>Metal content [kt]</th>\n",
       "      <th>Mine type</th>\n",
       "      <th>Metal processing</th>\n",
       "      <th>Metal process type</th>\n",
       "      <th>Spec energy Elec [GJ/t]</th>\n",
       "      <th>Spec energy Diesel [GJ/t]</th>\n",
       "      <th>Energy Elec [TJ]</th>\n",
       "      <th>Energy Diesel [TJ]</th>\n",
       "      <th>id</th>\n",
       "      <th>geometry</th>\n",
       "    </tr>\n",
       "  </thead>\n",
       "  <tbody>\n",
       "    <tr>\n",
       "      <th>0</th>\n",
       "      <td>Zambia</td>\n",
       "      <td>Baluba Center Underground Mine</td>\n",
       "      <td>Copper</td>\n",
       "      <td>Concentrate</td>\n",
       "      <td>2017</td>\n",
       "      <td>Ore. Operations suspended. Facility on care-an...</td>\n",
       "      <td>&lt;null&gt;</td>\n",
       "      <td>-13.0486</td>\n",
       "      <td>28.3381</td>\n",
       "      <td>1,500,000.0000</td>\n",
       "      <td>...</td>\n",
       "      <td>14.6775</td>\n",
       "      <td>Underground</td>\n",
       "      <td></td>\n",
       "      <td></td>\n",
       "      <td>11.7500</td>\n",
       "      <td>2.1500</td>\n",
       "      <td>172.4606</td>\n",
       "      <td>31.5566</td>\n",
       "      <td>1</td>\n",
       "      <td>POINT (28.33806 -13.04861)</td>\n",
       "    </tr>\n",
       "    <tr>\n",
       "      <th>1</th>\n",
       "      <td>Zambia</td>\n",
       "      <td>Bwana Mkubwa Solvent Extraction-Electrowinning...</td>\n",
       "      <td>Copper</td>\n",
       "      <td>Metal</td>\n",
       "      <td>2017</td>\n",
       "      <td>Copper cathode.</td>\n",
       "      <td>&lt;null&gt;</td>\n",
       "      <td>-13.0423</td>\n",
       "      <td>28.7094</td>\n",
       "      <td>52,000.0000</td>\n",
       "      <td>...</td>\n",
       "      <td>21.5280</td>\n",
       "      <td></td>\n",
       "      <td>Hydrometallurgical</td>\n",
       "      <td>Solvent Extraction-Electrowinning, Electrowinn...</td>\n",
       "      <td>12.4950</td>\n",
       "      <td>2.2050</td>\n",
       "      <td>268.9924</td>\n",
       "      <td>47.4692</td>\n",
       "      <td>2</td>\n",
       "      <td>POINT (28.70935 -13.04230)</td>\n",
       "    </tr>\n",
       "    <tr>\n",
       "      <th>2</th>\n",
       "      <td>Zambia</td>\n",
       "      <td>Chambishi Cobalt Plant</td>\n",
       "      <td>Cobalt</td>\n",
       "      <td>Metal</td>\n",
       "      <td>2017</td>\n",
       "      <td>Cobalt metal.</td>\n",
       "      <td>75 kilometers northwest of Ndola</td>\n",
       "      <td>-12.6500</td>\n",
       "      <td>28.0412</td>\n",
       "      <td>5,500.0000</td>\n",
       "      <td>...</td>\n",
       "      <td>0.7480</td>\n",
       "      <td></td>\n",
       "      <td>Smelting/Refining</td>\n",
       "      <td></td>\n",
       "      <td>13.5700</td>\n",
       "      <td>0.0000</td>\n",
       "      <td>10.1504</td>\n",
       "      <td>0.0000</td>\n",
       "      <td>3</td>\n",
       "      <td>POINT (28.04117 -12.64998)</td>\n",
       "    </tr>\n",
       "    <tr>\n",
       "      <th>3</th>\n",
       "      <td>Zambia</td>\n",
       "      <td>Chambishi Facility</td>\n",
       "      <td>Copper</td>\n",
       "      <td>Metal</td>\n",
       "      <td>2017</td>\n",
       "      <td>Copper cathode.</td>\n",
       "      <td>&lt;null&gt;</td>\n",
       "      <td>-12.6500</td>\n",
       "      <td>28.0412</td>\n",
       "      <td>8,000.0000</td>\n",
       "      <td>...</td>\n",
       "      <td>3.3120</td>\n",
       "      <td></td>\n",
       "      <td>Smelter+Refinery</td>\n",
       "      <td></td>\n",
       "      <td>10.5460</td>\n",
       "      <td>3.4380</td>\n",
       "      <td>34.9284</td>\n",
       "      <td>11.3867</td>\n",
       "      <td>4</td>\n",
       "      <td>POINT (28.04117 -12.64998)</td>\n",
       "    </tr>\n",
       "  </tbody>\n",
       "</table>\n",
       "<p>4 rows × 23 columns</p>\n",
       "</div>"
      ],
      "text/plain": [
       "  Country                                         FeatureNam DsgAttr02  \\\n",
       "0  Zambia                     Baluba Center Underground Mine    Copper   \n",
       "1  Zambia  Bwana Mkubwa Solvent Extraction-Electrowinning...    Copper   \n",
       "2  Zambia                             Chambishi Cobalt Plant    Cobalt   \n",
       "3  Zambia                                 Chambishi Facility    Copper   \n",
       "\n",
       "     DsgAttr03  DsgAttr06                                          MemoOther  \\\n",
       "0  Concentrate       2017  Ore. Operations suspended. Facility on care-an...   \n",
       "1        Metal       2017                                    Copper cathode.   \n",
       "2        Metal       2017                                      Cobalt metal.   \n",
       "3        Metal       2017                                    Copper cathode.   \n",
       "\n",
       "                            MemoLoc  Latitude  Longitude      DsgAttr07  ...  \\\n",
       "0                            <null>  -13.0486    28.3381 1,500,000.0000  ...   \n",
       "1                            <null>  -13.0423    28.7094    52,000.0000  ...   \n",
       "2  75 kilometers northwest of Ndola  -12.6500    28.0412     5,500.0000  ...   \n",
       "3                            <null>  -12.6500    28.0412     8,000.0000  ...   \n",
       "\n",
       "  Metal content [kt]    Mine type    Metal processing  \\\n",
       "0            14.6775  Underground                       \n",
       "1            21.5280               Hydrometallurgical   \n",
       "2             0.7480                Smelting/Refining   \n",
       "3             3.3120                 Smelter+Refinery   \n",
       "\n",
       "                                  Metal process type Spec energy Elec [GJ/t]  \\\n",
       "0                                                                    11.7500   \n",
       "1  Solvent Extraction-Electrowinning, Electrowinn...                 12.4950   \n",
       "2                                                                    13.5700   \n",
       "3                                                                    10.5460   \n",
       "\n",
       "  Spec energy Diesel [GJ/t] Energy Elec [TJ]  Energy Diesel [TJ]  id  \\\n",
       "0                    2.1500         172.4606             31.5566   1   \n",
       "1                    2.2050         268.9924             47.4692   2   \n",
       "2                    0.0000          10.1504              0.0000   3   \n",
       "3                    3.4380          34.9284             11.3867   4   \n",
       "\n",
       "                     geometry  \n",
       "0  POINT (28.33806 -13.04861)  \n",
       "1  POINT (28.70935 -13.04230)  \n",
       "2  POINT (28.04117 -12.64998)  \n",
       "3  POINT (28.04117 -12.64998)  \n",
       "\n",
       "[4 rows x 23 columns]"
      ]
     },
     "execution_count": 18,
     "metadata": {},
     "output_type": "execute_result"
    }
   ],
   "source": [
    "mines.head(4)"
   ]
  },
  {
   "cell_type": "markdown",
   "id": "796e0496",
   "metadata": {},
   "source": [
    "# Part 2. Compute demand"
   ]
  },
  {
   "cell_type": "code",
   "execution_count": 19,
   "id": "a6c08253",
   "metadata": {},
   "outputs": [
    {
     "name": "stdout",
     "output_type": "stream",
     "text": [
      "total statistical nonFerrousMetals electricity consumption: 22,897.0 TJ or  6.4 TWh\n",
      "total statistical mining electricity consumption: 818.0 TJ or  0.2 TWh\n",
      "total statistical nonFerrousMetals and mining electricity consumption: 23,715.0 TJ or  6.6 TWh\n"
     ]
    }
   ],
   "source": [
    "# Enegery balance from UN Stats\n",
    "energyBalance_path = \"EnergyBalance/\"\n",
    "file_energyBalance = \"UNSD+DF_UNData_EnergyBalance+1.0_Zambia.csv\"\n",
    "eb = pd.read_csv(energyBalance_path + file_energyBalance)\n",
    "code_elec = \"B07_EL\"\n",
    "code_ind_nFM=  \"B29_1214a\"\n",
    "code_ind_mining =  \"B33_1214e\"\n",
    "\n",
    "elec_nonFerrousMetals_TJ = eb.loc[(eb['COMMODITY'] == code_elec) & (eb['TRANSACTION'] == code_ind_nFM) & (eb['TIME_PERIOD'] == 2019 ), 'OBS_VALUE'] #TJ\n",
    "elec_mining_TJ = eb.loc[(eb['COMMODITY'] == code_elec) & (eb['TRANSACTION'] == code_ind_mining) & (eb['TIME_PERIOD'] == 2019 ), 'OBS_VALUE'] #TJ\n",
    "elec_nonFerrousMetals_TJ = pd.to_numeric(elec_nonFerrousMetals_TJ.str.replace(',', '')) # convert to numeric and remove commas\n",
    "elec_nonFerrousMetals_TJ = elec_nonFerrousMetals_TJ.iloc[0]\n",
    "elec_mining_TJ = pd.to_numeric(elec_mining_TJ.str.replace(',', '')) # convert to numeric and remove commas\n",
    "elec_mining_TJ = elec_mining_TJ.iloc[0]\n",
    "\n",
    "elec_nonFerrousMetals = elec_nonFerrousMetals_TJ /(3600) *10**6 # (3.6e-6) #conversion in MWh\n",
    "elec_mining = elec_mining_TJ /(3600) *10**6 #conversion in MWh\n",
    "\n",
    "print(\"total statistical nonFerrousMetals electricity consumption:\",f\"{elec_nonFerrousMetals_TJ:,.1f}\", \"TJ or \", f\"{elec_nonFerrousMetals/10**6:,.1f}\", \"TWh\")\n",
    "print(\"total statistical mining electricity consumption:\",f\"{elec_mining_TJ:,.1f}\", \"TJ or \", f\"{elec_mining/10**6:,.1f}\", \"TWh\")\n",
    "print(\"total statistical nonFerrousMetals and mining electricity consumption:\",f\"{elec_nonFerrousMetals_TJ+elec_mining_TJ:,.1f}\", \"TJ or \", f\"{(elec_nonFerrousMetals+elec_mining)/10**6:,.1f}\", \"TWh\")"
   ]
  },
  {
   "cell_type": "code",
   "execution_count": 20,
   "id": "a1ae7672",
   "metadata": {},
   "outputs": [
    {
     "name": "stdout",
     "output_type": "stream",
     "text": [
      "total calculated energy consumption: 20,777.4 TJ or  5.8 TWh\n",
      "Coverage energy in total statistical nonFerrousMetals and mining electricity consumption: 88 %\n"
     ]
    }
   ],
   "source": [
    "# Assess total energy consumption and total production\n",
    "total_elec_energy_consum = mines[columnName_ElecConsumptionMines].sum() # total \n",
    "coverage_elec_nonFe_mining = total_elec_energy_consum/(elec_nonFerrousMetals_TJ+elec_mining_TJ)\n",
    "\n",
    "# print(\"total production:\", f\"{total_production/10**3:,.0f}\", \"kt\")\n",
    "print(\"total calculated energy consumption:\", f\"{total_elec_energy_consum:,.1f}\", \"TJ or \", f\"{total_elec_energy_consum/3600:,.1f}\", \"TWh\")\n",
    "print(\"Coverage energy in total statistical nonFerrousMetals and mining electricity consumption:\", f\"{coverage_elec_nonFe_mining*100:,.0f}\", \"%\")"
   ]
  },
  {
   "cell_type": "code",
   "execution_count": 21,
   "id": "d2d111c0",
   "metadata": {},
   "outputs": [
    {
     "data": {
      "text/html": [
       "<div>\n",
       "<style scoped>\n",
       "    .dataframe tbody tr th:only-of-type {\n",
       "        vertical-align: middle;\n",
       "    }\n",
       "\n",
       "    .dataframe tbody tr th {\n",
       "        vertical-align: top;\n",
       "    }\n",
       "\n",
       "    .dataframe thead th {\n",
       "        text-align: right;\n",
       "    }\n",
       "</style>\n",
       "<table border=\"1\" class=\"dataframe\">\n",
       "  <thead>\n",
       "    <tr style=\"text-align: right;\">\n",
       "      <th></th>\n",
       "      <th>hexagons</th>\n",
       "      <th>lon</th>\n",
       "      <th>lat</th>\n",
       "      <th>index_righ</th>\n",
       "      <th>NAME_1</th>\n",
       "      <th>id</th>\n",
       "      <th>geometry</th>\n",
       "      <th>Energy Elec [TJ]</th>\n",
       "      <th>IndEne_TJ</th>\n",
       "    </tr>\n",
       "  </thead>\n",
       "  <tbody>\n",
       "    <tr>\n",
       "      <th>0</th>\n",
       "      <td>875534384ffffff</td>\n",
       "      <td>27.6420</td>\n",
       "      <td>-12.6332</td>\n",
       "      <td>1.0000</td>\n",
       "      <td>Copperbelt</td>\n",
       "      <td>1</td>\n",
       "      <td>POLYGON ((27.65474 -12.63762, 27.64470 -12.647...</td>\n",
       "      <td>nan</td>\n",
       "      <td>nan</td>\n",
       "    </tr>\n",
       "    <tr>\n",
       "      <th>1</th>\n",
       "      <td>87551ec64ffffff</td>\n",
       "      <td>22.6811</td>\n",
       "      <td>-14.1457</td>\n",
       "      <td>9.0000</td>\n",
       "      <td>Western</td>\n",
       "      <td>2</td>\n",
       "      <td>POLYGON ((22.69343 -14.15011, 22.68340 -14.159...</td>\n",
       "      <td>nan</td>\n",
       "      <td>nan</td>\n",
       "    </tr>\n",
       "    <tr>\n",
       "      <th>2</th>\n",
       "      <td>87344b042ffffff</td>\n",
       "      <td>25.5126</td>\n",
       "      <td>-16.5217</td>\n",
       "      <td>8.0000</td>\n",
       "      <td>Southern</td>\n",
       "      <td>3</td>\n",
       "      <td>POLYGON ((25.52519 -16.52665, 25.51483 -16.536...</td>\n",
       "      <td>nan</td>\n",
       "      <td>nan</td>\n",
       "    </tr>\n",
       "  </tbody>\n",
       "</table>\n",
       "</div>"
      ],
      "text/plain": [
       "          hexagons     lon      lat  index_righ      NAME_1  id  \\\n",
       "0  875534384ffffff 27.6420 -12.6332      1.0000  Copperbelt   1   \n",
       "1  87551ec64ffffff 22.6811 -14.1457      9.0000     Western   2   \n",
       "2  87344b042ffffff 25.5126 -16.5217      8.0000    Southern   3   \n",
       "\n",
       "                                            geometry  Energy Elec [TJ]  \\\n",
       "0  POLYGON ((27.65474 -12.63762, 27.64470 -12.647...               nan   \n",
       "1  POLYGON ((22.69343 -14.15011, 22.68340 -14.159...               nan   \n",
       "2  POLYGON ((25.52519 -16.52665, 25.51483 -16.536...               nan   \n",
       "\n",
       "   IndEne_TJ  \n",
       "0        nan  \n",
       "1        nan  \n",
       "2        nan  "
      ]
     },
     "execution_count": 21,
     "metadata": {},
     "output_type": "execute_result"
    }
   ],
   "source": [
    "#Allocate to each hexagon the industry energy consumption\n",
    "#grid[\"IndEnergy\"]=grid[columnNameMines]*energycons_perton\n",
    "# adjust energy consumption if coverage is the whole country\n",
    "if area == \"COUNTRY\":\n",
    "    grid[\"IndEne_TJ\"]=grid[columnName_ElecConsumptionMines]/coverage_elec_nonFe_mining # TJ\n",
    "else:\n",
    "    grid[\"IndEne_TJ\"]=grid[columnName_ElecConsumptionMines] # TJ\n",
    "grid.head(3)"
   ]
  },
  {
   "cell_type": "code",
   "execution_count": 22,
   "id": "2952dbe3",
   "metadata": {},
   "outputs": [
    {
     "name": "stdout",
     "output_type": "stream",
     "text": [
      "Industry electricity consumption in COUNTRY : 6.6 TWh\n"
     ]
    }
   ],
   "source": [
    "total_industryenergy = grid[\"IndEne_TJ\"].sum()\n",
    "#print(\"Industry electricity consumption:\",f\"{total_industryenergy/10**6:,.0f}\", \"TWh\")\n",
    "print(\"Industry electricity consumption in\",f\"{area}\", \":\",f\"{total_industryenergy/3600:,.1f}\", \"TWh\")"
   ]
  },
  {
   "cell_type": "code",
   "execution_count": 23,
   "id": "08b8684d",
   "metadata": {},
   "outputs": [
    {
     "data": {
      "text/html": [
       "<div>\n",
       "<style scoped>\n",
       "    .dataframe tbody tr th:only-of-type {\n",
       "        vertical-align: middle;\n",
       "    }\n",
       "\n",
       "    .dataframe tbody tr th {\n",
       "        vertical-align: top;\n",
       "    }\n",
       "\n",
       "    .dataframe thead th {\n",
       "        text-align: right;\n",
       "    }\n",
       "</style>\n",
       "<table border=\"1\" class=\"dataframe\">\n",
       "  <thead>\n",
       "    <tr style=\"text-align: right;\">\n",
       "      <th></th>\n",
       "      <th>hexagons</th>\n",
       "      <th>lon</th>\n",
       "      <th>lat</th>\n",
       "      <th>index_righ</th>\n",
       "      <th>NAME_1</th>\n",
       "      <th>id</th>\n",
       "      <th>geometry</th>\n",
       "      <th>Energy Elec [TJ]</th>\n",
       "      <th>IndEne_TJ</th>\n",
       "    </tr>\n",
       "  </thead>\n",
       "  <tbody>\n",
       "    <tr>\n",
       "      <th>0</th>\n",
       "      <td>875534384ffffff</td>\n",
       "      <td>27.6420</td>\n",
       "      <td>-12.6332</td>\n",
       "      <td>1.0000</td>\n",
       "      <td>Copperbelt</td>\n",
       "      <td>1</td>\n",
       "      <td>POLYGON ((27.65474 -12.63762, 27.64470 -12.647...</td>\n",
       "      <td>nan</td>\n",
       "      <td>nan</td>\n",
       "    </tr>\n",
       "    <tr>\n",
       "      <th>1</th>\n",
       "      <td>87551ec64ffffff</td>\n",
       "      <td>22.6811</td>\n",
       "      <td>-14.1457</td>\n",
       "      <td>9.0000</td>\n",
       "      <td>Western</td>\n",
       "      <td>2</td>\n",
       "      <td>POLYGON ((22.69343 -14.15011, 22.68340 -14.159...</td>\n",
       "      <td>nan</td>\n",
       "      <td>nan</td>\n",
       "    </tr>\n",
       "    <tr>\n",
       "      <th>2</th>\n",
       "      <td>87344b042ffffff</td>\n",
       "      <td>25.5126</td>\n",
       "      <td>-16.5217</td>\n",
       "      <td>8.0000</td>\n",
       "      <td>Southern</td>\n",
       "      <td>3</td>\n",
       "      <td>POLYGON ((25.52519 -16.52665, 25.51483 -16.536...</td>\n",
       "      <td>nan</td>\n",
       "      <td>nan</td>\n",
       "    </tr>\n",
       "  </tbody>\n",
       "</table>\n",
       "</div>"
      ],
      "text/plain": [
       "          hexagons     lon      lat  index_righ      NAME_1  id  \\\n",
       "0  875534384ffffff 27.6420 -12.6332      1.0000  Copperbelt   1   \n",
       "1  87551ec64ffffff 22.6811 -14.1457      9.0000     Western   2   \n",
       "2  87344b042ffffff 25.5126 -16.5217      8.0000    Southern   3   \n",
       "\n",
       "                                            geometry  Energy Elec [TJ]  \\\n",
       "0  POLYGON ((27.65474 -12.63762, 27.64470 -12.647...               nan   \n",
       "1  POLYGON ((22.69343 -14.15011, 22.68340 -14.159...               nan   \n",
       "2  POLYGON ((25.52519 -16.52665, 25.51483 -16.536...               nan   \n",
       "\n",
       "   IndEne_TJ  \n",
       "0        nan  \n",
       "1        nan  \n",
       "2        nan  "
      ]
     },
     "execution_count": 23,
     "metadata": {},
     "output_type": "execute_result"
    }
   ],
   "source": [
    "grid.to_file(out_path + 'ind_energy_map.shp', index=False)\n",
    "grid.to_file(out_path + f'ind_energy_map.geojson', driver='GeoJSON', index=False)  \n",
    "grid.head(3)"
   ]
  },
  {
   "cell_type": "code",
   "execution_count": 24,
   "id": "14e95477",
   "metadata": {},
   "outputs": [
    {
     "data": {
      "text/plain": [
       "0        nan\n",
       "1        nan\n",
       "2        nan\n",
       "3        nan\n",
       "4        nan\n",
       "          ..\n",
       "122983   nan\n",
       "122984   nan\n",
       "122985   nan\n",
       "122986   nan\n",
       "122987   nan\n",
       "Name: Energy Elec [TJ], Length: 122988, dtype: float64"
      ]
     },
     "execution_count": 24,
     "metadata": {},
     "output_type": "execute_result"
    }
   ],
   "source": [
    "grid[columnName_ElecConsumptionMines]"
   ]
  },
  {
   "cell_type": "code",
   "execution_count": null,
   "id": "ca280826",
   "metadata": {},
   "outputs": [],
   "source": []
  }
 ],
 "metadata": {
  "kernelspec": {
   "display_name": "Python 3",
   "language": "python",
   "name": "python3"
  },
  "language_info": {
   "codemirror_mode": {
    "name": "ipython",
    "version": 3
   },
   "file_extension": ".py",
   "mimetype": "text/x-python",
   "name": "python",
   "nbconvert_exporter": "python",
   "pygments_lexer": "ipython3",
   "version": "3.8.5"
  }
 },
 "nbformat": 4,
 "nbformat_minor": 5
}
