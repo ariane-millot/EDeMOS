{
 "cells": [
  {
   "cell_type": "markdown",
   "id": "3cb800bf",
   "metadata": {},
   "source": [
    "# Industry energy demand"
   ]
  },
  {
   "cell_type": "markdown",
   "id": "045225b4",
   "metadata": {
    "jp-MarkdownHeadingCollapsed": true
   },
   "source": [
    "### Import necessary modules"
   ]
  },
  {
   "cell_type": "code",
   "execution_count": 1,
   "id": "fc008be3",
   "metadata": {},
   "outputs": [
    {
     "name": "stdout",
     "output_type": "stream",
     "text": [
      "Move to C:\\Users\\amillot\\PycharmProjects\\DemandMappingZambia\n"
     ]
    }
   ],
   "source": [
    "# Check if we are running the notebook directly, if so move workspace to parent dir\n",
    "import sys\n",
    "import os\n",
    "currentdir = os.path.abspath(os.getcwd())\n",
    "if os.path.basename(currentdir) != 'DemandMappingZambia':  \n",
    "  sys.path.insert(0, os.path.dirname(currentdir))\n",
    "  os.chdir('..')\n",
    "  print(f'Move to {os.getcwd()}')"
   ]
  },
  {
   "cell_type": "code",
   "execution_count": 2,
   "id": "2defd08a",
   "metadata": {
    "code_folding": [
     0
    ]
   },
   "outputs": [],
   "source": [
    "### Activate geospatial_env first\n",
    "\n",
    "# Numeric\n",
    "import numpy as np\n",
    "import pandas as pd\n",
    "import math\n",
    "\n",
    "# System\n",
    "import os\n",
    "import shutil\n",
    "from IPython.display import display, Markdown, HTML, FileLink, FileLinks\n",
    "\n",
    "# Spatial\n",
    "import geopandas as gpd\n",
    "import json\n",
    "import pyproj\n",
    "from shapely.geometry import Point, Polygon, MultiPoint\n",
    "from shapely.wkt import dumps, loads\n",
    "from shapely.ops import nearest_points\n",
    "from pyproj import CRS\n",
    "import ogr, gdal, osr\n",
    "#import fiona\n",
    "\n",
    "\n",
    "# Mapping / Plotting\n",
    "from functools import reduce\n",
    "#import datapane as dp \n",
    "#!datapane login --token=\"9bde41bfbc4ad14119e32086f9f06d2e5db1d5b8\"\n",
    "import folium\n",
    "from folium.features import GeoJsonTooltip\n",
    "from folium.plugins import BeautifyIcon\n",
    "from folium.plugins import HeatMap\n",
    "import branca.colormap as cm\n",
    "import matplotlib.pyplot as plt\n",
    "from matplotlib.ticker import MaxNLocator\n",
    "%matplotlib inline\n",
    "\n",
    "%matplotlib inline"
   ]
  },
  {
   "cell_type": "code",
   "execution_count": 3,
   "id": "bb02e124",
   "metadata": {
    "code_folding": [
     0
    ]
   },
   "outputs": [],
   "source": [
    "#import geopandas as gpd   # Note that you require geopandas version >= 0.7 that incluse clip see here for installation (https://gis.stackexchange.com/questions/360127/geopandas-0-6-1-installed-instead-of-0-7-0-in-conda-windows-10#)\n",
    "import os\n",
    "import fiona\n",
    "import ipywidgets as widgets\n",
    "from IPython.display import display\n",
    "from rasterstats import zonal_stats\n",
    "import rasterio\n",
    "from geojson import Feature, Point, FeatureCollection\n",
    "import rasterio.fill\n",
    "from shapely.geometry import shape, mapping\n",
    "import json\n",
    "#from earthpy import clip    clip has been deprecated to geopandas\n",
    "#import earthpy.spatial as es\n",
    "import numpy as np\n",
    "import tkinter as tk\n",
    "from tkinter import filedialog, messagebox\n",
    "import gdal\n",
    "import datetime\n",
    "import warnings\n",
    "import pandas as pd\n",
    "import scipy.spatial\n",
    "warnings.filterwarnings('ignore')\n",
    "\n",
    "#import contextily as ctx\n",
    "import h3 as h3\n",
    "from shapely.ops import unary_union\n",
    "from shapely.geometry.polygon import Polygon\n",
    "\n",
    "root = tk.Tk()\n",
    "root.withdraw()\n",
    "root.attributes(\"-topmost\", True)\n",
    "\n",
    "pd.options.display.float_format = '{:,.4f}'.format"
   ]
  },
  {
   "cell_type": "code",
   "execution_count": 4,
   "id": "52b796bc",
   "metadata": {},
   "outputs": [],
   "source": [
    "from utils import processing_raster, finalizing_rasters, spatialjoinvectors"
   ]
  },
  {
   "cell_type": "markdown",
   "id": "1a28597c",
   "metadata": {},
   "source": [
    "### Define directories and dataset names"
   ]
  },
  {
   "cell_type": "code",
   "execution_count": 5,
   "id": "2909bc0d",
   "metadata": {
    "code_folding": []
   },
   "outputs": [],
   "source": [
    "### Define directories and dataset names\n",
    "ROOT_DIR = os.path.abspath(os.curdir)\n",
    "in_path = ROOT_DIR\n",
    "out_path = ROOT_DIR + \"/Outputs/\"\n",
    "\n",
    "## mines layer\n",
    "mines_path = in_path + \"/Industry/Data/mines/\"\n",
    "# mines_name = 'mines_zambia.gpkg'\n",
    "mines_name = 'mineral_facilities_zambia_Dec_2023.gpkg'"
   ]
  },
  {
   "cell_type": "code",
   "execution_count": 6,
   "id": "144ebc3d",
   "metadata": {},
   "outputs": [],
   "source": [
    "## Coordinate and projection systems\n",
    "crs_WGS84 = CRS(\"EPSG:4326\")    # Originan WGS84 coordinate system\n",
    "crs_proj = CRS(\"EPSG:32736\")    # Projection system for the selected country -- see http://epsg.io/ for more info"
   ]
  },
  {
   "cell_type": "markdown",
   "id": "42034df1-cdfc-4146-943e-c60869ad57a3",
   "metadata": {},
   "source": [
    "### Define area of interest"
   ]
  },
  {
   "cell_type": "code",
   "execution_count": 7,
   "id": "e139d760-3f92-461a-9ba9-0c5b21bc5fbe",
   "metadata": {},
   "outputs": [],
   "source": [
    "try: area\n",
    "except NameError: area = \"COUNTRY\"\n",
    "# area = \"Copperbelt\""
   ]
  },
  {
   "cell_type": "markdown",
   "id": "9fe479ba",
   "metadata": {},
   "source": [
    "### Import layers to be used"
   ]
  },
  {
   "cell_type": "code",
   "execution_count": 8,
   "id": "a1ee65cf",
   "metadata": {},
   "outputs": [],
   "source": [
    "hexagons = gpd.read_file(out_path + \"h3_grid_at_hex_7.shp\")"
   ]
  },
  {
   "cell_type": "code",
   "execution_count": 9,
   "id": "5bb11b31",
   "metadata": {},
   "outputs": [],
   "source": [
    "grid = hexagons"
   ]
  },
  {
   "cell_type": "code",
   "execution_count": 10,
   "id": "88afb4a2",
   "metadata": {},
   "outputs": [],
   "source": [
    "## mines\n",
    "# mines = gpd.read_file(mines_path + mines_name)"
   ]
  },
  {
   "cell_type": "code",
   "execution_count": 11,
   "id": "6b9feff2",
   "metadata": {},
   "outputs": [],
   "source": [
    "# ## admininstrative boundary\n",
    "admin_gdf = gpd.read_file(out_path + \"area_gdf.gpkg\")"
   ]
  },
  {
   "cell_type": "markdown",
   "id": "5b86b9bc",
   "metadata": {},
   "source": [
    "# Part 1. Extract GIS-based attributes"
   ]
  },
  {
   "cell_type": "markdown",
   "id": "49bd213a",
   "metadata": {},
   "source": [
    "## Extract information from vector layers"
   ]
  },
  {
   "cell_type": "markdown",
   "id": "4c627878",
   "metadata": {},
   "source": [
    "Extract sum production of mines in each cluster (hex)"
   ]
  },
  {
   "cell_type": "code",
   "execution_count": 12,
   "id": "0f1ee0c9",
   "metadata": {},
   "outputs": [],
   "source": [
    "## Run the extraction\n",
    "#grid.drop(['Commodity Production - tonne (tonnes)'], axis=1, inplace=True) ##uncomment if you want to rerun\n",
    "# columnNameMines = \"Commodity Production - tonne (tonnes)\"\n",
    "#columnNameMines = 'Ore processed (tonnes)'\n",
    "# grid[columnNameMines] = grid[columnNameMines].fillna(0)\n",
    "# grid.head(4)\n",
    "# grid[columnNameMines].sum()\n",
    "\n",
    "columnNameMines = 'Energy Elec (TJ)'\n",
    "file = mines_path+mines_name\n",
    "grid, mines = spatialjoinvectors(\"EnergyMines\", columnNameMines, admin_gdf, crs_WGS84, grid, \"sum\", file)\n"
   ]
  },
  {
   "cell_type": "markdown",
   "id": "743a40c5",
   "metadata": {},
   "source": [
    "# Part 2. Compute demand"
   ]
  },
  {
   "cell_type": "code",
   "execution_count": 13,
   "id": "0dc7acc8-a192-4622-a067-95eeb07c8bf0",
   "metadata": {},
   "outputs": [
    {
     "name": "stdout",
     "output_type": "stream",
     "text": [
      "total statistical nonFerrousMetals electricity consumption: 22,897.0 TJ or  6.4 TWh\n",
      "total statistical mining electricity consumption: 818.0 TJ or  0.2 TWh\n",
      "total statistical nonFerrousMetals and mining electricity consumption: 23,715.0 TJ or  6.6 TWh\n"
     ]
    }
   ],
   "source": [
    "# Enegery balance from UN Stats\n",
    "energyBalance_path = \"EnergyBalance/\"\n",
    "file_energyBalance = \"UNSD+DF_UNData_EnergyBalance+1.0_Zambia.csv\"\n",
    "eb = pd.read_csv(energyBalance_path + file_energyBalance)\n",
    "code_elec = \"B07_EL\"\n",
    "code_ind_nFM=  \"B29_1214a\"\n",
    "code_ind_mining =  \"B33_1214e\"\n",
    "\n",
    "elec_nonFerrousMetals_TJ = eb.loc[(eb['COMMODITY'] == code_elec) & (eb['TRANSACTION'] == code_ind_nFM) & (eb['TIME_PERIOD'] == 2019 ), 'OBS_VALUE'] #TJ\n",
    "elec_mining_TJ = eb.loc[(eb['COMMODITY'] == code_elec) & (eb['TRANSACTION'] == code_ind_mining) & (eb['TIME_PERIOD'] == 2019 ), 'OBS_VALUE'] #TJ\n",
    "elec_nonFerrousMetals_TJ = pd.to_numeric(elec_nonFerrousMetals_TJ.str.replace(',', '')) # convert to numeric and remove commas\n",
    "elec_nonFerrousMetals_TJ = elec_nonFerrousMetals_TJ.iloc[0]\n",
    "elec_mining_TJ = pd.to_numeric(elec_mining_TJ.str.replace(',', '')) # convert to numeric and remove commas\n",
    "elec_mining_TJ = elec_mining_TJ.iloc[0]\n",
    "\n",
    "elec_nonFerrousMetals = elec_nonFerrousMetals_TJ /(3600) *10**6 # (3.6e-6) #conversion in MWh\n",
    "elec_mining = elec_mining_TJ /(3600) *10**6 #conversion in MWh\n",
    "\n",
    "print(\"total statistical nonFerrousMetals electricity consumption:\",f\"{elec_nonFerrousMetals_TJ:,.1f}\", \"TJ or \", f\"{elec_nonFerrousMetals/10**6:,.1f}\", \"TWh\")\n",
    "print(\"total statistical mining electricity consumption:\",f\"{elec_mining_TJ:,.1f}\", \"TJ or \", f\"{elec_mining/10**6:,.1f}\", \"TWh\")\n",
    "print(\"total statistical nonFerrousMetals and mining electricity consumption:\",f\"{elec_nonFerrousMetals_TJ+elec_mining_TJ:,.1f}\", \"TJ or \", f\"{(elec_nonFerrousMetals+elec_mining)/10**6:,.1f}\", \"TWh\")"
   ]
  },
  {
   "cell_type": "code",
   "execution_count": 14,
   "id": "147bbcd9",
   "metadata": {},
   "outputs": [
    {
     "name": "stdout",
     "output_type": "stream",
     "text": [
      "total calculated energy consumption: 23,565.7 TJ or  6.5 TWh\n",
      "Coverage energy in total statistical nonFerrousMetals and mining electricity consumption: 99 %\n"
     ]
    }
   ],
   "source": [
    "# Assess total energy consumption and total production\n",
    "\n",
    "#total_production = mines[columnNameMines].str.replace(',', '').astype(float).sum()\n",
    "total_elec_energy_consum = mines[columnNameMines].sum() # total \n",
    "\n",
    "# total_production = sum(grid[columnNameMines]) # ton\n",
    "# energycons_perton = elec_nonFerrousMetals/total_production # MWh/t\n",
    "\n",
    "coverage_elec_nonFe_mining = total_elec_energy_consum/(elec_nonFerrousMetals_TJ+elec_mining_TJ)\n",
    "\n",
    "# print(\"total production:\", f\"{total_production/10**3:,.0f}\", \"kt\")\n",
    "print(\"total calculated energy consumption:\", f\"{total_elec_energy_consum:,.1f}\", \"TJ or \", f\"{total_elec_energy_consum/3600:,.1f}\", \"TWh\")\n",
    "\n",
    "print(\"Coverage energy in total statistical nonFerrousMetals and mining electricity consumption:\", f\"{coverage_elec_nonFe_mining*100:,.0f}\", \"%\")\n",
    "\n",
    "#print(\"total industry electricity consumption:\",f\"{elec_nonFerrousMetals/10**6:,.1f}\", \"TWh\")\n",
    "#print(\"energy per tonne of ore:\", f\"{energycons_perton:,.0f}\", \"MWh/t\")"
   ]
  },
  {
   "cell_type": "code",
   "execution_count": 15,
   "id": "86fa785f",
   "metadata": {},
   "outputs": [
    {
     "data": {
      "text/html": [
       "<div>\n",
       "<style scoped>\n",
       "    .dataframe tbody tr th:only-of-type {\n",
       "        vertical-align: middle;\n",
       "    }\n",
       "\n",
       "    .dataframe tbody tr th {\n",
       "        vertical-align: top;\n",
       "    }\n",
       "\n",
       "    .dataframe thead th {\n",
       "        text-align: right;\n",
       "    }\n",
       "</style>\n",
       "<table border=\"1\" class=\"dataframe\">\n",
       "  <thead>\n",
       "    <tr style=\"text-align: right;\">\n",
       "      <th></th>\n",
       "      <th>hexagons</th>\n",
       "      <th>lon</th>\n",
       "      <th>lat</th>\n",
       "      <th>index_righ</th>\n",
       "      <th>NAME_1</th>\n",
       "      <th>id</th>\n",
       "      <th>geometry</th>\n",
       "      <th>Energy Elec (TJ)</th>\n",
       "      <th>IndEne_TJ</th>\n",
       "    </tr>\n",
       "  </thead>\n",
       "  <tbody>\n",
       "    <tr>\n",
       "      <th>0</th>\n",
       "      <td>875534089ffffff</td>\n",
       "      <td>27.7667</td>\n",
       "      <td>-12.8546</td>\n",
       "      <td>1.0000</td>\n",
       "      <td>Copperbelt</td>\n",
       "      <td>1</td>\n",
       "      <td>POLYGON ((27.77946 -12.85905, 27.76939 -12.869...</td>\n",
       "      <td>NaN</td>\n",
       "      <td>NaN</td>\n",
       "    </tr>\n",
       "    <tr>\n",
       "      <th>1</th>\n",
       "      <td>875536800ffffff</td>\n",
       "      <td>27.8960</td>\n",
       "      <td>-13.7010</td>\n",
       "      <td>1.0000</td>\n",
       "      <td>Copperbelt</td>\n",
       "      <td>2</td>\n",
       "      <td>POLYGON ((27.90878 -13.70559, 27.89862 -13.715...</td>\n",
       "      <td>NaN</td>\n",
       "      <td>NaN</td>\n",
       "    </tr>\n",
       "    <tr>\n",
       "      <th>2</th>\n",
       "      <td>875530cc2ffffff</td>\n",
       "      <td>26.9772</td>\n",
       "      <td>-13.3073</td>\n",
       "      <td>1.0000</td>\n",
       "      <td>Copperbelt</td>\n",
       "      <td>3</td>\n",
       "      <td>POLYGON ((26.98992 -13.31174, 26.97981 -13.321...</td>\n",
       "      <td>NaN</td>\n",
       "      <td>NaN</td>\n",
       "    </tr>\n",
       "  </tbody>\n",
       "</table>\n",
       "</div>"
      ],
      "text/plain": [
       "          hexagons     lon      lat  index_righ      NAME_1  id  \\\n",
       "0  875534089ffffff 27.7667 -12.8546      1.0000  Copperbelt   1   \n",
       "1  875536800ffffff 27.8960 -13.7010      1.0000  Copperbelt   2   \n",
       "2  875530cc2ffffff 26.9772 -13.3073      1.0000  Copperbelt   3   \n",
       "\n",
       "                                            geometry  Energy Elec (TJ)  \\\n",
       "0  POLYGON ((27.77946 -12.85905, 27.76939 -12.869...               NaN   \n",
       "1  POLYGON ((27.90878 -13.70559, 27.89862 -13.715...               NaN   \n",
       "2  POLYGON ((26.98992 -13.31174, 26.97981 -13.321...               NaN   \n",
       "\n",
       "   IndEne_TJ  \n",
       "0        NaN  \n",
       "1        NaN  \n",
       "2        NaN  "
      ]
     },
     "execution_count": 15,
     "metadata": {},
     "output_type": "execute_result"
    }
   ],
   "source": [
    "#Allocate to each hexagon the industry energy consumption\n",
    "#grid[\"IndEnergy\"]=grid[columnNameMines]*energycons_perton\n",
    "# adjust energy consumption if coverage is the whole country\n",
    "if area == \"COUNTRY\":\n",
    "    grid[\"IndEne_TJ\"]=grid[columnNameMines]/coverage_elec_nonFe_mining # TJ\n",
    "else:\n",
    "    grid[\"IndEne_TJ\"]=grid[columnNameMines] # TJ\n",
    "grid.head(3)"
   ]
  },
  {
   "cell_type": "code",
   "execution_count": 16,
   "id": "9598be73-72f8-4781-b422-a50bd6209ce6",
   "metadata": {},
   "outputs": [
    {
     "name": "stdout",
     "output_type": "stream",
     "text": [
      "Industry electricity consumption in COUNTRY : 4.2 TWh\n"
     ]
    }
   ],
   "source": [
    "total_industryenergy = grid[\"IndEne_TJ\"].sum()\n",
    "#print(\"Industry electricity consumption:\",f\"{total_industryenergy/10**6:,.0f}\", \"TWh\")\n",
    "print(\"Industry electricity consumption in\",f\"{area}\", \":\",f\"{total_industryenergy/3600:,.1f}\", \"TWh\")"
   ]
  },
  {
   "cell_type": "code",
   "execution_count": 17,
   "id": "717e2d29",
   "metadata": {},
   "outputs": [
    {
     "data": {
      "text/html": [
       "<div>\n",
       "<style scoped>\n",
       "    .dataframe tbody tr th:only-of-type {\n",
       "        vertical-align: middle;\n",
       "    }\n",
       "\n",
       "    .dataframe tbody tr th {\n",
       "        vertical-align: top;\n",
       "    }\n",
       "\n",
       "    .dataframe thead th {\n",
       "        text-align: right;\n",
       "    }\n",
       "</style>\n",
       "<table border=\"1\" class=\"dataframe\">\n",
       "  <thead>\n",
       "    <tr style=\"text-align: right;\">\n",
       "      <th></th>\n",
       "      <th>hexagons</th>\n",
       "      <th>lon</th>\n",
       "      <th>lat</th>\n",
       "      <th>index_righ</th>\n",
       "      <th>NAME_1</th>\n",
       "      <th>id</th>\n",
       "      <th>geometry</th>\n",
       "      <th>Energy Elec (TJ)</th>\n",
       "      <th>IndEne_TJ</th>\n",
       "    </tr>\n",
       "  </thead>\n",
       "  <tbody>\n",
       "    <tr>\n",
       "      <th>0</th>\n",
       "      <td>875534089ffffff</td>\n",
       "      <td>27.7667</td>\n",
       "      <td>-12.8546</td>\n",
       "      <td>1.0000</td>\n",
       "      <td>Copperbelt</td>\n",
       "      <td>1</td>\n",
       "      <td>POLYGON ((27.77946 -12.85905, 27.76939 -12.869...</td>\n",
       "      <td>NaN</td>\n",
       "      <td>NaN</td>\n",
       "    </tr>\n",
       "    <tr>\n",
       "      <th>1</th>\n",
       "      <td>875536800ffffff</td>\n",
       "      <td>27.8960</td>\n",
       "      <td>-13.7010</td>\n",
       "      <td>1.0000</td>\n",
       "      <td>Copperbelt</td>\n",
       "      <td>2</td>\n",
       "      <td>POLYGON ((27.90878 -13.70559, 27.89862 -13.715...</td>\n",
       "      <td>NaN</td>\n",
       "      <td>NaN</td>\n",
       "    </tr>\n",
       "    <tr>\n",
       "      <th>2</th>\n",
       "      <td>875530cc2ffffff</td>\n",
       "      <td>26.9772</td>\n",
       "      <td>-13.3073</td>\n",
       "      <td>1.0000</td>\n",
       "      <td>Copperbelt</td>\n",
       "      <td>3</td>\n",
       "      <td>POLYGON ((26.98992 -13.31174, 26.97981 -13.321...</td>\n",
       "      <td>NaN</td>\n",
       "      <td>NaN</td>\n",
       "    </tr>\n",
       "  </tbody>\n",
       "</table>\n",
       "</div>"
      ],
      "text/plain": [
       "          hexagons     lon      lat  index_righ      NAME_1  id  \\\n",
       "0  875534089ffffff 27.7667 -12.8546      1.0000  Copperbelt   1   \n",
       "1  875536800ffffff 27.8960 -13.7010      1.0000  Copperbelt   2   \n",
       "2  875530cc2ffffff 26.9772 -13.3073      1.0000  Copperbelt   3   \n",
       "\n",
       "                                            geometry  Energy Elec (TJ)  \\\n",
       "0  POLYGON ((27.77946 -12.85905, 27.76939 -12.869...               NaN   \n",
       "1  POLYGON ((27.90878 -13.70559, 27.89862 -13.715...               NaN   \n",
       "2  POLYGON ((26.98992 -13.31174, 26.97981 -13.321...               NaN   \n",
       "\n",
       "   IndEne_TJ  \n",
       "0        NaN  \n",
       "1        NaN  \n",
       "2        NaN  "
      ]
     },
     "execution_count": 17,
     "metadata": {},
     "output_type": "execute_result"
    }
   ],
   "source": [
    "grid.to_file(out_path + 'ind_energy_map.shp', index=False)\n",
    "grid.head(3)"
   ]
  },
  {
   "cell_type": "code",
   "execution_count": 18,
   "id": "4dfec839",
   "metadata": {},
   "outputs": [
    {
     "data": {
      "text/plain": [
       "0      NaN\n",
       "1      NaN\n",
       "2      NaN\n",
       "3      NaN\n",
       "4      NaN\n",
       "        ..\n",
       "5109   NaN\n",
       "5110   NaN\n",
       "5111   NaN\n",
       "5112   NaN\n",
       "5113   NaN\n",
       "Name: Energy Elec (TJ), Length: 5114, dtype: float64"
      ]
     },
     "execution_count": 18,
     "metadata": {},
     "output_type": "execute_result"
    }
   ],
   "source": [
    "grid[columnNameMines]"
   ]
  },
  {
   "cell_type": "code",
   "execution_count": null,
   "id": "6cbf4d20-3829-4cd6-8e69-89a7e3bf08f9",
   "metadata": {},
   "outputs": [],
   "source": []
  }
 ],
 "metadata": {
  "kernelspec": {
   "display_name": "Python 3 (ipykernel)",
   "language": "python",
   "name": "python3"
  },
  "language_info": {
   "codemirror_mode": {
    "name": "ipython",
    "version": 3
   },
   "file_extension": ".py",
   "mimetype": "text/x-python",
   "name": "python",
   "nbconvert_exporter": "python",
   "pygments_lexer": "ipython3",
   "version": "3.8.12"
  }
 },
 "nbformat": 4,
 "nbformat_minor": 5
}
