{
 "cells": [
  {
   "cell_type": "markdown",
   "id": "6b3e3ab9",
   "metadata": {},
   "source": [
    "# Industry energy demand"
   ]
  },
  {
   "cell_type": "markdown",
   "id": "8a72f689",
   "metadata": {
    "jp-MarkdownHeadingCollapsed": true
   },
   "source": [
    "### Import necessary modules"
   ]
  },
  {
   "cell_type": "code",
   "execution_count": 1,
   "id": "d2ef8efe",
   "metadata": {},
   "outputs": [
    {
     "name": "stdout",
     "output_type": "stream",
     "text": [
      "Move to C:\\Users\\amillot\\PycharmProjects\\DemandMappingZambia\n"
     ]
    }
   ],
   "source": [
    "# Check if we are running the notebook directly, if so move workspace to parent dir\n",
    "import sys\n",
    "import os\n",
    "currentdir = os.path.abspath(os.getcwd())\n",
    "if os.path.basename(currentdir) != 'DemandMappingZambia':  \n",
    "  sys.path.insert(0, os.path.dirname(currentdir))\n",
    "  os.chdir('..')\n",
    "  print(f'Move to {os.getcwd()}')"
   ]
  },
  {
   "cell_type": "code",
   "execution_count": 2,
   "id": "97721d9d",
   "metadata": {
    "code_folding": [
     0
    ]
   },
   "outputs": [],
   "source": [
    "### Activate geospatial_env first\n",
    "\n",
    "# Numeric\n",
    "import numpy as np\n",
    "import pandas as pd\n",
    "import math\n",
    "\n",
    "# System\n",
    "import os\n",
    "import shutil\n",
    "from IPython.display import display, Markdown, HTML, FileLink, FileLinks\n",
    "\n",
    "# Spatial\n",
    "import geopandas as gpd\n",
    "import json\n",
    "import pyproj\n",
    "from shapely.geometry import Point, Polygon, MultiPoint\n",
    "from shapely.wkt import dumps, loads\n",
    "from shapely.ops import nearest_points\n",
    "from pyproj import CRS\n",
    "import ogr, gdal, osr\n",
    "#import fiona\n",
    "\n",
    "\n",
    "# Mapping / Plotting\n",
    "from functools import reduce\n",
    "#import datapane as dp \n",
    "#!datapane login --token=\"9bde41bfbc4ad14119e32086f9f06d2e5db1d5b8\"\n",
    "import folium\n",
    "from folium.features import GeoJsonTooltip\n",
    "from folium.plugins import BeautifyIcon\n",
    "from folium.plugins import HeatMap\n",
    "import branca.colormap as cm\n",
    "import matplotlib.pyplot as plt\n",
    "from matplotlib.ticker import MaxNLocator\n",
    "%matplotlib inline\n",
    "\n",
    "%matplotlib inline"
   ]
  },
  {
   "cell_type": "code",
   "execution_count": 3,
   "id": "b36d0daf",
   "metadata": {
    "code_folding": [
     0
    ]
   },
   "outputs": [],
   "source": [
    "#import geopandas as gpd   # Note that you require geopandas version >= 0.7 that incluse clip see here for installation (https://gis.stackexchange.com/questions/360127/geopandas-0-6-1-installed-instead-of-0-7-0-in-conda-windows-10#)\n",
    "import os\n",
    "import fiona\n",
    "import ipywidgets as widgets\n",
    "from IPython.display import display\n",
    "from rasterstats import zonal_stats\n",
    "import rasterio\n",
    "from geojson import Feature, Point, FeatureCollection\n",
    "import rasterio.fill\n",
    "from shapely.geometry import shape, mapping\n",
    "import json\n",
    "#from earthpy import clip    clip has been deprecated to geopandas\n",
    "#import earthpy.spatial as es\n",
    "import numpy as np\n",
    "import tkinter as tk\n",
    "from tkinter import filedialog, messagebox\n",
    "import gdal\n",
    "import datetime\n",
    "import warnings\n",
    "import pandas as pd\n",
    "import scipy.spatial\n",
    "warnings.filterwarnings('ignore')\n",
    "\n",
    "#import contextily as ctx\n",
    "import h3 as h3\n",
    "from shapely.ops import unary_union\n",
    "from shapely.geometry.polygon import Polygon\n",
    "\n",
    "root = tk.Tk()\n",
    "root.withdraw()\n",
    "root.attributes(\"-topmost\", True)\n",
    "\n",
    "pd.options.display.float_format = '{:,.4f}'.format"
   ]
  },
  {
   "cell_type": "code",
   "execution_count": 4,
   "id": "23568fe2",
   "metadata": {},
   "outputs": [],
   "source": [
    "from utils import processing_raster, finalizing_rasters, spatialjoinvectors"
   ]
  },
  {
   "cell_type": "markdown",
   "id": "3b96287f",
   "metadata": {},
   "source": [
    "### Define directories and dataset names"
   ]
  },
  {
   "cell_type": "code",
   "execution_count": 5,
   "id": "4daf9e7a",
   "metadata": {
    "code_folding": []
   },
   "outputs": [],
   "source": [
    "### Define directories and dataset names\n",
    "ROOT_DIR = os.path.abspath(os.curdir)\n",
    "in_path = ROOT_DIR\n",
    "out_path = ROOT_DIR + \"/Outputs/\"\n",
    "\n",
    "## mines layer\n",
    "ind_data_path = in_path + \"/Industry/Data/\"\n",
    "mines_path = ind_data_path + \"mines\"\n",
    "# mines_name = 'mines_zambia.gpkg'\n",
    "mines_name = 'mineral_facilities_zambia_Mar_2024.gpkg'\n",
    "file_mines = 'Zambia_filter_facilities_changed_negativeInput.csv'"
   ]
  },
  {
   "cell_type": "code",
   "execution_count": 6,
   "id": "73da41d8",
   "metadata": {},
   "outputs": [],
   "source": [
    "## Coordinate and projection systems\n",
    "crs_WGS84 = CRS(\"EPSG:4326\")    # Originan WGS84 coordinate system\n",
    "crs_proj = CRS(\"EPSG:32736\")    # Projection system for the selected country -- see http://epsg.io/ for more info"
   ]
  },
  {
   "cell_type": "markdown",
   "id": "89ce9598",
   "metadata": {},
   "source": [
    "### Define area of interest"
   ]
  },
  {
   "cell_type": "code",
   "execution_count": 7,
   "id": "07ab2d60",
   "metadata": {},
   "outputs": [],
   "source": [
    "try: area\n",
    "except NameError: area = \"COUNTRY\"\n",
    "# area = \"Copperbelt\""
   ]
  },
  {
   "cell_type": "markdown",
   "id": "bc6f1e0d",
   "metadata": {},
   "source": [
    "### Import layers to be used"
   ]
  },
  {
   "cell_type": "code",
   "execution_count": 8,
   "id": "82e24575",
   "metadata": {},
   "outputs": [],
   "source": [
    "hexagons = gpd.read_file(out_path + \"h3_grid_at_hex_7.shp\")"
   ]
  },
  {
   "cell_type": "code",
   "execution_count": 9,
   "id": "1879276e",
   "metadata": {},
   "outputs": [],
   "source": [
    "grid = hexagons"
   ]
  },
  {
   "cell_type": "code",
   "execution_count": 10,
   "id": "984deae0",
   "metadata": {},
   "outputs": [],
   "source": [
    "## mines\n",
    "# mines = gpd.read_file(mines_path + mines_name)"
   ]
  },
  {
   "cell_type": "code",
   "execution_count": 11,
   "id": "60d0782c",
   "metadata": {},
   "outputs": [],
   "source": [
    "# ## admininstrative boundary\n",
    "admin_gdf = gpd.read_file(out_path + \"area_gdf.gpkg\")"
   ]
  },
  {
   "cell_type": "markdown",
   "id": "3fe9f80f",
   "metadata": {},
   "source": [
    "# Part 1. Extract GIS-based attributes"
   ]
  },
  {
   "cell_type": "markdown",
   "id": "6f507f2b",
   "metadata": {},
   "source": [
    "## Extract information from vector layers"
   ]
  },
  {
   "cell_type": "markdown",
   "id": "5fa65213-1330-4ec8-af7a-58fcff3f63c3",
   "metadata": {},
   "source": [
    "Assess the energy consumption per site"
   ]
  },
  {
   "cell_type": "code",
   "execution_count": 12,
   "id": "41900bd5-13c0-4285-9913-65a932f5170d",
   "metadata": {},
   "outputs": [
    {
     "name": "stdout",
     "output_type": "stream",
     "text": [
      "Production at a site  Fitwaola Open Pit Mine  in  Zambia  is missing (negative). Value set to zero. Please, change the input in the input file.\n",
      "Production at a site  Mkushi Heap Leach  in  Zambia  is missing (negative). Value set to zero. Please, change the input in the input file.\n",
      "Production at a site  Mufulira West Heap-Leach Facility  in  Zambia  is missing (negative). Value set to zero. Please, change the input in the input file.\n"
     ]
    }
   ],
   "source": [
    "## Attribute energy consumption to each copper production site\n",
    "# mines_input_file = pd.read_excel(os.path.join(ind_data_path, \"Zambia_filter_facilities_changed_negativeInput.xlsx\"),sheet_name=[\"Tabelle1\"],skiprows=0)[\"Tabelle1\"]\n",
    "mines_input_file = pd.read_csv(ind_data_path + file_mines)\n",
    "from energy_per_site import *\n",
    "calc_energy_per_site(mines_path,mines_input_file)\n",
    "\n",
    "## Missing! Automatic conversion of csv files with site energies into gpkg file"
   ]
  },
  {
   "cell_type": "markdown",
   "id": "f5614351",
   "metadata": {},
   "source": [
    "Extract sum production of mines in each cluster (hex)"
   ]
  },
  {
   "cell_type": "code",
   "execution_count": 18,
   "id": "afa26fa1",
   "metadata": {},
   "outputs": [],
   "source": [
    "## Run the extraction\n",
    "#grid.drop(['Commodity Production - tonne (tonnes)'], axis=1, inplace=True) ##uncomment if you want to rerun\n",
    "# columnNameMines = \"Commodity Production - tonne (tonnes)\"\n",
    "#columnNameMines = 'Ore processed (tonnes)'\n",
    "# grid[columnNameMines] = grid[columnNameMines].fillna(0)\n",
    "# grid.head(4)\n",
    "# grid[columnNameMines].sum()\n",
    "\n",
    "columnName_ElecConsumptionMines = 'Energy Elec [TJ]'\n",
    "file = os.path.join(mines_path,mines_name)\n",
    "grid, mines = spatialjoinvectors(\"EnergyMines\", columnName_ElecConsumptionMines, admin_gdf, crs_WGS84, grid, \"sum\", file)"
   ]
  },
  {
   "cell_type": "markdown",
   "id": "fc80f432",
   "metadata": {},
   "source": [
    "# Part 2. Compute demand"
   ]
  },
  {
   "cell_type": "code",
   "execution_count": 19,
   "id": "2ee0d1e7",
   "metadata": {},
   "outputs": [
    {
     "name": "stdout",
     "output_type": "stream",
     "text": [
      "total statistical nonFerrousMetals electricity consumption: 22,897.0 TJ or  6.4 TWh\n",
      "total statistical mining electricity consumption: 818.0 TJ or  0.2 TWh\n",
      "total statistical nonFerrousMetals and mining electricity consumption: 23,715.0 TJ or  6.6 TWh\n"
     ]
    }
   ],
   "source": [
    "# Enegery balance from UN Stats\n",
    "energyBalance_path = \"EnergyBalance/\"\n",
    "file_energyBalance = \"UNSD+DF_UNData_EnergyBalance+1.0_Zambia.csv\"\n",
    "eb = pd.read_csv(energyBalance_path + file_energyBalance)\n",
    "code_elec = \"B07_EL\"\n",
    "code_ind_nFM=  \"B29_1214a\"\n",
    "code_ind_mining =  \"B33_1214e\"\n",
    "\n",
    "elec_nonFerrousMetals_TJ = eb.loc[(eb['COMMODITY'] == code_elec) & (eb['TRANSACTION'] == code_ind_nFM) & (eb['TIME_PERIOD'] == 2019 ), 'OBS_VALUE'] #TJ\n",
    "elec_mining_TJ = eb.loc[(eb['COMMODITY'] == code_elec) & (eb['TRANSACTION'] == code_ind_mining) & (eb['TIME_PERIOD'] == 2019 ), 'OBS_VALUE'] #TJ\n",
    "elec_nonFerrousMetals_TJ = pd.to_numeric(elec_nonFerrousMetals_TJ.str.replace(',', '')) # convert to numeric and remove commas\n",
    "elec_nonFerrousMetals_TJ = elec_nonFerrousMetals_TJ.iloc[0]\n",
    "elec_mining_TJ = pd.to_numeric(elec_mining_TJ.str.replace(',', '')) # convert to numeric and remove commas\n",
    "elec_mining_TJ = elec_mining_TJ.iloc[0]\n",
    "\n",
    "elec_nonFerrousMetals = elec_nonFerrousMetals_TJ /(3600) *10**6 # (3.6e-6) #conversion in MWh\n",
    "elec_mining = elec_mining_TJ /(3600) *10**6 #conversion in MWh\n",
    "\n",
    "print(\"total statistical nonFerrousMetals electricity consumption:\",f\"{elec_nonFerrousMetals_TJ:,.1f}\", \"TJ or \", f\"{elec_nonFerrousMetals/10**6:,.1f}\", \"TWh\")\n",
    "print(\"total statistical mining electricity consumption:\",f\"{elec_mining_TJ:,.1f}\", \"TJ or \", f\"{elec_mining/10**6:,.1f}\", \"TWh\")\n",
    "print(\"total statistical nonFerrousMetals and mining electricity consumption:\",f\"{elec_nonFerrousMetals_TJ+elec_mining_TJ:,.1f}\", \"TJ or \", f\"{(elec_nonFerrousMetals+elec_mining)/10**6:,.1f}\", \"TWh\")"
   ]
  },
  {
   "cell_type": "code",
   "execution_count": 20,
   "id": "9fa91d78",
   "metadata": {},
   "outputs": [
    {
     "name": "stdout",
     "output_type": "stream",
     "text": [
      "total calculated energy consumption: 17,986.6 TJ or  5.0 TWh\n",
      "Coverage energy in total statistical nonFerrousMetals and mining electricity consumption: 76 %\n"
     ]
    }
   ],
   "source": [
    "# Assess total energy consumption and total production\n",
    "total_elec_energy_consum = mines[columnName_ElecConsumptionMines].sum() # total \n",
    "coverage_elec_nonFe_mining = total_elec_energy_consum/(elec_nonFerrousMetals_TJ+elec_mining_TJ)\n",
    "\n",
    "# print(\"total production:\", f\"{total_production/10**3:,.0f}\", \"kt\")\n",
    "print(\"total calculated energy consumption:\", f\"{total_elec_energy_consum:,.1f}\", \"TJ or \", f\"{total_elec_energy_consum/3600:,.1f}\", \"TWh\")\n",
    "print(\"Coverage energy in total statistical nonFerrousMetals and mining electricity consumption:\", f\"{coverage_elec_nonFe_mining*100:,.0f}\", \"%\")"
   ]
  },
  {
   "cell_type": "code",
   "execution_count": 21,
   "id": "bd011a89",
   "metadata": {},
   "outputs": [
    {
     "data": {
      "text/html": [
       "<div>\n",
       "<style scoped>\n",
       "    .dataframe tbody tr th:only-of-type {\n",
       "        vertical-align: middle;\n",
       "    }\n",
       "\n",
       "    .dataframe tbody tr th {\n",
       "        vertical-align: top;\n",
       "    }\n",
       "\n",
       "    .dataframe thead th {\n",
       "        text-align: right;\n",
       "    }\n",
       "</style>\n",
       "<table border=\"1\" class=\"dataframe\">\n",
       "  <thead>\n",
       "    <tr style=\"text-align: right;\">\n",
       "      <th></th>\n",
       "      <th>hexagons</th>\n",
       "      <th>lon</th>\n",
       "      <th>lat</th>\n",
       "      <th>index_righ</th>\n",
       "      <th>NAME_1</th>\n",
       "      <th>id</th>\n",
       "      <th>geometry</th>\n",
       "      <th>Energy Elec [TJ]</th>\n",
       "      <th>IndEne_TJ</th>\n",
       "    </tr>\n",
       "  </thead>\n",
       "  <tbody>\n",
       "    <tr>\n",
       "      <th>0</th>\n",
       "      <td>8755a5318ffffff</td>\n",
       "      <td>24.2419</td>\n",
       "      <td>-16.6315</td>\n",
       "      <td>9.0000</td>\n",
       "      <td>Western</td>\n",
       "      <td>1</td>\n",
       "      <td>POLYGON ((24.25439 -16.63633, 24.24407 -16.645...</td>\n",
       "      <td>NaN</td>\n",
       "      <td>NaN</td>\n",
       "    </tr>\n",
       "    <tr>\n",
       "      <th>1</th>\n",
       "      <td>873980648ffffff</td>\n",
       "      <td>31.5613</td>\n",
       "      <td>-8.8282</td>\n",
       "      <td>7.0000</td>\n",
       "      <td>Northern</td>\n",
       "      <td>2</td>\n",
       "      <td>POLYGON ((31.57429 -8.83211, 31.56467 -8.84303...</td>\n",
       "      <td>NaN</td>\n",
       "      <td>NaN</td>\n",
       "    </tr>\n",
       "    <tr>\n",
       "      <th>2</th>\n",
       "      <td>8755ac054ffffff</td>\n",
       "      <td>22.5934</td>\n",
       "      <td>-16.0925</td>\n",
       "      <td>9.0000</td>\n",
       "      <td>Western</td>\n",
       "      <td>3</td>\n",
       "      <td>POLYGON ((22.60573 -16.09723, 22.59554 -16.106...</td>\n",
       "      <td>NaN</td>\n",
       "      <td>NaN</td>\n",
       "    </tr>\n",
       "  </tbody>\n",
       "</table>\n",
       "</div>"
      ],
      "text/plain": [
       "          hexagons     lon      lat  index_righ    NAME_1  id  \\\n",
       "0  8755a5318ffffff 24.2419 -16.6315      9.0000   Western   1   \n",
       "1  873980648ffffff 31.5613  -8.8282      7.0000  Northern   2   \n",
       "2  8755ac054ffffff 22.5934 -16.0925      9.0000   Western   3   \n",
       "\n",
       "                                            geometry  Energy Elec [TJ]  \\\n",
       "0  POLYGON ((24.25439 -16.63633, 24.24407 -16.645...               NaN   \n",
       "1  POLYGON ((31.57429 -8.83211, 31.56467 -8.84303...               NaN   \n",
       "2  POLYGON ((22.60573 -16.09723, 22.59554 -16.106...               NaN   \n",
       "\n",
       "   IndEne_TJ  \n",
       "0        NaN  \n",
       "1        NaN  \n",
       "2        NaN  "
      ]
     },
     "execution_count": 21,
     "metadata": {},
     "output_type": "execute_result"
    }
   ],
   "source": [
    "#Allocate to each hexagon the industry energy consumption\n",
    "#grid[\"IndEnergy\"]=grid[columnNameMines]*energycons_perton\n",
    "# adjust energy consumption if coverage is the whole country\n",
    "if area == \"COUNTRY\":\n",
    "    grid[\"IndEne_TJ\"]=grid[columnName_ElecConsumptionMines]/coverage_elec_nonFe_mining # TJ\n",
    "else:\n",
    "    grid[\"IndEne_TJ\"]=grid[columnName_ElecConsumptionMines] # TJ\n",
    "grid.head(3)"
   ]
  },
  {
   "cell_type": "code",
   "execution_count": 22,
   "id": "65aa4da6",
   "metadata": {},
   "outputs": [
    {
     "name": "stdout",
     "output_type": "stream",
     "text": [
      "Industry electricity consumption in COUNTRY : 6.6 TWh\n"
     ]
    }
   ],
   "source": [
    "total_industryenergy = grid[\"IndEne_TJ\"].sum()\n",
    "#print(\"Industry electricity consumption:\",f\"{total_industryenergy/10**6:,.0f}\", \"TWh\")\n",
    "print(\"Industry electricity consumption in\",f\"{area}\", \":\",f\"{total_industryenergy/3600:,.1f}\", \"TWh\")"
   ]
  },
  {
   "cell_type": "code",
   "execution_count": 25,
   "id": "64468d6b",
   "metadata": {},
   "outputs": [
    {
     "data": {
      "text/html": [
       "<div>\n",
       "<style scoped>\n",
       "    .dataframe tbody tr th:only-of-type {\n",
       "        vertical-align: middle;\n",
       "    }\n",
       "\n",
       "    .dataframe tbody tr th {\n",
       "        vertical-align: top;\n",
       "    }\n",
       "\n",
       "    .dataframe thead th {\n",
       "        text-align: right;\n",
       "    }\n",
       "</style>\n",
       "<table border=\"1\" class=\"dataframe\">\n",
       "  <thead>\n",
       "    <tr style=\"text-align: right;\">\n",
       "      <th></th>\n",
       "      <th>hexagons</th>\n",
       "      <th>lon</th>\n",
       "      <th>lat</th>\n",
       "      <th>index_righ</th>\n",
       "      <th>NAME_1</th>\n",
       "      <th>id</th>\n",
       "      <th>geometry</th>\n",
       "      <th>Energy Elec [TJ]</th>\n",
       "      <th>IndEne_TJ</th>\n",
       "    </tr>\n",
       "  </thead>\n",
       "  <tbody>\n",
       "    <tr>\n",
       "      <th>0</th>\n",
       "      <td>8755a5318ffffff</td>\n",
       "      <td>24.2419</td>\n",
       "      <td>-16.6315</td>\n",
       "      <td>9.0000</td>\n",
       "      <td>Western</td>\n",
       "      <td>1</td>\n",
       "      <td>POLYGON ((24.25439 -16.63633, 24.24407 -16.645...</td>\n",
       "      <td>NaN</td>\n",
       "      <td>NaN</td>\n",
       "    </tr>\n",
       "    <tr>\n",
       "      <th>1</th>\n",
       "      <td>873980648ffffff</td>\n",
       "      <td>31.5613</td>\n",
       "      <td>-8.8282</td>\n",
       "      <td>7.0000</td>\n",
       "      <td>Northern</td>\n",
       "      <td>2</td>\n",
       "      <td>POLYGON ((31.57429 -8.83211, 31.56467 -8.84303...</td>\n",
       "      <td>NaN</td>\n",
       "      <td>NaN</td>\n",
       "    </tr>\n",
       "    <tr>\n",
       "      <th>2</th>\n",
       "      <td>8755ac054ffffff</td>\n",
       "      <td>22.5934</td>\n",
       "      <td>-16.0925</td>\n",
       "      <td>9.0000</td>\n",
       "      <td>Western</td>\n",
       "      <td>3</td>\n",
       "      <td>POLYGON ((22.60573 -16.09723, 22.59554 -16.106...</td>\n",
       "      <td>NaN</td>\n",
       "      <td>NaN</td>\n",
       "    </tr>\n",
       "  </tbody>\n",
       "</table>\n",
       "</div>"
      ],
      "text/plain": [
       "          hexagons     lon      lat  index_righ    NAME_1  id  \\\n",
       "0  8755a5318ffffff 24.2419 -16.6315      9.0000   Western   1   \n",
       "1  873980648ffffff 31.5613  -8.8282      7.0000  Northern   2   \n",
       "2  8755ac054ffffff 22.5934 -16.0925      9.0000   Western   3   \n",
       "\n",
       "                                            geometry  Energy Elec [TJ]  \\\n",
       "0  POLYGON ((24.25439 -16.63633, 24.24407 -16.645...               NaN   \n",
       "1  POLYGON ((31.57429 -8.83211, 31.56467 -8.84303...               NaN   \n",
       "2  POLYGON ((22.60573 -16.09723, 22.59554 -16.106...               NaN   \n",
       "\n",
       "   IndEne_TJ  \n",
       "0        NaN  \n",
       "1        NaN  \n",
       "2        NaN  "
      ]
     },
     "execution_count": 25,
     "metadata": {},
     "output_type": "execute_result"
    }
   ],
   "source": [
    "grid.to_file(out_path + 'ind_energy_map.shp', index=False)\n",
    "grid.head(3)"
   ]
  },
  {
   "cell_type": "code",
   "execution_count": 26,
   "id": "d4b3bfed",
   "metadata": {},
   "outputs": [
    {
     "data": {
      "text/plain": [
       "0        NaN\n",
       "1        NaN\n",
       "2        NaN\n",
       "3        NaN\n",
       "4        NaN\n",
       "          ..\n",
       "122983   NaN\n",
       "122984   NaN\n",
       "122985   NaN\n",
       "122986   NaN\n",
       "122987   NaN\n",
       "Name: Energy Elec [TJ], Length: 122988, dtype: float64"
      ]
     },
     "execution_count": 26,
     "metadata": {},
     "output_type": "execute_result"
    }
   ],
   "source": [
    "grid[columnName_ElecConsumptionMines]"
   ]
  },
  {
   "cell_type": "code",
   "execution_count": null,
   "id": "ed8a62be",
   "metadata": {},
   "outputs": [],
   "source": []
  }
 ],
 "metadata": {
  "kernelspec": {
   "display_name": "Python 3 (ipykernel)",
   "language": "python",
   "name": "python3"
  },
  "language_info": {
   "codemirror_mode": {
    "name": "ipython",
    "version": 3
   },
   "file_extension": ".py",
   "mimetype": "text/x-python",
   "name": "python",
   "nbconvert_exporter": "python",
   "pygments_lexer": "ipython3",
   "version": "3.8.12"
  }
 },
 "nbformat": 4,
 "nbformat_minor": 5
}
