{
 "cells": [
  {
   "cell_type": "markdown",
   "id": "3cb800bf",
   "metadata": {},
   "source": [
    "# Industry energy demand"
   ]
  },
  {
   "cell_type": "markdown",
   "id": "045225b4",
   "metadata": {
    "jp-MarkdownHeadingCollapsed": true
   },
   "source": [
    "### Import necessary modules"
   ]
  },
  {
   "cell_type": "code",
   "execution_count": 2,
   "id": "fc008be3",
   "metadata": {},
   "outputs": [
    {
     "name": "stdout",
     "output_type": "stream",
     "text": [
      "Move to H:\\Projekte\\DemandMappingZambia\n"
     ]
    }
   ],
   "source": [
    "# Check if we are running the notebook directly, if so move workspace to parent dir\n",
    "import sys\n",
    "import os\n",
    "currentdir = os.path.abspath(os.getcwd())\n",
    "if os.path.basename(currentdir) != 'DemandMappingZambia':  \n",
    "  sys.path.insert(0, os.path.dirname(currentdir))\n",
    "  os.chdir('..')\n",
    "  print(f'Move to {os.getcwd()}')"
   ]
  },
  {
   "cell_type": "code",
   "execution_count": 3,
   "id": "2defd08a",
   "metadata": {
    "code_folding": [
     0
    ]
   },
   "outputs": [],
   "source": [
    "### Activate geospatial_env first\n",
    "\n",
    "# Numeric\n",
    "import numpy as np\n",
    "import pandas as pd\n",
    "import math\n",
    "\n",
    "# System\n",
    "import os\n",
    "import shutil\n",
    "from IPython.display import display, Markdown, HTML, FileLink, FileLinks\n",
    "\n",
    "# Spatial\n",
    "import geopandas as gpd\n",
    "import json\n",
    "import pyproj\n",
    "from shapely.geometry import Point, Polygon, MultiPoint\n",
    "from shapely.wkt import dumps, loads\n",
    "from shapely.ops import nearest_points\n",
    "from pyproj import CRS\n",
    "import ogr, gdal, osr\n",
    "#import fiona\n",
    "\n",
    "\n",
    "# Mapping / Plotting\n",
    "from functools import reduce\n",
    "#import datapane as dp \n",
    "#!datapane login --token=\"9bde41bfbc4ad14119e32086f9f06d2e5db1d5b8\"\n",
    "import folium\n",
    "from folium.features import GeoJsonTooltip\n",
    "from folium.plugins import BeautifyIcon\n",
    "from folium.plugins import HeatMap\n",
    "import branca.colormap as cm\n",
    "import matplotlib.pyplot as plt\n",
    "from matplotlib.ticker import MaxNLocator\n",
    "%matplotlib inline\n",
    "\n",
    "%matplotlib inline"
   ]
  },
  {
   "cell_type": "code",
   "execution_count": 4,
   "id": "bb02e124",
   "metadata": {
    "code_folding": [
     0
    ]
   },
   "outputs": [],
   "source": [
    "#import geopandas as gpd   # Note that you require geopandas version >= 0.7 that incluse clip see here for installation (https://gis.stackexchange.com/questions/360127/geopandas-0-6-1-installed-instead-of-0-7-0-in-conda-windows-10#)\n",
    "import os\n",
    "import fiona\n",
    "import ipywidgets as widgets\n",
    "from IPython.display import display\n",
    "from rasterstats import zonal_stats\n",
    "import rasterio\n",
    "from geojson import Feature, Point, FeatureCollection\n",
    "import rasterio.fill\n",
    "from shapely.geometry import shape, mapping\n",
    "import json\n",
    "#from earthpy import clip    clip has been deprecated to geopandas\n",
    "#import earthpy.spatial as es\n",
    "import numpy as np\n",
    "import tkinter as tk\n",
    "from tkinter import filedialog, messagebox\n",
    "import gdal\n",
    "import datetime\n",
    "import warnings\n",
    "import pandas as pd\n",
    "import scipy.spatial\n",
    "warnings.filterwarnings('ignore')\n",
    "\n",
    "#import contextily as ctx\n",
    "import h3 as h3\n",
    "from shapely.ops import unary_union\n",
    "from shapely.geometry.polygon import Polygon\n",
    "\n",
    "root = tk.Tk()\n",
    "root.withdraw()\n",
    "root.attributes(\"-topmost\", True)\n",
    "\n",
    "pd.options.display.float_format = '{:,.4f}'.format"
   ]
  },
  {
   "cell_type": "code",
   "execution_count": 5,
   "id": "52b796bc",
   "metadata": {},
   "outputs": [],
   "source": [
    "from utils import processing_raster, finalizing_rasters, spatialjoinvectors"
   ]
  },
  {
   "cell_type": "markdown",
   "id": "1a28597c",
   "metadata": {
    "jp-MarkdownHeadingCollapsed": true
   },
   "source": [
    "### Define directories and dataset names"
   ]
  },
  {
   "cell_type": "code",
   "execution_count": 6,
   "id": "2909bc0d",
   "metadata": {
    "code_folding": []
   },
   "outputs": [],
   "source": [
    "### Define directories and dataset names\n",
    "ROOT_DIR = os.path.abspath(os.curdir)\n",
    "in_path = ROOT_DIR\n",
    "out_path = ROOT_DIR + \"/Outputs\"\n",
    "\n",
    "## admininstrative boundary\n",
    "admin_path = in_path + \"\\\\\"+ 'admin'\n",
    "admin_name = \"Copperbelt.gpkg\"\n",
    "adm_col_name = \"ADM1_NAME\"          ## Provide the name of the column you want to use to clip the hexagons e.g., \"NAME\" or \"ADM1_NAME\"\n",
    "\n",
    "## mines layer\n",
    "mines_path = in_path + \"/Industry/Data/mines\"\n",
    "# mines_name = 'mines_zambia.gpkg'\n",
    "mines_name = 'mineral_facilities_zambia_Dec_2023.gpkg'"
   ]
  },
  {
   "cell_type": "code",
   "execution_count": 7,
   "id": "144ebc3d",
   "metadata": {},
   "outputs": [],
   "source": [
    "## Coordinate and projection systems\n",
    "crs_WGS84 = CRS(\"EPSG:4326\")    # Originan WGS84 coordinate system\n",
    "crs_proj = CRS(\"EPSG:32736\")    # Projection system for the selected country -- see http://epsg.io/ for more info"
   ]
  },
  {
   "cell_type": "markdown",
   "id": "9fe479ba",
   "metadata": {
    "jp-MarkdownHeadingCollapsed": true
   },
   "source": [
    "### Import layers to be used"
   ]
  },
  {
   "cell_type": "code",
   "execution_count": 8,
   "id": "a1ee65cf",
   "metadata": {},
   "outputs": [],
   "source": [
    "hexagons = gpd.read_file(out_path + \"\\\\\" + \"h3_grid_at_hex_7.shp\")"
   ]
  },
  {
   "cell_type": "code",
   "execution_count": 9,
   "id": "5bb11b31",
   "metadata": {},
   "outputs": [],
   "source": [
    "grid = hexagons"
   ]
  },
  {
   "cell_type": "code",
   "execution_count": 10,
   "id": "88afb4a2",
   "metadata": {},
   "outputs": [],
   "source": [
    "## mines\n",
    "mines = gpd.read_file(mines_path + \"/\" + mines_name)"
   ]
  },
  {
   "cell_type": "code",
   "execution_count": 11,
   "id": "6b9feff2",
   "metadata": {},
   "outputs": [],
   "source": [
    "## admininstrative boundary\n",
    "admin_gdf = gpd.read_file(admin_path + \"/\" + admin_name)"
   ]
  },
  {
   "cell_type": "markdown",
   "id": "5b86b9bc",
   "metadata": {},
   "source": [
    "# Part 1. Extract GIS-based attributes"
   ]
  },
  {
   "cell_type": "markdown",
   "id": "49bd213a",
   "metadata": {},
   "source": [
    "## Extract information from vector layers"
   ]
  },
  {
   "cell_type": "markdown",
   "id": "4c627878",
   "metadata": {},
   "source": [
    "Extract sum production of mines in each cluster (hex)"
   ]
  },
  {
   "cell_type": "code",
   "execution_count": 12,
   "id": "0f1ee0c9",
   "metadata": {},
   "outputs": [
    {
     "data": {
      "text/html": [
       "<div>\n",
       "<style scoped>\n",
       "    .dataframe tbody tr th:only-of-type {\n",
       "        vertical-align: middle;\n",
       "    }\n",
       "\n",
       "    .dataframe tbody tr th {\n",
       "        vertical-align: top;\n",
       "    }\n",
       "\n",
       "    .dataframe thead th {\n",
       "        text-align: right;\n",
       "    }\n",
       "</style>\n",
       "<table border=\"1\" class=\"dataframe\">\n",
       "  <thead>\n",
       "    <tr style=\"text-align: right;\">\n",
       "      <th></th>\n",
       "      <th>hexagons</th>\n",
       "      <th>lon</th>\n",
       "      <th>lat</th>\n",
       "      <th>index_righ</th>\n",
       "      <th>ADM1_NAME</th>\n",
       "      <th>id</th>\n",
       "      <th>geometry</th>\n",
       "      <th>Energy Elec (TJ)</th>\n",
       "    </tr>\n",
       "  </thead>\n",
       "  <tbody>\n",
       "    <tr>\n",
       "      <th>0</th>\n",
       "      <td>875534665ffffff</td>\n",
       "      <td>27.4684</td>\n",
       "      <td>-12.7930</td>\n",
       "      <td>0.0000</td>\n",
       "      <td>COPPERBELT</td>\n",
       "      <td>1</td>\n",
       "      <td>POLYGON ((27.48116 -12.79734, 27.47111 -12.807...</td>\n",
       "      <td>0.0000</td>\n",
       "    </tr>\n",
       "    <tr>\n",
       "      <th>1</th>\n",
       "      <td>875536804ffffff</td>\n",
       "      <td>27.9189</td>\n",
       "      <td>-13.6953</td>\n",
       "      <td>0.0000</td>\n",
       "      <td>COPPERBELT</td>\n",
       "      <td>2</td>\n",
       "      <td>POLYGON ((27.93173 -13.69992, 27.92157 -13.710...</td>\n",
       "      <td>0.0000</td>\n",
       "    </tr>\n",
       "    <tr>\n",
       "      <th>2</th>\n",
       "      <td>875536815ffffff</td>\n",
       "      <td>27.9039</td>\n",
       "      <td>-13.7454</td>\n",
       "      <td>0.0000</td>\n",
       "      <td>COPPERBELT</td>\n",
       "      <td>3</td>\n",
       "      <td>POLYGON ((27.91667 -13.75003, 27.90651 -13.760...</td>\n",
       "      <td>0.0000</td>\n",
       "    </tr>\n",
       "    <tr>\n",
       "      <th>3</th>\n",
       "      <td>87346970effffff</td>\n",
       "      <td>28.3954</td>\n",
       "      <td>-13.8803</td>\n",
       "      <td>0.0000</td>\n",
       "      <td>COPPERBELT</td>\n",
       "      <td>4</td>\n",
       "      <td>POLYGON ((28.40823 -13.88488, 28.39805 -13.895...</td>\n",
       "      <td>0.0000</td>\n",
       "    </tr>\n",
       "  </tbody>\n",
       "</table>\n",
       "</div>"
      ],
      "text/plain": [
       "          hexagons     lon      lat  index_righ   ADM1_NAME  id  \\\n",
       "0  875534665ffffff 27.4684 -12.7930      0.0000  COPPERBELT   1   \n",
       "1  875536804ffffff 27.9189 -13.6953      0.0000  COPPERBELT   2   \n",
       "2  875536815ffffff 27.9039 -13.7454      0.0000  COPPERBELT   3   \n",
       "3  87346970effffff 28.3954 -13.8803      0.0000  COPPERBELT   4   \n",
       "\n",
       "                                            geometry  Energy Elec (TJ)  \n",
       "0  POLYGON ((27.48116 -12.79734, 27.47111 -12.807...            0.0000  \n",
       "1  POLYGON ((27.93173 -13.69992, 27.92157 -13.710...            0.0000  \n",
       "2  POLYGON ((27.91667 -13.75003, 27.90651 -13.760...            0.0000  \n",
       "3  POLYGON ((28.40823 -13.88488, 28.39805 -13.895...            0.0000  "
      ]
     },
     "execution_count": 12,
     "metadata": {},
     "output_type": "execute_result"
    }
   ],
   "source": [
    "## Run the extraction\n",
    "#grid.drop(['Commodity Production - tonne (tonnes)'], axis=1, inplace=True) ##uncomment if you want to rerun\n",
    "# columnNameMines = \"Commodity Production - tonne (tonnes)\"\n",
    "\n",
    "#columnNameMines = 'Ore processed (tonnes)'\n",
    "columnNameMines = 'Energy Elec (TJ)'\n",
    "#grid, mines = spatialjoinvectors(\"Mines\", columnNameMines, admin_gdf, crs_WGS84, grid, \"sum\")\n",
    "grid, mines = spatialjoinvectors(\"Energy\", columnNameMines, admin_gdf, crs_WGS84, grid, \"sum\")\n",
    "\n",
    "grid[columnNameMines] = grid[columnNameMines].fillna(0)\n",
    "grid.head(4)"
   ]
  },
  {
   "cell_type": "code",
   "execution_count": 13,
   "id": "4355b02d",
   "metadata": {},
   "outputs": [
    {
     "data": {
      "text/plain": [
       "14951.62962857"
      ]
     },
     "execution_count": 13,
     "metadata": {},
     "output_type": "execute_result"
    }
   ],
   "source": [
    "grid[columnNameMines].sum()"
   ]
  },
  {
   "cell_type": "markdown",
   "id": "743a40c5",
   "metadata": {},
   "source": [
    "# Part 2. Compute demand"
   ]
  },
  {
   "cell_type": "code",
   "execution_count": 20,
   "id": "147bbcd9",
   "metadata": {},
   "outputs": [
    {
     "name": "stdout",
     "output_type": "stream",
     "text": [
      "total calculated energy consumption: 23,565.7 TJ or  6.5 TWh\n",
      "Calculated energy in total statistical nonFerrousMetals and mining electricity consumption: 99 %\n",
      "total statistical nonFerrousMetals electricity consumption: 22,897.0 TJ or  6.4 TWh\n",
      "total statistical mining electricity consumption: 818.0 TJ or  0.2 TWh\n",
      "total statistical nonFerrousMetals and mining electricity consumption: 23,715.0 TJ or  6.6 TWh\n"
     ]
    }
   ],
   "source": [
    "# Assess total energy consumption and total production\n",
    "#elec_nonFerrousMetals = 22897 #PJ UN stats\n",
    "elec_nonFerrousMetals_TJ = 22897 # TJ from UN stats\n",
    "elec_mining_TJ = 818 # TJ from UN stats\n",
    "\n",
    "elec_nonFerrousMetals = elec_nonFerrousMetals_TJ /(3600) *10**6 # (3.6e-6) #conversion in MWh\n",
    "elec_mining = elec_mining_TJ /(3600) *10**6 #conversion in MWh\n",
    "#total_production = mines[columnNameMines].str.replace(',', '').astype(float).sum()\n",
    "total_elec_energy_consum = mines[columnNameMines].sum() # total \n",
    "\n",
    "# total_production = sum(grid[columnNameMines]) # ton\n",
    "\n",
    "#energycons_perton = elec_nonFerrousMetals/total_production # MWh/t\n",
    "coverage_elec_nonFe_mining = total_elec_energy_consum/(elec_nonFerrousMetals_TJ+elec_mining_TJ)\n",
    "\n",
    "# print(\"total production:\", f\"{total_production/10**3:,.0f}\", \"kt\")\n",
    "print(\"total calculated energy consumption:\", f\"{total_elec_energy_consum:,.1f}\", \"TJ or \", f\"{total_elec_energy_consum/3600:,.1f}\", \"TWh\")\n",
    "\n",
    "print(\"Calculated energy in total statistical nonFerrousMetals and mining electricity consumption:\", f\"{coverage_elec_nonFe_mining*100:,.0f}\", \"%\")\n",
    "\n",
    "#print(\"total industry electricity consumption:\",f\"{elec_nonFerrousMetals/10**6:,.1f}\", \"TWh\")\n",
    "print(\"total statistical nonFerrousMetals electricity consumption:\",f\"{elec_nonFerrousMetals_TJ:,.1f}\", \"TJ or \", f\"{elec_nonFerrousMetals/10**6:,.1f}\", \"TWh\")\n",
    "print(\"total statistical mining electricity consumption:\",f\"{elec_mining_TJ:,.1f}\", \"TJ or \", f\"{elec_mining/10**6:,.1f}\", \"TWh\")\n",
    "print(\"total statistical nonFerrousMetals and mining electricity consumption:\",f\"{elec_nonFerrousMetals_TJ+elec_mining_TJ:,.1f}\", \"TJ or \", f\"{(elec_nonFerrousMetals+elec_mining)/10**6:,.1f}\", \"TWh\")\n",
    "\n",
    "\n",
    "#print(\"energy per tonne of ore:\", f\"{energycons_perton:,.0f}\", \"MWh/t\")"
   ]
  },
  {
   "cell_type": "code",
   "execution_count": 21,
   "id": "86fa785f",
   "metadata": {},
   "outputs": [
    {
     "name": "stdout",
     "output_type": "stream",
     "text": [
      "Industry electricity consumption in region: 4.2 TWh\n"
     ]
    }
   ],
   "source": [
    "#Allocate to each hexagon the industry energy consumption\n",
    "#grid[\"IndEnergy\"]=grid[columnNameMines]*energycons_perton\n",
    "grid[\"IndEnergy\"]=grid[columnNameMines]/coverage_elec_nonFe_mining # TJ\n",
    "\n",
    "grid.head(3)\n",
    "total_industryenergy = grid[\"IndEnergy\"].sum()\n",
    "#print(\"Industry electricity consumption:\",f\"{total_industryenergy/10**6:,.0f}\", \"TWh\")\n",
    "print(\"Industry electricity consumption in region:\",f\"{total_industryenergy/3600:,.1f}\", \"TWh\")"
   ]
  },
  {
   "cell_type": "code",
   "execution_count": 22,
   "id": "717e2d29",
   "metadata": {},
   "outputs": [
    {
     "data": {
      "text/html": [
       "<div>\n",
       "<style scoped>\n",
       "    .dataframe tbody tr th:only-of-type {\n",
       "        vertical-align: middle;\n",
       "    }\n",
       "\n",
       "    .dataframe tbody tr th {\n",
       "        vertical-align: top;\n",
       "    }\n",
       "\n",
       "    .dataframe thead th {\n",
       "        text-align: right;\n",
       "    }\n",
       "</style>\n",
       "<table border=\"1\" class=\"dataframe\">\n",
       "  <thead>\n",
       "    <tr style=\"text-align: right;\">\n",
       "      <th></th>\n",
       "      <th>hexagons</th>\n",
       "      <th>lon</th>\n",
       "      <th>lat</th>\n",
       "      <th>index_righ</th>\n",
       "      <th>ADM1_NAME</th>\n",
       "      <th>id</th>\n",
       "      <th>geometry</th>\n",
       "      <th>Energy Elec (TJ)</th>\n",
       "      <th>IndEnergy</th>\n",
       "    </tr>\n",
       "  </thead>\n",
       "  <tbody>\n",
       "    <tr>\n",
       "      <th>0</th>\n",
       "      <td>875534665ffffff</td>\n",
       "      <td>27.4684</td>\n",
       "      <td>-12.7930</td>\n",
       "      <td>0.0000</td>\n",
       "      <td>COPPERBELT</td>\n",
       "      <td>1</td>\n",
       "      <td>POLYGON ((27.48116 -12.79734, 27.47111 -12.807...</td>\n",
       "      <td>0.0000</td>\n",
       "      <td>0.0000</td>\n",
       "    </tr>\n",
       "    <tr>\n",
       "      <th>1</th>\n",
       "      <td>875536804ffffff</td>\n",
       "      <td>27.9189</td>\n",
       "      <td>-13.6953</td>\n",
       "      <td>0.0000</td>\n",
       "      <td>COPPERBELT</td>\n",
       "      <td>2</td>\n",
       "      <td>POLYGON ((27.93173 -13.69992, 27.92157 -13.710...</td>\n",
       "      <td>0.0000</td>\n",
       "      <td>0.0000</td>\n",
       "    </tr>\n",
       "    <tr>\n",
       "      <th>2</th>\n",
       "      <td>875536815ffffff</td>\n",
       "      <td>27.9039</td>\n",
       "      <td>-13.7454</td>\n",
       "      <td>0.0000</td>\n",
       "      <td>COPPERBELT</td>\n",
       "      <td>3</td>\n",
       "      <td>POLYGON ((27.91667 -13.75003, 27.90651 -13.760...</td>\n",
       "      <td>0.0000</td>\n",
       "      <td>0.0000</td>\n",
       "    </tr>\n",
       "  </tbody>\n",
       "</table>\n",
       "</div>"
      ],
      "text/plain": [
       "          hexagons     lon      lat  index_righ   ADM1_NAME  id  \\\n",
       "0  875534665ffffff 27.4684 -12.7930      0.0000  COPPERBELT   1   \n",
       "1  875536804ffffff 27.9189 -13.6953      0.0000  COPPERBELT   2   \n",
       "2  875536815ffffff 27.9039 -13.7454      0.0000  COPPERBELT   3   \n",
       "\n",
       "                                            geometry  Energy Elec (TJ)  \\\n",
       "0  POLYGON ((27.48116 -12.79734, 27.47111 -12.807...            0.0000   \n",
       "1  POLYGON ((27.93173 -13.69992, 27.92157 -13.710...            0.0000   \n",
       "2  POLYGON ((27.91667 -13.75003, 27.90651 -13.760...            0.0000   \n",
       "\n",
       "   IndEnergy  \n",
       "0     0.0000  \n",
       "1     0.0000  \n",
       "2     0.0000  "
      ]
     },
     "execution_count": 22,
     "metadata": {},
     "output_type": "execute_result"
    }
   ],
   "source": [
    "grid.to_file(out_path + \"\\\\\" + 'ind_energy_map.shp', index=False)\n",
    "grid.head(3)"
   ]
  },
  {
   "cell_type": "code",
   "execution_count": 23,
   "id": "4dfec839",
   "metadata": {},
   "outputs": [
    {
     "data": {
      "text/plain": [
       "0      0.0000\n",
       "1      0.0000\n",
       "2      0.0000\n",
       "3      0.0000\n",
       "4      0.0000\n",
       "        ...  \n",
       "5161   0.0000\n",
       "5162   0.0000\n",
       "5163   0.0000\n",
       "5164   0.0000\n",
       "5165   0.0000\n",
       "Name: Energy Elec (TJ), Length: 5166, dtype: float64"
      ]
     },
     "execution_count": 23,
     "metadata": {},
     "output_type": "execute_result"
    }
   ],
   "source": [
    "grid[columnNameMines]"
   ]
  },
  {
   "cell_type": "code",
   "execution_count": null,
   "id": "4d9460f8",
   "metadata": {},
   "outputs": [],
   "source": []
  }
 ],
 "metadata": {
  "kernelspec": {
   "display_name": "Python 3",
   "language": "python",
   "name": "python3"
  },
  "language_info": {
   "codemirror_mode": {
    "name": "ipython",
    "version": 3
   },
   "file_extension": ".py",
   "mimetype": "text/x-python",
   "name": "python",
   "nbconvert_exporter": "python",
   "pygments_lexer": "ipython3",
   "version": "3.8.5"
  }
 },
 "nbformat": 4,
 "nbformat_minor": 5
}
