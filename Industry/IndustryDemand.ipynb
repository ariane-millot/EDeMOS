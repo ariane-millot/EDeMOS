{
 "cells": [
  {
   "cell_type": "markdown",
   "id": "b46a9b4d-9b99-4c5c-a0bd-072f03f159c9",
   "metadata": {},
   "source": [
    "# Industry energy demand"
   ]
  },
  {
   "cell_type": "markdown",
   "id": "c2a51fe8-faef-478a-a0ac-9123d0b67ff1",
   "metadata": {
    "jp-MarkdownHeadingCollapsed": true
   },
   "source": [
    "### Import necessary modules"
   ]
  },
  {
   "cell_type": "code",
   "execution_count": 1,
   "id": "1ca6526c-6dfd-463d-a0ef-c84a3f151624",
   "metadata": {},
   "outputs": [
    {
     "name": "stdout",
     "output_type": "stream",
     "text": [
      "Move to C:\\Users\\amillot\\PycharmProjects\\DemandMappingZambia\n"
     ]
    }
   ],
   "source": [
    "# Check if we are running the notebook directly, if so move workspace to parent dir\n",
    "import sys\n",
    "import os\n",
    "currentdir = os.path.abspath(os.getcwd())\n",
    "if os.path.basename(currentdir) != 'DemandMappingZambia':  \n",
    "  sys.path.insert(0, os.path.dirname(currentdir))\n",
    "  os.chdir('..')\n",
    "  print(f'Move to {os.getcwd()}')"
   ]
  },
  {
   "cell_type": "code",
   "execution_count": 2,
   "id": "d31e2d42-5cb0-4683-895f-6a980d5fdfc9",
   "metadata": {
    "code_folding": [
     0
    ]
   },
   "outputs": [],
   "source": [
    "### Activate geospatial_env first\n",
    "\n",
    "# Numeric\n",
    "import numpy as np\n",
    "import pandas as pd\n",
    "import math\n",
    "\n",
    "# System\n",
    "import os\n",
    "import shutil\n",
    "from IPython.display import display, Markdown, HTML, FileLink, FileLinks\n",
    "\n",
    "# Spatial\n",
    "import geopandas as gpd\n",
    "import json\n",
    "import pyproj\n",
    "from shapely.geometry import Point, Polygon, MultiPoint\n",
    "from shapely.wkt import dumps, loads\n",
    "from shapely.ops import nearest_points\n",
    "from pyproj import CRS\n",
    "import ogr, gdal, osr\n",
    "#import fiona\n",
    "\n",
    "\n",
    "# Mapping / Plotting\n",
    "from functools import reduce\n",
    "#import datapane as dp \n",
    "#!datapane login --token=\"9bde41bfbc4ad14119e32086f9f06d2e5db1d5b8\"\n",
    "import folium\n",
    "from folium.features import GeoJsonTooltip\n",
    "from folium.plugins import BeautifyIcon\n",
    "from folium.plugins import HeatMap\n",
    "import branca.colormap as cm\n",
    "import matplotlib.pyplot as plt\n",
    "from matplotlib.ticker import MaxNLocator\n",
    "%matplotlib inline\n",
    "\n",
    "%matplotlib inline"
   ]
  },
  {
   "cell_type": "code",
   "execution_count": 3,
   "id": "02d26041-797a-4fd1-86aa-d6256683623f",
   "metadata": {
    "code_folding": [
     0
    ]
   },
   "outputs": [],
   "source": [
    "#import geopandas as gpd   # Note that you require geopandas version >= 0.7 that incluse clip see here for installation (https://gis.stackexchange.com/questions/360127/geopandas-0-6-1-installed-instead-of-0-7-0-in-conda-windows-10#)\n",
    "import os\n",
    "import fiona\n",
    "import ipywidgets as widgets\n",
    "from IPython.display import display\n",
    "from rasterstats import zonal_stats\n",
    "import rasterio\n",
    "from geojson import Feature, Point, FeatureCollection\n",
    "import rasterio.fill\n",
    "from shapely.geometry import shape, mapping\n",
    "import json\n",
    "#from earthpy import clip    clip has been deprecated to geopandas\n",
    "#import earthpy.spatial as es\n",
    "import numpy as np\n",
    "import tkinter as tk\n",
    "from tkinter import filedialog, messagebox\n",
    "import gdal\n",
    "import datetime\n",
    "import warnings\n",
    "import pandas as pd\n",
    "import scipy.spatial\n",
    "warnings.filterwarnings('ignore')\n",
    "\n",
    "#import contextily as ctx\n",
    "import h3 as h3\n",
    "from shapely.ops import unary_union\n",
    "from shapely.geometry.polygon import Polygon\n",
    "\n",
    "root = tk.Tk()\n",
    "root.withdraw()\n",
    "root.attributes(\"-topmost\", True)\n",
    "\n",
    "pd.options.display.float_format = '{:,.4f}'.format"
   ]
  },
  {
   "cell_type": "code",
   "execution_count": 4,
   "id": "a58b0714-1714-42d5-8fe0-4f00ce90bd72",
   "metadata": {},
   "outputs": [],
   "source": [
    "from utils import processing_raster, finalizing_rasters, spatialjoinvectors"
   ]
  },
  {
   "cell_type": "markdown",
   "id": "21eb3ae8-c8fb-4ffc-834d-88f0d4e13531",
   "metadata": {
    "jp-MarkdownHeadingCollapsed": true
   },
   "source": [
    "### Define directories and dataset names"
   ]
  },
  {
   "cell_type": "code",
   "execution_count": 5,
   "id": "03931c1c-71f0-4a6d-af3c-483a4c1fde8d",
   "metadata": {
    "code_folding": []
   },
   "outputs": [],
   "source": [
    "### Define directories and dataset names\n",
    "ROOT_DIR = os.path.abspath(os.curdir)\n",
    "in_path = ROOT_DIR\n",
    "out_path = ROOT_DIR + \"/Outputs\"\n",
    "\n",
    "## admininstrative boundary\n",
    "admin_path = in_path + \"\\\\\"+ 'admin'\n",
    "admin_name = \"Copperbelt.gpkg\"\n",
    "adm_col_name = \"ADM1_NAME\"          ## Provide the name of the column you want to use to clip the hexagons e.g., \"NAME\" or \"ADM1_NAME\"\n",
    "\n",
    "## mines layer\n",
    "mines_path = in_path + \"/Industry/Data/mines\"\n",
    "mines_name = 'mines_zambia.gpkg'"
   ]
  },
  {
   "cell_type": "code",
   "execution_count": 6,
   "id": "2c7d14a2-71e3-47ea-a55c-cc32c56ecf6b",
   "metadata": {},
   "outputs": [],
   "source": [
    "## Coordinate and projection systems\n",
    "crs_WGS84 = CRS(\"EPSG:4326\")    # Originan WGS84 coordinate system\n",
    "crs_proj = CRS(\"EPSG:32736\")    # Projection system for the selected country -- see http://epsg.io/ for more info"
   ]
  },
  {
   "cell_type": "markdown",
   "id": "c529c2e0-de63-41e5-af50-bda15dfebb60",
   "metadata": {
    "jp-MarkdownHeadingCollapsed": true
   },
   "source": [
    "### Import layers to be used"
   ]
  },
  {
   "cell_type": "code",
   "execution_count": 7,
   "id": "298c460e-f0dc-4162-805b-fbfe87e17967",
   "metadata": {},
   "outputs": [],
   "source": [
    "hexagons = gpd.read_file(out_path + \"\\\\\" + \"h3_grid_at_hex_7.shp\")"
   ]
  },
  {
   "cell_type": "code",
   "execution_count": 8,
   "id": "4ed1c180-e876-4522-8d42-a108bde32f5a",
   "metadata": {},
   "outputs": [],
   "source": [
    "grid = hexagons"
   ]
  },
  {
   "cell_type": "code",
   "execution_count": 9,
   "id": "01339408-29bb-4c22-b3be-367175ba5e67",
   "metadata": {},
   "outputs": [],
   "source": [
    "## mines\n",
    "mines = gpd.read_file(mines_path + \"/\" + mines_name)"
   ]
  },
  {
   "cell_type": "code",
   "execution_count": 10,
   "id": "a82f3a26-213f-4acb-b3aa-2ca202eeaddc",
   "metadata": {},
   "outputs": [],
   "source": [
    "## admininstrative boundary\n",
    "admin_gdf = gpd.read_file(admin_path + \"/\" + admin_name)"
   ]
  },
  {
   "cell_type": "markdown",
   "id": "77d7b12a-a4c7-4f8a-86dc-69489a6d137e",
   "metadata": {},
   "source": [
    "# Part 1. Extract GIS-based attributes"
   ]
  },
  {
   "cell_type": "markdown",
   "id": "b25fca29-4d30-49e9-9ade-a68e2f130e39",
   "metadata": {},
   "source": [
    "## Extract information from vector layers"
   ]
  },
  {
   "cell_type": "markdown",
   "id": "270709a6-ab29-4c0c-83ce-2bf561d990c8",
   "metadata": {},
   "source": [
    "Extract sum production of mines in each cluster (hex)"
   ]
  },
  {
   "cell_type": "code",
   "execution_count": 11,
   "id": "aaf23b7c-5598-4bb8-883b-c435e5fa800d",
   "metadata": {},
   "outputs": [
    {
     "data": {
      "text/html": [
       "<div>\n",
       "<style scoped>\n",
       "    .dataframe tbody tr th:only-of-type {\n",
       "        vertical-align: middle;\n",
       "    }\n",
       "\n",
       "    .dataframe tbody tr th {\n",
       "        vertical-align: top;\n",
       "    }\n",
       "\n",
       "    .dataframe thead th {\n",
       "        text-align: right;\n",
       "    }\n",
       "</style>\n",
       "<table border=\"1\" class=\"dataframe\">\n",
       "  <thead>\n",
       "    <tr style=\"text-align: right;\">\n",
       "      <th></th>\n",
       "      <th>hexagons</th>\n",
       "      <th>lon</th>\n",
       "      <th>lat</th>\n",
       "      <th>index_righ</th>\n",
       "      <th>ADM1_NAME</th>\n",
       "      <th>id</th>\n",
       "      <th>geometry</th>\n",
       "      <th>Ore processed (tonnes)</th>\n",
       "    </tr>\n",
       "  </thead>\n",
       "  <tbody>\n",
       "    <tr>\n",
       "      <th>0</th>\n",
       "      <td>873469a43ffffff</td>\n",
       "      <td>28.5112</td>\n",
       "      <td>-13.0582</td>\n",
       "      <td>0.0000</td>\n",
       "      <td>COPPERBELT</td>\n",
       "      <td>1</td>\n",
       "      <td>POLYGON ((28.52398 -13.06274, 28.51388 -13.073...</td>\n",
       "      <td>0.0000</td>\n",
       "    </tr>\n",
       "    <tr>\n",
       "      <th>1</th>\n",
       "      <td>875536acdffffff</td>\n",
       "      <td>27.3135</td>\n",
       "      <td>-13.4529</td>\n",
       "      <td>0.0000</td>\n",
       "      <td>COPPERBELT</td>\n",
       "      <td>2</td>\n",
       "      <td>POLYGON ((27.32628 -13.45739, 27.31616 -13.467...</td>\n",
       "      <td>0.0000</td>\n",
       "    </tr>\n",
       "    <tr>\n",
       "      <th>2</th>\n",
       "      <td>87553411bffffff</td>\n",
       "      <td>27.9715</td>\n",
       "      <td>-12.7327</td>\n",
       "      <td>0.0000</td>\n",
       "      <td>COPPERBELT</td>\n",
       "      <td>3</td>\n",
       "      <td>POLYGON ((27.98428 -12.73706, 27.97422 -12.747...</td>\n",
       "      <td>1,465,667.0000</td>\n",
       "    </tr>\n",
       "    <tr>\n",
       "      <th>3</th>\n",
       "      <td>875534d8effffff</td>\n",
       "      <td>28.3352</td>\n",
       "      <td>-13.0799</td>\n",
       "      <td>0.0000</td>\n",
       "      <td>COPPERBELT</td>\n",
       "      <td>4</td>\n",
       "      <td>POLYGON ((28.34798 -13.08439, 28.33788 -13.094...</td>\n",
       "      <td>0.0000</td>\n",
       "    </tr>\n",
       "  </tbody>\n",
       "</table>\n",
       "</div>"
      ],
      "text/plain": [
       "          hexagons     lon      lat  index_righ   ADM1_NAME  id  \\\n",
       "0  873469a43ffffff 28.5112 -13.0582      0.0000  COPPERBELT   1   \n",
       "1  875536acdffffff 27.3135 -13.4529      0.0000  COPPERBELT   2   \n",
       "2  87553411bffffff 27.9715 -12.7327      0.0000  COPPERBELT   3   \n",
       "3  875534d8effffff 28.3352 -13.0799      0.0000  COPPERBELT   4   \n",
       "\n",
       "                                            geometry  Ore processed (tonnes)  \n",
       "0  POLYGON ((28.52398 -13.06274, 28.51388 -13.073...                  0.0000  \n",
       "1  POLYGON ((27.32628 -13.45739, 27.31616 -13.467...                  0.0000  \n",
       "2  POLYGON ((27.98428 -12.73706, 27.97422 -12.747...          1,465,667.0000  \n",
       "3  POLYGON ((28.34798 -13.08439, 28.33788 -13.094...                  0.0000  "
      ]
     },
     "execution_count": 11,
     "metadata": {},
     "output_type": "execute_result"
    }
   ],
   "source": [
    "## Run the extraction\n",
    "#grid.drop(['Commodity Production - tonne (tonnes)'], axis=1, inplace=True) ##uncomment if you want to rerun\n",
    "# columnNameMines = \"Commodity Production - tonne (tonnes)\"\n",
    "columnNameMines = 'Ore processed (tonnes)'\n",
    "grid, mines = spatialjoinvectors(\"Mines\", columnNameMines, admin_gdf, crs_WGS84, grid, \"sum\")\n",
    "grid[columnNameMines] = grid[columnNameMines].fillna(0)\n",
    "grid.head(4)"
   ]
  },
  {
   "cell_type": "code",
   "execution_count": 12,
   "id": "9ac5fb40-93f6-432d-ab89-ebbb20ee9b98",
   "metadata": {},
   "outputs": [
    {
     "data": {
      "text/plain": [
       "24359691.0"
      ]
     },
     "execution_count": 12,
     "metadata": {},
     "output_type": "execute_result"
    }
   ],
   "source": [
    "grid[columnNameMines].sum()"
   ]
  },
  {
   "cell_type": "markdown",
   "id": "7153499f-ac9a-42d2-8c4b-de1422c84d2d",
   "metadata": {},
   "source": [
    "# Part 2. Compute demand"
   ]
  },
  {
   "cell_type": "code",
   "execution_count": 13,
   "id": "22b71155-3a9e-4508-b622-9662842262b7",
   "metadata": {},
   "outputs": [
    {
     "name": "stdout",
     "output_type": "stream",
     "text": [
      "total production: 128,215 kt\n",
      "total industry electricity consumption: 6,360 TWh\n",
      "energy per tonne of ore: 50 MWh/t\n"
     ]
    }
   ],
   "source": [
    "# Assess total energy consumption and total production\n",
    "elec_nonFerrousMetals = 22897 #PJ UN stats\n",
    "elec_nonFerrousMetals = elec_nonFerrousMetals / (3.6e-6) #conversion in MWh\n",
    "total_production = mines[columnNameMines].str.replace(',', '').astype(float).sum()\n",
    "# total_production = sum(grid[columnNameMines]) # ton\n",
    "energycons_perton = elec_nonFerrousMetals/total_production # MWh/t\n",
    "print(\"total production:\", f\"{total_production/10**3:,.0f}\", \"kt\")\n",
    "print(\"total industry electricity consumption:\",f\"{elec_nonFerrousMetals/10**6:,.0f}\", \"TWh\")\n",
    "print(\"energy per tonne of ore:\", f\"{energycons_perton:,.0f}\", \"MWh/t\")"
   ]
  },
  {
   "cell_type": "code",
   "execution_count": 14,
   "id": "f716653a-ec75-4029-89f1-9be205beb1d3",
   "metadata": {},
   "outputs": [
    {
     "name": "stdout",
     "output_type": "stream",
     "text": [
      "Industry electricity consumption: 1,208 TWh\n"
     ]
    }
   ],
   "source": [
    "#Allocate to each hexagon the industry energy consumption\n",
    "grid[\"IndEnergy\"]=grid[columnNameMines]*energycons_perton\n",
    "grid.head(3)\n",
    "total_industryenergy = grid[\"IndEnergy\"].sum()\n",
    "print(\"Industry electricity consumption:\",f\"{total_industryenergy/10**6:,.0f}\", \"TWh\")"
   ]
  },
  {
   "cell_type": "code",
   "execution_count": 15,
   "id": "369d265b-f2d6-4de9-89d6-1b9070075b8f",
   "metadata": {},
   "outputs": [
    {
     "data": {
      "text/html": [
       "<div>\n",
       "<style scoped>\n",
       "    .dataframe tbody tr th:only-of-type {\n",
       "        vertical-align: middle;\n",
       "    }\n",
       "\n",
       "    .dataframe tbody tr th {\n",
       "        vertical-align: top;\n",
       "    }\n",
       "\n",
       "    .dataframe thead th {\n",
       "        text-align: right;\n",
       "    }\n",
       "</style>\n",
       "<table border=\"1\" class=\"dataframe\">\n",
       "  <thead>\n",
       "    <tr style=\"text-align: right;\">\n",
       "      <th></th>\n",
       "      <th>hexagons</th>\n",
       "      <th>lon</th>\n",
       "      <th>lat</th>\n",
       "      <th>index_righ</th>\n",
       "      <th>ADM1_NAME</th>\n",
       "      <th>id</th>\n",
       "      <th>geometry</th>\n",
       "      <th>Ore processed (tonnes)</th>\n",
       "      <th>IndEnergy</th>\n",
       "    </tr>\n",
       "  </thead>\n",
       "  <tbody>\n",
       "    <tr>\n",
       "      <th>0</th>\n",
       "      <td>873469a43ffffff</td>\n",
       "      <td>28.5112</td>\n",
       "      <td>-13.0582</td>\n",
       "      <td>0.0000</td>\n",
       "      <td>COPPERBELT</td>\n",
       "      <td>1</td>\n",
       "      <td>POLYGON ((28.52398 -13.06274, 28.51388 -13.073...</td>\n",
       "      <td>0.0000</td>\n",
       "      <td>0.0000</td>\n",
       "    </tr>\n",
       "    <tr>\n",
       "      <th>1</th>\n",
       "      <td>875536acdffffff</td>\n",
       "      <td>27.3135</td>\n",
       "      <td>-13.4529</td>\n",
       "      <td>0.0000</td>\n",
       "      <td>COPPERBELT</td>\n",
       "      <td>2</td>\n",
       "      <td>POLYGON ((27.32628 -13.45739, 27.31616 -13.467...</td>\n",
       "      <td>0.0000</td>\n",
       "      <td>0.0000</td>\n",
       "    </tr>\n",
       "    <tr>\n",
       "      <th>2</th>\n",
       "      <td>87553411bffffff</td>\n",
       "      <td>27.9715</td>\n",
       "      <td>-12.7327</td>\n",
       "      <td>0.0000</td>\n",
       "      <td>COPPERBELT</td>\n",
       "      <td>3</td>\n",
       "      <td>POLYGON ((27.98428 -12.73706, 27.97422 -12.747...</td>\n",
       "      <td>1,465,667.0000</td>\n",
       "      <td>72,706,496.3342</td>\n",
       "    </tr>\n",
       "  </tbody>\n",
       "</table>\n",
       "</div>"
      ],
      "text/plain": [
       "          hexagons     lon      lat  index_righ   ADM1_NAME  id  \\\n",
       "0  873469a43ffffff 28.5112 -13.0582      0.0000  COPPERBELT   1   \n",
       "1  875536acdffffff 27.3135 -13.4529      0.0000  COPPERBELT   2   \n",
       "2  87553411bffffff 27.9715 -12.7327      0.0000  COPPERBELT   3   \n",
       "\n",
       "                                            geometry  Ore processed (tonnes)  \\\n",
       "0  POLYGON ((28.52398 -13.06274, 28.51388 -13.073...                  0.0000   \n",
       "1  POLYGON ((27.32628 -13.45739, 27.31616 -13.467...                  0.0000   \n",
       "2  POLYGON ((27.98428 -12.73706, 27.97422 -12.747...          1,465,667.0000   \n",
       "\n",
       "        IndEnergy  \n",
       "0          0.0000  \n",
       "1          0.0000  \n",
       "2 72,706,496.3342  "
      ]
     },
     "execution_count": 15,
     "metadata": {},
     "output_type": "execute_result"
    }
   ],
   "source": [
    "grid.to_file(out_path + \"\\\\\" + 'ind_energy_map.shp', index=False)\n",
    "grid.head(3)"
   ]
  },
  {
   "cell_type": "code",
   "execution_count": null,
   "id": "93d1c0f1-cdec-41ad-9cb4-2642935a9dca",
   "metadata": {},
   "outputs": [],
   "source": []
  }
 ],
 "metadata": {
  "kernelspec": {
   "display_name": "Python 3 (ipykernel)",
   "language": "python",
   "name": "python3"
  },
  "language_info": {
   "codemirror_mode": {
    "name": "ipython",
    "version": 3
   },
   "file_extension": ".py",
   "mimetype": "text/x-python",
   "name": "python",
   "nbconvert_exporter": "python",
   "pygments_lexer": "ipython3",
   "version": "3.8.12"
  }
 },
 "nbformat": 4,
 "nbformat_minor": 5
}
