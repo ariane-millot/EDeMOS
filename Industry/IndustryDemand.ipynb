{
 "cells": [
  {
   "cell_type": "markdown",
   "id": "240a2552",
   "metadata": {},
   "source": [
    "# Industry energy demand"
   ]
  },
  {
   "cell_type": "markdown",
   "id": "d92e6c96",
   "metadata": {},
   "source": [
    "### Import necessary modules"
   ]
  },
  {
   "cell_type": "code",
   "execution_count": 1,
   "id": "5060b79f",
   "metadata": {
    "scrolled": true
   },
   "outputs": [
    {
     "name": "stdout",
     "output_type": "stream",
     "text": [
      "Move to C:\\Users\\amillot\\PycharmProjects\\DemandMappingZambia\n"
     ]
    }
   ],
   "source": [
    "# Check if we are running the notebook directly, if so move workspace to parent dir\n",
    "import sys\n",
    "import os\n",
    "currentdir = os.path.abspath(os.getcwd())\n",
    "if os.path.basename(currentdir) != 'DemandMappingZambia':  \n",
    "  sys.path.insert(0, os.path.dirname(currentdir))\n",
    "  os.chdir('..')\n",
    "  print(f'Move to {os.getcwd()}')"
   ]
  },
  {
   "cell_type": "code",
   "execution_count": 2,
   "id": "54878952",
   "metadata": {
    "code_folding": [
     0
    ]
   },
   "outputs": [],
   "source": [
    "### Activate geospatial_env first\n",
    "\n",
    "# Numeric\n",
    "import numpy as np\n",
    "import pandas as pd\n",
    "\n",
    "# System\n",
    "import shutil\n",
    "from IPython.display import display, Markdown, HTML, FileLink, FileLinks\n",
    "\n",
    "# Spatial\n",
    "import geopandas as gpd\n",
    "from shapely.geometry import Point, Polygon, MultiPoint\n",
    "from pyproj import CRS\n",
    "from rasterstats import zonal_stats\n",
    "\n",
    "# Plot\n",
    "import matplotlib.pyplot as plt\n",
    "import matplotlib.colors as colors\n",
    "from matplotlib_scalebar.scalebar import ScaleBar"
   ]
  },
  {
   "cell_type": "code",
   "execution_count": 3,
   "id": "3b166a08",
   "metadata": {
    "code_folding": [
     0
    ]
   },
   "outputs": [],
   "source": [
    "pd.options.display.float_format = '{:,.4f}'.format"
   ]
  },
  {
   "cell_type": "code",
   "execution_count": 4,
   "id": "9b7699c7",
   "metadata": {},
   "outputs": [],
   "source": [
    "from utils import processing_raster, finalizing_rasters, spatialjoinvectors"
   ]
  },
  {
   "cell_type": "markdown",
   "id": "de01ed17",
   "metadata": {},
   "source": [
    "### Define directories and dataset names"
   ]
  },
  {
   "cell_type": "code",
   "execution_count": 5,
   "id": "00e05eb1",
   "metadata": {
    "code_folding": []
   },
   "outputs": [],
   "source": [
    "### Define directories and dataset names\n",
    "ROOT_DIR = os.path.abspath(os.curdir)\n",
    "in_path = ROOT_DIR\n",
    "out_path = ROOT_DIR + \"/Outputs/\"\n",
    "\n",
    "## mines layer\n",
    "ind_data_path = in_path + \"/Industry/Data/\"\n",
    "mines_path = ind_data_path + \"mines\"\n",
    "mines_name_output = 'mineral_facilities_zambia'\n",
    "mines_name_input = 'Mineral_Facilities_correctedInput.csv'"
   ]
  },
  {
   "cell_type": "code",
   "execution_count": 6,
   "id": "344f4c72",
   "metadata": {},
   "outputs": [],
   "source": [
    "## Coordinate and projection systems\n",
    "crs_WGS84 = CRS(\"EPSG:4326\")    # Originan WGS84 coordinate system\n",
    "crs_proj = CRS(\"EPSG:32736\")    # Projection system for the selected country -- see http://epsg.io/ for more info"
   ]
  },
  {
   "cell_type": "markdown",
   "id": "7675047f",
   "metadata": {},
   "source": [
    "### Define area of interest"
   ]
  },
  {
   "cell_type": "code",
   "execution_count": 7,
   "id": "4e063f77",
   "metadata": {},
   "outputs": [],
   "source": [
    "try: area\n",
    "except NameError: area = \"COUNTRY\"\n",
    "# area = \"Copperbelt\""
   ]
  },
  {
   "cell_type": "markdown",
   "id": "398d4f1e",
   "metadata": {},
   "source": [
    "### Import layers to be used"
   ]
  },
  {
   "cell_type": "code",
   "execution_count": 8,
   "id": "217f8a59",
   "metadata": {},
   "outputs": [],
   "source": [
    "hexagons = gpd.read_file(out_path + \"h3_grid_at_hex.shp\")"
   ]
  },
  {
   "cell_type": "code",
   "execution_count": 9,
   "id": "c3fc2efa",
   "metadata": {},
   "outputs": [],
   "source": [
    "grid = hexagons"
   ]
  },
  {
   "cell_type": "code",
   "execution_count": 10,
   "id": "edc21093",
   "metadata": {},
   "outputs": [],
   "source": [
    "## mines\n",
    "# mines = gpd.read_file(mines_path + mines_name)"
   ]
  },
  {
   "cell_type": "code",
   "execution_count": 11,
   "id": "0cce8240",
   "metadata": {},
   "outputs": [],
   "source": [
    "# ## admininstrative boundary\n",
    "admin_gdf = gpd.read_file(ROOT_DIR + \"/admin/\" + \"gadm41_ZMB.gpkg\", layer='ADM_ADM_0')\n",
    "region_gdf = gpd.read_file(ROOT_DIR + \"/admin/\" + \"gadm41_ZMB.gpkg\", layer='ADM_ADM_1')"
   ]
  },
  {
   "cell_type": "code",
   "execution_count": 12,
   "id": "debddb9d",
   "metadata": {},
   "outputs": [],
   "source": [
    "# transmission lines\n",
    "grid_gdf = gpd.read_file(ROOT_DIR + \"/Grid/Zambia - HVLines/\" + \"HVLines.shp\")"
   ]
  },
  {
   "cell_type": "code",
   "execution_count": 13,
   "id": "5d415dd9",
   "metadata": {},
   "outputs": [
    {
     "data": {
      "text/html": [
       "<div>\n",
       "<style scoped>\n",
       "    .dataframe tbody tr th:only-of-type {\n",
       "        vertical-align: middle;\n",
       "    }\n",
       "\n",
       "    .dataframe tbody tr th {\n",
       "        vertical-align: top;\n",
       "    }\n",
       "\n",
       "    .dataframe thead th {\n",
       "        text-align: right;\n",
       "    }\n",
       "</style>\n",
       "<table border=\"1\" class=\"dataframe\">\n",
       "  <thead>\n",
       "    <tr style=\"text-align: right;\">\n",
       "      <th></th>\n",
       "      <th>OBJECTID</th>\n",
       "      <th>ENABLED</th>\n",
       "      <th>CREATIONUS</th>\n",
       "      <th>DATECREATE</th>\n",
       "      <th>DATEMODIFI</th>\n",
       "      <th>LASTUSER</th>\n",
       "      <th>SUBTYPECD</th>\n",
       "      <th>MEASUREDLE</th>\n",
       "      <th>LENGTHSOUR</th>\n",
       "      <th>WORKORDERI</th>\n",
       "      <th>...</th>\n",
       "      <th>circuits</th>\n",
       "      <th>line</th>\n",
       "      <th>designatio</th>\n",
       "      <th>power_line</th>\n",
       "      <th>material</th>\n",
       "      <th>structure</th>\n",
       "      <th>fixme</th>\n",
       "      <th>kv</th>\n",
       "      <th>Voltage_1</th>\n",
       "      <th>geometry</th>\n",
       "    </tr>\n",
       "  </thead>\n",
       "  <tbody>\n",
       "    <tr>\n",
       "      <th>0</th>\n",
       "      <td>1281</td>\n",
       "      <td>1</td>\n",
       "      <td>None</td>\n",
       "      <td>NaT</td>\n",
       "      <td>NaT</td>\n",
       "      <td>None</td>\n",
       "      <td>3</td>\n",
       "      <td>25.0000</td>\n",
       "      <td>None</td>\n",
       "      <td>None</td>\n",
       "      <td>...</td>\n",
       "      <td>10</td>\n",
       "      <td>10</td>\n",
       "      <td>10</td>\n",
       "      <td>10</td>\n",
       "      <td>10</td>\n",
       "      <td>10</td>\n",
       "      <td>10</td>\n",
       "      <td>0.0000</td>\n",
       "      <td>66.0000</td>\n",
       "      <td>LINESTRING (31.87926 -14.09954, 31.87926 -14.0...</td>\n",
       "    </tr>\n",
       "    <tr>\n",
       "      <th>1</th>\n",
       "      <td>1282</td>\n",
       "      <td>1</td>\n",
       "      <td>None</td>\n",
       "      <td>NaT</td>\n",
       "      <td>NaT</td>\n",
       "      <td>None</td>\n",
       "      <td>3</td>\n",
       "      <td>0.0000</td>\n",
       "      <td>None</td>\n",
       "      <td>None</td>\n",
       "      <td>...</td>\n",
       "      <td>10</td>\n",
       "      <td>10</td>\n",
       "      <td>10</td>\n",
       "      <td>10</td>\n",
       "      <td>10</td>\n",
       "      <td>10</td>\n",
       "      <td>10</td>\n",
       "      <td>0.0000</td>\n",
       "      <td>66.0000</td>\n",
       "      <td>LINESTRING (31.87928 -14.09958, 31.87928 -14.0...</td>\n",
       "    </tr>\n",
       "  </tbody>\n",
       "</table>\n",
       "<p>2 rows × 63 columns</p>\n",
       "</div>"
      ],
      "text/plain": [
       "   OBJECTID  ENABLED CREATIONUS DATECREATE DATEMODIFI LASTUSER  SUBTYPECD  \\\n",
       "0      1281        1       None        NaT        NaT     None          3   \n",
       "1      1282        1       None        NaT        NaT     None          3   \n",
       "\n",
       "   MEASUREDLE LENGTHSOUR WORKORDERI  ...  circuits  line  designatio  \\\n",
       "0     25.0000       None       None  ...        10    10          10   \n",
       "1      0.0000       None       None  ...        10    10          10   \n",
       "\n",
       "  power_line material structure fixme     kv  Voltage_1  \\\n",
       "0         10       10        10    10 0.0000    66.0000   \n",
       "1         10       10        10    10 0.0000    66.0000   \n",
       "\n",
       "                                            geometry  \n",
       "0  LINESTRING (31.87926 -14.09954, 31.87926 -14.0...  \n",
       "1  LINESTRING (31.87928 -14.09958, 31.87928 -14.0...  \n",
       "\n",
       "[2 rows x 63 columns]"
      ]
     },
     "execution_count": 13,
     "metadata": {},
     "output_type": "execute_result"
    }
   ],
   "source": [
    "grid_gdf.head(2)"
   ]
  },
  {
   "cell_type": "markdown",
   "id": "28e93230",
   "metadata": {},
   "source": [
    "# Part 1. Extract GIS-based attributes"
   ]
  },
  {
   "cell_type": "markdown",
   "id": "44b00c5a",
   "metadata": {},
   "source": [
    "## Extract information from vector layers"
   ]
  },
  {
   "cell_type": "markdown",
   "id": "b172555c",
   "metadata": {},
   "source": [
    "Assess the energy consumption per site"
   ]
  },
  {
   "cell_type": "code",
   "execution_count": 14,
   "id": "f54a9eb9",
   "metadata": {},
   "outputs": [],
   "source": [
    "## Attribute energy consumption to each copper production site\n",
    "mines_input_file = pd.read_csv(ind_data_path + mines_name_input)"
   ]
  },
  {
   "cell_type": "code",
   "execution_count": 15,
   "id": "64fa964c",
   "metadata": {},
   "outputs": [
    {
     "name": "stdout",
     "output_type": "stream",
     "text": [
      "Production at a site  Fitwaola Open Pit Mine  in  Zambia  is missing (negative). Value set to zero. Please, change the input in the input file.\n",
      "Production at a site  Fitwaola Open Pit Mine  in  Zambia  is missing (negative). Value set to zero. Please, change the input in the input file.\n",
      "Production at a site  Mkushi Heap Leach  in  Zambia  is missing (negative). Value set to zero. Please, change the input in the input file.\n",
      "Production at a site  Mufulira West Heap-Leach Facility  in  Zambia  is missing (negative). Value set to zero. Please, change the input in the input file.\n",
      "Production at a site  TD3a, TD3b, TD5, and TD7 Tailings Dams  in  Zambia  is missing (negative). Value set to zero. Please, change the input in the input file.\n"
     ]
    }
   ],
   "source": [
    "## Running the energy calculation function \n",
    "from Industry import energy_per_site\n",
    "\n",
    "energy_per_site.calc_energy_per_site(mines_path, mines_input_file, mines_name_output)"
   ]
  },
  {
   "cell_type": "markdown",
   "id": "7a09ad1c",
   "metadata": {},
   "source": [
    "Extract sum production of mines in each cluster (hex)"
   ]
  },
  {
   "cell_type": "code",
   "execution_count": 16,
   "id": "75989850",
   "metadata": {},
   "outputs": [],
   "source": [
    "## Run the extraction\n",
    "#grid.drop(['Commodity Production - tonne (tonnes)'], axis=1, inplace=True) ##uncomment if you want to rerun\n",
    "# columnNameMines = \"Commodity Production - tonne (tonnes)\"\n",
    "#columnNameMines = 'Ore processed (tonnes)'\n",
    "# grid[columnNameMines] = grid[columnNameMines].fillna(0)\n",
    "# grid.head(4)\n",
    "# grid[columnNameMines].sum()\n",
    "\n",
    "columnName_ElecConsumption = 'Elec_TJ'\n",
    "columnName_OilConsumption = 'Diesel_TJ'\n",
    "columnName_CopperElecConsumption = 'Copper_Elec_Cons_TJ'\n",
    "file = os.path.join(mines_path, mines_name_output +\".gpkg\")\n",
    "grid, mines = spatialjoinvectors(\"EnergyMines\", columnName_ElecConsumption, admin_gdf, crs_WGS84, grid, \"sum\", file)\n",
    "grid, mines_data = spatialjoinvectors(\n",
    "        \"Electricity Copper\", \n",
    "        columnName_CopperElecConsumption,\n",
    "        admin_gdf, crs_WGS84, grid, \"sum\", file\n",
    "    )"
   ]
  },
  {
   "cell_type": "code",
   "execution_count": 17,
   "id": "eb578b83",
   "metadata": {},
   "outputs": [
    {
     "data": {
      "text/plain": [
       "np.float64(18496.602690639284)"
      ]
     },
     "execution_count": 17,
     "metadata": {},
     "output_type": "execute_result"
    }
   ],
   "source": [
    "grid[columnName_ElecConsumption].sum()"
   ]
  },
  {
   "cell_type": "code",
   "execution_count": 18,
   "id": "48da77d1-7189-4e32-a85d-a4ce97ca1f10",
   "metadata": {},
   "outputs": [
    {
     "data": {
      "text/plain": [
       "np.float64(16033.131769139285)"
      ]
     },
     "execution_count": 18,
     "metadata": {},
     "output_type": "execute_result"
    }
   ],
   "source": [
    "grid[columnName_CopperElecConsumption].sum()"
   ]
  },
  {
   "cell_type": "code",
   "execution_count": 19,
   "id": "0e0bf6ad",
   "metadata": {},
   "outputs": [
    {
     "data": {
      "text/html": [
       "<div>\n",
       "<style scoped>\n",
       "    .dataframe tbody tr th:only-of-type {\n",
       "        vertical-align: middle;\n",
       "    }\n",
       "\n",
       "    .dataframe tbody tr th {\n",
       "        vertical-align: top;\n",
       "    }\n",
       "\n",
       "    .dataframe thead th {\n",
       "        text-align: right;\n",
       "    }\n",
       "</style>\n",
       "<table border=\"1\" class=\"dataframe\">\n",
       "  <thead>\n",
       "    <tr style=\"text-align: right;\">\n",
       "      <th></th>\n",
       "      <th>h3_index</th>\n",
       "      <th>n0</th>\n",
       "      <th>n1</th>\n",
       "      <th>n2</th>\n",
       "      <th>n3</th>\n",
       "      <th>n4</th>\n",
       "      <th>n5</th>\n",
       "      <th>index</th>\n",
       "      <th>index_righ</th>\n",
       "      <th>NAME_1</th>\n",
       "      <th>id</th>\n",
       "      <th>geometry</th>\n",
       "      <th>Elec_TJ</th>\n",
       "      <th>Copper_Elec_Cons_TJ</th>\n",
       "    </tr>\n",
       "  </thead>\n",
       "  <tbody>\n",
       "    <tr>\n",
       "      <th>0</th>\n",
       "      <td>879674265ffffff</td>\n",
       "      <td>54873</td>\n",
       "      <td>43031</td>\n",
       "      <td>47117</td>\n",
       "      <td>57356</td>\n",
       "      <td>70564</td>\n",
       "      <td>75148</td>\n",
       "      <td>0</td>\n",
       "      <td>9</td>\n",
       "      <td>Western</td>\n",
       "      <td>1</td>\n",
       "      <td>POLYGON ((23.44964 -14.87912, 23.43679 -14.885...</td>\n",
       "      <td>NaN</td>\n",
       "      <td>NaN</td>\n",
       "    </tr>\n",
       "    <tr>\n",
       "      <th>1</th>\n",
       "      <td>8796ac36effffff</td>\n",
       "      <td>43973</td>\n",
       "      <td>108598</td>\n",
       "      <td>12435</td>\n",
       "      <td>31564</td>\n",
       "      <td>71317</td>\n",
       "      <td>17598</td>\n",
       "      <td>1</td>\n",
       "      <td>7</td>\n",
       "      <td>Northern</td>\n",
       "      <td>2</td>\n",
       "      <td>POLYGON ((31.09316 -9.28947, 31.08069 -9.29583...</td>\n",
       "      <td>NaN</td>\n",
       "      <td>NaN</td>\n",
       "    </tr>\n",
       "  </tbody>\n",
       "</table>\n",
       "</div>"
      ],
      "text/plain": [
       "          h3_index     n0      n1     n2     n3     n4     n5  index  \\\n",
       "0  879674265ffffff  54873   43031  47117  57356  70564  75148      0   \n",
       "1  8796ac36effffff  43973  108598  12435  31564  71317  17598      1   \n",
       "\n",
       "   index_righ    NAME_1  id  \\\n",
       "0           9   Western   1   \n",
       "1           7  Northern   2   \n",
       "\n",
       "                                            geometry  Elec_TJ  \\\n",
       "0  POLYGON ((23.44964 -14.87912, 23.43679 -14.885...      NaN   \n",
       "1  POLYGON ((31.09316 -9.28947, 31.08069 -9.29583...      NaN   \n",
       "\n",
       "   Copper_Elec_Cons_TJ  \n",
       "0                  NaN  \n",
       "1                  NaN  "
      ]
     },
     "execution_count": 19,
     "metadata": {},
     "output_type": "execute_result"
    }
   ],
   "source": [
    "grid.head(2)"
   ]
  },
  {
   "cell_type": "code",
   "execution_count": 20,
   "id": "77fd831f",
   "metadata": {},
   "outputs": [
    {
     "data": {
      "text/html": [
       "<div>\n",
       "<style scoped>\n",
       "    .dataframe tbody tr th:only-of-type {\n",
       "        vertical-align: middle;\n",
       "    }\n",
       "\n",
       "    .dataframe tbody tr th {\n",
       "        vertical-align: top;\n",
       "    }\n",
       "\n",
       "    .dataframe thead th {\n",
       "        text-align: right;\n",
       "    }\n",
       "</style>\n",
       "<table border=\"1\" class=\"dataframe\">\n",
       "  <thead>\n",
       "    <tr style=\"text-align: right;\">\n",
       "      <th></th>\n",
       "      <th>Country</th>\n",
       "      <th>FeatureNam</th>\n",
       "      <th>DsgAttr02</th>\n",
       "      <th>DsgAttr03</th>\n",
       "      <th>DsgAttr06</th>\n",
       "      <th>MemoOther</th>\n",
       "      <th>MemoLoc</th>\n",
       "      <th>Latitude</th>\n",
       "      <th>Longitude</th>\n",
       "      <th>DsgAttr07</th>\n",
       "      <th>...</th>\n",
       "      <th>Mine type</th>\n",
       "      <th>Metal processing</th>\n",
       "      <th>Metal process type</th>\n",
       "      <th>Spec energy Elec [GJ/t]</th>\n",
       "      <th>Spec energy Diesel [GJ/t]</th>\n",
       "      <th>Elec_TJ</th>\n",
       "      <th>Diesel_TJ</th>\n",
       "      <th>Copper_Elec_Cons_TJ</th>\n",
       "      <th>id</th>\n",
       "      <th>geometry</th>\n",
       "    </tr>\n",
       "  </thead>\n",
       "  <tbody>\n",
       "    <tr>\n",
       "      <th>0</th>\n",
       "      <td>Zambia</td>\n",
       "      <td>Baluba Center Underground Mine</td>\n",
       "      <td>Copper</td>\n",
       "      <td>Concentrate</td>\n",
       "      <td>2017</td>\n",
       "      <td>Ore. Operations suspended. Facility on care-an...</td>\n",
       "      <td>&lt;null&gt;</td>\n",
       "      <td>-13.0486</td>\n",
       "      <td>28.3381</td>\n",
       "      <td>1,500,000.0000</td>\n",
       "      <td>...</td>\n",
       "      <td>Underground</td>\n",
       "      <td></td>\n",
       "      <td></td>\n",
       "      <td>11.7500</td>\n",
       "      <td>2.1500</td>\n",
       "      <td>140.3285</td>\n",
       "      <td>25.6771</td>\n",
       "      <td>140.3285</td>\n",
       "      <td>1</td>\n",
       "      <td>POINT (28.33806 -13.04861)</td>\n",
       "    </tr>\n",
       "    <tr>\n",
       "      <th>1</th>\n",
       "      <td>Zambia</td>\n",
       "      <td>Bwana Mkubwa Solvent Extraction-Electrowinning...</td>\n",
       "      <td>Copper</td>\n",
       "      <td>Metal</td>\n",
       "      <td>2017</td>\n",
       "      <td>Copper cathode.</td>\n",
       "      <td>&lt;null&gt;</td>\n",
       "      <td>-13.0423</td>\n",
       "      <td>28.7094</td>\n",
       "      <td>52,000.0000</td>\n",
       "      <td>...</td>\n",
       "      <td></td>\n",
       "      <td>Hydrometallurgical</td>\n",
       "      <td>Solvent Extraction-Electrowinning, Electrowinn...</td>\n",
       "      <td>12.4950</td>\n",
       "      <td>2.2050</td>\n",
       "      <td>202.7189</td>\n",
       "      <td>35.7739</td>\n",
       "      <td>202.7189</td>\n",
       "      <td>2</td>\n",
       "      <td>POINT (28.70935 -13.0423)</td>\n",
       "    </tr>\n",
       "  </tbody>\n",
       "</table>\n",
       "<p>2 rows × 24 columns</p>\n",
       "</div>"
      ],
      "text/plain": [
       "  Country                                         FeatureNam DsgAttr02  \\\n",
       "0  Zambia                     Baluba Center Underground Mine    Copper   \n",
       "1  Zambia  Bwana Mkubwa Solvent Extraction-Electrowinning...    Copper   \n",
       "\n",
       "     DsgAttr03  DsgAttr06                                          MemoOther  \\\n",
       "0  Concentrate       2017  Ore. Operations suspended. Facility on care-an...   \n",
       "1        Metal       2017                                    Copper cathode.   \n",
       "\n",
       "  MemoLoc  Latitude  Longitude      DsgAttr07  ...    Mine type  \\\n",
       "0  <null>  -13.0486    28.3381 1,500,000.0000  ...  Underground   \n",
       "1  <null>  -13.0423    28.7094    52,000.0000  ...                \n",
       "\n",
       "     Metal processing                                 Metal process type  \\\n",
       "0                                                                          \n",
       "1  Hydrometallurgical  Solvent Extraction-Electrowinning, Electrowinn...   \n",
       "\n",
       "   Spec energy Elec [GJ/t] Spec energy Diesel [GJ/t]  Elec_TJ Diesel_TJ  \\\n",
       "0                  11.7500                    2.1500 140.3285   25.6771   \n",
       "1                  12.4950                    2.2050 202.7189   35.7739   \n",
       "\n",
       "   Copper_Elec_Cons_TJ  id                    geometry  \n",
       "0             140.3285   1  POINT (28.33806 -13.04861)  \n",
       "1             202.7189   2   POINT (28.70935 -13.0423)  \n",
       "\n",
       "[2 rows x 24 columns]"
      ]
     },
     "execution_count": 20,
     "metadata": {},
     "output_type": "execute_result"
    }
   ],
   "source": [
    "mines.head(2)"
   ]
  },
  {
   "cell_type": "markdown",
   "id": "d4956a44",
   "metadata": {},
   "source": [
    "# Part 2. Compute demand"
   ]
  },
  {
   "cell_type": "code",
   "execution_count": 21,
   "id": "d571a8aa",
   "metadata": {},
   "outputs": [
    {
     "name": "stdout",
     "output_type": "stream",
     "text": [
      "total statistical electricity consumption of nonFerrousMetals: 22,897.0 TJ\n",
      "total statistical electricity consumption in mining: 818.0 TJ\n",
      "total statistical electricity consumption of nonFerrousMetals and mining: 23,715.0 TJ\n",
      "total statistical oil consumption of nonFerrousMetals: 1,191.1 TJ\n",
      "total statistical oil consumption in mining: 2,689.7 TJ\n",
      "total statistical oil consumption of nonFerrousMetals and mining: 3,880.8 TJ\n",
      "total statistical  energy consumption of nonFerrousMetals and mining: 27,595.8 TJ\n"
     ]
    }
   ],
   "source": [
    "# Enegery balance from UN Stats\n",
    "energyBalance_path = \"EnergyBalance/\"\n",
    "file_energyBalance = \"UNSD+DF_UNData_EnergyBalance+1.0_Zambia.csv\"\n",
    "eb = pd.read_csv(energyBalance_path + file_energyBalance)\n",
    "code_elec = \"B07_EL\"\n",
    "code_oil = \"B03_OP\"\n",
    "code_ind_nFM=  \"B29_1214a\"\n",
    "code_ind_mining =  \"B33_1214e\"\n",
    "\n",
    "elec_nonFerrousMetals_TJ = eb.loc[(eb['COMMODITY'] == code_elec) & (eb['TRANSACTION'] == code_ind_nFM) & (eb['TIME_PERIOD'] == 2019 ), 'OBS_VALUE'] #TJ\n",
    "elec_mining_TJ = eb.loc[(eb['COMMODITY'] == code_elec) & (eb['TRANSACTION'] == code_ind_mining) & (eb['TIME_PERIOD'] == 2019 ), 'OBS_VALUE'] #TJ\n",
    "oil_nonFerrousMetals_TJ = eb.loc[(eb['COMMODITY'] == code_oil) & (eb['TRANSACTION'] == code_ind_nFM) & (eb['TIME_PERIOD'] == 2019 ), 'OBS_VALUE'] #TJ\n",
    "oil_mining_TJ = eb.loc[(eb['COMMODITY'] == code_oil) & (eb['TRANSACTION'] == code_ind_mining) & (eb['TIME_PERIOD'] == 2019 ), 'OBS_VALUE'] #TJ\n",
    "\n",
    "elec_nonFerrousMetals_TJ = pd.to_numeric(elec_nonFerrousMetals_TJ.str.replace(',', '')) # convert to numeric and remove commas\n",
    "elec_nonFerrousMetals_TJ = elec_nonFerrousMetals_TJ.iloc[0]\n",
    "elec_mining_TJ = pd.to_numeric(elec_mining_TJ.str.replace(',', '')) # convert to numeric and remove commas\n",
    "elec_mining_TJ = elec_mining_TJ.iloc[0]\n",
    "elec = elec_nonFerrousMetals_TJ+elec_mining_TJ\n",
    "oil_nonFerrousMetals_TJ = pd.to_numeric(oil_nonFerrousMetals_TJ.str.replace(',', '')) # convert to numeric and remove commas\n",
    "oil_nonFerrousMetals_TJ = oil_nonFerrousMetals_TJ.iloc[0]\n",
    "oil_mining_TJ = pd.to_numeric(oil_mining_TJ.str.replace(',', '')) # convert to numeric and remove commas\n",
    "oil_mining_TJ = oil_mining_TJ.iloc[0]\n",
    "oil = oil_nonFerrousMetals_TJ+oil_mining_TJ\n",
    "\n",
    "energy = elec+oil\n",
    "\n",
    "print(\"total statistical electricity consumption of nonFerrousMetals:\",f\"{elec_nonFerrousMetals_TJ:,.1f}\", \"TJ\")\n",
    "print(\"total statistical electricity consumption in mining:\",f\"{elec_mining_TJ:,.1f}\", \"TJ\")\n",
    "print(\"total statistical electricity consumption of nonFerrousMetals and mining:\",f\"{elec:,.1f}\", \"TJ\")\n",
    "\n",
    "print(\"total statistical oil consumption of nonFerrousMetals:\",f\"{oil_nonFerrousMetals_TJ:,.1f}\", \"TJ\")\n",
    "print(\"total statistical oil consumption in mining:\",f\"{oil_mining_TJ:,.1f}\", \"TJ\")\n",
    "print(\"total statistical oil consumption of nonFerrousMetals and mining:\",f\"{oil:,.1f}\", \"TJ\")\n",
    "\n",
    "print(\"total statistical  energy consumption of nonFerrousMetals and mining:\",f\"{energy:,.1f}\", \"TJ\")"
   ]
  },
  {
   "cell_type": "code",
   "execution_count": 22,
   "id": "7379281e",
   "metadata": {},
   "outputs": [],
   "source": [
    "elec_mining_consum = mines[mines[\"Output type (ass.)\"].isin([\"Ore and concentrate\", \"Metal in ore\"])][columnName_ElecConsumption].sum()"
   ]
  },
  {
   "cell_type": "code",
   "execution_count": 23,
   "id": "13ca9e66",
   "metadata": {},
   "outputs": [
    {
     "name": "stdout",
     "output_type": "stream",
     "text": [
      "total calculated electricity  18,730.5 (mining:  9,341.5 , non-Fe:  9,389.0 )\n",
      "total calculated diesel  7,022.9 (mining:  4,131.6 , non-Fe:  2,891.4 )\n",
      "total calculated energy consumption: 25,753.4 TJ\n",
      "----------------------------------------------------------------------------------------\n",
      "Coverage energy in statistical nonFerrousMetals and mining consumption: 93 %\n",
      "----------------------------------------------------------------------------------------\n",
      "Coverage electricity in statistical nonFerrousMetals and mining consumption: 79 %\n",
      "Coverage fuel/oil in statistical nonFerrousMetals and mining consumption: 181 %\n",
      "----------------------------------------------------------------------------------------\n",
      "Coverage electricity in statistical mining consumption: 1,142 %\n",
      "Coverage fuel/oil in statistical mining consumption: 154 %\n",
      "Coverage electricity in statistical nonFerrousMetals consumption: 41 %\n",
      "Coverage fuel/oil in statistical nonFerrousMetals consumption: 243 %\n"
     ]
    }
   ],
   "source": [
    "# Assess total energy consumption and total production\n",
    "total_elec_consum = mines[columnName_ElecConsumption].sum() # total\n",
    "total_oil_consum = mines[columnName_OilConsumption].sum() # total\n",
    "total_energy_consum = total_elec_consum + total_oil_consum\n",
    "coverage_energy_nonFe_mining = total_energy_consum/energy\n",
    "coverage_elec_nonFe_mining = total_elec_consum/elec\n",
    "coverage_oil_nonFe_mining = total_oil_consum/oil\n",
    "\n",
    "mines_mining = mines[mines[\"Output type (ass.)\"].isin([\"Ore and concentrate\", \"Metal in ore\"])]\n",
    "elec_mining_consum = mines_mining[columnName_ElecConsumption].sum()\n",
    "oil_mining_consum = mines_mining[columnName_OilConsumption].sum()\n",
    "mines_nonFerrous = mines[mines[\"Output type (ass.)\"].isin([\"Metal\"])]\n",
    "elec_nonFerrousMetals_consum = mines_nonFerrous[columnName_ElecConsumption].sum()\n",
    "oil_nonFerrousMetals_consum = mines_nonFerrous[columnName_OilConsumption].sum()\n",
    "\n",
    "# print(\"total production:\", f\"{total_production/10**3:,.0f}\", \"kt\")\n",
    "print(\"total calculated electricity \", f\"{total_elec_consum:,.1f}\",\n",
    "      \"(mining: \", f\"{elec_mining_consum:,.1f}\",\", non-Fe: \",f\"{elec_nonFerrousMetals_consum:,.1f}\", \")\")\n",
    "print(\"total calculated diesel \", f\"{total_oil_consum:,.1f}\",\n",
    "      \"(mining: \",f\"{oil_mining_consum:,.1f}\",\", non-Fe: \",f\"{oil_nonFerrousMetals_consum:,.1f}\", \")\")\n",
    "print(\"total calculated energy consumption:\", f\"{total_energy_consum:,.1f}\", \"TJ\")\n",
    "print(\"----------------------------------------------------------------------------------------\")\n",
    "print(\"Coverage energy in statistical nonFerrousMetals and mining consumption:\", f\"{coverage_energy_nonFe_mining*100:,.0f}\", \"%\")\n",
    "print(\"----------------------------------------------------------------------------------------\")\n",
    "print(\"Coverage electricity in statistical nonFerrousMetals and mining consumption:\", f\"{coverage_elec_nonFe_mining*100:,.0f}\", \"%\")\n",
    "print(\"Coverage fuel/oil in statistical nonFerrousMetals and mining consumption:\", f\"{coverage_oil_nonFe_mining*100:,.0f}\", \"%\")\n",
    "print(\"----------------------------------------------------------------------------------------\")\n",
    "print(\"Coverage electricity in statistical mining consumption:\", f\"{elec_mining_consum/elec_mining_TJ*100:,.0f}\", \"%\")\n",
    "print(\"Coverage fuel/oil in statistical mining consumption:\", f\"{oil_mining_consum/oil_mining_TJ*100:,.0f}\", \"%\")\n",
    "print(\"Coverage electricity in statistical nonFerrousMetals consumption:\", f\"{elec_nonFerrousMetals_consum/elec_nonFerrousMetals_TJ*100:,.0f}\", \"%\")\n",
    "print(\"Coverage fuel/oil in statistical nonFerrousMetals consumption:\", f\"{oil_nonFerrousMetals_consum/oil_nonFerrousMetals_TJ*100:,.0f}\", \"%\")"
   ]
  },
  {
   "cell_type": "code",
   "execution_count": 24,
   "id": "4c969fd5",
   "metadata": {},
   "outputs": [
    {
     "data": {
      "text/html": [
       "<div>\n",
       "<style scoped>\n",
       "    .dataframe tbody tr th:only-of-type {\n",
       "        vertical-align: middle;\n",
       "    }\n",
       "\n",
       "    .dataframe tbody tr th {\n",
       "        vertical-align: top;\n",
       "    }\n",
       "\n",
       "    .dataframe thead th {\n",
       "        text-align: right;\n",
       "    }\n",
       "</style>\n",
       "<table border=\"1\" class=\"dataframe\">\n",
       "  <thead>\n",
       "    <tr style=\"text-align: right;\">\n",
       "      <th></th>\n",
       "      <th>h3_index</th>\n",
       "      <th>n0</th>\n",
       "      <th>n1</th>\n",
       "      <th>n2</th>\n",
       "      <th>n3</th>\n",
       "      <th>n4</th>\n",
       "      <th>n5</th>\n",
       "      <th>index</th>\n",
       "      <th>index_righ</th>\n",
       "      <th>NAME_1</th>\n",
       "      <th>id</th>\n",
       "      <th>geometry</th>\n",
       "      <th>Elec_TJ</th>\n",
       "      <th>Copper_Elec_Cons_TJ</th>\n",
       "      <th>IndEne_TJ</th>\n",
       "    </tr>\n",
       "  </thead>\n",
       "  <tbody>\n",
       "    <tr>\n",
       "      <th>0</th>\n",
       "      <td>879674265ffffff</td>\n",
       "      <td>54873</td>\n",
       "      <td>43031</td>\n",
       "      <td>47117</td>\n",
       "      <td>57356</td>\n",
       "      <td>70564</td>\n",
       "      <td>75148</td>\n",
       "      <td>0</td>\n",
       "      <td>9</td>\n",
       "      <td>Western</td>\n",
       "      <td>1</td>\n",
       "      <td>POLYGON ((23.44964 -14.87912, 23.43679 -14.885...</td>\n",
       "      <td>NaN</td>\n",
       "      <td>NaN</td>\n",
       "      <td>NaN</td>\n",
       "    </tr>\n",
       "    <tr>\n",
       "      <th>1</th>\n",
       "      <td>8796ac36effffff</td>\n",
       "      <td>43973</td>\n",
       "      <td>108598</td>\n",
       "      <td>12435</td>\n",
       "      <td>31564</td>\n",
       "      <td>71317</td>\n",
       "      <td>17598</td>\n",
       "      <td>1</td>\n",
       "      <td>7</td>\n",
       "      <td>Northern</td>\n",
       "      <td>2</td>\n",
       "      <td>POLYGON ((31.09316 -9.28947, 31.08069 -9.29583...</td>\n",
       "      <td>NaN</td>\n",
       "      <td>NaN</td>\n",
       "      <td>NaN</td>\n",
       "    </tr>\n",
       "    <tr>\n",
       "      <th>2</th>\n",
       "      <td>87975eb49ffffff</td>\n",
       "      <td>52424</td>\n",
       "      <td>40483</td>\n",
       "      <td>72370</td>\n",
       "      <td>10270</td>\n",
       "      <td>31476</td>\n",
       "      <td>88893</td>\n",
       "      <td>2</td>\n",
       "      <td>9</td>\n",
       "      <td>Western</td>\n",
       "      <td>3</td>\n",
       "      <td>POLYGON ((24.56611 -17.4785, 24.5531 -17.48449...</td>\n",
       "      <td>NaN</td>\n",
       "      <td>NaN</td>\n",
       "      <td>NaN</td>\n",
       "    </tr>\n",
       "  </tbody>\n",
       "</table>\n",
       "</div>"
      ],
      "text/plain": [
       "          h3_index     n0      n1     n2     n3     n4     n5  index  \\\n",
       "0  879674265ffffff  54873   43031  47117  57356  70564  75148      0   \n",
       "1  8796ac36effffff  43973  108598  12435  31564  71317  17598      1   \n",
       "2  87975eb49ffffff  52424   40483  72370  10270  31476  88893      2   \n",
       "\n",
       "   index_righ    NAME_1  id  \\\n",
       "0           9   Western   1   \n",
       "1           7  Northern   2   \n",
       "2           9   Western   3   \n",
       "\n",
       "                                            geometry  Elec_TJ  \\\n",
       "0  POLYGON ((23.44964 -14.87912, 23.43679 -14.885...      NaN   \n",
       "1  POLYGON ((31.09316 -9.28947, 31.08069 -9.29583...      NaN   \n",
       "2  POLYGON ((24.56611 -17.4785, 24.5531 -17.48449...      NaN   \n",
       "\n",
       "   Copper_Elec_Cons_TJ  IndEne_TJ  \n",
       "0                  NaN        NaN  \n",
       "1                  NaN        NaN  \n",
       "2                  NaN        NaN  "
      ]
     },
     "execution_count": 24,
     "metadata": {},
     "output_type": "execute_result"
    }
   ],
   "source": [
    "#Allocate to each hexagon the industry energy consumption\n",
    "#grid[\"IndEnergy\"]=grid[columnNameMines]*energycons_perton\n",
    "# adjust energy consumption if coverage is the whole country\n",
    "if area == \"COUNTRY\":\n",
    "    grid[\"IndEne_TJ\"]=grid[columnName_ElecConsumption]/coverage_elec_nonFe_mining  # TJ\n",
    "else:\n",
    "    grid[\"IndEne_TJ\"]=grid[columnName_ElecConsumption] # TJ\n",
    "grid.head(3)"
   ]
  },
  {
   "cell_type": "code",
   "execution_count": 25,
   "id": "842532e1",
   "metadata": {},
   "outputs": [
    {
     "name": "stdout",
     "output_type": "stream",
     "text": [
      "Industry electricity consumption in COUNTRY : 6.5 TWh\n"
     ]
    }
   ],
   "source": [
    "total_industryenergy = grid[\"IndEne_TJ\"].sum()\n",
    "#print(\"Industry electricity consumption:\",f\"{total_industryenergy/10**6:,.0f}\", \"TWh\")\n",
    "print(\"Industry electricity consumption in\",f\"{area}\", \":\",f\"{total_industryenergy/3600:,.1f}\", \"TWh\")"
   ]
  },
  {
   "cell_type": "code",
   "execution_count": 26,
   "id": "ae64d29a",
   "metadata": {},
   "outputs": [
    {
     "name": "stderr",
     "output_type": "stream",
     "text": [
      "C:\\Users\\amillot\\AppData\\Local\\Temp\\ipykernel_27140\\376857332.py:1: UserWarning: Column names longer than 10 characters will be truncated when saved to ESRI Shapefile.\n",
      "  grid.to_file(out_path + 'ind_energy_map.shp', index=False)\n",
      "C:\\Users\\amillot\\AppData\\Local\\anaconda3\\envs\\geospatial_env_kepler\\Lib\\site-packages\\pyogrio\\raw.py:709: RuntimeWarning: Normalized/laundered field name: 'Copper_Elec_Cons_TJ' to 'Copper_Ele'\n",
      "  ogr_write(\n"
     ]
    },
    {
     "data": {
      "text/html": [
       "<div>\n",
       "<style scoped>\n",
       "    .dataframe tbody tr th:only-of-type {\n",
       "        vertical-align: middle;\n",
       "    }\n",
       "\n",
       "    .dataframe tbody tr th {\n",
       "        vertical-align: top;\n",
       "    }\n",
       "\n",
       "    .dataframe thead th {\n",
       "        text-align: right;\n",
       "    }\n",
       "</style>\n",
       "<table border=\"1\" class=\"dataframe\">\n",
       "  <thead>\n",
       "    <tr style=\"text-align: right;\">\n",
       "      <th></th>\n",
       "      <th>h3_index</th>\n",
       "      <th>n0</th>\n",
       "      <th>n1</th>\n",
       "      <th>n2</th>\n",
       "      <th>n3</th>\n",
       "      <th>n4</th>\n",
       "      <th>n5</th>\n",
       "      <th>index</th>\n",
       "      <th>index_righ</th>\n",
       "      <th>NAME_1</th>\n",
       "      <th>id</th>\n",
       "      <th>geometry</th>\n",
       "      <th>Elec_TJ</th>\n",
       "      <th>Copper_Elec_Cons_TJ</th>\n",
       "      <th>IndEne_TJ</th>\n",
       "    </tr>\n",
       "  </thead>\n",
       "  <tbody>\n",
       "    <tr>\n",
       "      <th>0</th>\n",
       "      <td>879674265ffffff</td>\n",
       "      <td>54873</td>\n",
       "      <td>43031</td>\n",
       "      <td>47117</td>\n",
       "      <td>57356</td>\n",
       "      <td>70564</td>\n",
       "      <td>75148</td>\n",
       "      <td>0</td>\n",
       "      <td>9</td>\n",
       "      <td>Western</td>\n",
       "      <td>1</td>\n",
       "      <td>POLYGON ((23.44964 -14.87912, 23.43679 -14.885...</td>\n",
       "      <td>NaN</td>\n",
       "      <td>NaN</td>\n",
       "      <td>NaN</td>\n",
       "    </tr>\n",
       "    <tr>\n",
       "      <th>1</th>\n",
       "      <td>8796ac36effffff</td>\n",
       "      <td>43973</td>\n",
       "      <td>108598</td>\n",
       "      <td>12435</td>\n",
       "      <td>31564</td>\n",
       "      <td>71317</td>\n",
       "      <td>17598</td>\n",
       "      <td>1</td>\n",
       "      <td>7</td>\n",
       "      <td>Northern</td>\n",
       "      <td>2</td>\n",
       "      <td>POLYGON ((31.09316 -9.28947, 31.08069 -9.29583...</td>\n",
       "      <td>NaN</td>\n",
       "      <td>NaN</td>\n",
       "      <td>NaN</td>\n",
       "    </tr>\n",
       "    <tr>\n",
       "      <th>2</th>\n",
       "      <td>87975eb49ffffff</td>\n",
       "      <td>52424</td>\n",
       "      <td>40483</td>\n",
       "      <td>72370</td>\n",
       "      <td>10270</td>\n",
       "      <td>31476</td>\n",
       "      <td>88893</td>\n",
       "      <td>2</td>\n",
       "      <td>9</td>\n",
       "      <td>Western</td>\n",
       "      <td>3</td>\n",
       "      <td>POLYGON ((24.56611 -17.4785, 24.5531 -17.48449...</td>\n",
       "      <td>NaN</td>\n",
       "      <td>NaN</td>\n",
       "      <td>NaN</td>\n",
       "    </tr>\n",
       "  </tbody>\n",
       "</table>\n",
       "</div>"
      ],
      "text/plain": [
       "          h3_index     n0      n1     n2     n3     n4     n5  index  \\\n",
       "0  879674265ffffff  54873   43031  47117  57356  70564  75148      0   \n",
       "1  8796ac36effffff  43973  108598  12435  31564  71317  17598      1   \n",
       "2  87975eb49ffffff  52424   40483  72370  10270  31476  88893      2   \n",
       "\n",
       "   index_righ    NAME_1  id  \\\n",
       "0           9   Western   1   \n",
       "1           7  Northern   2   \n",
       "2           9   Western   3   \n",
       "\n",
       "                                            geometry  Elec_TJ  \\\n",
       "0  POLYGON ((23.44964 -14.87912, 23.43679 -14.885...      NaN   \n",
       "1  POLYGON ((31.09316 -9.28947, 31.08069 -9.29583...      NaN   \n",
       "2  POLYGON ((24.56611 -17.4785, 24.5531 -17.48449...      NaN   \n",
       "\n",
       "   Copper_Elec_Cons_TJ  IndEne_TJ  \n",
       "0                  NaN        NaN  \n",
       "1                  NaN        NaN  \n",
       "2                  NaN        NaN  "
      ]
     },
     "execution_count": 26,
     "metadata": {},
     "output_type": "execute_result"
    }
   ],
   "source": [
    "grid.to_file(out_path + 'ind_energy_map.shp', index=False)\n",
    "grid.to_file(out_path + f'ind_energy_map.geojson', driver='GeoJSON', index=False)  \n",
    "grid.head(3)"
   ]
  },
  {
   "cell_type": "code",
   "execution_count": 27,
   "id": "90587d4c",
   "metadata": {},
   "outputs": [
    {
     "data": {
      "text/plain": [
       "0        NaN\n",
       "1        NaN\n",
       "2        NaN\n",
       "3        NaN\n",
       "4        NaN\n",
       "          ..\n",
       "124577   NaN\n",
       "124578   NaN\n",
       "124579   NaN\n",
       "124580   NaN\n",
       "124581   NaN\n",
       "Name: Elec_TJ, Length: 124582, dtype: float64"
      ]
     },
     "execution_count": 27,
     "metadata": {},
     "output_type": "execute_result"
    }
   ],
   "source": [
    "grid[columnName_ElecConsumption]"
   ]
  },
  {
   "cell_type": "markdown",
   "id": "029b332a-386a-4c52-86b4-2a6a58f5175a",
   "metadata": {},
   "source": [
    "# Part 3: Industry mapping"
   ]
  },
  {
   "cell_type": "code",
   "execution_count": 28,
   "id": "c64e39dd-564b-4281-a9c6-e3292cfdc195",
   "metadata": {},
   "outputs": [],
   "source": [
    "plt.rcParams.update({'font.size': 22})"
   ]
  },
  {
   "cell_type": "code",
   "execution_count": 29,
   "id": "0d7fe9f7-b763-4a7f-8476-f9e5a54a4f09",
   "metadata": {},
   "outputs": [
    {
     "data": {
      "text/plain": [
       "NAME_1\n",
       "Central            15.1606\n",
       "Copperbelt      2,441.5786\n",
       "Eastern             0.0000\n",
       "Luapula             0.0000\n",
       "Lusaka              0.0000\n",
       "Muchinga            0.0000\n",
       "North-Western   1,992.6194\n",
       "Northern            0.0000\n",
       "Southern            4.2891\n",
       "Western             0.0000\n",
       "Name: Copper_elec_kWh, dtype: float64"
      ]
     },
     "execution_count": 29,
     "metadata": {},
     "output_type": "execute_result"
    }
   ],
   "source": [
    "# Retrieve copper values and convert in GWh\n",
    "grid['Copper_elec_kWh'] = grid[columnName_CopperElecConsumption] / 3.6\n",
    "totalperregion=grid.groupby('NAME_1')['Copper_elec_kWh'].sum()\n",
    "grid['total_copper_elec_perregion'] = grid['NAME_1'].map(totalperregion)\n",
    "totalperregion"
   ]
  },
  {
   "cell_type": "code",
   "execution_count": 30,
   "id": "9dc82b43-1f60-4e49-9020-50a138ff769d",
   "metadata": {},
   "outputs": [
    {
     "data": {
      "image/png": "[encoded data removed]",
      "text/plain": [
       "<Figure size 2500x1500 with 2 Axes>"
      ]
     },
     "metadata": {},
     "output_type": "display_data"
    }
   ],
   "source": [
    "# Plot the industry demand map per cell\n",
    "# Create the axis first\n",
    "fig, ax = plt.subplots(figsize=(25, 15))\n",
    "\n",
    "# Plot data with a log scale value\n",
    "grid.sort_values('Copper_elec_kWh', ascending=True).plot(\n",
    "    ax=ax, column='Copper_elec_kWh', cmap=\"Reds\", legend=True, alpha=0.9, norm=colors.LogNorm(vmin = 1, vmax=grid['Copper_elec_kWh'].max()),\n",
    "    legend_kwds={\"label\": \"Consumption in kWh\"})\n",
    "\n",
    "# # Plot data\n",
    "# grid.sort_values('IndEnergy_GWh', ascending=True).plot(\n",
    "#     ax=ax, column='IndEnergy_GWh', cmap=\"Reds\", legend=True, alpha=0.5, vmin=0, vmax=threshold)\n",
    "\n",
    "# # Plot data\n",
    "# grid.sort_values('IndEnergy_GWh', ascending=True).plot(\n",
    "#     ax=ax, column='IndEnergy_GWh', cmap=\"Reds\", legend=True, alpha=0.9)\n",
    "\n",
    "admin_gdf.plot(ax=ax, edgecolor='brown', color='None', alpha=0.6)\n",
    "region_gdf.plot(ax=ax, edgecolor='brown', color='None', alpha=0.2)\n",
    "# lines_gdf.plot(ax=ax, edgecolor='brown', alpha=0.2)\n",
    "\n",
    "# Compute the distance-per-pixel of the map\n",
    "# see https://geopandas.org/en/latest/gallery/matplotlib_scalebar.html#Geographic-coordinate-system-(degrees)\n",
    "# assert grid.crs == 'EPSG:4326'\n",
    "from shapely.geometry.point import Point\n",
    "points = gpd.GeoSeries(\n",
    "    [Point(-73.5, 40.5), Point(-74.5, 40.5)], crs=4326\n",
    ")  # Geographic WGS 84 - degrees\n",
    "points = points.to_crs(32619)  # Projected WGS 84 - meters\n",
    "distance_meters = points[0].distance(points[1])\n",
    "\n",
    "# Add a scale bar\n",
    "scalebar = ScaleBar(\n",
    "    distance_meters,\n",
    "    dimension=\"si-length\",\n",
    "    location='lower left',\n",
    "    length_fraction=0.1,\n",
    "    width_fraction=0.001,\n",
    "    units='m',\n",
    "    color='black',\n",
    "    fixed_value=None\n",
    ")\n",
    "\n",
    "ax.set_aspect('equal', 'box')\n",
    "# txt = ax.set_title('Electricity in the mining sector in {} (GWh)'.format(area) )\n",
    "ax.add_artist(scalebar)\n",
    "# Save plot as figure \n",
    "plt.savefig(out_path +'map_industry_copper_log.png', bbox_inches='tight')"
   ]
  },
  {
   "cell_type": "code",
   "execution_count": null,
   "id": "c4e031eb-a7a1-49a9-86d6-425f802457df",
   "metadata": {},
   "outputs": [],
   "source": [
    "# Plot the demand map with a log scale value\n",
    "# Create the axis first\n",
    "fig, ax = plt.subplots(figsize=(25, 15))\n",
    "\n",
    "# Plot data\n",
    "grid.sort_values('total_copper_elec_perregion', ascending=True).plot(\n",
    "    ax=ax, column='total_copper_elec_perregion', cmap=\"Reds\", legend=True, alpha=0.9, norm=colors.LogNorm(vmin = 1, vmax=grid['total_copper_elec_perregion'].max()))\n",
    "\n",
    "# # Plot data\n",
    "# grid.sort_values('totalindeperregion', ascending=True).plot(\n",
    "#     ax=ax, column='totalindeperregion', cmap=\"Reds\", legend=True, alpha=0.5, vmin=0, vmax=threshold)\n",
    "\n",
    "# # Plot data\n",
    "# grid.sort_values('totalindeperregion', ascending=True).plot(\n",
    "#     ax=ax, column='totalindeperregion', cmap=\"Reds\", legend=True, alpha=0.9)\n",
    "admin_gdf.plot(ax=ax, edgecolor='brown', alpha=0.05)\n",
    "ax.set_aspect('equal', 'box')\n",
    "ax.set_title('Electricity in the mining sector in Zambia (GWh)')\n",
    "ax.set_xlabel('Longitude')\n",
    "ax.set_ylabel('Latitude')\n",
    "\n",
    "from matplotlib.ticker import FuncFormatter\n",
    "\n",
    "# fmt = lambda x, pos: '{:.1%}'.format(x)\n",
    "# cbar = plt.colorbar(format=FuncFormatter(fmt))\n",
    "\n",
    "# Save plot as figure \n",
    "plt.savefig(out_path +'map_industry_copper_log_region.png', bbox_inches='tight')"
   ]
  },
  {
   "cell_type": "code",
   "execution_count": null,
   "id": "c1d6d14f-5435-4051-9b5e-662c1643f091",
   "metadata": {},
   "outputs": [],
   "source": []
  }
 ],
 "metadata": {
  "kernelspec": {
   "display_name": "Python 3 (ipykernel)",
   "language": "python",
   "name": "python3"
  },
  "language_info": {
   "codemirror_mode": {
    "name": "ipython",
    "version": 3
   },
   "file_extension": ".py",
   "mimetype": "text/x-python",
   "name": "python",
   "nbconvert_exporter": "python",
   "pygments_lexer": "ipython3",
   "version": "3.12.4"
  }
 },
 "nbformat": 4,
 "nbformat_minor": 5
}
