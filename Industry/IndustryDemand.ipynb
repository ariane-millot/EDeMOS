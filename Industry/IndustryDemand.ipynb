{
 "cells": [
  {
   "cell_type": "markdown",
   "id": "6ac62fc7",
   "metadata": {},
   "source": [
    "# Industry energy demand"
   ]
  },
  {
   "cell_type": "markdown",
   "id": "7f9a6dbd",
   "metadata": {
    "jp-MarkdownHeadingCollapsed": true
   },
   "source": [
    "### Import necessary modules"
   ]
  },
  {
   "cell_type": "code",
   "execution_count": 1,
   "id": "67a860eb",
   "metadata": {},
   "outputs": [
    {
     "name": "stdout",
     "output_type": "stream",
     "text": [
      "Move to C:\\Users\\amillot\\PycharmProjects\\DemandMappingZambia\n"
     ]
    }
   ],
   "source": [
    "# Check if we are running the notebook directly, if so move workspace to parent dir\n",
    "import sys\n",
    "import os\n",
    "currentdir = os.path.abspath(os.getcwd())\n",
    "if os.path.basename(currentdir) != 'DemandMappingZambia':  \n",
    "  sys.path.insert(0, os.path.dirname(currentdir))\n",
    "  os.chdir('..')\n",
    "  print(f'Move to {os.getcwd()}')"
   ]
  },
  {
   "cell_type": "code",
   "execution_count": 2,
   "id": "ace2b969",
   "metadata": {
    "code_folding": [
     0
    ]
   },
   "outputs": [],
   "source": [
    "### Activate geospatial_env first\n",
    "\n",
    "# Numeric\n",
    "import numpy as np\n",
    "import pandas as pd\n",
    "import math\n",
    "\n",
    "# System\n",
    "import os\n",
    "import shutil\n",
    "from IPython.display import display, Markdown, HTML, FileLink, FileLinks\n",
    "\n",
    "# Spatial\n",
    "import geopandas as gpd\n",
    "import json\n",
    "import pyproj\n",
    "from shapely.geometry import Point, Polygon, MultiPoint\n",
    "from shapely.wkt import dumps, loads\n",
    "from shapely.ops import nearest_points\n",
    "from pyproj import CRS\n",
    "import ogr, gdal, osr\n",
    "#import fiona\n",
    "\n",
    "\n",
    "# Mapping / Plotting\n",
    "from functools import reduce\n",
    "#import datapane as dp \n",
    "#!datapane login --token=\"9bde41bfbc4ad14119e32086f9f06d2e5db1d5b8\"\n",
    "import folium\n",
    "from folium.features import GeoJsonTooltip\n",
    "from folium.plugins import BeautifyIcon\n",
    "from folium.plugins import HeatMap\n",
    "import branca.colormap as cm\n",
    "import matplotlib.pyplot as plt\n",
    "from matplotlib.ticker import MaxNLocator\n",
    "%matplotlib inline\n",
    "\n",
    "%matplotlib inline"
   ]
  },
  {
   "cell_type": "code",
   "execution_count": 3,
   "id": "c57cbd79",
   "metadata": {
    "code_folding": [
     0
    ]
   },
   "outputs": [],
   "source": [
    "#import geopandas as gpd   # Note that you require geopandas version >= 0.7 that incluse clip see here for installation (https://gis.stackexchange.com/questions/360127/geopandas-0-6-1-installed-instead-of-0-7-0-in-conda-windows-10#)\n",
    "import os\n",
    "import fiona\n",
    "import ipywidgets as widgets\n",
    "from IPython.display import display\n",
    "from rasterstats import zonal_stats\n",
    "import rasterio\n",
    "from geojson import Feature, Point, FeatureCollection\n",
    "import rasterio.fill\n",
    "from shapely.geometry import shape, mapping\n",
    "import json\n",
    "#from earthpy import clip    clip has been deprecated to geopandas\n",
    "#import earthpy.spatial as es\n",
    "import numpy as np\n",
    "import tkinter as tk\n",
    "from tkinter import filedialog, messagebox\n",
    "import gdal\n",
    "import datetime\n",
    "import warnings\n",
    "import pandas as pd\n",
    "import scipy.spatial\n",
    "warnings.filterwarnings('ignore')\n",
    "\n",
    "#import contextily as ctx\n",
    "import h3 as h3\n",
    "from shapely.ops import unary_union\n",
    "from shapely.geometry.polygon import Polygon\n",
    "\n",
    "root = tk.Tk()\n",
    "root.withdraw()\n",
    "root.attributes(\"-topmost\", True)\n",
    "\n",
    "pd.options.display.float_format = '{:,.4f}'.format"
   ]
  },
  {
   "cell_type": "code",
   "execution_count": 4,
   "id": "907fb5d3",
   "metadata": {},
   "outputs": [],
   "source": [
    "from utils import processing_raster, finalizing_rasters, spatialjoinvectors"
   ]
  },
  {
   "cell_type": "markdown",
   "id": "b2cfee79",
   "metadata": {},
   "source": [
    "### Define directories and dataset names"
   ]
  },
  {
   "cell_type": "code",
   "execution_count": 5,
   "id": "fe008812",
   "metadata": {
    "code_folding": []
   },
   "outputs": [],
   "source": [
    "### Define directories and dataset names\n",
    "ROOT_DIR = os.path.abspath(os.curdir)\n",
    "in_path = ROOT_DIR\n",
    "out_path = ROOT_DIR + \"/Outputs/\"\n",
    "\n",
    "## mines layer\n",
    "ind_data_path = in_path + \"/Industry/Data/\"\n",
    "mines_path = ind_data_path + \"mines\"\n",
    "# mines_name = 'mines_zambia.gpkg'\n",
    "mines_name = 'mineral_facilities_zambia_Mar_2024'\n",
    "file_mines = 'Zambia_filter_facilities_changed_negativeInput.csv'"
   ]
  },
  {
   "cell_type": "code",
   "execution_count": 6,
   "id": "959582ad",
   "metadata": {},
   "outputs": [],
   "source": [
    "## Coordinate and projection systems\n",
    "crs_WGS84 = CRS(\"EPSG:4326\")    # Originan WGS84 coordinate system\n",
    "crs_proj = CRS(\"EPSG:32736\")    # Projection system for the selected country -- see http://epsg.io/ for more info"
   ]
  },
  {
   "cell_type": "code",
   "execution_count": 7,
   "id": "63963825",
   "metadata": {},
   "outputs": [
    {
     "data": {
      "text/plain": [
       "'C:\\\\Users\\\\amillot\\\\PycharmProjects\\\\DemandMappingZambia'"
      ]
     },
     "execution_count": 7,
     "metadata": {},
     "output_type": "execute_result"
    }
   ],
   "source": [
    "ROOT_DIR"
   ]
  },
  {
   "cell_type": "markdown",
   "id": "20933d51",
   "metadata": {},
   "source": [
    "### Define area of interest"
   ]
  },
  {
   "cell_type": "code",
   "execution_count": 8,
   "id": "73d92ee8",
   "metadata": {},
   "outputs": [],
   "source": [
    "try: area\n",
    "except NameError: area = \"COUNTRY\"\n",
    "# area = \"Copperbelt\""
   ]
  },
  {
   "cell_type": "markdown",
   "id": "80389203",
   "metadata": {},
   "source": [
    "### Import layers to be used"
   ]
  },
  {
   "cell_type": "code",
   "execution_count": 9,
   "id": "4e0ba57c",
   "metadata": {},
   "outputs": [],
   "source": [
    "hexagons = gpd.read_file(out_path + \"h3_grid_at_hex_7.shp\")"
   ]
  },
  {
   "cell_type": "code",
   "execution_count": 10,
   "id": "6b99b303",
   "metadata": {},
   "outputs": [],
   "source": [
    "grid = hexagons"
   ]
  },
  {
   "cell_type": "code",
   "execution_count": 11,
   "id": "21beeaff",
   "metadata": {},
   "outputs": [],
   "source": [
    "## mines\n",
    "# mines = gpd.read_file(mines_path + mines_name)"
   ]
  },
  {
   "cell_type": "code",
   "execution_count": 12,
   "id": "a37b4745",
   "metadata": {},
   "outputs": [],
   "source": [
    "# ## admininstrative boundary\n",
    "admin_gdf = gpd.read_file(ROOT_DIR + \"/admin/\" + \"gadm41_ZMB.gpkg\")"
   ]
  },
  {
   "cell_type": "markdown",
   "id": "c5df0673",
   "metadata": {},
   "source": [
    "# Part 1. Extract GIS-based attributes"
   ]
  },
  {
   "cell_type": "markdown",
   "id": "229bedd5",
   "metadata": {},
   "source": [
    "## Extract information from vector layers"
   ]
  },
  {
   "cell_type": "markdown",
   "id": "6de05525",
   "metadata": {},
   "source": [
    "Assess the energy consumption per site"
   ]
  },
  {
   "cell_type": "code",
   "execution_count": 13,
   "id": "4dc03401",
   "metadata": {},
   "outputs": [],
   "source": [
    "## Attribute energy consumption to each copper production site\n",
    "mines_input_file = pd.read_csv(ind_data_path + file_mines)"
   ]
  },
  {
   "cell_type": "code",
   "execution_count": 14,
   "id": "27e21f44",
   "metadata": {},
   "outputs": [
    {
     "name": "stdout",
     "output_type": "stream",
     "text": [
      "Production at a site  Fitwaola Open Pit Mine  in  Zambia  is missing (negative). Value set to zero. Please, change the input in the input file.\n",
      "Production at a site  Mkushi Heap Leach  in  Zambia  is missing (negative). Value set to zero. Please, change the input in the input file.\n",
      "Production at a site  Mufulira West Heap-Leach Facility  in  Zambia  is missing (negative). Value set to zero. Please, change the input in the input file.\n"
     ]
    }
   ],
   "source": [
    "## Running the energy calculation function \n",
    "from energy_per_site import *\n",
    "calc_energy_per_site(mines_path, mines_input_file, mines_name)"
   ]
  },
  {
   "cell_type": "markdown",
   "id": "d3f583ec",
   "metadata": {},
   "source": [
    "Extract sum production of mines in each cluster (hex)"
   ]
  },
  {
   "cell_type": "code",
   "execution_count": 15,
   "id": "ec8a8dc6",
   "metadata": {},
   "outputs": [],
   "source": [
    "## Run the extraction\n",
    "#grid.drop(['Commodity Production - tonne (tonnes)'], axis=1, inplace=True) ##uncomment if you want to rerun\n",
    "# columnNameMines = \"Commodity Production - tonne (tonnes)\"\n",
    "#columnNameMines = 'Ore processed (tonnes)'\n",
    "# grid[columnNameMines] = grid[columnNameMines].fillna(0)\n",
    "# grid.head(4)\n",
    "# grid[columnNameMines].sum()\n",
    "\n",
    "columnName_ElecConsumptionMines = 'Energy Elec [TJ]'\n",
    "file = os.path.join(mines_path, mines_name +\".gpkg\")\n",
    "grid, mines = spatialjoinvectors(\"EnergyMines\", columnName_ElecConsumptionMines, admin_gdf, crs_WGS84, grid, \"sum\", file)"
   ]
  },
  {
   "cell_type": "code",
   "execution_count": 16,
   "id": "15dd06cd",
   "metadata": {},
   "outputs": [
    {
     "data": {
      "text/plain": [
       "17986.613885878785"
      ]
     },
     "execution_count": 16,
     "metadata": {},
     "output_type": "execute_result"
    }
   ],
   "source": [
    "grid[columnName_ElecConsumptionMines].sum()"
   ]
  },
  {
   "cell_type": "code",
   "execution_count": 17,
   "id": "e622c416-6ea5-4030-91ae-3f2641ebc6f3",
   "metadata": {},
   "outputs": [
    {
     "data": {
      "text/html": [
       "<div>\n",
       "<style scoped>\n",
       "    .dataframe tbody tr th:only-of-type {\n",
       "        vertical-align: middle;\n",
       "    }\n",
       "\n",
       "    .dataframe tbody tr th {\n",
       "        vertical-align: top;\n",
       "    }\n",
       "\n",
       "    .dataframe thead th {\n",
       "        text-align: right;\n",
       "    }\n",
       "</style>\n",
       "<table border=\"1\" class=\"dataframe\">\n",
       "  <thead>\n",
       "    <tr style=\"text-align: right;\">\n",
       "      <th></th>\n",
       "      <th>hexagons</th>\n",
       "      <th>lon</th>\n",
       "      <th>lat</th>\n",
       "      <th>index_righ</th>\n",
       "      <th>NAME_1</th>\n",
       "      <th>id</th>\n",
       "      <th>geometry</th>\n",
       "      <th>Energy Elec [TJ]</th>\n",
       "    </tr>\n",
       "  </thead>\n",
       "  <tbody>\n",
       "    <tr>\n",
       "      <th>0</th>\n",
       "      <td>87399485cffffff</td>\n",
       "      <td>30.5240</td>\n",
       "      <td>-12.1759</td>\n",
       "      <td>5.0000</td>\n",
       "      <td>Muchinga</td>\n",
       "      <td>1</td>\n",
       "      <td>POLYGON ((30.53691 -12.18031, 30.52690 -12.190...</td>\n",
       "      <td>NaN</td>\n",
       "    </tr>\n",
       "    <tr>\n",
       "      <th>1</th>\n",
       "      <td>873995215ffffff</td>\n",
       "      <td>30.4244</td>\n",
       "      <td>-10.4257</td>\n",
       "      <td>7.0000</td>\n",
       "      <td>Northern</td>\n",
       "      <td>2</td>\n",
       "      <td>POLYGON ((30.43731 -10.42986, 30.42750 -10.440...</td>\n",
       "      <td>NaN</td>\n",
       "    </tr>\n",
       "    <tr>\n",
       "      <th>2</th>\n",
       "      <td>87344b340ffffff</td>\n",
       "      <td>25.3128</td>\n",
       "      <td>-16.2237</td>\n",
       "      <td>8.0000</td>\n",
       "      <td>Southern</td>\n",
       "      <td>3</td>\n",
       "      <td>POLYGON ((25.32539 -16.22858, 25.31506 -16.238...</td>\n",
       "      <td>NaN</td>\n",
       "    </tr>\n",
       "    <tr>\n",
       "      <th>3</th>\n",
       "      <td>87344b340ffffff</td>\n",
       "      <td>25.3128</td>\n",
       "      <td>-16.2237</td>\n",
       "      <td>9.0000</td>\n",
       "      <td>Western</td>\n",
       "      <td>4</td>\n",
       "      <td>POLYGON ((25.32539 -16.22858, 25.31506 -16.238...</td>\n",
       "      <td>NaN</td>\n",
       "    </tr>\n",
       "  </tbody>\n",
       "</table>\n",
       "</div>"
      ],
      "text/plain": [
       "          hexagons     lon      lat  index_righ    NAME_1  id  \\\n",
       "0  87399485cffffff 30.5240 -12.1759      5.0000  Muchinga   1   \n",
       "1  873995215ffffff 30.4244 -10.4257      7.0000  Northern   2   \n",
       "2  87344b340ffffff 25.3128 -16.2237      8.0000  Southern   3   \n",
       "3  87344b340ffffff 25.3128 -16.2237      9.0000   Western   4   \n",
       "\n",
       "                                            geometry  Energy Elec [TJ]  \n",
       "0  POLYGON ((30.53691 -12.18031, 30.52690 -12.190...               NaN  \n",
       "1  POLYGON ((30.43731 -10.42986, 30.42750 -10.440...               NaN  \n",
       "2  POLYGON ((25.32539 -16.22858, 25.31506 -16.238...               NaN  \n",
       "3  POLYGON ((25.32539 -16.22858, 25.31506 -16.238...               NaN  "
      ]
     },
     "execution_count": 17,
     "metadata": {},
     "output_type": "execute_result"
    }
   ],
   "source": [
    "grid.head(4)"
   ]
  },
  {
   "cell_type": "code",
   "execution_count": 24,
   "id": "3c865902-533f-402d-9b0c-6001987fe148",
   "metadata": {},
   "outputs": [
    {
     "data": {
      "text/html": [
       "<div>\n",
       "<style scoped>\n",
       "    .dataframe tbody tr th:only-of-type {\n",
       "        vertical-align: middle;\n",
       "    }\n",
       "\n",
       "    .dataframe tbody tr th {\n",
       "        vertical-align: top;\n",
       "    }\n",
       "\n",
       "    .dataframe thead th {\n",
       "        text-align: right;\n",
       "    }\n",
       "</style>\n",
       "<table border=\"1\" class=\"dataframe\">\n",
       "  <thead>\n",
       "    <tr style=\"text-align: right;\">\n",
       "      <th></th>\n",
       "      <th>Country</th>\n",
       "      <th>FeatureNam</th>\n",
       "      <th>DsgAttr03</th>\n",
       "      <th>DsgAttr06</th>\n",
       "      <th>MemoOther</th>\n",
       "      <th>MemoLoc</th>\n",
       "      <th>Latitude</th>\n",
       "      <th>Longitude</th>\n",
       "      <th>DsgAttr07</th>\n",
       "      <th>Output type (ass.)</th>\n",
       "      <th>...</th>\n",
       "      <th>Cu content [kt]</th>\n",
       "      <th>Mine type</th>\n",
       "      <th>Metal processing</th>\n",
       "      <th>Smelter type</th>\n",
       "      <th>Spec energy Elec [GJ/t]</th>\n",
       "      <th>Spec energy Diesel [GJ/t]</th>\n",
       "      <th>Energy Elec [TJ]</th>\n",
       "      <th>Energy Diesel [TJ]</th>\n",
       "      <th>id</th>\n",
       "      <th>geometry</th>\n",
       "    </tr>\n",
       "  </thead>\n",
       "  <tbody>\n",
       "    <tr>\n",
       "      <th>0</th>\n",
       "      <td>Zambia</td>\n",
       "      <td>Baluba Center Underground Mine</td>\n",
       "      <td>Concentrate</td>\n",
       "      <td>2017</td>\n",
       "      <td>Ore. Operations suspended. Facility on care-an...</td>\n",
       "      <td>&lt;null&gt;</td>\n",
       "      <td>-13.0486</td>\n",
       "      <td>28.3381</td>\n",
       "      <td>1,500,000.0000</td>\n",
       "      <td>Ore and concentrate</td>\n",
       "      <td>...</td>\n",
       "      <td>9.3000</td>\n",
       "      <td>Underground</td>\n",
       "      <td></td>\n",
       "      <td></td>\n",
       "      <td>0.0728</td>\n",
       "      <td>0.0133</td>\n",
       "      <td>109.2750</td>\n",
       "      <td>19.9950</td>\n",
       "      <td>1</td>\n",
       "      <td>POINT (28.33806 -13.04861)</td>\n",
       "    </tr>\n",
       "    <tr>\n",
       "      <th>1</th>\n",
       "      <td>Zambia</td>\n",
       "      <td>Bwana Mkubwa Solvent Extraction-Electrowinning...</td>\n",
       "      <td>Metal</td>\n",
       "      <td>2017</td>\n",
       "      <td>Copper cathode.</td>\n",
       "      <td>&lt;null&gt;</td>\n",
       "      <td>-13.0423</td>\n",
       "      <td>28.7094</td>\n",
       "      <td>52,000.0000</td>\n",
       "      <td>Metal</td>\n",
       "      <td>...</td>\n",
       "      <td>26.0000</td>\n",
       "      <td></td>\n",
       "      <td>Smelter+Refinery</td>\n",
       "      <td>Solvent Extraction-Electrowinning, Electrowinn...</td>\n",
       "      <td>12.4660</td>\n",
       "      <td>1.5180</td>\n",
       "      <td>324.1160</td>\n",
       "      <td>39.4680</td>\n",
       "      <td>2</td>\n",
       "      <td>POINT (28.70935 -13.04230)</td>\n",
       "    </tr>\n",
       "    <tr>\n",
       "      <th>2</th>\n",
       "      <td>Zambia</td>\n",
       "      <td>Chambishi Facility</td>\n",
       "      <td>Metal</td>\n",
       "      <td>2017</td>\n",
       "      <td>Copper cathode.</td>\n",
       "      <td>&lt;null&gt;</td>\n",
       "      <td>-12.6500</td>\n",
       "      <td>28.0412</td>\n",
       "      <td>8,000.0000</td>\n",
       "      <td>Metal</td>\n",
       "      <td>...</td>\n",
       "      <td>4.0000</td>\n",
       "      <td></td>\n",
       "      <td>Smelter+Refinery</td>\n",
       "      <td></td>\n",
       "      <td>12.4660</td>\n",
       "      <td>1.5180</td>\n",
       "      <td>49.8640</td>\n",
       "      <td>6.0720</td>\n",
       "      <td>3</td>\n",
       "      <td>POINT (28.04117 -12.64998)</td>\n",
       "    </tr>\n",
       "    <tr>\n",
       "      <th>3</th>\n",
       "      <td>Zambia</td>\n",
       "      <td>Chambishi Cobalt Plant</td>\n",
       "      <td>Metal</td>\n",
       "      <td>2017</td>\n",
       "      <td>Copper cathode. Nkana Slag dumps.</td>\n",
       "      <td>75 Kilometers northwest of Ndola</td>\n",
       "      <td>-12.6500</td>\n",
       "      <td>28.0412</td>\n",
       "      <td>27,000.0000</td>\n",
       "      <td>Metal</td>\n",
       "      <td>...</td>\n",
       "      <td>13.5000</td>\n",
       "      <td></td>\n",
       "      <td>Smelter+Refinery</td>\n",
       "      <td></td>\n",
       "      <td>12.4660</td>\n",
       "      <td>1.5180</td>\n",
       "      <td>168.2910</td>\n",
       "      <td>20.4930</td>\n",
       "      <td>4</td>\n",
       "      <td>POINT (28.04117 -12.64998)</td>\n",
       "    </tr>\n",
       "  </tbody>\n",
       "</table>\n",
       "<p>4 rows × 21 columns</p>\n",
       "</div>"
      ],
      "text/plain": [
       "  Country                                         FeatureNam    DsgAttr03  \\\n",
       "0  Zambia                     Baluba Center Underground Mine  Concentrate   \n",
       "1  Zambia  Bwana Mkubwa Solvent Extraction-Electrowinning...        Metal   \n",
       "2  Zambia                                 Chambishi Facility        Metal   \n",
       "3  Zambia                             Chambishi Cobalt Plant        Metal   \n",
       "\n",
       "   DsgAttr06                                          MemoOther  \\\n",
       "0       2017  Ore. Operations suspended. Facility on care-an...   \n",
       "1       2017                                    Copper cathode.   \n",
       "2       2017                                    Copper cathode.   \n",
       "3       2017                  Copper cathode. Nkana Slag dumps.   \n",
       "\n",
       "                            MemoLoc  Latitude  Longitude      DsgAttr07  \\\n",
       "0                            <null>  -13.0486    28.3381 1,500,000.0000   \n",
       "1                            <null>  -13.0423    28.7094    52,000.0000   \n",
       "2                            <null>  -12.6500    28.0412     8,000.0000   \n",
       "3  75 Kilometers northwest of Ndola  -12.6500    28.0412    27,000.0000   \n",
       "\n",
       "    Output type (ass.)  ...  Cu content [kt]    Mine type  Metal processing  \\\n",
       "0  Ore and concentrate  ...           9.3000  Underground                     \n",
       "1                Metal  ...          26.0000               Smelter+Refinery   \n",
       "2                Metal  ...           4.0000               Smelter+Refinery   \n",
       "3                Metal  ...          13.5000               Smelter+Refinery   \n",
       "\n",
       "                                        Smelter type Spec energy Elec [GJ/t]  \\\n",
       "0                                                                     0.0728   \n",
       "1  Solvent Extraction-Electrowinning, Electrowinn...                 12.4660   \n",
       "2                                                                    12.4660   \n",
       "3                                                                    12.4660   \n",
       "\n",
       "   Spec energy Diesel [GJ/t]  Energy Elec [TJ]  Energy Diesel [TJ]  id  \\\n",
       "0                     0.0133          109.2750             19.9950   1   \n",
       "1                     1.5180          324.1160             39.4680   2   \n",
       "2                     1.5180           49.8640              6.0720   3   \n",
       "3                     1.5180          168.2910             20.4930   4   \n",
       "\n",
       "                     geometry  \n",
       "0  POINT (28.33806 -13.04861)  \n",
       "1  POINT (28.70935 -13.04230)  \n",
       "2  POINT (28.04117 -12.64998)  \n",
       "3  POINT (28.04117 -12.64998)  \n",
       "\n",
       "[4 rows x 21 columns]"
      ]
     },
     "execution_count": 24,
     "metadata": {},
     "output_type": "execute_result"
    }
   ],
   "source": [
    "mines.head(4)"
   ]
  },
  {
   "cell_type": "markdown",
   "id": "72303ade",
   "metadata": {},
   "source": [
    "# Part 2. Compute demand"
   ]
  },
  {
   "cell_type": "code",
   "execution_count": 19,
   "id": "4204b136",
   "metadata": {},
   "outputs": [
    {
     "name": "stdout",
     "output_type": "stream",
     "text": [
      "total statistical nonFerrousMetals electricity consumption: 22,897.0 TJ or  6.4 TWh\n",
      "total statistical mining electricity consumption: 818.0 TJ or  0.2 TWh\n",
      "total statistical nonFerrousMetals and mining electricity consumption: 23,715.0 TJ or  6.6 TWh\n"
     ]
    }
   ],
   "source": [
    "# Enegery balance from UN Stats\n",
    "energyBalance_path = \"EnergyBalance/\"\n",
    "file_energyBalance = \"UNSD+DF_UNData_EnergyBalance+1.0_Zambia.csv\"\n",
    "eb = pd.read_csv(energyBalance_path + file_energyBalance)\n",
    "code_elec = \"B07_EL\"\n",
    "code_ind_nFM=  \"B29_1214a\"\n",
    "code_ind_mining =  \"B33_1214e\"\n",
    "\n",
    "elec_nonFerrousMetals_TJ = eb.loc[(eb['COMMODITY'] == code_elec) & (eb['TRANSACTION'] == code_ind_nFM) & (eb['TIME_PERIOD'] == 2019 ), 'OBS_VALUE'] #TJ\n",
    "elec_mining_TJ = eb.loc[(eb['COMMODITY'] == code_elec) & (eb['TRANSACTION'] == code_ind_mining) & (eb['TIME_PERIOD'] == 2019 ), 'OBS_VALUE'] #TJ\n",
    "elec_nonFerrousMetals_TJ = pd.to_numeric(elec_nonFerrousMetals_TJ.str.replace(',', '')) # convert to numeric and remove commas\n",
    "elec_nonFerrousMetals_TJ = elec_nonFerrousMetals_TJ.iloc[0]\n",
    "elec_mining_TJ = pd.to_numeric(elec_mining_TJ.str.replace(',', '')) # convert to numeric and remove commas\n",
    "elec_mining_TJ = elec_mining_TJ.iloc[0]\n",
    "\n",
    "elec_nonFerrousMetals = elec_nonFerrousMetals_TJ /(3600) *10**6 # (3.6e-6) #conversion in MWh\n",
    "elec_mining = elec_mining_TJ /(3600) *10**6 #conversion in MWh\n",
    "\n",
    "print(\"total statistical nonFerrousMetals electricity consumption:\",f\"{elec_nonFerrousMetals_TJ:,.1f}\", \"TJ or \", f\"{elec_nonFerrousMetals/10**6:,.1f}\", \"TWh\")\n",
    "print(\"total statistical mining electricity consumption:\",f\"{elec_mining_TJ:,.1f}\", \"TJ or \", f\"{elec_mining/10**6:,.1f}\", \"TWh\")\n",
    "print(\"total statistical nonFerrousMetals and mining electricity consumption:\",f\"{elec_nonFerrousMetals_TJ+elec_mining_TJ:,.1f}\", \"TJ or \", f\"{(elec_nonFerrousMetals+elec_mining)/10**6:,.1f}\", \"TWh\")"
   ]
  },
  {
   "cell_type": "code",
   "execution_count": 20,
   "id": "3ee34b8f",
   "metadata": {},
   "outputs": [
    {
     "name": "stdout",
     "output_type": "stream",
     "text": [
      "total calculated energy consumption: 17,986.6 TJ or  5.0 TWh\n",
      "Coverage energy in total statistical nonFerrousMetals and mining electricity consumption: 76 %\n"
     ]
    }
   ],
   "source": [
    "# Assess total energy consumption and total production\n",
    "total_elec_energy_consum = mines[columnName_ElecConsumptionMines].sum() # total \n",
    "coverage_elec_nonFe_mining = total_elec_energy_consum/(elec_nonFerrousMetals_TJ+elec_mining_TJ)\n",
    "\n",
    "# print(\"total production:\", f\"{total_production/10**3:,.0f}\", \"kt\")\n",
    "print(\"total calculated energy consumption:\", f\"{total_elec_energy_consum:,.1f}\", \"TJ or \", f\"{total_elec_energy_consum/3600:,.1f}\", \"TWh\")\n",
    "print(\"Coverage energy in total statistical nonFerrousMetals and mining electricity consumption:\", f\"{coverage_elec_nonFe_mining*100:,.0f}\", \"%\")"
   ]
  },
  {
   "cell_type": "code",
   "execution_count": 21,
   "id": "7aeb97b8",
   "metadata": {},
   "outputs": [
    {
     "data": {
      "text/html": [
       "<div>\n",
       "<style scoped>\n",
       "    .dataframe tbody tr th:only-of-type {\n",
       "        vertical-align: middle;\n",
       "    }\n",
       "\n",
       "    .dataframe tbody tr th {\n",
       "        vertical-align: top;\n",
       "    }\n",
       "\n",
       "    .dataframe thead th {\n",
       "        text-align: right;\n",
       "    }\n",
       "</style>\n",
       "<table border=\"1\" class=\"dataframe\">\n",
       "  <thead>\n",
       "    <tr style=\"text-align: right;\">\n",
       "      <th></th>\n",
       "      <th>hexagons</th>\n",
       "      <th>lon</th>\n",
       "      <th>lat</th>\n",
       "      <th>index_righ</th>\n",
       "      <th>NAME_1</th>\n",
       "      <th>id</th>\n",
       "      <th>geometry</th>\n",
       "      <th>Energy Elec [TJ]</th>\n",
       "      <th>IndEne_TJ</th>\n",
       "    </tr>\n",
       "  </thead>\n",
       "  <tbody>\n",
       "    <tr>\n",
       "      <th>0</th>\n",
       "      <td>87399485cffffff</td>\n",
       "      <td>30.5240</td>\n",
       "      <td>-12.1759</td>\n",
       "      <td>5.0000</td>\n",
       "      <td>Muchinga</td>\n",
       "      <td>1</td>\n",
       "      <td>POLYGON ((30.53691 -12.18031, 30.52690 -12.190...</td>\n",
       "      <td>NaN</td>\n",
       "      <td>NaN</td>\n",
       "    </tr>\n",
       "    <tr>\n",
       "      <th>1</th>\n",
       "      <td>873995215ffffff</td>\n",
       "      <td>30.4244</td>\n",
       "      <td>-10.4257</td>\n",
       "      <td>7.0000</td>\n",
       "      <td>Northern</td>\n",
       "      <td>2</td>\n",
       "      <td>POLYGON ((30.43731 -10.42986, 30.42750 -10.440...</td>\n",
       "      <td>NaN</td>\n",
       "      <td>NaN</td>\n",
       "    </tr>\n",
       "    <tr>\n",
       "      <th>2</th>\n",
       "      <td>87344b340ffffff</td>\n",
       "      <td>25.3128</td>\n",
       "      <td>-16.2237</td>\n",
       "      <td>8.0000</td>\n",
       "      <td>Southern</td>\n",
       "      <td>3</td>\n",
       "      <td>POLYGON ((25.32539 -16.22858, 25.31506 -16.238...</td>\n",
       "      <td>NaN</td>\n",
       "      <td>NaN</td>\n",
       "    </tr>\n",
       "  </tbody>\n",
       "</table>\n",
       "</div>"
      ],
      "text/plain": [
       "          hexagons     lon      lat  index_righ    NAME_1  id  \\\n",
       "0  87399485cffffff 30.5240 -12.1759      5.0000  Muchinga   1   \n",
       "1  873995215ffffff 30.4244 -10.4257      7.0000  Northern   2   \n",
       "2  87344b340ffffff 25.3128 -16.2237      8.0000  Southern   3   \n",
       "\n",
       "                                            geometry  Energy Elec [TJ]  \\\n",
       "0  POLYGON ((30.53691 -12.18031, 30.52690 -12.190...               NaN   \n",
       "1  POLYGON ((30.43731 -10.42986, 30.42750 -10.440...               NaN   \n",
       "2  POLYGON ((25.32539 -16.22858, 25.31506 -16.238...               NaN   \n",
       "\n",
       "   IndEne_TJ  \n",
       "0        NaN  \n",
       "1        NaN  \n",
       "2        NaN  "
      ]
     },
     "execution_count": 21,
     "metadata": {},
     "output_type": "execute_result"
    }
   ],
   "source": [
    "#Allocate to each hexagon the industry energy consumption\n",
    "#grid[\"IndEnergy\"]=grid[columnNameMines]*energycons_perton\n",
    "# adjust energy consumption if coverage is the whole country\n",
    "if area == \"COUNTRY\":\n",
    "    grid[\"IndEne_TJ\"]=grid[columnName_ElecConsumptionMines]/coverage_elec_nonFe_mining # TJ\n",
    "else:\n",
    "    grid[\"IndEne_TJ\"]=grid[columnName_ElecConsumptionMines] # TJ\n",
    "grid.head(3)"
   ]
  },
  {
   "cell_type": "code",
   "execution_count": 22,
   "id": "98e55ca3",
   "metadata": {},
   "outputs": [
    {
     "name": "stdout",
     "output_type": "stream",
     "text": [
      "Industry electricity consumption in COUNTRY : 6.6 TWh\n"
     ]
    }
   ],
   "source": [
    "total_industryenergy = grid[\"IndEne_TJ\"].sum()\n",
    "#print(\"Industry electricity consumption:\",f\"{total_industryenergy/10**6:,.0f}\", \"TWh\")\n",
    "print(\"Industry electricity consumption in\",f\"{area}\", \":\",f\"{total_industryenergy/3600:,.1f}\", \"TWh\")"
   ]
  },
  {
   "cell_type": "code",
   "execution_count": 25,
   "id": "544b8525",
   "metadata": {},
   "outputs": [
    {
     "data": {
      "text/html": [
       "<div>\n",
       "<style scoped>\n",
       "    .dataframe tbody tr th:only-of-type {\n",
       "        vertical-align: middle;\n",
       "    }\n",
       "\n",
       "    .dataframe tbody tr th {\n",
       "        vertical-align: top;\n",
       "    }\n",
       "\n",
       "    .dataframe thead th {\n",
       "        text-align: right;\n",
       "    }\n",
       "</style>\n",
       "<table border=\"1\" class=\"dataframe\">\n",
       "  <thead>\n",
       "    <tr style=\"text-align: right;\">\n",
       "      <th></th>\n",
       "      <th>hexagons</th>\n",
       "      <th>lon</th>\n",
       "      <th>lat</th>\n",
       "      <th>index_righ</th>\n",
       "      <th>NAME_1</th>\n",
       "      <th>id</th>\n",
       "      <th>geometry</th>\n",
       "      <th>Energy Elec [TJ]</th>\n",
       "      <th>IndEne_TJ</th>\n",
       "    </tr>\n",
       "  </thead>\n",
       "  <tbody>\n",
       "    <tr>\n",
       "      <th>0</th>\n",
       "      <td>87399485cffffff</td>\n",
       "      <td>30.5240</td>\n",
       "      <td>-12.1759</td>\n",
       "      <td>5.0000</td>\n",
       "      <td>Muchinga</td>\n",
       "      <td>1</td>\n",
       "      <td>POLYGON ((30.53691 -12.18031, 30.52690 -12.190...</td>\n",
       "      <td>NaN</td>\n",
       "      <td>NaN</td>\n",
       "    </tr>\n",
       "    <tr>\n",
       "      <th>1</th>\n",
       "      <td>873995215ffffff</td>\n",
       "      <td>30.4244</td>\n",
       "      <td>-10.4257</td>\n",
       "      <td>7.0000</td>\n",
       "      <td>Northern</td>\n",
       "      <td>2</td>\n",
       "      <td>POLYGON ((30.43731 -10.42986, 30.42750 -10.440...</td>\n",
       "      <td>NaN</td>\n",
       "      <td>NaN</td>\n",
       "    </tr>\n",
       "    <tr>\n",
       "      <th>2</th>\n",
       "      <td>87344b340ffffff</td>\n",
       "      <td>25.3128</td>\n",
       "      <td>-16.2237</td>\n",
       "      <td>8.0000</td>\n",
       "      <td>Southern</td>\n",
       "      <td>3</td>\n",
       "      <td>POLYGON ((25.32539 -16.22858, 25.31506 -16.238...</td>\n",
       "      <td>NaN</td>\n",
       "      <td>NaN</td>\n",
       "    </tr>\n",
       "  </tbody>\n",
       "</table>\n",
       "</div>"
      ],
      "text/plain": [
       "          hexagons     lon      lat  index_righ    NAME_1  id  \\\n",
       "0  87399485cffffff 30.5240 -12.1759      5.0000  Muchinga   1   \n",
       "1  873995215ffffff 30.4244 -10.4257      7.0000  Northern   2   \n",
       "2  87344b340ffffff 25.3128 -16.2237      8.0000  Southern   3   \n",
       "\n",
       "                                            geometry  Energy Elec [TJ]  \\\n",
       "0  POLYGON ((30.53691 -12.18031, 30.52690 -12.190...               NaN   \n",
       "1  POLYGON ((30.43731 -10.42986, 30.42750 -10.440...               NaN   \n",
       "2  POLYGON ((25.32539 -16.22858, 25.31506 -16.238...               NaN   \n",
       "\n",
       "   IndEne_TJ  \n",
       "0        NaN  \n",
       "1        NaN  \n",
       "2        NaN  "
      ]
     },
     "execution_count": 25,
     "metadata": {},
     "output_type": "execute_result"
    }
   ],
   "source": [
    "grid.to_file(out_path + 'ind_energy_map.shp', index=False)\n",
    "grid.to_file(out_path + f'ind_energy_map.geojson', driver='GeoJSON', index=False)  \n",
    "grid.head(3)"
   ]
  },
  {
   "cell_type": "code",
   "execution_count": 26,
   "id": "d8204c25",
   "metadata": {},
   "outputs": [
    {
     "data": {
      "text/plain": [
       "0        NaN\n",
       "1        NaN\n",
       "2        NaN\n",
       "3        NaN\n",
       "4        NaN\n",
       "          ..\n",
       "122983   NaN\n",
       "122984   NaN\n",
       "122985   NaN\n",
       "122986   NaN\n",
       "122987   NaN\n",
       "Name: Energy Elec [TJ], Length: 122988, dtype: float64"
      ]
     },
     "execution_count": 26,
     "metadata": {},
     "output_type": "execute_result"
    }
   ],
   "source": [
    "grid[columnName_ElecConsumptionMines]"
   ]
  },
  {
   "cell_type": "code",
   "execution_count": null,
   "id": "38668b50",
   "metadata": {},
   "outputs": [],
   "source": []
  }
 ],
 "metadata": {
  "kernelspec": {
   "display_name": "Python 3 (ipykernel)",
   "language": "python",
   "name": "python3"
  },
  "language_info": {
   "codemirror_mode": {
    "name": "ipython",
    "version": 3
   },
   "file_extension": ".py",
   "mimetype": "text/x-python",
   "name": "python",
   "nbconvert_exporter": "python",
   "pygments_lexer": "ipython3",
   "version": "3.8.12"
  }
 },
 "nbformat": 4,
 "nbformat_minor": 5
}
