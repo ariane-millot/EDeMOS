{
 "cells": [
  {
   "cell_type": "code",
   "execution_count": 1,
   "metadata": {},
   "outputs": [
    {
     "ename": "ModuleNotFoundError",
     "evalue": "No module named 'netCDF4'",
     "output_type": "error",
     "traceback": [
      "\u001b[1;31m---------------------------------------------------------------------------\u001b[0m",
      "\u001b[1;31mModuleNotFoundError\u001b[0m                       Traceback (most recent call last)",
      "Cell \u001b[1;32mIn[1], line 6\u001b[0m\n\u001b[0;32m      1\u001b[0m \u001b[38;5;66;03m## Description: https://www.earthinversion.com/utilities/reading-NetCDF4-data-in-python/\u001b[39;00m\n\u001b[0;32m      2\u001b[0m \u001b[38;5;66;03m## https://stackoverflow.com/questions/54824033/example-to-use-scale-factor-and-add-offset-in-netcdf4-with-python\u001b[39;00m\n\u001b[0;32m      3\u001b[0m \n\u001b[0;32m      4\u001b[0m \u001b[38;5;66;03m## USING BASE environment not the typical grospatial one\u001b[39;00m\n\u001b[1;32m----> 6\u001b[0m \u001b[38;5;28;01mimport\u001b[39;00m \u001b[38;5;21;01mnetCDF4\u001b[39;00m\n\u001b[0;32m      7\u001b[0m \u001b[38;5;28;01mimport\u001b[39;00m \u001b[38;5;21;01mnumpy\u001b[39;00m \u001b[38;5;28;01mas\u001b[39;00m \u001b[38;5;21;01mnp\u001b[39;00m\n",
      "\u001b[1;31mModuleNotFoundError\u001b[0m: No module named 'netCDF4'"
     ]
    }
   ],
   "source": [
    "## Description: https://www.earthinversion.com/utilities/reading-NetCDF4-data-in-python/\n",
    "## https://stackoverflow.com/questions/54824033/example-to-use-scale-factor-and-add-offset-in-netcdf4-with-python\n",
    "\n",
    "## USING BASE environment not the typical grospatial one\n",
    "\n",
    "import netCDF4\n",
    "import numpy as np"
   ]
  },
  {
   "cell_type": "code",
   "execution_count": 2,
   "metadata": {},
   "outputs": [],
   "source": [
    "#f = netCDF4.Dataset('E:/Agrodem/Raw_Rasters/AFRICA_WTD_annualmean.nc')\n",
    "f = netCDF4.Dataset('~Falchetta_ElecAccess/tiersofaccess_SSA_2018.nc ', 'r')"
   ]
  },
  {
   "cell_type": "code",
   "execution_count": 3,
   "metadata": {},
   "outputs": [
    {
     "name": "stdout",
     "output_type": "stream",
     "text": [
      "<class 'netCDF4._netCDF4.Dataset'>\n",
      "root group (NETCDF4 data model, file format HDF5):\n",
      "    disclaimer: These data can be used freely for research purposes provided that the following source is acknowledged: Fan Y, Miguez-Macho G, Jobbágy EG, Jackson RB, Otero-Casal C (2017): Hydrologic regulation of plant rooting depth, Proceedings of the National Academy of Sciences 114 (40), 10572-10577, doi: 10.1073/pnas.1712381114. These data are made available in the hope that it will be useful, but WITHOUT ANY WARRANTY; without even the implied warranty of MERCHANTABILITY or FITNESS FOR A PARTICULAR PURPOSE\n",
      "    reference: Fan Y, Miguez-Macho G, Jobbágy EG, Jackson RB, Otero-Casal C (2017): Hydrologic regulation of plant rooting depth, Proceedings of the National Academy of Sciences 114 (40), 10572-10577. doi: 10.1073/pnas.1712381114\n",
      "    project: EartH2Observe\n",
      "    acknowledgment: The EartH2Observe project has received funding from the European Union's Seventh Programme for research, technological development and demonstration under grant agreement No 603608\n",
      "    creator_name: Gonzalo Miguez-Macho\n",
      "    institution: Universidade de Santiago de Compostela\n",
      "    email: gonzalo.miguez@usc.es\n",
      "    dimensions(sizes): lat(8760), lon(8880), time(1)\n",
      "    variables(dimensions): float32 lat(lat), float32 lon(lon), int8 time(time), int8 mask(lat, lon), int16 WTD(time, lat, lon)\n",
      "    groups: \n"
     ]
    }
   ],
   "source": [
    "print(f)"
   ]
  },
  {
   "cell_type": "code",
   "execution_count": 4,
   "metadata": {},
   "outputs": [
    {
     "name": "stdout",
     "output_type": "stream",
     "text": [
      "dict_keys(['lat', 'lon', 'time', 'mask', 'WTD'])\n"
     ]
    }
   ],
   "source": [
    "print(f.variables.keys()) # get all variable names"
   ]
  },
  {
   "cell_type": "code",
   "execution_count": 11,
   "metadata": {},
   "outputs": [
    {
     "name": "stdout",
     "output_type": "stream",
     "text": [
      "('lat', <class 'netCDF4._netCDF4.Dimension'>: name = 'lat', size = 8760)\n",
      "('lon', <class 'netCDF4._netCDF4.Dimension'>: name = 'lon', size = 8880)\n",
      "('time', <class 'netCDF4._netCDF4.Dimension'>: name = 'time', size = 1)\n"
     ]
    }
   ],
   "source": [
    "for d in f.dimensions.items():\n",
    "  print(d)"
   ]
  },
  {
   "cell_type": "code",
   "execution_count": 12,
   "metadata": {},
   "outputs": [
    {
     "name": "stdout",
     "output_type": "stream",
     "text": [
      "<class 'netCDF4._netCDF4.Variable'>\n",
      "int8 time(time)\n",
      "unlimited dimensions: \n",
      "current shape = (1,)\n",
      "filling on, default _FillValue of -127 ignored\n",
      "<class 'netCDF4._netCDF4.Variable'>\n",
      "float32 lon(lon)\n",
      "    long_name: longitude\n",
      "    units: degrees_E\n",
      "unlimited dimensions: \n",
      "current shape = (8880,)\n",
      "filling on, default _FillValue of 9.969209968386869e+36 used\n",
      "<class 'netCDF4._netCDF4.Variable'>\n",
      "float32 lat(lat)\n",
      "    long_name: latitude\n",
      "    units: degrees_N\n",
      "unlimited dimensions: \n",
      "current shape = (8760,)\n",
      "filling on, default _FillValue of 9.969209968386869e+36 used\n"
     ]
    }
   ],
   "source": [
    "mt = f.variables['time']\n",
    "depth = f.variables['WTD']\n",
    "x,y = f.variables['lon'], f.variables['lat']\n",
    "print(mt)\n",
    "print(x)\n",
    "print(y)"
   ]
  },
  {
   "cell_type": "code",
   "execution_count": 16,
   "metadata": {},
   "outputs": [
    {
     "name": "stdout",
     "output_type": "stream",
     "text": [
      "<class 'netCDF4._netCDF4.Variable'>\n",
      "int16 WTD(time, lat, lon)\n",
      "    description: water table depth\n",
      "    units: m\n",
      "    scale_factor: 0.015259021896696421\n",
      "    add_offset: -499.99237048905167\n",
      "    comment: annual mean\n",
      "unlimited dimensions: \n",
      "current shape = (1, 8760, 8880)\n",
      "filling on, default _FillValue of -32767 used\n"
     ]
    }
   ],
   "source": [
    "water_depth = f.variables['WTD'] # time variable\n",
    "print(water_depth)"
   ]
  },
  {
   "cell_type": "code",
   "execution_count": 17,
   "metadata": {},
   "outputs": [],
   "source": [
    "add_offset = f.variables['WTD'].add_offset\n",
    "scale_factor = f.variables['WTD'].scale_factor"
   ]
  },
  {
   "cell_type": "code",
   "execution_count": 29,
   "metadata": {},
   "outputs": [
    {
     "data": {
      "text/plain": [
       "(0.015259021896696421, -499.99237048905167)"
      ]
     },
     "execution_count": 29,
     "metadata": {},
     "output_type": "execute_result"
    }
   ],
   "source": [
    "scale_factor, add_offset"
   ]
  },
  {
   "cell_type": "code",
   "execution_count": 20,
   "metadata": {},
   "outputs": [],
   "source": [
    "packed_value = f.variables['WTD'][:]"
   ]
  },
  {
   "cell_type": "code",
   "execution_count": 21,
   "metadata": {},
   "outputs": [],
   "source": [
    "unpacked_value = packed_value * scale_factor + add_offset"
   ]
  },
  {
   "cell_type": "markdown",
   "metadata": {},
   "source": [
    "## nc reacer rasterio"
   ]
  },
  {
   "cell_type": "code",
   "execution_count": 7,
   "metadata": {},
   "outputs": [],
   "source": [
    "import rasterio\n",
    "import matplotlib.pyplot as plt\n",
    "from rasterio.plot import show\n",
    "from rasterio.transform import from_origin\n"
   ]
  },
  {
   "cell_type": "code",
   "execution_count": 9,
   "metadata": {},
   "outputs": [
    {
     "name": "stdout",
     "output_type": "stream",
     "text": [
      "Raster width: 32768\n",
      "Raster height: 11342\n",
      "Raster CRS: None\n",
      "Raster transform: | 1.00, 0.00, 0.00|\n",
      "| 0.00, 1.00, 0.00|\n",
      "| 0.00, 0.00, 1.00|\n",
      "Raster count: 1\n",
      "Raster bounds: BoundingBox(left=0.0, bottom=11342.0, right=32768.0, top=0.0)\n",
      "Raster dtype: ('float32',)\n"
     ]
    },
    {
     "data": {
      "image/png": "[encoded data removed]",
      "text/plain": [
       "<Figure size 1000x600 with 1 Axes>"
      ]
     },
     "metadata": {},
     "output_type": "display_data"
    },
    {
     "ename": "RuntimeError",
     "evalue": "No mappable was found to use for colorbar creation. First define a mappable such as an image (with imshow) or a contour set (with contourf).",
     "output_type": "error",
     "traceback": [
      "\u001b[1;31m---------------------------------------------------------------------------\u001b[0m",
      "\u001b[1;31mRuntimeError\u001b[0m                              Traceback (most recent call last)",
      "Cell \u001b[1;32mIn[9], line 29\u001b[0m\n\u001b[0;32m     27\u001b[0m plt\u001b[38;5;241m.\u001b[39mxlabel(\u001b[38;5;124m\"\u001b[39m\u001b[38;5;124mLongitude\u001b[39m\u001b[38;5;124m\"\u001b[39m)\n\u001b[0;32m     28\u001b[0m plt\u001b[38;5;241m.\u001b[39mylabel(\u001b[38;5;124m\"\u001b[39m\u001b[38;5;124mLatitude\u001b[39m\u001b[38;5;124m\"\u001b[39m)\n\u001b[1;32m---> 29\u001b[0m plt\u001b[38;5;241m.\u001b[39mcolorbar(label\u001b[38;5;241m=\u001b[39m\u001b[38;5;124m'\u001b[39m\u001b[38;5;124mValue\u001b[39m\u001b[38;5;124m'\u001b[39m)\n\u001b[0;32m     30\u001b[0m plt\u001b[38;5;241m.\u001b[39mshow()\n",
      "File \u001b[1;32mc:\\Users\\rheredia\\AppData\\Local\\miniconda3\\envs\\geodemand\\Lib\\site-packages\\matplotlib\\pyplot.py:2528\u001b[0m, in \u001b[0;36mcolorbar\u001b[1;34m(mappable, cax, ax, **kwargs)\u001b[0m\n\u001b[0;32m   2526\u001b[0m     mappable \u001b[38;5;241m=\u001b[39m gci()\n\u001b[0;32m   2527\u001b[0m     \u001b[38;5;28;01mif\u001b[39;00m mappable \u001b[38;5;129;01mis\u001b[39;00m \u001b[38;5;28;01mNone\u001b[39;00m:\n\u001b[1;32m-> 2528\u001b[0m         \u001b[38;5;28;01mraise\u001b[39;00m \u001b[38;5;167;01mRuntimeError\u001b[39;00m(\u001b[38;5;124m'\u001b[39m\u001b[38;5;124mNo mappable was found to use for colorbar \u001b[39m\u001b[38;5;124m'\u001b[39m\n\u001b[0;32m   2529\u001b[0m                            \u001b[38;5;124m'\u001b[39m\u001b[38;5;124mcreation. First define a mappable such as \u001b[39m\u001b[38;5;124m'\u001b[39m\n\u001b[0;32m   2530\u001b[0m                            \u001b[38;5;124m'\u001b[39m\u001b[38;5;124man image (with imshow) or a contour set (\u001b[39m\u001b[38;5;124m'\u001b[39m\n\u001b[0;32m   2531\u001b[0m                            \u001b[38;5;124m'\u001b[39m\u001b[38;5;124mwith contourf).\u001b[39m\u001b[38;5;124m'\u001b[39m)\n\u001b[0;32m   2532\u001b[0m ret \u001b[38;5;241m=\u001b[39m gcf()\u001b[38;5;241m.\u001b[39mcolorbar(mappable, cax\u001b[38;5;241m=\u001b[39mcax, ax\u001b[38;5;241m=\u001b[39max, \u001b[38;5;241m*\u001b[39m\u001b[38;5;241m*\u001b[39mkwargs)\n\u001b[0;32m   2533\u001b[0m \u001b[38;5;28;01mreturn\u001b[39;00m ret\n",
      "\u001b[1;31mRuntimeError\u001b[0m: No mappable was found to use for colorbar creation. First define a mappable such as an image (with imshow) or a contour set (with contourf)."
     ]
    },
    {
     "data": {
      "image/png": "[encoded data removed]",
      "text/plain": [
       "<Figure size 640x480 with 1 Axes>"
      ]
     },
     "metadata": {},
     "output_type": "display_data"
    }
   ],
   "source": [
    "# Path to the NetCDF file\n",
    "nc_file = \"Residential/Data/Falchetta_ElecAccess/tiersofaccess_SSA_2018.nc\"\n",
    "\n",
    "# Open the NetCDF file using rasterio\n",
    "with rasterio.open(nc_file) as src:\n",
    "    # Read the first band (assuming the variable of interest is in the first band)\n",
    "    band1 = src.read(1)\n",
    "    \n",
    "    # Print raster properties for debugging\n",
    "    print(f\"Raster width: {src.width}\")\n",
    "    print(f\"Raster height: {src.height}\")\n",
    "    print(f\"Raster CRS: {src.crs}\")\n",
    "    print(f\"Raster transform: {src.transform}\")\n",
    "    print(f\"Raster count: {src.count}\")\n",
    "    print(f\"Raster bounds: {src.bounds}\")\n",
    "    print(f\"Raster dtype: {src.dtypes}\")\n",
    "\n",
    "    # Define the correct transform and CRS if not set correctly\n",
    "    # Example: Assuming each pixel is 0.1 degrees in size and the origin is at (0, 0)\n",
    "    transform = from_origin(west=0, north=0, xsize=0.1, ysize=0.1)\n",
    "    crs = 'EPSG:4326'  # WGS84\n",
    "\n",
    "    # Plot the data\n",
    "    plt.figure(figsize=(10, 6))\n",
    "    show(band1, transform=src.transform, cmap='viridis')\n",
    "    plt.title(\"Band 1 from NetCDF file\")\n",
    "    plt.xlabel(\"Longitude\")\n",
    "    plt.ylabel(\"Latitude\")\n",
    "    plt.colorbar(label='Value')\n",
    "    plt.show()"
   ]
  },
  {
   "cell_type": "markdown",
   "metadata": {},
   "source": [
    "## tiff reader\n"
   ]
  },
  {
   "cell_type": "code",
   "execution_count": null,
   "metadata": {},
   "outputs": [],
   "source": [
    "# Path to the raster file\n",
    "\n",
    "pathElecAccess = \"Residential/Data/Lighting/KEN_set_lightscore_2019.tif\"\n",
    "\n",
    "# Open the raster file\n",
    "with rasterio.open(pathElecAccess) as raster:\n",
    "    # Print raster properties\n",
    "    band1= raster.read(1)\n",
    "    print(f\"Raster file: {pathElecAccess}\")\n",
    "    print(f\"Raster width: {raster.width}\")\n",
    "    print(f\"Raster height: {raster.height}\")\n",
    "    print(f\"Raster CRS: {raster.crs}\")\n",
    "    print(f\"Raster transform: {raster.transform}\")\n",
    "    print(f\"Raster count: {raster.count}\")\n",
    "    print(f\"Raster bounds: {raster.bounds}\")\n",
    "    print(f\"Raster dtype: {raster.dtypes}\")\n",
    "\n",
    "    # Check if raster dimensions are valid\n",
    "    if raster.width <= 0 or raster.height <= 0:\n",
    "        raise ValueError(\"Raster width and height must be > 0\")\n",
    "\n",
    "    # Optionally, read the first band to ensure data is accessible\n",
    "    data = raster.read(1)\n",
    "    print(f\"First band data type: {data.dtype}\")\n",
    "    print(f\"First band shape: {data.shape}\")\n",
    "\n",
    "    # Plot the data\n",
    "    plt.figure(figsize=(10, 6))\n",
    "    show(band1, transform=raster.transform, cmap='viridis')\n",
    "    plt.title(\"Band 1 from GeoTIFF file\")\n",
    "    plt.xlabel(\"Longitude\")\n",
    "    plt.ylabel(\"Latitude\")\n",
    "    plt.colorbar(label='Value')\n",
    "    plt.show()"
   ]
  }
 ],
 "metadata": {
  "kernelspec": {
   "display_name": "geodemand",
   "language": "python",
   "name": "python3"
  },
  "language_info": {
   "codemirror_mode": {
    "name": "ipython",
    "version": 3
   },
   "file_extension": ".py",
   "mimetype": "text/x-python",
   "name": "python",
   "nbconvert_exporter": "python",
   "pygments_lexer": "ipython3",
   "version": "3.13.1"
  }
 },
 "nbformat": 4,
 "nbformat_minor": 4
}
