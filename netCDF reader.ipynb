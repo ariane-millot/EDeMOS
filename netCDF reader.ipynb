{
 "cells": [
  {
   "cell_type": "code",
   "execution_count": 1,
   "metadata": {},
   "outputs": [],
   "source": [
    "## Description: https://www.earthinversion.com/utilities/reading-NetCDF4-data-in-python/\n",
    "## https://stackoverflow.com/questions/54824033/example-to-use-scale-factor-and-add-offset-in-netcdf4-with-python\n",
    "\n",
    "## USING BASE environment not the typical grospatial one\n",
    "\n",
    "import netCDF4\n",
    "import numpy as np"
   ]
  },
  {
   "cell_type": "code",
   "execution_count": 2,
   "metadata": {},
   "outputs": [],
   "source": [
    "f = netCDF4.Dataset('E:/Agrodem/Raw_Rasters/AFRICA_WTD_annualmean.nc')"
   ]
  },
  {
   "cell_type": "code",
   "execution_count": 3,
   "metadata": {},
   "outputs": [
    {
     "name": "stdout",
     "output_type": "stream",
     "text": [
      "<class 'netCDF4._netCDF4.Dataset'>\n",
      "root group (NETCDF4 data model, file format HDF5):\n",
      "    disclaimer: These data can be used freely for research purposes provided that the following source is acknowledged: Fan Y, Miguez-Macho G, Jobbágy EG, Jackson RB, Otero-Casal C (2017): Hydrologic regulation of plant rooting depth, Proceedings of the National Academy of Sciences 114 (40), 10572-10577, doi: 10.1073/pnas.1712381114. These data are made available in the hope that it will be useful, but WITHOUT ANY WARRANTY; without even the implied warranty of MERCHANTABILITY or FITNESS FOR A PARTICULAR PURPOSE\n",
      "    reference: Fan Y, Miguez-Macho G, Jobbágy EG, Jackson RB, Otero-Casal C (2017): Hydrologic regulation of plant rooting depth, Proceedings of the National Academy of Sciences 114 (40), 10572-10577. doi: 10.1073/pnas.1712381114\n",
      "    project: EartH2Observe\n",
      "    acknowledgment: The EartH2Observe project has received funding from the European Union's Seventh Programme for research, technological development and demonstration under grant agreement No 603608\n",
      "    creator_name: Gonzalo Miguez-Macho\n",
      "    institution: Universidade de Santiago de Compostela\n",
      "    email: gonzalo.miguez@usc.es\n",
      "    dimensions(sizes): lat(8760), lon(8880), time(1)\n",
      "    variables(dimensions): float32 lat(lat), float32 lon(lon), int8 time(time), int8 mask(lat, lon), int16 WTD(time, lat, lon)\n",
      "    groups: \n"
     ]
    }
   ],
   "source": [
    "print(f)"
   ]
  },
  {
   "cell_type": "code",
   "execution_count": 4,
   "metadata": {},
   "outputs": [
    {
     "name": "stdout",
     "output_type": "stream",
     "text": [
      "dict_keys(['lat', 'lon', 'time', 'mask', 'WTD'])\n"
     ]
    }
   ],
   "source": [
    "print(f.variables.keys()) # get all variable names"
   ]
  },
  {
   "cell_type": "code",
   "execution_count": 11,
   "metadata": {},
   "outputs": [
    {
     "name": "stdout",
     "output_type": "stream",
     "text": [
      "('lat', <class 'netCDF4._netCDF4.Dimension'>: name = 'lat', size = 8760)\n",
      "('lon', <class 'netCDF4._netCDF4.Dimension'>: name = 'lon', size = 8880)\n",
      "('time', <class 'netCDF4._netCDF4.Dimension'>: name = 'time', size = 1)\n"
     ]
    }
   ],
   "source": [
    "for d in f.dimensions.items():\n",
    "  print(d)"
   ]
  },
  {
   "cell_type": "code",
   "execution_count": 12,
   "metadata": {},
   "outputs": [
    {
     "name": "stdout",
     "output_type": "stream",
     "text": [
      "<class 'netCDF4._netCDF4.Variable'>\n",
      "int8 time(time)\n",
      "unlimited dimensions: \n",
      "current shape = (1,)\n",
      "filling on, default _FillValue of -127 ignored\n",
      "<class 'netCDF4._netCDF4.Variable'>\n",
      "float32 lon(lon)\n",
      "    long_name: longitude\n",
      "    units: degrees_E\n",
      "unlimited dimensions: \n",
      "current shape = (8880,)\n",
      "filling on, default _FillValue of 9.969209968386869e+36 used\n",
      "<class 'netCDF4._netCDF4.Variable'>\n",
      "float32 lat(lat)\n",
      "    long_name: latitude\n",
      "    units: degrees_N\n",
      "unlimited dimensions: \n",
      "current shape = (8760,)\n",
      "filling on, default _FillValue of 9.969209968386869e+36 used\n"
     ]
    }
   ],
   "source": [
    "mt = f.variables['time']\n",
    "depth = f.variables['WTD']\n",
    "x,y = f.variables['lon'], f.variables['lat']\n",
    "print(mt)\n",
    "print(x)\n",
    "print(y)"
   ]
  },
  {
   "cell_type": "code",
   "execution_count": 16,
   "metadata": {},
   "outputs": [
    {
     "name": "stdout",
     "output_type": "stream",
     "text": [
      "<class 'netCDF4._netCDF4.Variable'>\n",
      "int16 WTD(time, lat, lon)\n",
      "    description: water table depth\n",
      "    units: m\n",
      "    scale_factor: 0.015259021896696421\n",
      "    add_offset: -499.99237048905167\n",
      "    comment: annual mean\n",
      "unlimited dimensions: \n",
      "current shape = (1, 8760, 8880)\n",
      "filling on, default _FillValue of -32767 used\n"
     ]
    }
   ],
   "source": [
    "water_depth = f.variables['WTD'] # time variable\n",
    "print(water_depth)"
   ]
  },
  {
   "cell_type": "code",
   "execution_count": 17,
   "metadata": {},
   "outputs": [],
   "source": [
    "add_offset = f.variables['WTD'].add_offset\n",
    "scale_factor = f.variables['WTD'].scale_factor"
   ]
  },
  {
   "cell_type": "code",
   "execution_count": 29,
   "metadata": {},
   "outputs": [
    {
     "data": {
      "text/plain": [
       "(0.015259021896696421, -499.99237048905167)"
      ]
     },
     "execution_count": 29,
     "metadata": {},
     "output_type": "execute_result"
    }
   ],
   "source": [
    "scale_factor, add_offset"
   ]
  },
  {
   "cell_type": "code",
   "execution_count": 20,
   "metadata": {},
   "outputs": [],
   "source": [
    "packed_value = f.variables['WTD'][:]"
   ]
  },
  {
   "cell_type": "code",
   "execution_count": 21,
   "metadata": {},
   "outputs": [],
   "source": [
    "unpacked_value = packed_value * scale_factor + add_offset"
   ]
  },
  {
   "cell_type": "code",
   "execution_count": null,
   "metadata": {},
   "outputs": [],
   "source": []
  }
 ],
 "metadata": {
  "kernelspec": {
   "display_name": "Python 3",
   "language": "python",
   "name": "python3"
  },
  "language_info": {
   "codemirror_mode": {
    "name": "ipython",
    "version": 3
   },
   "file_extension": ".py",
   "mimetype": "text/x-python",
   "name": "python",
   "nbconvert_exporter": "python",
   "pygments_lexer": "ipython3",
   "version": "3.7.6"
  }
 },
 "nbformat": 4,
 "nbformat_minor": 4
}
